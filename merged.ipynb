{
 "cells": [
  {
   "cell_type": "code",
   "execution_count": 98,
   "metadata": {},
   "outputs": [],
   "source": [
    "import pandas as pd\n",
    "import matplotlib.pyplot as plt\n",
    "\n",
    "import plotly.express as px"
   ]
  },
  {
   "cell_type": "code",
   "execution_count": 99,
   "metadata": {},
   "outputs": [
    {
     "output_type": "execute_result",
     "data": {
      "text/plain": [
       "                    id             user_name              user_location  \\\n",
       "0  1340539111971516416            Rachel Roh  La Crescenta-Montrose, CA   \n",
       "1  1338158543359250433           Albert Fong          San Francisco, CA   \n",
       "2  1337858199140118533              eli🇱🇹🇪🇺👌                   Your Bed   \n",
       "3  1337855739918835717         Charles Adler     Vancouver, BC - Canada   \n",
       "4  1337854064604966912  Citizen News Channel                        NaN   \n",
       "\n",
       "                                    user_description         user_created  \\\n",
       "0  Aggregator of Asian American news; scanning di...  2009-04-08 17:52:46   \n",
       "1  Marketing dude, tech geek, heavy metal & '80s ...  2009-09-21 15:27:30   \n",
       "2                                     heil, hydra 🖐☺  2020-06-25 23:30:28   \n",
       "3  Hosting \"CharlesAdlerTonight\" Global News Radi...  2008-09-10 11:28:53   \n",
       "4  Citizen News Channel bringing you an alternati...  2020-04-23 17:58:42   \n",
       "\n",
       "   user_followers  user_friends  user_favourites  user_verified  \\\n",
       "0             405          1692             3247          False   \n",
       "1             834           666              178          False   \n",
       "2              10            88              155          False   \n",
       "3           49165          3933            21853           True   \n",
       "4             152           580             1473          False   \n",
       "\n",
       "                  date                                               text  \\\n",
       "0  2020-12-20 06:06:44  Same folks said daikon paste could treat a cyt...   \n",
       "1  2020-12-13 16:27:13  While the world has been on the wrong side of ...   \n",
       "2  2020-12-12 20:33:45  #coronavirus #SputnikV #AstraZeneca #PfizerBio...   \n",
       "3  2020-12-12 20:23:59  Facts are immutable, Senator, even when you're...   \n",
       "4  2020-12-12 20:17:19  Explain to me again why we need a vaccine @Bor...   \n",
       "\n",
       "                                            hashtags               source  \\\n",
       "0                                 ['PfizerBioNTech']  Twitter for Android   \n",
       "1                                                NaN      Twitter Web App   \n",
       "2  ['coronavirus', 'SputnikV', 'AstraZeneca', 'Pf...  Twitter for Android   \n",
       "3                                                NaN      Twitter Web App   \n",
       "4     ['whereareallthesickpeople', 'PfizerBioNTech']   Twitter for iPhone   \n",
       "\n",
       "   retweets  favorites  is_retweet  \n",
       "0         0          0       False  \n",
       "1         1          1       False  \n",
       "2         0          0       False  \n",
       "3       446       2129       False  \n",
       "4         0          0       False  "
      ],
      "text/html": "<div>\n<style scoped>\n    .dataframe tbody tr th:only-of-type {\n        vertical-align: middle;\n    }\n\n    .dataframe tbody tr th {\n        vertical-align: top;\n    }\n\n    .dataframe thead th {\n        text-align: right;\n    }\n</style>\n<table border=\"1\" class=\"dataframe\">\n  <thead>\n    <tr style=\"text-align: right;\">\n      <th></th>\n      <th>id</th>\n      <th>user_name</th>\n      <th>user_location</th>\n      <th>user_description</th>\n      <th>user_created</th>\n      <th>user_followers</th>\n      <th>user_friends</th>\n      <th>user_favourites</th>\n      <th>user_verified</th>\n      <th>date</th>\n      <th>text</th>\n      <th>hashtags</th>\n      <th>source</th>\n      <th>retweets</th>\n      <th>favorites</th>\n      <th>is_retweet</th>\n    </tr>\n  </thead>\n  <tbody>\n    <tr>\n      <th>0</th>\n      <td>1340539111971516416</td>\n      <td>Rachel Roh</td>\n      <td>La Crescenta-Montrose, CA</td>\n      <td>Aggregator of Asian American news; scanning di...</td>\n      <td>2009-04-08 17:52:46</td>\n      <td>405</td>\n      <td>1692</td>\n      <td>3247</td>\n      <td>False</td>\n      <td>2020-12-20 06:06:44</td>\n      <td>Same folks said daikon paste could treat a cyt...</td>\n      <td>['PfizerBioNTech']</td>\n      <td>Twitter for Android</td>\n      <td>0</td>\n      <td>0</td>\n      <td>False</td>\n    </tr>\n    <tr>\n      <th>1</th>\n      <td>1338158543359250433</td>\n      <td>Albert Fong</td>\n      <td>San Francisco, CA</td>\n      <td>Marketing dude, tech geek, heavy metal &amp; '80s ...</td>\n      <td>2009-09-21 15:27:30</td>\n      <td>834</td>\n      <td>666</td>\n      <td>178</td>\n      <td>False</td>\n      <td>2020-12-13 16:27:13</td>\n      <td>While the world has been on the wrong side of ...</td>\n      <td>NaN</td>\n      <td>Twitter Web App</td>\n      <td>1</td>\n      <td>1</td>\n      <td>False</td>\n    </tr>\n    <tr>\n      <th>2</th>\n      <td>1337858199140118533</td>\n      <td>eli🇱🇹🇪🇺👌</td>\n      <td>Your Bed</td>\n      <td>heil, hydra 🖐☺</td>\n      <td>2020-06-25 23:30:28</td>\n      <td>10</td>\n      <td>88</td>\n      <td>155</td>\n      <td>False</td>\n      <td>2020-12-12 20:33:45</td>\n      <td>#coronavirus #SputnikV #AstraZeneca #PfizerBio...</td>\n      <td>['coronavirus', 'SputnikV', 'AstraZeneca', 'Pf...</td>\n      <td>Twitter for Android</td>\n      <td>0</td>\n      <td>0</td>\n      <td>False</td>\n    </tr>\n    <tr>\n      <th>3</th>\n      <td>1337855739918835717</td>\n      <td>Charles Adler</td>\n      <td>Vancouver, BC - Canada</td>\n      <td>Hosting \"CharlesAdlerTonight\" Global News Radi...</td>\n      <td>2008-09-10 11:28:53</td>\n      <td>49165</td>\n      <td>3933</td>\n      <td>21853</td>\n      <td>True</td>\n      <td>2020-12-12 20:23:59</td>\n      <td>Facts are immutable, Senator, even when you're...</td>\n      <td>NaN</td>\n      <td>Twitter Web App</td>\n      <td>446</td>\n      <td>2129</td>\n      <td>False</td>\n    </tr>\n    <tr>\n      <th>4</th>\n      <td>1337854064604966912</td>\n      <td>Citizen News Channel</td>\n      <td>NaN</td>\n      <td>Citizen News Channel bringing you an alternati...</td>\n      <td>2020-04-23 17:58:42</td>\n      <td>152</td>\n      <td>580</td>\n      <td>1473</td>\n      <td>False</td>\n      <td>2020-12-12 20:17:19</td>\n      <td>Explain to me again why we need a vaccine @Bor...</td>\n      <td>['whereareallthesickpeople', 'PfizerBioNTech']</td>\n      <td>Twitter for iPhone</td>\n      <td>0</td>\n      <td>0</td>\n      <td>False</td>\n    </tr>\n  </tbody>\n</table>\n</div>"
     },
     "metadata": {},
     "execution_count": 99
    }
   ],
   "source": [
    "df = pd.read_csv(\"vaccination_all_tweets.csv\")\n",
    "df.head(5)"
   ]
  },
  {
   "cell_type": "code",
   "execution_count": 100,
   "metadata": {},
   "outputs": [
    {
     "output_type": "stream",
     "name": "stdout",
     "text": [
      "(40171, 16)\n"
     ]
    }
   ],
   "source": [
    "print(df.shape)"
   ]
  },
  {
   "cell_type": "code",
   "execution_count": 101,
   "metadata": {},
   "outputs": [],
   "source": [
    "a = df['hashtags'].str.lower()"
   ]
  },
  {
   "cell_type": "code",
   "execution_count": 102,
   "metadata": {},
   "outputs": [
    {
     "output_type": "execute_result",
     "data": {
      "text/plain": [
       "['moderna']               2156\n",
       "['covaxin']               2119\n",
       "['sputnikv']              1360\n",
       "['pfizerbiontech']        1027\n",
       "['oxfordastrazeneca']      790\n",
       "['covid19']                571\n",
       "['sinovac']                407\n",
       "['sinopharm']              386\n",
       "['moderna', 'vaccine']     179\n",
       "['pfizer', 'moderna']      170\n",
       "Name: hashtags, dtype: int64"
      ]
     },
     "metadata": {},
     "execution_count": 102
    }
   ],
   "source": [
    "a.value_counts().nlargest(10)"
   ]
  },
  {
   "source": [
    "unique_user = df.drop_duplicates('user_name', keep='last')\n",
    "unique_user.shape"
   ],
   "cell_type": "code",
   "metadata": {},
   "execution_count": 103,
   "outputs": [
    {
     "output_type": "execute_result",
     "data": {
      "text/plain": [
       "(22483, 16)"
      ]
     },
     "metadata": {},
     "execution_count": 103
    }
   ]
  },
  {
   "cell_type": "code",
   "execution_count": 104,
   "metadata": {},
   "outputs": [
    {
     "output_type": "stream",
     "name": "stdout",
     "text": [
      "Verified: 11.291727863384034\nNon-verified: 88.70827213661596\n"
     ]
    }
   ],
   "source": [
    "non_verified = df.loc[df['user_verified'] == False]\n",
    "verified = df.loc[df['user_verified'] == True]\n",
    "\n",
    "verified_percent = (len(verified) / len(df))*100\n",
    "print('Verified:', verified_percent)\n",
    "\n",
    "non_verified_percent = (len(non_verified) / len(df))*100\n",
    "print('Non-verified:', non_verified_percent)"
   ]
  },
  {
   "cell_type": "code",
   "execution_count": 105,
   "metadata": {},
   "outputs": [],
   "source": [
    "#fig = px.bar(df, x=\"hashtags\", y=\"user_favourites\", color=\"user_verified\", \n",
    "             #title=\"Long-Form Input\")\n",
    "#fig.show()"
   ]
  },
  {
   "cell_type": "markdown",
   "metadata": {},
   "source": [
    "## ---"
   ]
  },
  {
   "cell_type": "code",
   "execution_count": 106,
   "metadata": {},
   "outputs": [
    {
     "output_type": "execute_result",
     "data": {
      "text/plain": [
       "          country alpha2 alpha3  numeric            iso\n",
       "0     Afghanistan     AF    AFG        4  ISO 3166-2:AF\n",
       "1   Åland Islands     AX    ALA      248  ISO 3166-2:AX\n",
       "2         Albania     AL    ALB        8  ISO 3166-2:AL\n",
       "3         Algeria     DZ    DZA       12  ISO 3166-2:DZ\n",
       "4  American Samoa     AS    ASM       16  ISO 3166-2:AS"
      ],
      "text/html": "<div>\n<style scoped>\n    .dataframe tbody tr th:only-of-type {\n        vertical-align: middle;\n    }\n\n    .dataframe tbody tr th {\n        vertical-align: top;\n    }\n\n    .dataframe thead th {\n        text-align: right;\n    }\n</style>\n<table border=\"1\" class=\"dataframe\">\n  <thead>\n    <tr style=\"text-align: right;\">\n      <th></th>\n      <th>country</th>\n      <th>alpha2</th>\n      <th>alpha3</th>\n      <th>numeric</th>\n      <th>iso</th>\n    </tr>\n  </thead>\n  <tbody>\n    <tr>\n      <th>0</th>\n      <td>Afghanistan</td>\n      <td>AF</td>\n      <td>AFG</td>\n      <td>4</td>\n      <td>ISO 3166-2:AF</td>\n    </tr>\n    <tr>\n      <th>1</th>\n      <td>Åland Islands</td>\n      <td>AX</td>\n      <td>ALA</td>\n      <td>248</td>\n      <td>ISO 3166-2:AX</td>\n    </tr>\n    <tr>\n      <th>2</th>\n      <td>Albania</td>\n      <td>AL</td>\n      <td>ALB</td>\n      <td>8</td>\n      <td>ISO 3166-2:AL</td>\n    </tr>\n    <tr>\n      <th>3</th>\n      <td>Algeria</td>\n      <td>DZ</td>\n      <td>DZA</td>\n      <td>12</td>\n      <td>ISO 3166-2:DZ</td>\n    </tr>\n    <tr>\n      <th>4</th>\n      <td>American Samoa</td>\n      <td>AS</td>\n      <td>ASM</td>\n      <td>16</td>\n      <td>ISO 3166-2:AS</td>\n    </tr>\n  </tbody>\n</table>\n</div>"
     },
     "metadata": {},
     "execution_count": 106
    }
   ],
   "source": [
    "country_df = pd.read_csv(\"wikipedia-iso-country-codes.csv\")\n",
    "country_df.columns = [\"country\", \"alpha2\", \"alpha3\", \"numeric\", \"iso\"]\n",
    "country_df.head()"
   ]
  },
  {
   "cell_type": "code",
   "execution_count": 107,
   "metadata": {},
   "outputs": [
    {
     "output_type": "stream",
     "name": "stdout",
     "text": [
      "(246, 5)\n"
     ]
    }
   ],
   "source": [
    "print(country_df.shape)"
   ]
  },
  {
   "cell_type": "code",
   "execution_count": 108,
   "metadata": {},
   "outputs": [
    {
     "output_type": "execute_result",
     "data": {
      "text/plain": [
       "                       id                  user_name user_location  \\\n",
       "0     1337815730486702087                       WION         India   \n",
       "1     1338574693087936513        Prof. Manish Thakur         India   \n",
       "2     1338551175587786752               India Blooms         India   \n",
       "3     1338466008466505728              Rachna Tandon         India   \n",
       "4     1338377471360569347                  India.com         India   \n",
       "...                   ...                        ...           ...   \n",
       "3669  1375540506667573250          Peter Byard Davis   New Zealand   \n",
       "3670  1375064010501066753                The General       Namibia   \n",
       "3671  1373496087420547074  Daily Ummah International        Turkey   \n",
       "3672  1374438996990775310                marcosecchi      Slovenia   \n",
       "3673  1374011935000297473                marcosecchi      Slovenia   \n",
       "\n",
       "                                       user_description         user_created  \\\n",
       "0     #WION: World Is One | Welcome to India’s first...  2016-03-21 03:44:54   \n",
       "1     #Proprietor English Academy #Blockchain #AI #I...  2012-06-11 13:50:05   \n",
       "2     A news and reference portal on India and a 24X...  2009-10-10 11:19:34   \n",
       "3     District Epidemiologist, Meerut (IDSP). MDI-Gu...  2014-10-02 20:07:17   \n",
       "4     Follow https://t.co/RBTHZHv1ga for breaking ne...  2009-03-04 16:20:07   \n",
       "...                                                 ...                  ...   \n",
       "3669  Ex-prof, recovering workaholic, quiz kid. Soci...  2011-09-10 03:57:58   \n",
       "3670  Manchester United ⚽️| I Am Good But I Am Not A...  2012-03-18 16:54:40   \n",
       "3671  Bir miladın habercisiyiz • We are the messenge...  2020-10-15 20:35:56   \n",
       "3672  ▸Leica Photographer @GettyImages\\n▸Fine Art & ...  2009-02-20 21:14:47   \n",
       "3673  ▸Leica Photographer @GettyImages\\n▸Fine Art & ...  2009-02-20 21:14:47   \n",
       "\n",
       "      user_followers  user_friends  user_favourites  user_verified  \\\n",
       "0             292510            91             7531           True   \n",
       "1               3372          1713           119631          False   \n",
       "2              16816          2448               20          False   \n",
       "3                 72           120               66          False   \n",
       "4              13417           399              349           True   \n",
       "...              ...           ...              ...            ...   \n",
       "3669            1244            93              580          False   \n",
       "3670            1629          1605             1872          False   \n",
       "3671              70             2                1          False   \n",
       "3672           12880           894            76326           True   \n",
       "3673           12880           894            76326           True   \n",
       "\n",
       "                     date  ...  \\\n",
       "0     2020-12-12 17:45:00  ...   \n",
       "1     2020-12-14 20:00:51  ...   \n",
       "2     2020-12-14 18:27:23  ...   \n",
       "3     2020-12-14 12:48:58  ...   \n",
       "4     2020-12-14 06:57:09  ...   \n",
       "...                   ...  ...   \n",
       "3669  2021-03-26 20:09:47  ...   \n",
       "3670  2021-03-25 12:36:22  ...   \n",
       "3671  2021-03-21 04:46:00  ...   \n",
       "3672  2021-03-23 19:12:47  ...   \n",
       "3673  2021-03-22 14:55:47  ...   \n",
       "\n",
       "                                               hashtags               source  \\\n",
       "0                                                   NaN            TweetDeck   \n",
       "1     ['UgurSahin', 'ozlemtureci', 'Muslim', 'Pfizer...  Twitter for Android   \n",
       "2                                           ['Ontario']      Twitter Web App   \n",
       "3       ['PfizerBioNTech', 'Singapore', 'CovidVaccine']      Twitter Web App   \n",
       "4                   ['Pfizervaccine', 'PfizerBioNTech']            TweetDeck   \n",
       "...                                                 ...                  ...   \n",
       "3669                                                NaN      Twitter Web App   \n",
       "3670                                                NaN  Twitter for Android   \n",
       "3671    ['Pakistan', 'COVID', 'Imran', 'Khan', 'China']      Twitter Web App   \n",
       "3672        ['covid', 'vaccine', 'sputnik', 'sputnikv']       SocialPilot.co   \n",
       "3673       ['SputnikV', 'Sputnik', 'SputnikVaccinated']      Twitter Web App   \n",
       "\n",
       "     retweets  favorites  is_retweet      country alpha2 alpha3 numeric  \\\n",
       "0           0         18       False        India     IN    IND     356   \n",
       "1           0          0       False        India     IN    IND     356   \n",
       "2           0          0       False        India     IN    IND     356   \n",
       "3           0          0       False        India     IN    IND     356   \n",
       "4           0          0       False        India     IN    IND     356   \n",
       "...       ...        ...         ...          ...    ...    ...     ...   \n",
       "3669        0          0       False  New Zealand     NZ    NZL     554   \n",
       "3670        0          0       False      Namibia    NaN    NAM     516   \n",
       "3671        0          0       False       Turkey     TR    TUR     792   \n",
       "3672        0          0       False     Slovenia     SI    SVN     705   \n",
       "3673        0          1       False     Slovenia     SI    SVN     705   \n",
       "\n",
       "                iso  \n",
       "0     ISO 3166-2:IN  \n",
       "1     ISO 3166-2:IN  \n",
       "2     ISO 3166-2:IN  \n",
       "3     ISO 3166-2:IN  \n",
       "4     ISO 3166-2:IN  \n",
       "...             ...  \n",
       "3669  ISO 3166-2:NZ  \n",
       "3670  ISO 3166-2:NA  \n",
       "3671  ISO 3166-2:TR  \n",
       "3672  ISO 3166-2:SI  \n",
       "3673  ISO 3166-2:SI  \n",
       "\n",
       "[3674 rows x 21 columns]"
      ],
      "text/html": "<div>\n<style scoped>\n    .dataframe tbody tr th:only-of-type {\n        vertical-align: middle;\n    }\n\n    .dataframe tbody tr th {\n        vertical-align: top;\n    }\n\n    .dataframe thead th {\n        text-align: right;\n    }\n</style>\n<table border=\"1\" class=\"dataframe\">\n  <thead>\n    <tr style=\"text-align: right;\">\n      <th></th>\n      <th>id</th>\n      <th>user_name</th>\n      <th>user_location</th>\n      <th>user_description</th>\n      <th>user_created</th>\n      <th>user_followers</th>\n      <th>user_friends</th>\n      <th>user_favourites</th>\n      <th>user_verified</th>\n      <th>date</th>\n      <th>...</th>\n      <th>hashtags</th>\n      <th>source</th>\n      <th>retweets</th>\n      <th>favorites</th>\n      <th>is_retweet</th>\n      <th>country</th>\n      <th>alpha2</th>\n      <th>alpha3</th>\n      <th>numeric</th>\n      <th>iso</th>\n    </tr>\n  </thead>\n  <tbody>\n    <tr>\n      <th>0</th>\n      <td>1337815730486702087</td>\n      <td>WION</td>\n      <td>India</td>\n      <td>#WION: World Is One | Welcome to India’s first...</td>\n      <td>2016-03-21 03:44:54</td>\n      <td>292510</td>\n      <td>91</td>\n      <td>7531</td>\n      <td>True</td>\n      <td>2020-12-12 17:45:00</td>\n      <td>...</td>\n      <td>NaN</td>\n      <td>TweetDeck</td>\n      <td>0</td>\n      <td>18</td>\n      <td>False</td>\n      <td>India</td>\n      <td>IN</td>\n      <td>IND</td>\n      <td>356</td>\n      <td>ISO 3166-2:IN</td>\n    </tr>\n    <tr>\n      <th>1</th>\n      <td>1338574693087936513</td>\n      <td>Prof. Manish Thakur</td>\n      <td>India</td>\n      <td>#Proprietor English Academy #Blockchain #AI #I...</td>\n      <td>2012-06-11 13:50:05</td>\n      <td>3372</td>\n      <td>1713</td>\n      <td>119631</td>\n      <td>False</td>\n      <td>2020-12-14 20:00:51</td>\n      <td>...</td>\n      <td>['UgurSahin', 'ozlemtureci', 'Muslim', 'Pfizer...</td>\n      <td>Twitter for Android</td>\n      <td>0</td>\n      <td>0</td>\n      <td>False</td>\n      <td>India</td>\n      <td>IN</td>\n      <td>IND</td>\n      <td>356</td>\n      <td>ISO 3166-2:IN</td>\n    </tr>\n    <tr>\n      <th>2</th>\n      <td>1338551175587786752</td>\n      <td>India Blooms</td>\n      <td>India</td>\n      <td>A news and reference portal on India and a 24X...</td>\n      <td>2009-10-10 11:19:34</td>\n      <td>16816</td>\n      <td>2448</td>\n      <td>20</td>\n      <td>False</td>\n      <td>2020-12-14 18:27:23</td>\n      <td>...</td>\n      <td>['Ontario']</td>\n      <td>Twitter Web App</td>\n      <td>0</td>\n      <td>0</td>\n      <td>False</td>\n      <td>India</td>\n      <td>IN</td>\n      <td>IND</td>\n      <td>356</td>\n      <td>ISO 3166-2:IN</td>\n    </tr>\n    <tr>\n      <th>3</th>\n      <td>1338466008466505728</td>\n      <td>Rachna Tandon</td>\n      <td>India</td>\n      <td>District Epidemiologist, Meerut (IDSP). MDI-Gu...</td>\n      <td>2014-10-02 20:07:17</td>\n      <td>72</td>\n      <td>120</td>\n      <td>66</td>\n      <td>False</td>\n      <td>2020-12-14 12:48:58</td>\n      <td>...</td>\n      <td>['PfizerBioNTech', 'Singapore', 'CovidVaccine']</td>\n      <td>Twitter Web App</td>\n      <td>0</td>\n      <td>0</td>\n      <td>False</td>\n      <td>India</td>\n      <td>IN</td>\n      <td>IND</td>\n      <td>356</td>\n      <td>ISO 3166-2:IN</td>\n    </tr>\n    <tr>\n      <th>4</th>\n      <td>1338377471360569347</td>\n      <td>India.com</td>\n      <td>India</td>\n      <td>Follow https://t.co/RBTHZHv1ga for breaking ne...</td>\n      <td>2009-03-04 16:20:07</td>\n      <td>13417</td>\n      <td>399</td>\n      <td>349</td>\n      <td>True</td>\n      <td>2020-12-14 06:57:09</td>\n      <td>...</td>\n      <td>['Pfizervaccine', 'PfizerBioNTech']</td>\n      <td>TweetDeck</td>\n      <td>0</td>\n      <td>0</td>\n      <td>False</td>\n      <td>India</td>\n      <td>IN</td>\n      <td>IND</td>\n      <td>356</td>\n      <td>ISO 3166-2:IN</td>\n    </tr>\n    <tr>\n      <th>...</th>\n      <td>...</td>\n      <td>...</td>\n      <td>...</td>\n      <td>...</td>\n      <td>...</td>\n      <td>...</td>\n      <td>...</td>\n      <td>...</td>\n      <td>...</td>\n      <td>...</td>\n      <td>...</td>\n      <td>...</td>\n      <td>...</td>\n      <td>...</td>\n      <td>...</td>\n      <td>...</td>\n      <td>...</td>\n      <td>...</td>\n      <td>...</td>\n      <td>...</td>\n      <td>...</td>\n    </tr>\n    <tr>\n      <th>3669</th>\n      <td>1375540506667573250</td>\n      <td>Peter Byard Davis</td>\n      <td>New Zealand</td>\n      <td>Ex-prof, recovering workaholic, quiz kid. Soci...</td>\n      <td>2011-09-10 03:57:58</td>\n      <td>1244</td>\n      <td>93</td>\n      <td>580</td>\n      <td>False</td>\n      <td>2021-03-26 20:09:47</td>\n      <td>...</td>\n      <td>NaN</td>\n      <td>Twitter Web App</td>\n      <td>0</td>\n      <td>0</td>\n      <td>False</td>\n      <td>New Zealand</td>\n      <td>NZ</td>\n      <td>NZL</td>\n      <td>554</td>\n      <td>ISO 3166-2:NZ</td>\n    </tr>\n    <tr>\n      <th>3670</th>\n      <td>1375064010501066753</td>\n      <td>The General</td>\n      <td>Namibia</td>\n      <td>Manchester United ⚽️| I Am Good But I Am Not A...</td>\n      <td>2012-03-18 16:54:40</td>\n      <td>1629</td>\n      <td>1605</td>\n      <td>1872</td>\n      <td>False</td>\n      <td>2021-03-25 12:36:22</td>\n      <td>...</td>\n      <td>NaN</td>\n      <td>Twitter for Android</td>\n      <td>0</td>\n      <td>0</td>\n      <td>False</td>\n      <td>Namibia</td>\n      <td>NaN</td>\n      <td>NAM</td>\n      <td>516</td>\n      <td>ISO 3166-2:NA</td>\n    </tr>\n    <tr>\n      <th>3671</th>\n      <td>1373496087420547074</td>\n      <td>Daily Ummah International</td>\n      <td>Turkey</td>\n      <td>Bir miladın habercisiyiz • We are the messenge...</td>\n      <td>2020-10-15 20:35:56</td>\n      <td>70</td>\n      <td>2</td>\n      <td>1</td>\n      <td>False</td>\n      <td>2021-03-21 04:46:00</td>\n      <td>...</td>\n      <td>['Pakistan', 'COVID', 'Imran', 'Khan', 'China']</td>\n      <td>Twitter Web App</td>\n      <td>0</td>\n      <td>0</td>\n      <td>False</td>\n      <td>Turkey</td>\n      <td>TR</td>\n      <td>TUR</td>\n      <td>792</td>\n      <td>ISO 3166-2:TR</td>\n    </tr>\n    <tr>\n      <th>3672</th>\n      <td>1374438996990775310</td>\n      <td>marcosecchi</td>\n      <td>Slovenia</td>\n      <td>▸Leica Photographer @GettyImages\\n▸Fine Art &amp; ...</td>\n      <td>2009-02-20 21:14:47</td>\n      <td>12880</td>\n      <td>894</td>\n      <td>76326</td>\n      <td>True</td>\n      <td>2021-03-23 19:12:47</td>\n      <td>...</td>\n      <td>['covid', 'vaccine', 'sputnik', 'sputnikv']</td>\n      <td>SocialPilot.co</td>\n      <td>0</td>\n      <td>0</td>\n      <td>False</td>\n      <td>Slovenia</td>\n      <td>SI</td>\n      <td>SVN</td>\n      <td>705</td>\n      <td>ISO 3166-2:SI</td>\n    </tr>\n    <tr>\n      <th>3673</th>\n      <td>1374011935000297473</td>\n      <td>marcosecchi</td>\n      <td>Slovenia</td>\n      <td>▸Leica Photographer @GettyImages\\n▸Fine Art &amp; ...</td>\n      <td>2009-02-20 21:14:47</td>\n      <td>12880</td>\n      <td>894</td>\n      <td>76326</td>\n      <td>True</td>\n      <td>2021-03-22 14:55:47</td>\n      <td>...</td>\n      <td>['SputnikV', 'Sputnik', 'SputnikVaccinated']</td>\n      <td>Twitter Web App</td>\n      <td>0</td>\n      <td>1</td>\n      <td>False</td>\n      <td>Slovenia</td>\n      <td>SI</td>\n      <td>SVN</td>\n      <td>705</td>\n      <td>ISO 3166-2:SI</td>\n    </tr>\n  </tbody>\n</table>\n<p>3674 rows × 21 columns</p>\n</div>"
     },
     "metadata": {},
     "execution_count": 108
    }
   ],
   "source": [
    "df['country'] = df['user_location']\n",
    "df = df.merge(country_df, on=\"country\")\n",
    "df"
   ]
  },
  {
   "cell_type": "code",
   "execution_count": 109,
   "metadata": {},
   "outputs": [
    {
     "output_type": "execute_result",
     "data": {
      "text/plain": [
       "                  country  tweets\n",
       "49                  India    1108\n",
       "116         United States     396\n",
       "115        United Kingdom     202\n",
       "20                 Canada     159\n",
       "67               Malaysia     157\n",
       "46              Hong Kong     138\n",
       "83               Pakistan     120\n",
       "114  United Arab Emirates     101\n",
       "36                 France      95\n",
       "104             Sri Lanka      89\n",
       "119              Zimbabwe      76\n",
       "89                  Qatar      69\n",
       "52                Ireland      64\n",
       "98              Singapore      61\n",
       "102          South Africa      57\n",
       "40                Germany      50\n",
       "6               Australia      40\n",
       "54                 Israel      35\n",
       "86            Philippines      28\n",
       "25                 Cyprus      23"
      ],
      "text/html": "<div>\n<style scoped>\n    .dataframe tbody tr th:only-of-type {\n        vertical-align: middle;\n    }\n\n    .dataframe tbody tr th {\n        vertical-align: top;\n    }\n\n    .dataframe thead th {\n        text-align: right;\n    }\n</style>\n<table border=\"1\" class=\"dataframe\">\n  <thead>\n    <tr style=\"text-align: right;\">\n      <th></th>\n      <th>country</th>\n      <th>tweets</th>\n    </tr>\n  </thead>\n  <tbody>\n    <tr>\n      <th>49</th>\n      <td>India</td>\n      <td>1108</td>\n    </tr>\n    <tr>\n      <th>116</th>\n      <td>United States</td>\n      <td>396</td>\n    </tr>\n    <tr>\n      <th>115</th>\n      <td>United Kingdom</td>\n      <td>202</td>\n    </tr>\n    <tr>\n      <th>20</th>\n      <td>Canada</td>\n      <td>159</td>\n    </tr>\n    <tr>\n      <th>67</th>\n      <td>Malaysia</td>\n      <td>157</td>\n    </tr>\n    <tr>\n      <th>46</th>\n      <td>Hong Kong</td>\n      <td>138</td>\n    </tr>\n    <tr>\n      <th>83</th>\n      <td>Pakistan</td>\n      <td>120</td>\n    </tr>\n    <tr>\n      <th>114</th>\n      <td>United Arab Emirates</td>\n      <td>101</td>\n    </tr>\n    <tr>\n      <th>36</th>\n      <td>France</td>\n      <td>95</td>\n    </tr>\n    <tr>\n      <th>104</th>\n      <td>Sri Lanka</td>\n      <td>89</td>\n    </tr>\n    <tr>\n      <th>119</th>\n      <td>Zimbabwe</td>\n      <td>76</td>\n    </tr>\n    <tr>\n      <th>89</th>\n      <td>Qatar</td>\n      <td>69</td>\n    </tr>\n    <tr>\n      <th>52</th>\n      <td>Ireland</td>\n      <td>64</td>\n    </tr>\n    <tr>\n      <th>98</th>\n      <td>Singapore</td>\n      <td>61</td>\n    </tr>\n    <tr>\n      <th>102</th>\n      <td>South Africa</td>\n      <td>57</td>\n    </tr>\n    <tr>\n      <th>40</th>\n      <td>Germany</td>\n      <td>50</td>\n    </tr>\n    <tr>\n      <th>6</th>\n      <td>Australia</td>\n      <td>40</td>\n    </tr>\n    <tr>\n      <th>54</th>\n      <td>Israel</td>\n      <td>35</td>\n    </tr>\n    <tr>\n      <th>86</th>\n      <td>Philippines</td>\n      <td>28</td>\n    </tr>\n    <tr>\n      <th>25</th>\n      <td>Cyprus</td>\n      <td>23</td>\n    </tr>\n  </tbody>\n</table>\n</div>"
     },
     "metadata": {},
     "execution_count": 109
    }
   ],
   "source": [
    "tw_add_df = df.groupby([\"country\"])['text'].count().reset_index()\n",
    "tw_add_df.columns = [\"country\", \"tweets\"]\n",
    "country_tweets_df = tw_add_df.sort_values('tweets', ascending=False).head(20)\n",
    "country_tweets_df    "
   ]
  },
  {
   "cell_type": "code",
   "execution_count": 110,
   "metadata": {},
   "outputs": [
    {
     "output_type": "display_data",
     "data": {
      "application/vnd.plotly.v1+json": {
       "config": {
        "plotlyServerURL": "https://plot.ly"
       },
       "data": [
        {
         "alignmentgroup": "True",
         "hovertemplate": "country=%{x}<br>tweets=%{y}<extra></extra>",
         "legendgroup": "",
         "marker": {
          "color": "#636efa"
         },
         "name": "",
         "offsetgroup": "",
         "orientation": "v",
         "showlegend": false,
         "textposition": "auto",
         "type": "bar",
         "x": [
          "India",
          "United States",
          "United Kingdom",
          "Canada",
          "Malaysia",
          "Hong Kong",
          "Pakistan",
          "United Arab Emirates",
          "France",
          "Sri Lanka",
          "Zimbabwe",
          "Qatar",
          "Ireland",
          "Singapore",
          "South Africa",
          "Germany",
          "Australia",
          "Israel",
          "Philippines",
          "Cyprus"
         ],
         "xaxis": "x",
         "y": [
          1108,
          396,
          202,
          159,
          157,
          138,
          120,
          101,
          95,
          89,
          76,
          69,
          64,
          61,
          57,
          50,
          40,
          35,
          28,
          23
         ],
         "yaxis": "y"
        }
       ],
       "layout": {
        "barmode": "relative",
        "legend": {
         "tracegroupgap": 0
        },
        "margin": {
         "t": 60
        },
        "template": {
         "data": {
          "bar": [
           {
            "error_x": {
             "color": "#f2f5fa"
            },
            "error_y": {
             "color": "#f2f5fa"
            },
            "marker": {
             "line": {
              "color": "rgb(17,17,17)",
              "width": 0.5
             }
            },
            "type": "bar"
           }
          ],
          "barpolar": [
           {
            "marker": {
             "line": {
              "color": "rgb(17,17,17)",
              "width": 0.5
             }
            },
            "type": "barpolar"
           }
          ],
          "carpet": [
           {
            "aaxis": {
             "endlinecolor": "#A2B1C6",
             "gridcolor": "#506784",
             "linecolor": "#506784",
             "minorgridcolor": "#506784",
             "startlinecolor": "#A2B1C6"
            },
            "baxis": {
             "endlinecolor": "#A2B1C6",
             "gridcolor": "#506784",
             "linecolor": "#506784",
             "minorgridcolor": "#506784",
             "startlinecolor": "#A2B1C6"
            },
            "type": "carpet"
           }
          ],
          "choropleth": [
           {
            "colorbar": {
             "outlinewidth": 0,
             "ticks": ""
            },
            "type": "choropleth"
           }
          ],
          "contour": [
           {
            "colorbar": {
             "outlinewidth": 0,
             "ticks": ""
            },
            "colorscale": [
             [
              0,
              "#0d0887"
             ],
             [
              0.1111111111111111,
              "#46039f"
             ],
             [
              0.2222222222222222,
              "#7201a8"
             ],
             [
              0.3333333333333333,
              "#9c179e"
             ],
             [
              0.4444444444444444,
              "#bd3786"
             ],
             [
              0.5555555555555556,
              "#d8576b"
             ],
             [
              0.6666666666666666,
              "#ed7953"
             ],
             [
              0.7777777777777778,
              "#fb9f3a"
             ],
             [
              0.8888888888888888,
              "#fdca26"
             ],
             [
              1,
              "#f0f921"
             ]
            ],
            "type": "contour"
           }
          ],
          "contourcarpet": [
           {
            "colorbar": {
             "outlinewidth": 0,
             "ticks": ""
            },
            "type": "contourcarpet"
           }
          ],
          "heatmap": [
           {
            "colorbar": {
             "outlinewidth": 0,
             "ticks": ""
            },
            "colorscale": [
             [
              0,
              "#0d0887"
             ],
             [
              0.1111111111111111,
              "#46039f"
             ],
             [
              0.2222222222222222,
              "#7201a8"
             ],
             [
              0.3333333333333333,
              "#9c179e"
             ],
             [
              0.4444444444444444,
              "#bd3786"
             ],
             [
              0.5555555555555556,
              "#d8576b"
             ],
             [
              0.6666666666666666,
              "#ed7953"
             ],
             [
              0.7777777777777778,
              "#fb9f3a"
             ],
             [
              0.8888888888888888,
              "#fdca26"
             ],
             [
              1,
              "#f0f921"
             ]
            ],
            "type": "heatmap"
           }
          ],
          "heatmapgl": [
           {
            "colorbar": {
             "outlinewidth": 0,
             "ticks": ""
            },
            "colorscale": [
             [
              0,
              "#0d0887"
             ],
             [
              0.1111111111111111,
              "#46039f"
             ],
             [
              0.2222222222222222,
              "#7201a8"
             ],
             [
              0.3333333333333333,
              "#9c179e"
             ],
             [
              0.4444444444444444,
              "#bd3786"
             ],
             [
              0.5555555555555556,
              "#d8576b"
             ],
             [
              0.6666666666666666,
              "#ed7953"
             ],
             [
              0.7777777777777778,
              "#fb9f3a"
             ],
             [
              0.8888888888888888,
              "#fdca26"
             ],
             [
              1,
              "#f0f921"
             ]
            ],
            "type": "heatmapgl"
           }
          ],
          "histogram": [
           {
            "marker": {
             "colorbar": {
              "outlinewidth": 0,
              "ticks": ""
             }
            },
            "type": "histogram"
           }
          ],
          "histogram2d": [
           {
            "colorbar": {
             "outlinewidth": 0,
             "ticks": ""
            },
            "colorscale": [
             [
              0,
              "#0d0887"
             ],
             [
              0.1111111111111111,
              "#46039f"
             ],
             [
              0.2222222222222222,
              "#7201a8"
             ],
             [
              0.3333333333333333,
              "#9c179e"
             ],
             [
              0.4444444444444444,
              "#bd3786"
             ],
             [
              0.5555555555555556,
              "#d8576b"
             ],
             [
              0.6666666666666666,
              "#ed7953"
             ],
             [
              0.7777777777777778,
              "#fb9f3a"
             ],
             [
              0.8888888888888888,
              "#fdca26"
             ],
             [
              1,
              "#f0f921"
             ]
            ],
            "type": "histogram2d"
           }
          ],
          "histogram2dcontour": [
           {
            "colorbar": {
             "outlinewidth": 0,
             "ticks": ""
            },
            "colorscale": [
             [
              0,
              "#0d0887"
             ],
             [
              0.1111111111111111,
              "#46039f"
             ],
             [
              0.2222222222222222,
              "#7201a8"
             ],
             [
              0.3333333333333333,
              "#9c179e"
             ],
             [
              0.4444444444444444,
              "#bd3786"
             ],
             [
              0.5555555555555556,
              "#d8576b"
             ],
             [
              0.6666666666666666,
              "#ed7953"
             ],
             [
              0.7777777777777778,
              "#fb9f3a"
             ],
             [
              0.8888888888888888,
              "#fdca26"
             ],
             [
              1,
              "#f0f921"
             ]
            ],
            "type": "histogram2dcontour"
           }
          ],
          "mesh3d": [
           {
            "colorbar": {
             "outlinewidth": 0,
             "ticks": ""
            },
            "type": "mesh3d"
           }
          ],
          "parcoords": [
           {
            "line": {
             "colorbar": {
              "outlinewidth": 0,
              "ticks": ""
             }
            },
            "type": "parcoords"
           }
          ],
          "pie": [
           {
            "automargin": true,
            "type": "pie"
           }
          ],
          "scatter": [
           {
            "marker": {
             "line": {
              "color": "#283442"
             }
            },
            "type": "scatter"
           }
          ],
          "scatter3d": [
           {
            "line": {
             "colorbar": {
              "outlinewidth": 0,
              "ticks": ""
             }
            },
            "marker": {
             "colorbar": {
              "outlinewidth": 0,
              "ticks": ""
             }
            },
            "type": "scatter3d"
           }
          ],
          "scattercarpet": [
           {
            "marker": {
             "colorbar": {
              "outlinewidth": 0,
              "ticks": ""
             }
            },
            "type": "scattercarpet"
           }
          ],
          "scattergeo": [
           {
            "marker": {
             "colorbar": {
              "outlinewidth": 0,
              "ticks": ""
             }
            },
            "type": "scattergeo"
           }
          ],
          "scattergl": [
           {
            "marker": {
             "line": {
              "color": "#283442"
             }
            },
            "type": "scattergl"
           }
          ],
          "scattermapbox": [
           {
            "marker": {
             "colorbar": {
              "outlinewidth": 0,
              "ticks": ""
             }
            },
            "type": "scattermapbox"
           }
          ],
          "scatterpolar": [
           {
            "marker": {
             "colorbar": {
              "outlinewidth": 0,
              "ticks": ""
             }
            },
            "type": "scatterpolar"
           }
          ],
          "scatterpolargl": [
           {
            "marker": {
             "colorbar": {
              "outlinewidth": 0,
              "ticks": ""
             }
            },
            "type": "scatterpolargl"
           }
          ],
          "scatterternary": [
           {
            "marker": {
             "colorbar": {
              "outlinewidth": 0,
              "ticks": ""
             }
            },
            "type": "scatterternary"
           }
          ],
          "surface": [
           {
            "colorbar": {
             "outlinewidth": 0,
             "ticks": ""
            },
            "colorscale": [
             [
              0,
              "#0d0887"
             ],
             [
              0.1111111111111111,
              "#46039f"
             ],
             [
              0.2222222222222222,
              "#7201a8"
             ],
             [
              0.3333333333333333,
              "#9c179e"
             ],
             [
              0.4444444444444444,
              "#bd3786"
             ],
             [
              0.5555555555555556,
              "#d8576b"
             ],
             [
              0.6666666666666666,
              "#ed7953"
             ],
             [
              0.7777777777777778,
              "#fb9f3a"
             ],
             [
              0.8888888888888888,
              "#fdca26"
             ],
             [
              1,
              "#f0f921"
             ]
            ],
            "type": "surface"
           }
          ],
          "table": [
           {
            "cells": {
             "fill": {
              "color": "#506784"
             },
             "line": {
              "color": "rgb(17,17,17)"
             }
            },
            "header": {
             "fill": {
              "color": "#2a3f5f"
             },
             "line": {
              "color": "rgb(17,17,17)"
             }
            },
            "type": "table"
           }
          ]
         },
         "layout": {
          "annotationdefaults": {
           "arrowcolor": "#f2f5fa",
           "arrowhead": 0,
           "arrowwidth": 1
          },
          "autotypenumbers": "strict",
          "coloraxis": {
           "colorbar": {
            "outlinewidth": 0,
            "ticks": ""
           }
          },
          "colorscale": {
           "diverging": [
            [
             0,
             "#8e0152"
            ],
            [
             0.1,
             "#c51b7d"
            ],
            [
             0.2,
             "#de77ae"
            ],
            [
             0.3,
             "#f1b6da"
            ],
            [
             0.4,
             "#fde0ef"
            ],
            [
             0.5,
             "#f7f7f7"
            ],
            [
             0.6,
             "#e6f5d0"
            ],
            [
             0.7,
             "#b8e186"
            ],
            [
             0.8,
             "#7fbc41"
            ],
            [
             0.9,
             "#4d9221"
            ],
            [
             1,
             "#276419"
            ]
           ],
           "sequential": [
            [
             0,
             "#0d0887"
            ],
            [
             0.1111111111111111,
             "#46039f"
            ],
            [
             0.2222222222222222,
             "#7201a8"
            ],
            [
             0.3333333333333333,
             "#9c179e"
            ],
            [
             0.4444444444444444,
             "#bd3786"
            ],
            [
             0.5555555555555556,
             "#d8576b"
            ],
            [
             0.6666666666666666,
             "#ed7953"
            ],
            [
             0.7777777777777778,
             "#fb9f3a"
            ],
            [
             0.8888888888888888,
             "#fdca26"
            ],
            [
             1,
             "#f0f921"
            ]
           ],
           "sequentialminus": [
            [
             0,
             "#0d0887"
            ],
            [
             0.1111111111111111,
             "#46039f"
            ],
            [
             0.2222222222222222,
             "#7201a8"
            ],
            [
             0.3333333333333333,
             "#9c179e"
            ],
            [
             0.4444444444444444,
             "#bd3786"
            ],
            [
             0.5555555555555556,
             "#d8576b"
            ],
            [
             0.6666666666666666,
             "#ed7953"
            ],
            [
             0.7777777777777778,
             "#fb9f3a"
            ],
            [
             0.8888888888888888,
             "#fdca26"
            ],
            [
             1,
             "#f0f921"
            ]
           ]
          },
          "colorway": [
           "#636efa",
           "#EF553B",
           "#00cc96",
           "#ab63fa",
           "#FFA15A",
           "#19d3f3",
           "#FF6692",
           "#B6E880",
           "#FF97FF",
           "#FECB52"
          ],
          "font": {
           "color": "#f2f5fa"
          },
          "geo": {
           "bgcolor": "rgb(17,17,17)",
           "lakecolor": "rgb(17,17,17)",
           "landcolor": "rgb(17,17,17)",
           "showlakes": true,
           "showland": true,
           "subunitcolor": "#506784"
          },
          "hoverlabel": {
           "align": "left"
          },
          "hovermode": "closest",
          "mapbox": {
           "style": "dark"
          },
          "paper_bgcolor": "rgb(17,17,17)",
          "plot_bgcolor": "rgb(17,17,17)",
          "polar": {
           "angularaxis": {
            "gridcolor": "#506784",
            "linecolor": "#506784",
            "ticks": ""
           },
           "bgcolor": "rgb(17,17,17)",
           "radialaxis": {
            "gridcolor": "#506784",
            "linecolor": "#506784",
            "ticks": ""
           }
          },
          "scene": {
           "xaxis": {
            "backgroundcolor": "rgb(17,17,17)",
            "gridcolor": "#506784",
            "gridwidth": 2,
            "linecolor": "#506784",
            "showbackground": true,
            "ticks": "",
            "zerolinecolor": "#C8D4E3"
           },
           "yaxis": {
            "backgroundcolor": "rgb(17,17,17)",
            "gridcolor": "#506784",
            "gridwidth": 2,
            "linecolor": "#506784",
            "showbackground": true,
            "ticks": "",
            "zerolinecolor": "#C8D4E3"
           },
           "zaxis": {
            "backgroundcolor": "rgb(17,17,17)",
            "gridcolor": "#506784",
            "gridwidth": 2,
            "linecolor": "#506784",
            "showbackground": true,
            "ticks": "",
            "zerolinecolor": "#C8D4E3"
           }
          },
          "shapedefaults": {
           "line": {
            "color": "#f2f5fa"
           }
          },
          "sliderdefaults": {
           "bgcolor": "#C8D4E3",
           "bordercolor": "rgb(17,17,17)",
           "borderwidth": 1,
           "tickwidth": 0
          },
          "ternary": {
           "aaxis": {
            "gridcolor": "#506784",
            "linecolor": "#506784",
            "ticks": ""
           },
           "baxis": {
            "gridcolor": "#506784",
            "linecolor": "#506784",
            "ticks": ""
           },
           "bgcolor": "rgb(17,17,17)",
           "caxis": {
            "gridcolor": "#506784",
            "linecolor": "#506784",
            "ticks": ""
           }
          },
          "title": {
           "x": 0.05
          },
          "updatemenudefaults": {
           "bgcolor": "#506784",
           "borderwidth": 0
          },
          "xaxis": {
           "automargin": true,
           "gridcolor": "#283442",
           "linecolor": "#506784",
           "ticks": "",
           "title": {
            "standoff": 15
           },
           "zerolinecolor": "#283442",
           "zerolinewidth": 2
          },
          "yaxis": {
           "automargin": true,
           "gridcolor": "#283442",
           "linecolor": "#506784",
           "ticks": "",
           "title": {
            "standoff": 15
           },
           "zerolinecolor": "#283442",
           "zerolinewidth": 2
          }
         }
        },
        "xaxis": {
         "anchor": "y",
         "domain": [
          0,
          1
         ],
         "title": {
          "text": "country"
         }
        },
        "yaxis": {
         "anchor": "x",
         "domain": [
          0,
          1
         ],
         "title": {
          "text": "tweets"
         }
        }
       }
      }
     },
     "metadata": {}
    }
   ],
   "source": [
    "fig = px.bar(country_tweets_df, x='country', y='tweets')\n",
    "fig.update_layout(template='plotly_dark')\n",
    "fig.show()"
   ]
  },
  {
   "cell_type": "code",
   "execution_count": 35,
   "metadata": {},
   "outputs": [
    {
     "output_type": "execute_result",
     "data": {
      "text/plain": [
       "                  country  user_favourites\n",
       "49                  India             1108\n",
       "116         United States              396\n",
       "115        United Kingdom              202\n",
       "20                 Canada              159\n",
       "67               Malaysia              157\n",
       "46              Hong Kong              138\n",
       "83               Pakistan              120\n",
       "114  United Arab Emirates              101\n",
       "36                 France               95\n",
       "104             Sri Lanka               89\n",
       "119              Zimbabwe               76\n",
       "89                  Qatar               69\n",
       "52                Ireland               64\n",
       "98              Singapore               61\n",
       "102          South Africa               57\n",
       "40                Germany               50\n",
       "6               Australia               40\n",
       "54                 Israel               35\n",
       "86            Philippines               28\n",
       "25                 Cyprus               23"
      ],
      "text/html": "<div>\n<style scoped>\n    .dataframe tbody tr th:only-of-type {\n        vertical-align: middle;\n    }\n\n    .dataframe tbody tr th {\n        vertical-align: top;\n    }\n\n    .dataframe thead th {\n        text-align: right;\n    }\n</style>\n<table border=\"1\" class=\"dataframe\">\n  <thead>\n    <tr style=\"text-align: right;\">\n      <th></th>\n      <th>country</th>\n      <th>user_favourites</th>\n    </tr>\n  </thead>\n  <tbody>\n    <tr>\n      <th>49</th>\n      <td>India</td>\n      <td>1108</td>\n    </tr>\n    <tr>\n      <th>116</th>\n      <td>United States</td>\n      <td>396</td>\n    </tr>\n    <tr>\n      <th>115</th>\n      <td>United Kingdom</td>\n      <td>202</td>\n    </tr>\n    <tr>\n      <th>20</th>\n      <td>Canada</td>\n      <td>159</td>\n    </tr>\n    <tr>\n      <th>67</th>\n      <td>Malaysia</td>\n      <td>157</td>\n    </tr>\n    <tr>\n      <th>46</th>\n      <td>Hong Kong</td>\n      <td>138</td>\n    </tr>\n    <tr>\n      <th>83</th>\n      <td>Pakistan</td>\n      <td>120</td>\n    </tr>\n    <tr>\n      <th>114</th>\n      <td>United Arab Emirates</td>\n      <td>101</td>\n    </tr>\n    <tr>\n      <th>36</th>\n      <td>France</td>\n      <td>95</td>\n    </tr>\n    <tr>\n      <th>104</th>\n      <td>Sri Lanka</td>\n      <td>89</td>\n    </tr>\n    <tr>\n      <th>119</th>\n      <td>Zimbabwe</td>\n      <td>76</td>\n    </tr>\n    <tr>\n      <th>89</th>\n      <td>Qatar</td>\n      <td>69</td>\n    </tr>\n    <tr>\n      <th>52</th>\n      <td>Ireland</td>\n      <td>64</td>\n    </tr>\n    <tr>\n      <th>98</th>\n      <td>Singapore</td>\n      <td>61</td>\n    </tr>\n    <tr>\n      <th>102</th>\n      <td>South Africa</td>\n      <td>57</td>\n    </tr>\n    <tr>\n      <th>40</th>\n      <td>Germany</td>\n      <td>50</td>\n    </tr>\n    <tr>\n      <th>6</th>\n      <td>Australia</td>\n      <td>40</td>\n    </tr>\n    <tr>\n      <th>54</th>\n      <td>Israel</td>\n      <td>35</td>\n    </tr>\n    <tr>\n      <th>86</th>\n      <td>Philippines</td>\n      <td>28</td>\n    </tr>\n    <tr>\n      <th>25</th>\n      <td>Cyprus</td>\n      <td>23</td>\n    </tr>\n  </tbody>\n</table>\n</div>"
     },
     "metadata": {},
     "execution_count": 35
    }
   ],
   "source": []
  },
  {
   "source": [],
   "cell_type": "code",
   "metadata": {},
   "execution_count": 23,
   "outputs": [
    {
     "output_type": "display_data",
     "data": {
      "application/vnd.plotly.v1+json": {
       "config": {
        "plotlyServerURL": "https://plot.ly"
       },
       "data": [
        {
         "alignmentgroup": "True",
         "hovertemplate": "country=%{x}<br>user_favourites=%{y}<extra></extra>",
         "legendgroup": "",
         "marker": {
          "color": "#636efa"
         },
         "name": "",
         "offsetgroup": "",
         "orientation": "v",
         "showlegend": false,
         "textposition": "auto",
         "type": "bar",
         "x": [
          "India",
          "United States",
          "United Kingdom",
          "Canada",
          "Malaysia",
          "Hong Kong",
          "Pakistan",
          "United Arab Emirates",
          "France",
          "Sri Lanka",
          "Zimbabwe",
          "Qatar",
          "Ireland",
          "Singapore",
          "South Africa",
          "Germany",
          "Australia",
          "Israel",
          "Philippines",
          "Cyprus"
         ],
         "xaxis": "x",
         "y": [
          1108,
          396,
          202,
          159,
          157,
          138,
          120,
          101,
          95,
          89,
          76,
          69,
          64,
          61,
          57,
          50,
          40,
          35,
          28,
          23
         ],
         "yaxis": "y"
        }
       ],
       "layout": {
        "barmode": "relative",
        "legend": {
         "tracegroupgap": 0
        },
        "margin": {
         "t": 60
        },
        "template": {
         "data": {
          "bar": [
           {
            "error_x": {
             "color": "#f2f5fa"
            },
            "error_y": {
             "color": "#f2f5fa"
            },
            "marker": {
             "line": {
              "color": "rgb(17,17,17)",
              "width": 0.5
             }
            },
            "type": "bar"
           }
          ],
          "barpolar": [
           {
            "marker": {
             "line": {
              "color": "rgb(17,17,17)",
              "width": 0.5
             }
            },
            "type": "barpolar"
           }
          ],
          "carpet": [
           {
            "aaxis": {
             "endlinecolor": "#A2B1C6",
             "gridcolor": "#506784",
             "linecolor": "#506784",
             "minorgridcolor": "#506784",
             "startlinecolor": "#A2B1C6"
            },
            "baxis": {
             "endlinecolor": "#A2B1C6",
             "gridcolor": "#506784",
             "linecolor": "#506784",
             "minorgridcolor": "#506784",
             "startlinecolor": "#A2B1C6"
            },
            "type": "carpet"
           }
          ],
          "choropleth": [
           {
            "colorbar": {
             "outlinewidth": 0,
             "ticks": ""
            },
            "type": "choropleth"
           }
          ],
          "contour": [
           {
            "colorbar": {
             "outlinewidth": 0,
             "ticks": ""
            },
            "colorscale": [
             [
              0,
              "#0d0887"
             ],
             [
              0.1111111111111111,
              "#46039f"
             ],
             [
              0.2222222222222222,
              "#7201a8"
             ],
             [
              0.3333333333333333,
              "#9c179e"
             ],
             [
              0.4444444444444444,
              "#bd3786"
             ],
             [
              0.5555555555555556,
              "#d8576b"
             ],
             [
              0.6666666666666666,
              "#ed7953"
             ],
             [
              0.7777777777777778,
              "#fb9f3a"
             ],
             [
              0.8888888888888888,
              "#fdca26"
             ],
             [
              1,
              "#f0f921"
             ]
            ],
            "type": "contour"
           }
          ],
          "contourcarpet": [
           {
            "colorbar": {
             "outlinewidth": 0,
             "ticks": ""
            },
            "type": "contourcarpet"
           }
          ],
          "heatmap": [
           {
            "colorbar": {
             "outlinewidth": 0,
             "ticks": ""
            },
            "colorscale": [
             [
              0,
              "#0d0887"
             ],
             [
              0.1111111111111111,
              "#46039f"
             ],
             [
              0.2222222222222222,
              "#7201a8"
             ],
             [
              0.3333333333333333,
              "#9c179e"
             ],
             [
              0.4444444444444444,
              "#bd3786"
             ],
             [
              0.5555555555555556,
              "#d8576b"
             ],
             [
              0.6666666666666666,
              "#ed7953"
             ],
             [
              0.7777777777777778,
              "#fb9f3a"
             ],
             [
              0.8888888888888888,
              "#fdca26"
             ],
             [
              1,
              "#f0f921"
             ]
            ],
            "type": "heatmap"
           }
          ],
          "heatmapgl": [
           {
            "colorbar": {
             "outlinewidth": 0,
             "ticks": ""
            },
            "colorscale": [
             [
              0,
              "#0d0887"
             ],
             [
              0.1111111111111111,
              "#46039f"
             ],
             [
              0.2222222222222222,
              "#7201a8"
             ],
             [
              0.3333333333333333,
              "#9c179e"
             ],
             [
              0.4444444444444444,
              "#bd3786"
             ],
             [
              0.5555555555555556,
              "#d8576b"
             ],
             [
              0.6666666666666666,
              "#ed7953"
             ],
             [
              0.7777777777777778,
              "#fb9f3a"
             ],
             [
              0.8888888888888888,
              "#fdca26"
             ],
             [
              1,
              "#f0f921"
             ]
            ],
            "type": "heatmapgl"
           }
          ],
          "histogram": [
           {
            "marker": {
             "colorbar": {
              "outlinewidth": 0,
              "ticks": ""
             }
            },
            "type": "histogram"
           }
          ],
          "histogram2d": [
           {
            "colorbar": {
             "outlinewidth": 0,
             "ticks": ""
            },
            "colorscale": [
             [
              0,
              "#0d0887"
             ],
             [
              0.1111111111111111,
              "#46039f"
             ],
             [
              0.2222222222222222,
              "#7201a8"
             ],
             [
              0.3333333333333333,
              "#9c179e"
             ],
             [
              0.4444444444444444,
              "#bd3786"
             ],
             [
              0.5555555555555556,
              "#d8576b"
             ],
             [
              0.6666666666666666,
              "#ed7953"
             ],
             [
              0.7777777777777778,
              "#fb9f3a"
             ],
             [
              0.8888888888888888,
              "#fdca26"
             ],
             [
              1,
              "#f0f921"
             ]
            ],
            "type": "histogram2d"
           }
          ],
          "histogram2dcontour": [
           {
            "colorbar": {
             "outlinewidth": 0,
             "ticks": ""
            },
            "colorscale": [
             [
              0,
              "#0d0887"
             ],
             [
              0.1111111111111111,
              "#46039f"
             ],
             [
              0.2222222222222222,
              "#7201a8"
             ],
             [
              0.3333333333333333,
              "#9c179e"
             ],
             [
              0.4444444444444444,
              "#bd3786"
             ],
             [
              0.5555555555555556,
              "#d8576b"
             ],
             [
              0.6666666666666666,
              "#ed7953"
             ],
             [
              0.7777777777777778,
              "#fb9f3a"
             ],
             [
              0.8888888888888888,
              "#fdca26"
             ],
             [
              1,
              "#f0f921"
             ]
            ],
            "type": "histogram2dcontour"
           }
          ],
          "mesh3d": [
           {
            "colorbar": {
             "outlinewidth": 0,
             "ticks": ""
            },
            "type": "mesh3d"
           }
          ],
          "parcoords": [
           {
            "line": {
             "colorbar": {
              "outlinewidth": 0,
              "ticks": ""
             }
            },
            "type": "parcoords"
           }
          ],
          "pie": [
           {
            "automargin": true,
            "type": "pie"
           }
          ],
          "scatter": [
           {
            "marker": {
             "line": {
              "color": "#283442"
             }
            },
            "type": "scatter"
           }
          ],
          "scatter3d": [
           {
            "line": {
             "colorbar": {
              "outlinewidth": 0,
              "ticks": ""
             }
            },
            "marker": {
             "colorbar": {
              "outlinewidth": 0,
              "ticks": ""
             }
            },
            "type": "scatter3d"
           }
          ],
          "scattercarpet": [
           {
            "marker": {
             "colorbar": {
              "outlinewidth": 0,
              "ticks": ""
             }
            },
            "type": "scattercarpet"
           }
          ],
          "scattergeo": [
           {
            "marker": {
             "colorbar": {
              "outlinewidth": 0,
              "ticks": ""
             }
            },
            "type": "scattergeo"
           }
          ],
          "scattergl": [
           {
            "marker": {
             "line": {
              "color": "#283442"
             }
            },
            "type": "scattergl"
           }
          ],
          "scattermapbox": [
           {
            "marker": {
             "colorbar": {
              "outlinewidth": 0,
              "ticks": ""
             }
            },
            "type": "scattermapbox"
           }
          ],
          "scatterpolar": [
           {
            "marker": {
             "colorbar": {
              "outlinewidth": 0,
              "ticks": ""
             }
            },
            "type": "scatterpolar"
           }
          ],
          "scatterpolargl": [
           {
            "marker": {
             "colorbar": {
              "outlinewidth": 0,
              "ticks": ""
             }
            },
            "type": "scatterpolargl"
           }
          ],
          "scatterternary": [
           {
            "marker": {
             "colorbar": {
              "outlinewidth": 0,
              "ticks": ""
             }
            },
            "type": "scatterternary"
           }
          ],
          "surface": [
           {
            "colorbar": {
             "outlinewidth": 0,
             "ticks": ""
            },
            "colorscale": [
             [
              0,
              "#0d0887"
             ],
             [
              0.1111111111111111,
              "#46039f"
             ],
             [
              0.2222222222222222,
              "#7201a8"
             ],
             [
              0.3333333333333333,
              "#9c179e"
             ],
             [
              0.4444444444444444,
              "#bd3786"
             ],
             [
              0.5555555555555556,
              "#d8576b"
             ],
             [
              0.6666666666666666,
              "#ed7953"
             ],
             [
              0.7777777777777778,
              "#fb9f3a"
             ],
             [
              0.8888888888888888,
              "#fdca26"
             ],
             [
              1,
              "#f0f921"
             ]
            ],
            "type": "surface"
           }
          ],
          "table": [
           {
            "cells": {
             "fill": {
              "color": "#506784"
             },
             "line": {
              "color": "rgb(17,17,17)"
             }
            },
            "header": {
             "fill": {
              "color": "#2a3f5f"
             },
             "line": {
              "color": "rgb(17,17,17)"
             }
            },
            "type": "table"
           }
          ]
         },
         "layout": {
          "annotationdefaults": {
           "arrowcolor": "#f2f5fa",
           "arrowhead": 0,
           "arrowwidth": 1
          },
          "autotypenumbers": "strict",
          "coloraxis": {
           "colorbar": {
            "outlinewidth": 0,
            "ticks": ""
           }
          },
          "colorscale": {
           "diverging": [
            [
             0,
             "#8e0152"
            ],
            [
             0.1,
             "#c51b7d"
            ],
            [
             0.2,
             "#de77ae"
            ],
            [
             0.3,
             "#f1b6da"
            ],
            [
             0.4,
             "#fde0ef"
            ],
            [
             0.5,
             "#f7f7f7"
            ],
            [
             0.6,
             "#e6f5d0"
            ],
            [
             0.7,
             "#b8e186"
            ],
            [
             0.8,
             "#7fbc41"
            ],
            [
             0.9,
             "#4d9221"
            ],
            [
             1,
             "#276419"
            ]
           ],
           "sequential": [
            [
             0,
             "#0d0887"
            ],
            [
             0.1111111111111111,
             "#46039f"
            ],
            [
             0.2222222222222222,
             "#7201a8"
            ],
            [
             0.3333333333333333,
             "#9c179e"
            ],
            [
             0.4444444444444444,
             "#bd3786"
            ],
            [
             0.5555555555555556,
             "#d8576b"
            ],
            [
             0.6666666666666666,
             "#ed7953"
            ],
            [
             0.7777777777777778,
             "#fb9f3a"
            ],
            [
             0.8888888888888888,
             "#fdca26"
            ],
            [
             1,
             "#f0f921"
            ]
           ],
           "sequentialminus": [
            [
             0,
             "#0d0887"
            ],
            [
             0.1111111111111111,
             "#46039f"
            ],
            [
             0.2222222222222222,
             "#7201a8"
            ],
            [
             0.3333333333333333,
             "#9c179e"
            ],
            [
             0.4444444444444444,
             "#bd3786"
            ],
            [
             0.5555555555555556,
             "#d8576b"
            ],
            [
             0.6666666666666666,
             "#ed7953"
            ],
            [
             0.7777777777777778,
             "#fb9f3a"
            ],
            [
             0.8888888888888888,
             "#fdca26"
            ],
            [
             1,
             "#f0f921"
            ]
           ]
          },
          "colorway": [
           "#636efa",
           "#EF553B",
           "#00cc96",
           "#ab63fa",
           "#FFA15A",
           "#19d3f3",
           "#FF6692",
           "#B6E880",
           "#FF97FF",
           "#FECB52"
          ],
          "font": {
           "color": "#f2f5fa"
          },
          "geo": {
           "bgcolor": "rgb(17,17,17)",
           "lakecolor": "rgb(17,17,17)",
           "landcolor": "rgb(17,17,17)",
           "showlakes": true,
           "showland": true,
           "subunitcolor": "#506784"
          },
          "hoverlabel": {
           "align": "left"
          },
          "hovermode": "closest",
          "mapbox": {
           "style": "dark"
          },
          "paper_bgcolor": "rgb(17,17,17)",
          "plot_bgcolor": "rgb(17,17,17)",
          "polar": {
           "angularaxis": {
            "gridcolor": "#506784",
            "linecolor": "#506784",
            "ticks": ""
           },
           "bgcolor": "rgb(17,17,17)",
           "radialaxis": {
            "gridcolor": "#506784",
            "linecolor": "#506784",
            "ticks": ""
           }
          },
          "scene": {
           "xaxis": {
            "backgroundcolor": "rgb(17,17,17)",
            "gridcolor": "#506784",
            "gridwidth": 2,
            "linecolor": "#506784",
            "showbackground": true,
            "ticks": "",
            "zerolinecolor": "#C8D4E3"
           },
           "yaxis": {
            "backgroundcolor": "rgb(17,17,17)",
            "gridcolor": "#506784",
            "gridwidth": 2,
            "linecolor": "#506784",
            "showbackground": true,
            "ticks": "",
            "zerolinecolor": "#C8D4E3"
           },
           "zaxis": {
            "backgroundcolor": "rgb(17,17,17)",
            "gridcolor": "#506784",
            "gridwidth": 2,
            "linecolor": "#506784",
            "showbackground": true,
            "ticks": "",
            "zerolinecolor": "#C8D4E3"
           }
          },
          "shapedefaults": {
           "line": {
            "color": "#f2f5fa"
           }
          },
          "sliderdefaults": {
           "bgcolor": "#C8D4E3",
           "bordercolor": "rgb(17,17,17)",
           "borderwidth": 1,
           "tickwidth": 0
          },
          "ternary": {
           "aaxis": {
            "gridcolor": "#506784",
            "linecolor": "#506784",
            "ticks": ""
           },
           "baxis": {
            "gridcolor": "#506784",
            "linecolor": "#506784",
            "ticks": ""
           },
           "bgcolor": "rgb(17,17,17)",
           "caxis": {
            "gridcolor": "#506784",
            "linecolor": "#506784",
            "ticks": ""
           }
          },
          "title": {
           "x": 0.05
          },
          "updatemenudefaults": {
           "bgcolor": "#506784",
           "borderwidth": 0
          },
          "xaxis": {
           "automargin": true,
           "gridcolor": "#283442",
           "linecolor": "#506784",
           "ticks": "",
           "title": {
            "standoff": 15
           },
           "zerolinecolor": "#283442",
           "zerolinewidth": 2
          },
          "yaxis": {
           "automargin": true,
           "gridcolor": "#283442",
           "linecolor": "#506784",
           "ticks": "",
           "title": {
            "standoff": 15
           },
           "zerolinecolor": "#283442",
           "zerolinewidth": 2
          }
         }
        },
        "xaxis": {
         "anchor": "y",
         "domain": [
          0,
          1
         ],
         "title": {
          "text": "country"
         }
        },
        "yaxis": {
         "anchor": "x",
         "domain": [
          0,
          1
         ],
         "title": {
          "text": "user_favourites"
         }
        }
       }
      }
     },
     "metadata": {}
    }
   ]
  },
  {
   "cell_type": "code",
   "execution_count": 33,
   "metadata": {},
   "outputs": [
    {
     "output_type": "execute_result",
     "data": {
      "text/plain": [
       "                  country  user_verified\n",
       "49                  India           1108\n",
       "116         United States            396\n",
       "115        United Kingdom            202\n",
       "20                 Canada            159\n",
       "67               Malaysia            157\n",
       "46              Hong Kong            138\n",
       "83               Pakistan            120\n",
       "114  United Arab Emirates            101\n",
       "36                 France             95\n",
       "104             Sri Lanka             89\n",
       "119              Zimbabwe             76\n",
       "89                  Qatar             69\n",
       "52                Ireland             64\n",
       "98              Singapore             61\n",
       "102          South Africa             57\n",
       "40                Germany             50\n",
       "6               Australia             40\n",
       "54                 Israel             35\n",
       "86            Philippines             28\n",
       "25                 Cyprus             23"
      ],
      "text/html": "<div>\n<style scoped>\n    .dataframe tbody tr th:only-of-type {\n        vertical-align: middle;\n    }\n\n    .dataframe tbody tr th {\n        vertical-align: top;\n    }\n\n    .dataframe thead th {\n        text-align: right;\n    }\n</style>\n<table border=\"1\" class=\"dataframe\">\n  <thead>\n    <tr style=\"text-align: right;\">\n      <th></th>\n      <th>country</th>\n      <th>user_verified</th>\n    </tr>\n  </thead>\n  <tbody>\n    <tr>\n      <th>49</th>\n      <td>India</td>\n      <td>1108</td>\n    </tr>\n    <tr>\n      <th>116</th>\n      <td>United States</td>\n      <td>396</td>\n    </tr>\n    <tr>\n      <th>115</th>\n      <td>United Kingdom</td>\n      <td>202</td>\n    </tr>\n    <tr>\n      <th>20</th>\n      <td>Canada</td>\n      <td>159</td>\n    </tr>\n    <tr>\n      <th>67</th>\n      <td>Malaysia</td>\n      <td>157</td>\n    </tr>\n    <tr>\n      <th>46</th>\n      <td>Hong Kong</td>\n      <td>138</td>\n    </tr>\n    <tr>\n      <th>83</th>\n      <td>Pakistan</td>\n      <td>120</td>\n    </tr>\n    <tr>\n      <th>114</th>\n      <td>United Arab Emirates</td>\n      <td>101</td>\n    </tr>\n    <tr>\n      <th>36</th>\n      <td>France</td>\n      <td>95</td>\n    </tr>\n    <tr>\n      <th>104</th>\n      <td>Sri Lanka</td>\n      <td>89</td>\n    </tr>\n    <tr>\n      <th>119</th>\n      <td>Zimbabwe</td>\n      <td>76</td>\n    </tr>\n    <tr>\n      <th>89</th>\n      <td>Qatar</td>\n      <td>69</td>\n    </tr>\n    <tr>\n      <th>52</th>\n      <td>Ireland</td>\n      <td>64</td>\n    </tr>\n    <tr>\n      <th>98</th>\n      <td>Singapore</td>\n      <td>61</td>\n    </tr>\n    <tr>\n      <th>102</th>\n      <td>South Africa</td>\n      <td>57</td>\n    </tr>\n    <tr>\n      <th>40</th>\n      <td>Germany</td>\n      <td>50</td>\n    </tr>\n    <tr>\n      <th>6</th>\n      <td>Australia</td>\n      <td>40</td>\n    </tr>\n    <tr>\n      <th>54</th>\n      <td>Israel</td>\n      <td>35</td>\n    </tr>\n    <tr>\n      <th>86</th>\n      <td>Philippines</td>\n      <td>28</td>\n    </tr>\n    <tr>\n      <th>25</th>\n      <td>Cyprus</td>\n      <td>23</td>\n    </tr>\n  </tbody>\n</table>\n</div>"
     },
     "metadata": {},
     "execution_count": 33
    }
   ],
   "source": []
  },
  {
   "cell_type": "code",
   "execution_count": null,
   "metadata": {},
   "outputs": [],
   "source": []
  },
  {
   "cell_type": "code",
   "execution_count": null,
   "metadata": {},
   "outputs": [],
   "source": []
  }
 ],
 "metadata": {
  "kernelspec": {
   "name": "python383jvsc74a57bd06d46af94c2bbce495f1e668725902fa517c90b1782bcfe2fce0dd9868df553d3",
   "display_name": "Python 3.8.3 64-bit (conda)"
  },
  "language_info": {
   "codemirror_mode": {
    "name": "ipython",
    "version": 3
   },
   "file_extension": ".py",
   "mimetype": "text/x-python",
   "name": "python",
   "nbconvert_exporter": "python",
   "pygments_lexer": "ipython3",
   "version": "3.8.3-final"
  }
 },
 "nbformat": 4,
 "nbformat_minor": 4
}