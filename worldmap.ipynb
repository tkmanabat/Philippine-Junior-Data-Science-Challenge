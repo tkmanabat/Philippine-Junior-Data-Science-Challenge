{
 "cells": [
  {
   "cell_type": "code",
   "execution_count": 1,
   "metadata": {},
   "outputs": [],
   "source": [
    "import pandas as pd\n",
    "import numpy as np\n",
    "import plotly.express as px\n",
    "\n",
    "locations = pd.read_excel(\"worldcities.xlsx\")\n",
    "df = pd.read_csv(\"vaccination_all_tweets.csv\")"
   ]
  },
  {
   "cell_type": "code",
   "execution_count": 2,
   "metadata": {},
   "outputs": [
    {
     "output_type": "execute_result",
     "data": {
      "text/plain": [
       "                        id                   user_name          user_location  \\\n",
       "0      1340539111971516416                  Rachel Roh  La Crescenta-Montrose   \n",
       "1      1338158543359250433                 Albert Fong          San Francisco   \n",
       "2      1337858199140118533                    eli🇱🇹🇪🇺👌               Your Bed   \n",
       "3      1337855739918835717               Charles Adler              Vancouver   \n",
       "4      1337854064604966912        Citizen News Channel                    NaN   \n",
       "...                    ...                         ...                    ...   \n",
       "40166  1373522034903420929  Stankevicius International                 Dublin   \n",
       "40167  1373517049184587776         Emanuele Capobianco                 Geneva   \n",
       "40168  1373514710033821705                          RT                    NaN   \n",
       "40169  1373512948417695746             Sunday Observer              Sri Lanka   \n",
       "40170  1373503451372552197                   M a r t í                 США 🇺🇸   \n",
       "\n",
       "                                        user_description         user_created  \\\n",
       "0      Aggregator of Asian American news; scanning di...  2009-04-08 17:52:46   \n",
       "1      Marketing dude, tech geek, heavy metal & '80s ...  2009-09-21 15:27:30   \n",
       "2                                         heil, hydra 🖐☺  2020-06-25 23:30:28   \n",
       "3      Hosting \"CharlesAdlerTonight\" Global News Radi...  2008-09-10 11:28:53   \n",
       "4      Citizen News Channel bringing you an alternati...  2020-04-23 17:58:42   \n",
       "...                                                  ...                  ...   \n",
       "40166  Professional trading consultant specializing i...  2020-06-30 12:31:42   \n",
       "40167  Director Health & Care, International Federati...  2009-04-13 09:56:49   \n",
       "40168  Freedom over censorship, truth over narrative\\...  2009-08-11 06:12:45   \n",
       "40169  Sri Lanka's oldest and the most circulated wee...  2017-02-07 02:59:59   \n",
       "40170  El meu twitter en català, des dels Estats Unit...  2014-02-09 03:41:26   \n",
       "\n",
       "       user_followers  user_friends  user_favourites  user_verified  \\\n",
       "0                 405          1692             3247          False   \n",
       "1                 834           666              178          False   \n",
       "2                  10            88              155          False   \n",
       "3               49165          3933            21853           True   \n",
       "4                 152           580             1473          False   \n",
       "...               ...           ...              ...            ...   \n",
       "40166              16             3                0          False   \n",
       "40167            3242           824             5665           True   \n",
       "40168         2996352           680             1880           True   \n",
       "40169            6590            75              455          False   \n",
       "40170              61           117               34          False   \n",
       "\n",
       "                      date                                               text  \\\n",
       "0      2020-12-20 06:06:44  Same folks said daikon paste could treat a cyt...   \n",
       "1      2020-12-13 16:27:13  While the world has been on the wrong side of ...   \n",
       "2      2020-12-12 20:33:45  #coronavirus #SputnikV #AstraZeneca #PfizerBio...   \n",
       "3      2020-12-12 20:23:59  Facts are immutable, Senator, even when you're...   \n",
       "4      2020-12-12 20:17:19  Explain to me again why we need a vaccine @Bor...   \n",
       "...                    ...                                                ...   \n",
       "40166  2021-03-21 06:29:06  Selling: #NitrileGloves, #1860 #FaceMasks, #Va...   \n",
       "40167  2021-03-21 06:09:17  Limited vaccine manufacturing capacity is a ma...   \n",
       "40168  2021-03-21 06:00:00  Trust in #AstraZeneca jab in Europe has been s...   \n",
       "40169  2021-03-21 05:53:00  State Minister of Production, Supply and Regul...   \n",
       "40170  2021-03-21 05:15:15  European micronation #SanMarino begins adminis...   \n",
       "\n",
       "                                                hashtags  \\\n",
       "0                                     ['PfizerBioNTech']   \n",
       "1                                                    NaN   \n",
       "2      ['coronavirus', 'SputnikV', 'AstraZeneca', 'Pf...   \n",
       "3                                                    NaN   \n",
       "4         ['whereareallthesickpeople', 'PfizerBioNTech']   \n",
       "...                                                  ...   \n",
       "40166  ['NitrileGloves', 'FaceMasks', 'Vaccines', 'Sp...   \n",
       "40167                                        ['covid19']   \n",
       "40168                                    ['AstraZeneca']   \n",
       "40169                                                NaN   \n",
       "40170                          ['SanMarino', 'SputnikV']   \n",
       "\n",
       "                     source  retweets  favorites  is_retweet  \n",
       "0       Twitter for Android         0          0       False  \n",
       "1           Twitter Web App         1          1       False  \n",
       "2       Twitter for Android         0          0       False  \n",
       "3           Twitter Web App       446       2129       False  \n",
       "4        Twitter for iPhone         0          0       False  \n",
       "...                     ...       ...        ...         ...  \n",
       "40166                 IFTTT         1          0       False  \n",
       "40167    Twitter for iPhone         0          2       False  \n",
       "40168  Twitter Media Studio        25         49       False  \n",
       "40169             TweetDeck         1          2       False  \n",
       "40170       Twitter Web App         0          0       False  \n",
       "\n",
       "[40171 rows x 16 columns]"
      ],
      "text/html": "<div>\n<style scoped>\n    .dataframe tbody tr th:only-of-type {\n        vertical-align: middle;\n    }\n\n    .dataframe tbody tr th {\n        vertical-align: top;\n    }\n\n    .dataframe thead th {\n        text-align: right;\n    }\n</style>\n<table border=\"1\" class=\"dataframe\">\n  <thead>\n    <tr style=\"text-align: right;\">\n      <th></th>\n      <th>id</th>\n      <th>user_name</th>\n      <th>user_location</th>\n      <th>user_description</th>\n      <th>user_created</th>\n      <th>user_followers</th>\n      <th>user_friends</th>\n      <th>user_favourites</th>\n      <th>user_verified</th>\n      <th>date</th>\n      <th>text</th>\n      <th>hashtags</th>\n      <th>source</th>\n      <th>retweets</th>\n      <th>favorites</th>\n      <th>is_retweet</th>\n    </tr>\n  </thead>\n  <tbody>\n    <tr>\n      <th>0</th>\n      <td>1340539111971516416</td>\n      <td>Rachel Roh</td>\n      <td>La Crescenta-Montrose</td>\n      <td>Aggregator of Asian American news; scanning di...</td>\n      <td>2009-04-08 17:52:46</td>\n      <td>405</td>\n      <td>1692</td>\n      <td>3247</td>\n      <td>False</td>\n      <td>2020-12-20 06:06:44</td>\n      <td>Same folks said daikon paste could treat a cyt...</td>\n      <td>['PfizerBioNTech']</td>\n      <td>Twitter for Android</td>\n      <td>0</td>\n      <td>0</td>\n      <td>False</td>\n    </tr>\n    <tr>\n      <th>1</th>\n      <td>1338158543359250433</td>\n      <td>Albert Fong</td>\n      <td>San Francisco</td>\n      <td>Marketing dude, tech geek, heavy metal &amp; '80s ...</td>\n      <td>2009-09-21 15:27:30</td>\n      <td>834</td>\n      <td>666</td>\n      <td>178</td>\n      <td>False</td>\n      <td>2020-12-13 16:27:13</td>\n      <td>While the world has been on the wrong side of ...</td>\n      <td>NaN</td>\n      <td>Twitter Web App</td>\n      <td>1</td>\n      <td>1</td>\n      <td>False</td>\n    </tr>\n    <tr>\n      <th>2</th>\n      <td>1337858199140118533</td>\n      <td>eli🇱🇹🇪🇺👌</td>\n      <td>Your Bed</td>\n      <td>heil, hydra 🖐☺</td>\n      <td>2020-06-25 23:30:28</td>\n      <td>10</td>\n      <td>88</td>\n      <td>155</td>\n      <td>False</td>\n      <td>2020-12-12 20:33:45</td>\n      <td>#coronavirus #SputnikV #AstraZeneca #PfizerBio...</td>\n      <td>['coronavirus', 'SputnikV', 'AstraZeneca', 'Pf...</td>\n      <td>Twitter for Android</td>\n      <td>0</td>\n      <td>0</td>\n      <td>False</td>\n    </tr>\n    <tr>\n      <th>3</th>\n      <td>1337855739918835717</td>\n      <td>Charles Adler</td>\n      <td>Vancouver</td>\n      <td>Hosting \"CharlesAdlerTonight\" Global News Radi...</td>\n      <td>2008-09-10 11:28:53</td>\n      <td>49165</td>\n      <td>3933</td>\n      <td>21853</td>\n      <td>True</td>\n      <td>2020-12-12 20:23:59</td>\n      <td>Facts are immutable, Senator, even when you're...</td>\n      <td>NaN</td>\n      <td>Twitter Web App</td>\n      <td>446</td>\n      <td>2129</td>\n      <td>False</td>\n    </tr>\n    <tr>\n      <th>4</th>\n      <td>1337854064604966912</td>\n      <td>Citizen News Channel</td>\n      <td>NaN</td>\n      <td>Citizen News Channel bringing you an alternati...</td>\n      <td>2020-04-23 17:58:42</td>\n      <td>152</td>\n      <td>580</td>\n      <td>1473</td>\n      <td>False</td>\n      <td>2020-12-12 20:17:19</td>\n      <td>Explain to me again why we need a vaccine @Bor...</td>\n      <td>['whereareallthesickpeople', 'PfizerBioNTech']</td>\n      <td>Twitter for iPhone</td>\n      <td>0</td>\n      <td>0</td>\n      <td>False</td>\n    </tr>\n    <tr>\n      <th>...</th>\n      <td>...</td>\n      <td>...</td>\n      <td>...</td>\n      <td>...</td>\n      <td>...</td>\n      <td>...</td>\n      <td>...</td>\n      <td>...</td>\n      <td>...</td>\n      <td>...</td>\n      <td>...</td>\n      <td>...</td>\n      <td>...</td>\n      <td>...</td>\n      <td>...</td>\n      <td>...</td>\n    </tr>\n    <tr>\n      <th>40166</th>\n      <td>1373522034903420929</td>\n      <td>Stankevicius International</td>\n      <td>Dublin</td>\n      <td>Professional trading consultant specializing i...</td>\n      <td>2020-06-30 12:31:42</td>\n      <td>16</td>\n      <td>3</td>\n      <td>0</td>\n      <td>False</td>\n      <td>2021-03-21 06:29:06</td>\n      <td>Selling: #NitrileGloves, #1860 #FaceMasks, #Va...</td>\n      <td>['NitrileGloves', 'FaceMasks', 'Vaccines', 'Sp...</td>\n      <td>IFTTT</td>\n      <td>1</td>\n      <td>0</td>\n      <td>False</td>\n    </tr>\n    <tr>\n      <th>40167</th>\n      <td>1373517049184587776</td>\n      <td>Emanuele Capobianco</td>\n      <td>Geneva</td>\n      <td>Director Health &amp; Care, International Federati...</td>\n      <td>2009-04-13 09:56:49</td>\n      <td>3242</td>\n      <td>824</td>\n      <td>5665</td>\n      <td>True</td>\n      <td>2021-03-21 06:09:17</td>\n      <td>Limited vaccine manufacturing capacity is a ma...</td>\n      <td>['covid19']</td>\n      <td>Twitter for iPhone</td>\n      <td>0</td>\n      <td>2</td>\n      <td>False</td>\n    </tr>\n    <tr>\n      <th>40168</th>\n      <td>1373514710033821705</td>\n      <td>RT</td>\n      <td>NaN</td>\n      <td>Freedom over censorship, truth over narrative\\...</td>\n      <td>2009-08-11 06:12:45</td>\n      <td>2996352</td>\n      <td>680</td>\n      <td>1880</td>\n      <td>True</td>\n      <td>2021-03-21 06:00:00</td>\n      <td>Trust in #AstraZeneca jab in Europe has been s...</td>\n      <td>['AstraZeneca']</td>\n      <td>Twitter Media Studio</td>\n      <td>25</td>\n      <td>49</td>\n      <td>False</td>\n    </tr>\n    <tr>\n      <th>40169</th>\n      <td>1373512948417695746</td>\n      <td>Sunday Observer</td>\n      <td>Sri Lanka</td>\n      <td>Sri Lanka's oldest and the most circulated wee...</td>\n      <td>2017-02-07 02:59:59</td>\n      <td>6590</td>\n      <td>75</td>\n      <td>455</td>\n      <td>False</td>\n      <td>2021-03-21 05:53:00</td>\n      <td>State Minister of Production, Supply and Regul...</td>\n      <td>NaN</td>\n      <td>TweetDeck</td>\n      <td>1</td>\n      <td>2</td>\n      <td>False</td>\n    </tr>\n    <tr>\n      <th>40170</th>\n      <td>1373503451372552197</td>\n      <td>M a r t í</td>\n      <td>США 🇺🇸</td>\n      <td>El meu twitter en català, des dels Estats Unit...</td>\n      <td>2014-02-09 03:41:26</td>\n      <td>61</td>\n      <td>117</td>\n      <td>34</td>\n      <td>False</td>\n      <td>2021-03-21 05:15:15</td>\n      <td>European micronation #SanMarino begins adminis...</td>\n      <td>['SanMarino', 'SputnikV']</td>\n      <td>Twitter Web App</td>\n      <td>0</td>\n      <td>0</td>\n      <td>False</td>\n    </tr>\n  </tbody>\n</table>\n<p>40171 rows × 16 columns</p>\n</div>"
     },
     "metadata": {},
     "execution_count": 2
    }
   ],
   "source": [
    "df['user_location'] = df['user_location'].str.split(',').str[0]\n",
    "df"
   ]
  },
  {
   "cell_type": "code",
   "execution_count": 3,
   "metadata": {},
   "outputs": [
    {
     "output_type": "execute_result",
     "data": {
      "text/plain": [
       "              city      country alpha3            province\n",
       "0            Tokyo        Japan    JPN               Tōkyō\n",
       "1          Jakarta    Indonesia    IDN             Jakarta\n",
       "2            Delhi        India    IND               Delhi\n",
       "3           Mumbai        India    IND         Mahārāshtra\n",
       "4           Manila  Philippines    PHL              Manila\n",
       "...            ...          ...    ...                 ...\n",
       "26565  Timmiarmiut    Greenland    GRL            Kujalleq\n",
       "26566  Cheremoshna      Ukraine    UKR   Kyyivs’ka Oblast’\n",
       "26567    Ambarchik       Russia    RUS    Sakha (Yakutiya)\n",
       "26568      Nordvik       Russia    RUS  Krasnoyarskiy Kray\n",
       "26569          NaN   Antarctica    ATA                 NaN\n",
       "\n",
       "[26570 rows x 4 columns]"
      ],
      "text/html": "<div>\n<style scoped>\n    .dataframe tbody tr th:only-of-type {\n        vertical-align: middle;\n    }\n\n    .dataframe tbody tr th {\n        vertical-align: top;\n    }\n\n    .dataframe thead th {\n        text-align: right;\n    }\n</style>\n<table border=\"1\" class=\"dataframe\">\n  <thead>\n    <tr style=\"text-align: right;\">\n      <th></th>\n      <th>city</th>\n      <th>country</th>\n      <th>alpha3</th>\n      <th>province</th>\n    </tr>\n  </thead>\n  <tbody>\n    <tr>\n      <th>0</th>\n      <td>Tokyo</td>\n      <td>Japan</td>\n      <td>JPN</td>\n      <td>Tōkyō</td>\n    </tr>\n    <tr>\n      <th>1</th>\n      <td>Jakarta</td>\n      <td>Indonesia</td>\n      <td>IDN</td>\n      <td>Jakarta</td>\n    </tr>\n    <tr>\n      <th>2</th>\n      <td>Delhi</td>\n      <td>India</td>\n      <td>IND</td>\n      <td>Delhi</td>\n    </tr>\n    <tr>\n      <th>3</th>\n      <td>Mumbai</td>\n      <td>India</td>\n      <td>IND</td>\n      <td>Mahārāshtra</td>\n    </tr>\n    <tr>\n      <th>4</th>\n      <td>Manila</td>\n      <td>Philippines</td>\n      <td>PHL</td>\n      <td>Manila</td>\n    </tr>\n    <tr>\n      <th>...</th>\n      <td>...</td>\n      <td>...</td>\n      <td>...</td>\n      <td>...</td>\n    </tr>\n    <tr>\n      <th>26565</th>\n      <td>Timmiarmiut</td>\n      <td>Greenland</td>\n      <td>GRL</td>\n      <td>Kujalleq</td>\n    </tr>\n    <tr>\n      <th>26566</th>\n      <td>Cheremoshna</td>\n      <td>Ukraine</td>\n      <td>UKR</td>\n      <td>Kyyivs’ka Oblast’</td>\n    </tr>\n    <tr>\n      <th>26567</th>\n      <td>Ambarchik</td>\n      <td>Russia</td>\n      <td>RUS</td>\n      <td>Sakha (Yakutiya)</td>\n    </tr>\n    <tr>\n      <th>26568</th>\n      <td>Nordvik</td>\n      <td>Russia</td>\n      <td>RUS</td>\n      <td>Krasnoyarskiy Kray</td>\n    </tr>\n    <tr>\n      <th>26569</th>\n      <td>NaN</td>\n      <td>Antarctica</td>\n      <td>ATA</td>\n      <td>NaN</td>\n    </tr>\n  </tbody>\n</table>\n<p>26570 rows × 4 columns</p>\n</div>"
     },
     "metadata": {},
     "execution_count": 3
    }
   ],
   "source": [
    "locations.drop(['city_ascii', 'lat', 'lng', 'iso2', 'capital', 'population', 'id'], inplace=True, axis=1)\n",
    "locations.columns = [\"city\", \"country\", \"alpha3\", \"province\"]\n",
    "locations"
   ]
  },
  {
   "cell_type": "code",
   "execution_count": 4,
   "metadata": {},
   "outputs": [
    {
     "output_type": "execute_result",
     "data": {
      "text/plain": [
       "                        id             user_name          user_location  \\\n",
       "0      1340539111971516416            Rachel Roh  La Crescenta-Montrose   \n",
       "1      1338158543359250433           Albert Fong          San Francisco   \n",
       "2      1337879732663160834         World Affairs          San Francisco   \n",
       "3      1337859839205109760             Alex Witt          San Francisco   \n",
       "4      1339387052027125760              SFVaughn          San Francisco   \n",
       "...                    ...                   ...                    ...   \n",
       "14566  1374713864873476100         Matthias Munz                 Lübeck   \n",
       "14567  1374449136309657607       Yussuf B Ismail                 Kiambu   \n",
       "14568  1374427474000441345  EYASE brian EYASE 🇰🇪                 Kitale   \n",
       "14569  1374030308077666311     Giuseppe Michieli                 Padova   \n",
       "14570  1373745777059708936         Alice Charles               Dunboyne   \n",
       "\n",
       "                                        user_description         user_created  \\\n",
       "0      Aggregator of Asian American news; scanning di...  2009-04-08 17:52:46   \n",
       "1      Marketing dude, tech geek, heavy metal & '80s ...  2009-09-21 15:27:30   \n",
       "2           Insight, Action, Purpose.  RT ≠ endorsement.  2009-06-09 18:35:51   \n",
       "3      Head of Finance at cLabs, shaping @CeloOrg\\nEn...  2009-04-06 03:03:52   \n",
       "4      WOOOO! @RicFlairNatrBoy  'I really don't care....  2011-05-24 17:11:37   \n",
       "...                                                  ...                  ...   \n",
       "14566  Bioinformatician / Data Scientist. Programmer....  2012-06-11 17:54:58   \n",
       "14567                 Old Twitter handle @BillowYussuf89  2021-01-29 08:22:32   \n",
       "14568  Mhandisi | Mwanamapinduzi |  PYPA Fellow 🇸🇪 | ...  2013-06-21 20:53:05   \n",
       "14569                          I will, I hope, I despair  2008-08-06 19:51:01   \n",
       "14570  Lead Cities & Real Estate @wef @Davos Chartere...  2009-04-24 19:42:33   \n",
       "\n",
       "       user_followers  user_friends  user_favourites  user_verified  \\\n",
       "0                 405          1692             3247          False   \n",
       "1                 834           666              178          False   \n",
       "2               10187          3261             3211           True   \n",
       "3                 576           286              163          False   \n",
       "4                  75           112                7          False   \n",
       "...               ...           ...              ...            ...   \n",
       "14566              81           231              526          False   \n",
       "14567            1262          2483            24500          False   \n",
       "14568           10633         10576            27936          False   \n",
       "14569             874          1123            10370          False   \n",
       "14570            3225          1879             9855          False   \n",
       "\n",
       "                      date                                               text  \\\n",
       "0      2020-12-20 06:06:44  Same folks said daikon paste could treat a cyt...   \n",
       "1      2020-12-13 16:27:13  While the world has been on the wrong side of ...   \n",
       "2      2020-12-12 21:59:19  New PODCAST: Vaccinating Our Way Out of the Pa...   \n",
       "3      2020-12-12 20:40:16  Fascinating to see how the messenger RNA vacci...   \n",
       "4      2020-12-17 01:48:52  @realDonaldTrump takes credit for the Chinese ...   \n",
       "...                    ...                                                ...   \n",
       "14566  2021-03-24 13:25:00  I think in this case, the explanation for samp...   \n",
       "14567  2021-03-23 19:53:04  Pharmacy and Poisons Board has given  emergenc...   \n",
       "14568  2021-03-23 18:27:00  The Russian #COVIDー19 vaccine #SputnikV is her...   \n",
       "14569  2021-03-22 16:08:48  #Covid19: What do we know about #SputnikV and ...   \n",
       "14570  2021-03-21 21:18:10  When will @EMA_News consider approving #Sputni...   \n",
       "\n",
       "                                                hashtags               source  \\\n",
       "0                                     ['PfizerBioNTech']  Twitter for Android   \n",
       "1                                                    NaN      Twitter Web App   \n",
       "2                                                    NaN      Twitter Web App   \n",
       "3                                                    NaN      Twitter Web App   \n",
       "4                          ['COVID19', 'PfizerBioNTech']   Twitter for iPhone   \n",
       "...                                                  ...                  ...   \n",
       "14566                                                NaN      Twitter Web App   \n",
       "14567                                                NaN  Twitter for Android   \n",
       "14568  ['COVIDー19', 'SputnikV', 'Russia', 'CovidVacci...  Twitter for Android   \n",
       "14569     ['Covid19', 'SputnikV', 'Russian', 'vaccines']            TweetDeck   \n",
       "14570                          ['SputnikV', 'Sinopharm']   Twitter for iPhone   \n",
       "\n",
       "       retweets  favorites  is_retweet        country alpha3  \n",
       "0             0          0       False  United States    USA  \n",
       "1             1          1       False  United States    USA  \n",
       "2            10         34       False  United States    USA  \n",
       "3             0          0       False  United States    USA  \n",
       "4             0          0       False  United States    USA  \n",
       "...         ...        ...         ...            ...    ...  \n",
       "14566         0          1       False        Germany    DEU  \n",
       "14567         0          0       False          Kenya    KEN  \n",
       "14568         0          3       False          Kenya    KEN  \n",
       "14569         0          0       False          Italy    ITA  \n",
       "14570         0          0       False        Ireland    IRL  \n",
       "\n",
       "[14571 rows x 18 columns]"
      ],
      "text/html": "<div>\n<style scoped>\n    .dataframe tbody tr th:only-of-type {\n        vertical-align: middle;\n    }\n\n    .dataframe tbody tr th {\n        vertical-align: top;\n    }\n\n    .dataframe thead th {\n        text-align: right;\n    }\n</style>\n<table border=\"1\" class=\"dataframe\">\n  <thead>\n    <tr style=\"text-align: right;\">\n      <th></th>\n      <th>id</th>\n      <th>user_name</th>\n      <th>user_location</th>\n      <th>user_description</th>\n      <th>user_created</th>\n      <th>user_followers</th>\n      <th>user_friends</th>\n      <th>user_favourites</th>\n      <th>user_verified</th>\n      <th>date</th>\n      <th>text</th>\n      <th>hashtags</th>\n      <th>source</th>\n      <th>retweets</th>\n      <th>favorites</th>\n      <th>is_retweet</th>\n      <th>country</th>\n      <th>alpha3</th>\n    </tr>\n  </thead>\n  <tbody>\n    <tr>\n      <th>0</th>\n      <td>1340539111971516416</td>\n      <td>Rachel Roh</td>\n      <td>La Crescenta-Montrose</td>\n      <td>Aggregator of Asian American news; scanning di...</td>\n      <td>2009-04-08 17:52:46</td>\n      <td>405</td>\n      <td>1692</td>\n      <td>3247</td>\n      <td>False</td>\n      <td>2020-12-20 06:06:44</td>\n      <td>Same folks said daikon paste could treat a cyt...</td>\n      <td>['PfizerBioNTech']</td>\n      <td>Twitter for Android</td>\n      <td>0</td>\n      <td>0</td>\n      <td>False</td>\n      <td>United States</td>\n      <td>USA</td>\n    </tr>\n    <tr>\n      <th>1</th>\n      <td>1338158543359250433</td>\n      <td>Albert Fong</td>\n      <td>San Francisco</td>\n      <td>Marketing dude, tech geek, heavy metal &amp; '80s ...</td>\n      <td>2009-09-21 15:27:30</td>\n      <td>834</td>\n      <td>666</td>\n      <td>178</td>\n      <td>False</td>\n      <td>2020-12-13 16:27:13</td>\n      <td>While the world has been on the wrong side of ...</td>\n      <td>NaN</td>\n      <td>Twitter Web App</td>\n      <td>1</td>\n      <td>1</td>\n      <td>False</td>\n      <td>United States</td>\n      <td>USA</td>\n    </tr>\n    <tr>\n      <th>2</th>\n      <td>1337879732663160834</td>\n      <td>World Affairs</td>\n      <td>San Francisco</td>\n      <td>Insight, Action, Purpose.  RT ≠ endorsement.</td>\n      <td>2009-06-09 18:35:51</td>\n      <td>10187</td>\n      <td>3261</td>\n      <td>3211</td>\n      <td>True</td>\n      <td>2020-12-12 21:59:19</td>\n      <td>New PODCAST: Vaccinating Our Way Out of the Pa...</td>\n      <td>NaN</td>\n      <td>Twitter Web App</td>\n      <td>10</td>\n      <td>34</td>\n      <td>False</td>\n      <td>United States</td>\n      <td>USA</td>\n    </tr>\n    <tr>\n      <th>3</th>\n      <td>1337859839205109760</td>\n      <td>Alex Witt</td>\n      <td>San Francisco</td>\n      <td>Head of Finance at cLabs, shaping @CeloOrg\\nEn...</td>\n      <td>2009-04-06 03:03:52</td>\n      <td>576</td>\n      <td>286</td>\n      <td>163</td>\n      <td>False</td>\n      <td>2020-12-12 20:40:16</td>\n      <td>Fascinating to see how the messenger RNA vacci...</td>\n      <td>NaN</td>\n      <td>Twitter Web App</td>\n      <td>0</td>\n      <td>0</td>\n      <td>False</td>\n      <td>United States</td>\n      <td>USA</td>\n    </tr>\n    <tr>\n      <th>4</th>\n      <td>1339387052027125760</td>\n      <td>SFVaughn</td>\n      <td>San Francisco</td>\n      <td>WOOOO! @RicFlairNatrBoy  'I really don't care....</td>\n      <td>2011-05-24 17:11:37</td>\n      <td>75</td>\n      <td>112</td>\n      <td>7</td>\n      <td>False</td>\n      <td>2020-12-17 01:48:52</td>\n      <td>@realDonaldTrump takes credit for the Chinese ...</td>\n      <td>['COVID19', 'PfizerBioNTech']</td>\n      <td>Twitter for iPhone</td>\n      <td>0</td>\n      <td>0</td>\n      <td>False</td>\n      <td>United States</td>\n      <td>USA</td>\n    </tr>\n    <tr>\n      <th>...</th>\n      <td>...</td>\n      <td>...</td>\n      <td>...</td>\n      <td>...</td>\n      <td>...</td>\n      <td>...</td>\n      <td>...</td>\n      <td>...</td>\n      <td>...</td>\n      <td>...</td>\n      <td>...</td>\n      <td>...</td>\n      <td>...</td>\n      <td>...</td>\n      <td>...</td>\n      <td>...</td>\n      <td>...</td>\n      <td>...</td>\n    </tr>\n    <tr>\n      <th>14566</th>\n      <td>1374713864873476100</td>\n      <td>Matthias Munz</td>\n      <td>Lübeck</td>\n      <td>Bioinformatician / Data Scientist. Programmer....</td>\n      <td>2012-06-11 17:54:58</td>\n      <td>81</td>\n      <td>231</td>\n      <td>526</td>\n      <td>False</td>\n      <td>2021-03-24 13:25:00</td>\n      <td>I think in this case, the explanation for samp...</td>\n      <td>NaN</td>\n      <td>Twitter Web App</td>\n      <td>0</td>\n      <td>1</td>\n      <td>False</td>\n      <td>Germany</td>\n      <td>DEU</td>\n    </tr>\n    <tr>\n      <th>14567</th>\n      <td>1374449136309657607</td>\n      <td>Yussuf B Ismail</td>\n      <td>Kiambu</td>\n      <td>Old Twitter handle @BillowYussuf89</td>\n      <td>2021-01-29 08:22:32</td>\n      <td>1262</td>\n      <td>2483</td>\n      <td>24500</td>\n      <td>False</td>\n      <td>2021-03-23 19:53:04</td>\n      <td>Pharmacy and Poisons Board has given  emergenc...</td>\n      <td>NaN</td>\n      <td>Twitter for Android</td>\n      <td>0</td>\n      <td>0</td>\n      <td>False</td>\n      <td>Kenya</td>\n      <td>KEN</td>\n    </tr>\n    <tr>\n      <th>14568</th>\n      <td>1374427474000441345</td>\n      <td>EYASE brian EYASE 🇰🇪</td>\n      <td>Kitale</td>\n      <td>Mhandisi | Mwanamapinduzi |  PYPA Fellow 🇸🇪 | ...</td>\n      <td>2013-06-21 20:53:05</td>\n      <td>10633</td>\n      <td>10576</td>\n      <td>27936</td>\n      <td>False</td>\n      <td>2021-03-23 18:27:00</td>\n      <td>The Russian #COVIDー19 vaccine #SputnikV is her...</td>\n      <td>['COVIDー19', 'SputnikV', 'Russia', 'CovidVacci...</td>\n      <td>Twitter for Android</td>\n      <td>0</td>\n      <td>3</td>\n      <td>False</td>\n      <td>Kenya</td>\n      <td>KEN</td>\n    </tr>\n    <tr>\n      <th>14569</th>\n      <td>1374030308077666311</td>\n      <td>Giuseppe Michieli</td>\n      <td>Padova</td>\n      <td>I will, I hope, I despair</td>\n      <td>2008-08-06 19:51:01</td>\n      <td>874</td>\n      <td>1123</td>\n      <td>10370</td>\n      <td>False</td>\n      <td>2021-03-22 16:08:48</td>\n      <td>#Covid19: What do we know about #SputnikV and ...</td>\n      <td>['Covid19', 'SputnikV', 'Russian', 'vaccines']</td>\n      <td>TweetDeck</td>\n      <td>0</td>\n      <td>0</td>\n      <td>False</td>\n      <td>Italy</td>\n      <td>ITA</td>\n    </tr>\n    <tr>\n      <th>14570</th>\n      <td>1373745777059708936</td>\n      <td>Alice Charles</td>\n      <td>Dunboyne</td>\n      <td>Lead Cities &amp; Real Estate @wef @Davos Chartere...</td>\n      <td>2009-04-24 19:42:33</td>\n      <td>3225</td>\n      <td>1879</td>\n      <td>9855</td>\n      <td>False</td>\n      <td>2021-03-21 21:18:10</td>\n      <td>When will @EMA_News consider approving #Sputni...</td>\n      <td>['SputnikV', 'Sinopharm']</td>\n      <td>Twitter for iPhone</td>\n      <td>0</td>\n      <td>0</td>\n      <td>False</td>\n      <td>Ireland</td>\n      <td>IRL</td>\n    </tr>\n  </tbody>\n</table>\n<p>14571 rows × 18 columns</p>\n</div>"
     },
     "metadata": {},
     "execution_count": 4
    }
   ],
   "source": [
    "city_df = df\n",
    "city_df['city'] = city_df['user_location']\n",
    "city_df = city_df.merge(locations, on=\"city\")\n",
    "city_df.drop(['city', 'province'], inplace=True, axis=1)\n",
    "city_df = city_df[city_df['user_location'].notna()]\n",
    "city_df = city_df.drop_duplicates(subset = \"id\",keep = \"first\")\n",
    "city_df = city_df.reset_index(drop=True)\n",
    "city_df"
   ]
  },
  {
   "cell_type": "code",
   "execution_count": 5,
   "metadata": {},
   "outputs": [
    {
     "output_type": "execute_result",
     "data": {
      "text/plain": [
       "                       id                     user_name user_location  \\\n",
       "0     1337852648389832708                           Dee    Birmingham   \n",
       "1     1339877456199647233                  Kathryn Gill    Birmingham   \n",
       "2     1341347758767284224                           Dee    Birmingham   \n",
       "3     1343276289051025410  khalid hasan 🌍Vaccinated C19    Birmingham   \n",
       "4     1343962802202038274               Andrew Hardaway    Birmingham   \n",
       "...                   ...                           ...           ...   \n",
       "4824  1375827939942629378                SeanEMacFadden         Sligo   \n",
       "4825  1375805804398383106                 felix michira       Mombasa   \n",
       "4826  1375398974635511808                        kilifi        Kilifi   \n",
       "4827  1374730323238424577                    rovitavare    Yogyakarta   \n",
       "4828  1374449136309657607               Yussuf B Ismail        Kiambu   \n",
       "\n",
       "                                       user_description         user_created  \\\n",
       "0     Gastroenterology trainee, Clinical Research Fe...  2020-01-26 21:43:12   \n",
       "1     Cardiothoracic ITU Nurse, dancer and musical t...  2010-10-24 14:51:33   \n",
       "2     Gastroenterology trainee, Clinical Research Fe...  2020-01-26 21:43:12   \n",
       "3     NHS Anaesthetist/teacher/learner. My tweets di...  2009-05-10 21:40:44   \n",
       "4     Assistant Professor @UABPsychiatry, neuroscien...  2013-05-18 20:09:18   \n",
       "...                                                 ...                  ...   \n",
       "4824                                            Retired  2018-10-27 11:57:00   \n",
       "4825  Always be wise wisdom is better than silver an...  2021-02-08 10:43:50   \n",
       "4826           Project trainee at Kemri - Kilifi county  2021-03-26 05:29:53   \n",
       "4827                                  Jogja Image Plaza  2011-11-01 05:19:21   \n",
       "4828                 Old Twitter handle @BillowYussuf89  2021-01-29 08:22:32   \n",
       "\n",
       "      user_followers  user_friends  user_favourites  user_verified  \\\n",
       "0                105           108              106          False   \n",
       "1                 93           173             1427          False   \n",
       "2                107           108              108          False   \n",
       "3                632          1583            11507          False   \n",
       "4               1135          1337            11258          False   \n",
       "...              ...           ...              ...            ...   \n",
       "4824              43           253             2625          False   \n",
       "4825              44           616             1412          False   \n",
       "4826               4            42               54          False   \n",
       "4827             632          2659             4345          False   \n",
       "4828            1262          2483            24500          False   \n",
       "\n",
       "                     date                                               text  \\\n",
       "0     2020-12-12 20:11:42  Does anyone have any useful advice/guidance fo...   \n",
       "1     2020-12-18 10:17:33  Had my jab of hope today! Feel so privileged t...   \n",
       "2     2020-12-22 11:40:01  I may not be eligible for the covid vaccine bu...   \n",
       "3     2020-12-27 19:23:18  Order of priority for vaccine against C19.\\n\\n...   \n",
       "4     2020-12-29 16:51:16  I'm grateful for all of the healthcare workers...   \n",
       "...                   ...                                                ...   \n",
       "4824  2021-03-27 15:11:57  #COVID19ireland  @hselive  #SputnikV #vaccine ...   \n",
       "4825  2021-03-27 13:43:59  the use of the vaccine has been approved in ke...   \n",
       "4826  2021-03-26 10:47:23  Came across this amazing finding about Sputnik...   \n",
       "4827  2021-03-24 14:30:24  #Russia is the most trusted #vaccine producer ...   \n",
       "4828  2021-03-23 19:53:04  Pharmacy and Poisons Board has given  emergenc...   \n",
       "\n",
       "                                               hashtags               source  \\\n",
       "0                                                   NaN   Twitter for iPhone   \n",
       "1                                                   NaN  Twitter for Android   \n",
       "2                                                   NaN   Twitter for iPhone   \n",
       "3     ['CovidVaccine', 'PfizerBioNTech', 'Pfizer', '...      Twitter Web App   \n",
       "4                                                   NaN  Twitter for Android   \n",
       "...                                                 ...                  ...   \n",
       "4824          ['COVID19ireland', 'SputnikV', 'vaccine']      Twitter Web App   \n",
       "4825                ['SputnikVaccineKenya', 'SputnikV']  Twitter for Android   \n",
       "4826                                                NaN   Twitter for iPhone   \n",
       "4827                  ['Russia', 'vaccine', 'SputnikV']      Twitter Web App   \n",
       "4828                                                NaN  Twitter for Android   \n",
       "\n",
       "      retweets  favorites  is_retweet         country alpha3  \n",
       "0            0          0       False  United Kingdom    GBR  \n",
       "1            0          6       False  United Kingdom    GBR  \n",
       "2            0          4       False  United Kingdom    GBR  \n",
       "3            0          0       False  United Kingdom    GBR  \n",
       "4            0         18       False  United Kingdom    GBR  \n",
       "...        ...        ...         ...             ...    ...  \n",
       "4824         1          0       False         Ireland    IRL  \n",
       "4825         0          0       False           Kenya    KEN  \n",
       "4826         0          2       False           Kenya    KEN  \n",
       "4827         0          1       False       Indonesia    IDN  \n",
       "4828         0          0       False           Kenya    KEN  \n",
       "\n",
       "[4829 rows x 18 columns]"
      ],
      "text/html": "<div>\n<style scoped>\n    .dataframe tbody tr th:only-of-type {\n        vertical-align: middle;\n    }\n\n    .dataframe tbody tr th {\n        vertical-align: top;\n    }\n\n    .dataframe thead th {\n        text-align: right;\n    }\n</style>\n<table border=\"1\" class=\"dataframe\">\n  <thead>\n    <tr style=\"text-align: right;\">\n      <th></th>\n      <th>id</th>\n      <th>user_name</th>\n      <th>user_location</th>\n      <th>user_description</th>\n      <th>user_created</th>\n      <th>user_followers</th>\n      <th>user_friends</th>\n      <th>user_favourites</th>\n      <th>user_verified</th>\n      <th>date</th>\n      <th>text</th>\n      <th>hashtags</th>\n      <th>source</th>\n      <th>retweets</th>\n      <th>favorites</th>\n      <th>is_retweet</th>\n      <th>country</th>\n      <th>alpha3</th>\n    </tr>\n  </thead>\n  <tbody>\n    <tr>\n      <th>0</th>\n      <td>1337852648389832708</td>\n      <td>Dee</td>\n      <td>Birmingham</td>\n      <td>Gastroenterology trainee, Clinical Research Fe...</td>\n      <td>2020-01-26 21:43:12</td>\n      <td>105</td>\n      <td>108</td>\n      <td>106</td>\n      <td>False</td>\n      <td>2020-12-12 20:11:42</td>\n      <td>Does anyone have any useful advice/guidance fo...</td>\n      <td>NaN</td>\n      <td>Twitter for iPhone</td>\n      <td>0</td>\n      <td>0</td>\n      <td>False</td>\n      <td>United Kingdom</td>\n      <td>GBR</td>\n    </tr>\n    <tr>\n      <th>1</th>\n      <td>1339877456199647233</td>\n      <td>Kathryn Gill</td>\n      <td>Birmingham</td>\n      <td>Cardiothoracic ITU Nurse, dancer and musical t...</td>\n      <td>2010-10-24 14:51:33</td>\n      <td>93</td>\n      <td>173</td>\n      <td>1427</td>\n      <td>False</td>\n      <td>2020-12-18 10:17:33</td>\n      <td>Had my jab of hope today! Feel so privileged t...</td>\n      <td>NaN</td>\n      <td>Twitter for Android</td>\n      <td>0</td>\n      <td>6</td>\n      <td>False</td>\n      <td>United Kingdom</td>\n      <td>GBR</td>\n    </tr>\n    <tr>\n      <th>2</th>\n      <td>1341347758767284224</td>\n      <td>Dee</td>\n      <td>Birmingham</td>\n      <td>Gastroenterology trainee, Clinical Research Fe...</td>\n      <td>2020-01-26 21:43:12</td>\n      <td>107</td>\n      <td>108</td>\n      <td>108</td>\n      <td>False</td>\n      <td>2020-12-22 11:40:01</td>\n      <td>I may not be eligible for the covid vaccine bu...</td>\n      <td>NaN</td>\n      <td>Twitter for iPhone</td>\n      <td>0</td>\n      <td>4</td>\n      <td>False</td>\n      <td>United Kingdom</td>\n      <td>GBR</td>\n    </tr>\n    <tr>\n      <th>3</th>\n      <td>1343276289051025410</td>\n      <td>khalid hasan 🌍Vaccinated C19</td>\n      <td>Birmingham</td>\n      <td>NHS Anaesthetist/teacher/learner. My tweets di...</td>\n      <td>2009-05-10 21:40:44</td>\n      <td>632</td>\n      <td>1583</td>\n      <td>11507</td>\n      <td>False</td>\n      <td>2020-12-27 19:23:18</td>\n      <td>Order of priority for vaccine against C19.\\n\\n...</td>\n      <td>['CovidVaccine', 'PfizerBioNTech', 'Pfizer', '...</td>\n      <td>Twitter Web App</td>\n      <td>0</td>\n      <td>0</td>\n      <td>False</td>\n      <td>United Kingdom</td>\n      <td>GBR</td>\n    </tr>\n    <tr>\n      <th>4</th>\n      <td>1343962802202038274</td>\n      <td>Andrew Hardaway</td>\n      <td>Birmingham</td>\n      <td>Assistant Professor @UABPsychiatry, neuroscien...</td>\n      <td>2013-05-18 20:09:18</td>\n      <td>1135</td>\n      <td>1337</td>\n      <td>11258</td>\n      <td>False</td>\n      <td>2020-12-29 16:51:16</td>\n      <td>I'm grateful for all of the healthcare workers...</td>\n      <td>NaN</td>\n      <td>Twitter for Android</td>\n      <td>0</td>\n      <td>18</td>\n      <td>False</td>\n      <td>United Kingdom</td>\n      <td>GBR</td>\n    </tr>\n    <tr>\n      <th>...</th>\n      <td>...</td>\n      <td>...</td>\n      <td>...</td>\n      <td>...</td>\n      <td>...</td>\n      <td>...</td>\n      <td>...</td>\n      <td>...</td>\n      <td>...</td>\n      <td>...</td>\n      <td>...</td>\n      <td>...</td>\n      <td>...</td>\n      <td>...</td>\n      <td>...</td>\n      <td>...</td>\n      <td>...</td>\n      <td>...</td>\n    </tr>\n    <tr>\n      <th>4824</th>\n      <td>1375827939942629378</td>\n      <td>SeanEMacFadden</td>\n      <td>Sligo</td>\n      <td>Retired</td>\n      <td>2018-10-27 11:57:00</td>\n      <td>43</td>\n      <td>253</td>\n      <td>2625</td>\n      <td>False</td>\n      <td>2021-03-27 15:11:57</td>\n      <td>#COVID19ireland  @hselive  #SputnikV #vaccine ...</td>\n      <td>['COVID19ireland', 'SputnikV', 'vaccine']</td>\n      <td>Twitter Web App</td>\n      <td>1</td>\n      <td>0</td>\n      <td>False</td>\n      <td>Ireland</td>\n      <td>IRL</td>\n    </tr>\n    <tr>\n      <th>4825</th>\n      <td>1375805804398383106</td>\n      <td>felix michira</td>\n      <td>Mombasa</td>\n      <td>Always be wise wisdom is better than silver an...</td>\n      <td>2021-02-08 10:43:50</td>\n      <td>44</td>\n      <td>616</td>\n      <td>1412</td>\n      <td>False</td>\n      <td>2021-03-27 13:43:59</td>\n      <td>the use of the vaccine has been approved in ke...</td>\n      <td>['SputnikVaccineKenya', 'SputnikV']</td>\n      <td>Twitter for Android</td>\n      <td>0</td>\n      <td>0</td>\n      <td>False</td>\n      <td>Kenya</td>\n      <td>KEN</td>\n    </tr>\n    <tr>\n      <th>4826</th>\n      <td>1375398974635511808</td>\n      <td>kilifi</td>\n      <td>Kilifi</td>\n      <td>Project trainee at Kemri - Kilifi county</td>\n      <td>2021-03-26 05:29:53</td>\n      <td>4</td>\n      <td>42</td>\n      <td>54</td>\n      <td>False</td>\n      <td>2021-03-26 10:47:23</td>\n      <td>Came across this amazing finding about Sputnik...</td>\n      <td>NaN</td>\n      <td>Twitter for iPhone</td>\n      <td>0</td>\n      <td>2</td>\n      <td>False</td>\n      <td>Kenya</td>\n      <td>KEN</td>\n    </tr>\n    <tr>\n      <th>4827</th>\n      <td>1374730323238424577</td>\n      <td>rovitavare</td>\n      <td>Yogyakarta</td>\n      <td>Jogja Image Plaza</td>\n      <td>2011-11-01 05:19:21</td>\n      <td>632</td>\n      <td>2659</td>\n      <td>4345</td>\n      <td>False</td>\n      <td>2021-03-24 14:30:24</td>\n      <td>#Russia is the most trusted #vaccine producer ...</td>\n      <td>['Russia', 'vaccine', 'SputnikV']</td>\n      <td>Twitter Web App</td>\n      <td>0</td>\n      <td>1</td>\n      <td>False</td>\n      <td>Indonesia</td>\n      <td>IDN</td>\n    </tr>\n    <tr>\n      <th>4828</th>\n      <td>1374449136309657607</td>\n      <td>Yussuf B Ismail</td>\n      <td>Kiambu</td>\n      <td>Old Twitter handle @BillowYussuf89</td>\n      <td>2021-01-29 08:22:32</td>\n      <td>1262</td>\n      <td>2483</td>\n      <td>24500</td>\n      <td>False</td>\n      <td>2021-03-23 19:53:04</td>\n      <td>Pharmacy and Poisons Board has given  emergenc...</td>\n      <td>NaN</td>\n      <td>Twitter for Android</td>\n      <td>0</td>\n      <td>0</td>\n      <td>False</td>\n      <td>Kenya</td>\n      <td>KEN</td>\n    </tr>\n  </tbody>\n</table>\n<p>4829 rows × 18 columns</p>\n</div>"
     },
     "metadata": {},
     "execution_count": 5
    }
   ],
   "source": [
    "province_df = df\n",
    "province_df['province'] = province_df['user_location']\n",
    "province_df = province_df.merge(locations, on=\"province\")\n",
    "province_df.drop(['city_x', 'province', 'city_y'], inplace=True, axis=1)\n",
    "province_df = province_df[province_df['user_location'].notna()]\n",
    "province_df = province_df.drop_duplicates(subset = \"id\",keep = \"first\")\n",
    "province_df = province_df.reset_index(drop=True)\n",
    "province_df"
   ]
  },
  {
   "cell_type": "code",
   "execution_count": 6,
   "metadata": {},
   "outputs": [
    {
     "output_type": "execute_result",
     "data": {
      "text/plain": [
       "                       id                  user_name user_location  \\\n",
       "0     1337851215875608579          Gunther Fehlinger       Austria   \n",
       "1     1341289705703391232       Stef Antonik-Seidler       Austria   \n",
       "2     1347978483713110019         Werner Hochleitner       Austria   \n",
       "3     1349429240689778688               Simon Sprott       Austria   \n",
       "4     1350117777735110656               Simon Sprott       Austria   \n",
       "...                   ...                        ...           ...   \n",
       "3748  1375064010501066753                The General       Namibia   \n",
       "3749  1373496087420547074  Daily Ummah International        Turkey   \n",
       "3750  1375193209056464904            Ruslan Skokliev       Moldova   \n",
       "3751  1374438996990775310                marcosecchi      Slovenia   \n",
       "3752  1374011935000297473                marcosecchi      Slovenia   \n",
       "\n",
       "                                       user_description         user_created  \\\n",
       "0     End North Stream 2 now - the pipeline of corru...  2013-06-10 17:49:22   \n",
       "1     🌳💚❄🏳️‍🌈 OK with he/him, ✒: https://t.co/1kNRUc...  2013-04-24 14:37:34   \n",
       "2     Entrepreneur, Author and Speaker. Currently wo...  2016-10-13 10:45:39   \n",
       "3     Work fast | Have fun | #StaySafe | Never give ...  2011-05-03 14:57:11   \n",
       "4     Work fast | Have fun | #StaySafe | Never give ...  2011-05-03 14:57:11   \n",
       "...                                                 ...                  ...   \n",
       "3748  Manchester United ⚽️| I Am Good But I Am Not A...  2012-03-18 16:54:40   \n",
       "3749  Bir miladın habercisiyiz • We are the messenge...  2020-10-15 20:35:56   \n",
       "3750                   Journalist, owner @moldovalibera  2019-02-21 22:16:45   \n",
       "3751  ▸Leica Photographer @GettyImages\\n▸Fine Art & ...  2009-02-20 21:14:47   \n",
       "3752  ▸Leica Photographer @GettyImages\\n▸Fine Art & ...  2009-02-20 21:14:47   \n",
       "\n",
       "      user_followers  user_friends  user_favourites  user_verified  \\\n",
       "0               2731          5001            69344          False   \n",
       "1                226           673            16015          False   \n",
       "2               1929          1723            13339          False   \n",
       "3               1901          1838             1944          False   \n",
       "4               1905          1840             1945          False   \n",
       "...              ...           ...              ...            ...   \n",
       "3748            1629          1605             1872          False   \n",
       "3749              70             2                1          False   \n",
       "3750              28             2                1          False   \n",
       "3751           12880           894            76326           True   \n",
       "3752           12880           894            76326           True   \n",
       "\n",
       "                     date                                               text  \\\n",
       "0     2020-12-12 20:06:00  it is a bit sad to claim the fame for success ...   \n",
       "1     2020-12-22 07:49:20  Interesting tendency. Americans usually callin...   \n",
       "2     2021-01-09 18:48:09  Mr. Spocks Logik ist makellos\\n\\nMr. Spocks lo...   \n",
       "3     2021-01-13 18:52:56  Got my first #PfizerBioNTech #covid19 #vaccine...   \n",
       "4     2021-01-15 16:28:56  I know i am hard to kill but if the #PfizerBio...   \n",
       "...                   ...                                                ...   \n",
       "3748  2021-03-25 12:36:22  CDC is pulling out of vaccinations programs in...   \n",
       "3749  2021-03-21 04:46:00  #Pakistan's premier tests positive for #COVID-...   \n",
       "3750  2021-03-25 21:09:45  President of Moldova, Maia Sandu asked Russia ...   \n",
       "3751  2021-03-23 19:12:47  Sputnik V Covid vaccine 1st jab done today in ...   \n",
       "3752  2021-03-22 14:55:47  I will get the Sputnik V vaccine as well tomor...   \n",
       "\n",
       "                                               hashtags               source  \\\n",
       "0                                       ['vaccination']      Twitter Web App   \n",
       "1                                    ['PfizerBioNTech']  Twitter for Android   \n",
       "2     ['Pfizer', 'PfizerBioNTech', 'vaccine', 'Impfs...      Twitter Web App   \n",
       "3     ['PfizerBioNTech', 'covid19', 'vaccine', 'epip...   Twitter for iPhone   \n",
       "4            ['PfizerBioNTech', 'vaccine', 'allergies']   Twitter for iPhone   \n",
       "...                                                 ...                  ...   \n",
       "3748                                                NaN  Twitter for Android   \n",
       "3749    ['Pakistan', 'COVID', 'Imran', 'Khan', 'China']      Twitter Web App   \n",
       "3750                                       ['SputnikV']  Twitter for Android   \n",
       "3751        ['covid', 'vaccine', 'sputnik', 'sputnikv']       SocialPilot.co   \n",
       "3752       ['SputnikV', 'Sputnik', 'SputnikVaccinated']      Twitter Web App   \n",
       "\n",
       "      retweets  favorites  is_retweet   country alpha3  \n",
       "0            0          4       False   Austria    AUT  \n",
       "1            0          0       False   Austria    AUT  \n",
       "2            2          2       False   Austria    AUT  \n",
       "3            0          4       False   Austria    AUT  \n",
       "4            0          0       False   Austria    AUT  \n",
       "...        ...        ...         ...       ...    ...  \n",
       "3748         0          0       False   Namibia    NAM  \n",
       "3749         0          0       False    Turkey    TUR  \n",
       "3750         0          1       False   Moldova    MDA  \n",
       "3751         0          0       False  Slovenia    SVN  \n",
       "3752         0          1       False  Slovenia    SVN  \n",
       "\n",
       "[3753 rows x 18 columns]"
      ],
      "text/html": "<div>\n<style scoped>\n    .dataframe tbody tr th:only-of-type {\n        vertical-align: middle;\n    }\n\n    .dataframe tbody tr th {\n        vertical-align: top;\n    }\n\n    .dataframe thead th {\n        text-align: right;\n    }\n</style>\n<table border=\"1\" class=\"dataframe\">\n  <thead>\n    <tr style=\"text-align: right;\">\n      <th></th>\n      <th>id</th>\n      <th>user_name</th>\n      <th>user_location</th>\n      <th>user_description</th>\n      <th>user_created</th>\n      <th>user_followers</th>\n      <th>user_friends</th>\n      <th>user_favourites</th>\n      <th>user_verified</th>\n      <th>date</th>\n      <th>text</th>\n      <th>hashtags</th>\n      <th>source</th>\n      <th>retweets</th>\n      <th>favorites</th>\n      <th>is_retweet</th>\n      <th>country</th>\n      <th>alpha3</th>\n    </tr>\n  </thead>\n  <tbody>\n    <tr>\n      <th>0</th>\n      <td>1337851215875608579</td>\n      <td>Gunther Fehlinger</td>\n      <td>Austria</td>\n      <td>End North Stream 2 now - the pipeline of corru...</td>\n      <td>2013-06-10 17:49:22</td>\n      <td>2731</td>\n      <td>5001</td>\n      <td>69344</td>\n      <td>False</td>\n      <td>2020-12-12 20:06:00</td>\n      <td>it is a bit sad to claim the fame for success ...</td>\n      <td>['vaccination']</td>\n      <td>Twitter Web App</td>\n      <td>0</td>\n      <td>4</td>\n      <td>False</td>\n      <td>Austria</td>\n      <td>AUT</td>\n    </tr>\n    <tr>\n      <th>1</th>\n      <td>1341289705703391232</td>\n      <td>Stef Antonik-Seidler</td>\n      <td>Austria</td>\n      <td>🌳💚❄🏳️‍🌈 OK with he/him, ✒: https://t.co/1kNRUc...</td>\n      <td>2013-04-24 14:37:34</td>\n      <td>226</td>\n      <td>673</td>\n      <td>16015</td>\n      <td>False</td>\n      <td>2020-12-22 07:49:20</td>\n      <td>Interesting tendency. Americans usually callin...</td>\n      <td>['PfizerBioNTech']</td>\n      <td>Twitter for Android</td>\n      <td>0</td>\n      <td>0</td>\n      <td>False</td>\n      <td>Austria</td>\n      <td>AUT</td>\n    </tr>\n    <tr>\n      <th>2</th>\n      <td>1347978483713110019</td>\n      <td>Werner Hochleitner</td>\n      <td>Austria</td>\n      <td>Entrepreneur, Author and Speaker. Currently wo...</td>\n      <td>2016-10-13 10:45:39</td>\n      <td>1929</td>\n      <td>1723</td>\n      <td>13339</td>\n      <td>False</td>\n      <td>2021-01-09 18:48:09</td>\n      <td>Mr. Spocks Logik ist makellos\\n\\nMr. Spocks lo...</td>\n      <td>['Pfizer', 'PfizerBioNTech', 'vaccine', 'Impfs...</td>\n      <td>Twitter Web App</td>\n      <td>2</td>\n      <td>2</td>\n      <td>False</td>\n      <td>Austria</td>\n      <td>AUT</td>\n    </tr>\n    <tr>\n      <th>3</th>\n      <td>1349429240689778688</td>\n      <td>Simon Sprott</td>\n      <td>Austria</td>\n      <td>Work fast | Have fun | #StaySafe | Never give ...</td>\n      <td>2011-05-03 14:57:11</td>\n      <td>1901</td>\n      <td>1838</td>\n      <td>1944</td>\n      <td>False</td>\n      <td>2021-01-13 18:52:56</td>\n      <td>Got my first #PfizerBioNTech #covid19 #vaccine...</td>\n      <td>['PfizerBioNTech', 'covid19', 'vaccine', 'epip...</td>\n      <td>Twitter for iPhone</td>\n      <td>0</td>\n      <td>4</td>\n      <td>False</td>\n      <td>Austria</td>\n      <td>AUT</td>\n    </tr>\n    <tr>\n      <th>4</th>\n      <td>1350117777735110656</td>\n      <td>Simon Sprott</td>\n      <td>Austria</td>\n      <td>Work fast | Have fun | #StaySafe | Never give ...</td>\n      <td>2011-05-03 14:57:11</td>\n      <td>1905</td>\n      <td>1840</td>\n      <td>1945</td>\n      <td>False</td>\n      <td>2021-01-15 16:28:56</td>\n      <td>I know i am hard to kill but if the #PfizerBio...</td>\n      <td>['PfizerBioNTech', 'vaccine', 'allergies']</td>\n      <td>Twitter for iPhone</td>\n      <td>0</td>\n      <td>0</td>\n      <td>False</td>\n      <td>Austria</td>\n      <td>AUT</td>\n    </tr>\n    <tr>\n      <th>...</th>\n      <td>...</td>\n      <td>...</td>\n      <td>...</td>\n      <td>...</td>\n      <td>...</td>\n      <td>...</td>\n      <td>...</td>\n      <td>...</td>\n      <td>...</td>\n      <td>...</td>\n      <td>...</td>\n      <td>...</td>\n      <td>...</td>\n      <td>...</td>\n      <td>...</td>\n      <td>...</td>\n      <td>...</td>\n      <td>...</td>\n    </tr>\n    <tr>\n      <th>3748</th>\n      <td>1375064010501066753</td>\n      <td>The General</td>\n      <td>Namibia</td>\n      <td>Manchester United ⚽️| I Am Good But I Am Not A...</td>\n      <td>2012-03-18 16:54:40</td>\n      <td>1629</td>\n      <td>1605</td>\n      <td>1872</td>\n      <td>False</td>\n      <td>2021-03-25 12:36:22</td>\n      <td>CDC is pulling out of vaccinations programs in...</td>\n      <td>NaN</td>\n      <td>Twitter for Android</td>\n      <td>0</td>\n      <td>0</td>\n      <td>False</td>\n      <td>Namibia</td>\n      <td>NAM</td>\n    </tr>\n    <tr>\n      <th>3749</th>\n      <td>1373496087420547074</td>\n      <td>Daily Ummah International</td>\n      <td>Turkey</td>\n      <td>Bir miladın habercisiyiz • We are the messenge...</td>\n      <td>2020-10-15 20:35:56</td>\n      <td>70</td>\n      <td>2</td>\n      <td>1</td>\n      <td>False</td>\n      <td>2021-03-21 04:46:00</td>\n      <td>#Pakistan's premier tests positive for #COVID-...</td>\n      <td>['Pakistan', 'COVID', 'Imran', 'Khan', 'China']</td>\n      <td>Twitter Web App</td>\n      <td>0</td>\n      <td>0</td>\n      <td>False</td>\n      <td>Turkey</td>\n      <td>TUR</td>\n    </tr>\n    <tr>\n      <th>3750</th>\n      <td>1375193209056464904</td>\n      <td>Ruslan Skokliev</td>\n      <td>Moldova</td>\n      <td>Journalist, owner @moldovalibera</td>\n      <td>2019-02-21 22:16:45</td>\n      <td>28</td>\n      <td>2</td>\n      <td>1</td>\n      <td>False</td>\n      <td>2021-03-25 21:09:45</td>\n      <td>President of Moldova, Maia Sandu asked Russia ...</td>\n      <td>['SputnikV']</td>\n      <td>Twitter for Android</td>\n      <td>0</td>\n      <td>1</td>\n      <td>False</td>\n      <td>Moldova</td>\n      <td>MDA</td>\n    </tr>\n    <tr>\n      <th>3751</th>\n      <td>1374438996990775310</td>\n      <td>marcosecchi</td>\n      <td>Slovenia</td>\n      <td>▸Leica Photographer @GettyImages\\n▸Fine Art &amp; ...</td>\n      <td>2009-02-20 21:14:47</td>\n      <td>12880</td>\n      <td>894</td>\n      <td>76326</td>\n      <td>True</td>\n      <td>2021-03-23 19:12:47</td>\n      <td>Sputnik V Covid vaccine 1st jab done today in ...</td>\n      <td>['covid', 'vaccine', 'sputnik', 'sputnikv']</td>\n      <td>SocialPilot.co</td>\n      <td>0</td>\n      <td>0</td>\n      <td>False</td>\n      <td>Slovenia</td>\n      <td>SVN</td>\n    </tr>\n    <tr>\n      <th>3752</th>\n      <td>1374011935000297473</td>\n      <td>marcosecchi</td>\n      <td>Slovenia</td>\n      <td>▸Leica Photographer @GettyImages\\n▸Fine Art &amp; ...</td>\n      <td>2009-02-20 21:14:47</td>\n      <td>12880</td>\n      <td>894</td>\n      <td>76326</td>\n      <td>True</td>\n      <td>2021-03-22 14:55:47</td>\n      <td>I will get the Sputnik V vaccine as well tomor...</td>\n      <td>['SputnikV', 'Sputnik', 'SputnikVaccinated']</td>\n      <td>Twitter Web App</td>\n      <td>0</td>\n      <td>1</td>\n      <td>False</td>\n      <td>Slovenia</td>\n      <td>SVN</td>\n    </tr>\n  </tbody>\n</table>\n<p>3753 rows × 18 columns</p>\n</div>"
     },
     "metadata": {},
     "execution_count": 6
    }
   ],
   "source": [
    "country_df = df\n",
    "country_df['country'] = country_df['user_location']\n",
    "country_df = country_df.merge(locations, on=\"country\")\n",
    "country_df.drop(['city_x', 'province_x', 'city_y', 'province_y'], inplace=True, axis=1)\n",
    "country_df = country_df[country_df['user_location'].notna()]\n",
    "country_df = country_df.drop_duplicates(subset = \"id\",keep = \"first\")\n",
    "country_df = country_df.reset_index(drop=True)\n",
    "country_df"
   ]
  },
  {
   "cell_type": "code",
   "execution_count": 7,
   "metadata": {},
   "outputs": [
    {
     "output_type": "execute_result",
     "data": {
      "text/plain": [
       "                        id                  user_name          user_location  \\\n",
       "0      1340539111971516416                 Rachel Roh  La Crescenta-Montrose   \n",
       "1      1338158543359250433                Albert Fong          San Francisco   \n",
       "2      1337879732663160834              World Affairs          San Francisco   \n",
       "3      1337859839205109760                  Alex Witt          San Francisco   \n",
       "4      1339387052027125760                   SFVaughn          San Francisco   \n",
       "...                    ...                        ...                    ...   \n",
       "19186  1375064010501066753                The General                Namibia   \n",
       "19187  1373496087420547074  Daily Ummah International                 Turkey   \n",
       "19188  1375193209056464904            Ruslan Skokliev                Moldova   \n",
       "19189  1374438996990775310                marcosecchi               Slovenia   \n",
       "19190  1374011935000297473                marcosecchi               Slovenia   \n",
       "\n",
       "                                        user_description         user_created  \\\n",
       "0      Aggregator of Asian American news; scanning di...  2009-04-08 17:52:46   \n",
       "1      Marketing dude, tech geek, heavy metal & '80s ...  2009-09-21 15:27:30   \n",
       "2           Insight, Action, Purpose.  RT ≠ endorsement.  2009-06-09 18:35:51   \n",
       "3      Head of Finance at cLabs, shaping @CeloOrg\\nEn...  2009-04-06 03:03:52   \n",
       "4      WOOOO! @RicFlairNatrBoy  'I really don't care....  2011-05-24 17:11:37   \n",
       "...                                                  ...                  ...   \n",
       "19186  Manchester United ⚽️| I Am Good But I Am Not A...  2012-03-18 16:54:40   \n",
       "19187  Bir miladın habercisiyiz • We are the messenge...  2020-10-15 20:35:56   \n",
       "19188                   Journalist, owner @moldovalibera  2019-02-21 22:16:45   \n",
       "19189  ▸Leica Photographer @GettyImages\\n▸Fine Art & ...  2009-02-20 21:14:47   \n",
       "19190  ▸Leica Photographer @GettyImages\\n▸Fine Art & ...  2009-02-20 21:14:47   \n",
       "\n",
       "       user_followers  user_friends  user_favourites  user_verified  \\\n",
       "0                 405          1692             3247          False   \n",
       "1                 834           666              178          False   \n",
       "2               10187          3261             3211           True   \n",
       "3                 576           286              163          False   \n",
       "4                  75           112                7          False   \n",
       "...               ...           ...              ...            ...   \n",
       "19186            1629          1605             1872          False   \n",
       "19187              70             2                1          False   \n",
       "19188              28             2                1          False   \n",
       "19189           12880           894            76326           True   \n",
       "19190           12880           894            76326           True   \n",
       "\n",
       "                      date                                               text  \\\n",
       "0      2020-12-20 06:06:44  Same folks said daikon paste could treat a cyt...   \n",
       "1      2020-12-13 16:27:13  While the world has been on the wrong side of ...   \n",
       "2      2020-12-12 21:59:19  New PODCAST: Vaccinating Our Way Out of the Pa...   \n",
       "3      2020-12-12 20:40:16  Fascinating to see how the messenger RNA vacci...   \n",
       "4      2020-12-17 01:48:52  @realDonaldTrump takes credit for the Chinese ...   \n",
       "...                    ...                                                ...   \n",
       "19186  2021-03-25 12:36:22  CDC is pulling out of vaccinations programs in...   \n",
       "19187  2021-03-21 04:46:00  #Pakistan's premier tests positive for #COVID-...   \n",
       "19188  2021-03-25 21:09:45  President of Moldova, Maia Sandu asked Russia ...   \n",
       "19189  2021-03-23 19:12:47  Sputnik V Covid vaccine 1st jab done today in ...   \n",
       "19190  2021-03-22 14:55:47  I will get the Sputnik V vaccine as well tomor...   \n",
       "\n",
       "                                              hashtags               source  \\\n",
       "0                                   ['PfizerBioNTech']  Twitter for Android   \n",
       "1                                                  NaN      Twitter Web App   \n",
       "2                                                  NaN      Twitter Web App   \n",
       "3                                                  NaN      Twitter Web App   \n",
       "4                        ['COVID19', 'PfizerBioNTech']   Twitter for iPhone   \n",
       "...                                                ...                  ...   \n",
       "19186                                              NaN  Twitter for Android   \n",
       "19187  ['Pakistan', 'COVID', 'Imran', 'Khan', 'China']      Twitter Web App   \n",
       "19188                                     ['SputnikV']  Twitter for Android   \n",
       "19189      ['covid', 'vaccine', 'sputnik', 'sputnikv']       SocialPilot.co   \n",
       "19190     ['SputnikV', 'Sputnik', 'SputnikVaccinated']      Twitter Web App   \n",
       "\n",
       "       retweets  favorites  is_retweet        country alpha3  \n",
       "0             0          0       False  United States    USA  \n",
       "1             1          1       False  United States    USA  \n",
       "2            10         34       False  United States    USA  \n",
       "3             0          0       False  United States    USA  \n",
       "4             0          0       False  United States    USA  \n",
       "...         ...        ...         ...            ...    ...  \n",
       "19186         0          0       False        Namibia    NAM  \n",
       "19187         0          0       False         Turkey    TUR  \n",
       "19188         0          1       False        Moldova    MDA  \n",
       "19189         0          0       False       Slovenia    SVN  \n",
       "19190         0          1       False       Slovenia    SVN  \n",
       "\n",
       "[19191 rows x 18 columns]"
      ],
      "text/html": "<div>\n<style scoped>\n    .dataframe tbody tr th:only-of-type {\n        vertical-align: middle;\n    }\n\n    .dataframe tbody tr th {\n        vertical-align: top;\n    }\n\n    .dataframe thead th {\n        text-align: right;\n    }\n</style>\n<table border=\"1\" class=\"dataframe\">\n  <thead>\n    <tr style=\"text-align: right;\">\n      <th></th>\n      <th>id</th>\n      <th>user_name</th>\n      <th>user_location</th>\n      <th>user_description</th>\n      <th>user_created</th>\n      <th>user_followers</th>\n      <th>user_friends</th>\n      <th>user_favourites</th>\n      <th>user_verified</th>\n      <th>date</th>\n      <th>text</th>\n      <th>hashtags</th>\n      <th>source</th>\n      <th>retweets</th>\n      <th>favorites</th>\n      <th>is_retweet</th>\n      <th>country</th>\n      <th>alpha3</th>\n    </tr>\n  </thead>\n  <tbody>\n    <tr>\n      <th>0</th>\n      <td>1340539111971516416</td>\n      <td>Rachel Roh</td>\n      <td>La Crescenta-Montrose</td>\n      <td>Aggregator of Asian American news; scanning di...</td>\n      <td>2009-04-08 17:52:46</td>\n      <td>405</td>\n      <td>1692</td>\n      <td>3247</td>\n      <td>False</td>\n      <td>2020-12-20 06:06:44</td>\n      <td>Same folks said daikon paste could treat a cyt...</td>\n      <td>['PfizerBioNTech']</td>\n      <td>Twitter for Android</td>\n      <td>0</td>\n      <td>0</td>\n      <td>False</td>\n      <td>United States</td>\n      <td>USA</td>\n    </tr>\n    <tr>\n      <th>1</th>\n      <td>1338158543359250433</td>\n      <td>Albert Fong</td>\n      <td>San Francisco</td>\n      <td>Marketing dude, tech geek, heavy metal &amp; '80s ...</td>\n      <td>2009-09-21 15:27:30</td>\n      <td>834</td>\n      <td>666</td>\n      <td>178</td>\n      <td>False</td>\n      <td>2020-12-13 16:27:13</td>\n      <td>While the world has been on the wrong side of ...</td>\n      <td>NaN</td>\n      <td>Twitter Web App</td>\n      <td>1</td>\n      <td>1</td>\n      <td>False</td>\n      <td>United States</td>\n      <td>USA</td>\n    </tr>\n    <tr>\n      <th>2</th>\n      <td>1337879732663160834</td>\n      <td>World Affairs</td>\n      <td>San Francisco</td>\n      <td>Insight, Action, Purpose.  RT ≠ endorsement.</td>\n      <td>2009-06-09 18:35:51</td>\n      <td>10187</td>\n      <td>3261</td>\n      <td>3211</td>\n      <td>True</td>\n      <td>2020-12-12 21:59:19</td>\n      <td>New PODCAST: Vaccinating Our Way Out of the Pa...</td>\n      <td>NaN</td>\n      <td>Twitter Web App</td>\n      <td>10</td>\n      <td>34</td>\n      <td>False</td>\n      <td>United States</td>\n      <td>USA</td>\n    </tr>\n    <tr>\n      <th>3</th>\n      <td>1337859839205109760</td>\n      <td>Alex Witt</td>\n      <td>San Francisco</td>\n      <td>Head of Finance at cLabs, shaping @CeloOrg\\nEn...</td>\n      <td>2009-04-06 03:03:52</td>\n      <td>576</td>\n      <td>286</td>\n      <td>163</td>\n      <td>False</td>\n      <td>2020-12-12 20:40:16</td>\n      <td>Fascinating to see how the messenger RNA vacci...</td>\n      <td>NaN</td>\n      <td>Twitter Web App</td>\n      <td>0</td>\n      <td>0</td>\n      <td>False</td>\n      <td>United States</td>\n      <td>USA</td>\n    </tr>\n    <tr>\n      <th>4</th>\n      <td>1339387052027125760</td>\n      <td>SFVaughn</td>\n      <td>San Francisco</td>\n      <td>WOOOO! @RicFlairNatrBoy  'I really don't care....</td>\n      <td>2011-05-24 17:11:37</td>\n      <td>75</td>\n      <td>112</td>\n      <td>7</td>\n      <td>False</td>\n      <td>2020-12-17 01:48:52</td>\n      <td>@realDonaldTrump takes credit for the Chinese ...</td>\n      <td>['COVID19', 'PfizerBioNTech']</td>\n      <td>Twitter for iPhone</td>\n      <td>0</td>\n      <td>0</td>\n      <td>False</td>\n      <td>United States</td>\n      <td>USA</td>\n    </tr>\n    <tr>\n      <th>...</th>\n      <td>...</td>\n      <td>...</td>\n      <td>...</td>\n      <td>...</td>\n      <td>...</td>\n      <td>...</td>\n      <td>...</td>\n      <td>...</td>\n      <td>...</td>\n      <td>...</td>\n      <td>...</td>\n      <td>...</td>\n      <td>...</td>\n      <td>...</td>\n      <td>...</td>\n      <td>...</td>\n      <td>...</td>\n      <td>...</td>\n    </tr>\n    <tr>\n      <th>19186</th>\n      <td>1375064010501066753</td>\n      <td>The General</td>\n      <td>Namibia</td>\n      <td>Manchester United ⚽️| I Am Good But I Am Not A...</td>\n      <td>2012-03-18 16:54:40</td>\n      <td>1629</td>\n      <td>1605</td>\n      <td>1872</td>\n      <td>False</td>\n      <td>2021-03-25 12:36:22</td>\n      <td>CDC is pulling out of vaccinations programs in...</td>\n      <td>NaN</td>\n      <td>Twitter for Android</td>\n      <td>0</td>\n      <td>0</td>\n      <td>False</td>\n      <td>Namibia</td>\n      <td>NAM</td>\n    </tr>\n    <tr>\n      <th>19187</th>\n      <td>1373496087420547074</td>\n      <td>Daily Ummah International</td>\n      <td>Turkey</td>\n      <td>Bir miladın habercisiyiz • We are the messenge...</td>\n      <td>2020-10-15 20:35:56</td>\n      <td>70</td>\n      <td>2</td>\n      <td>1</td>\n      <td>False</td>\n      <td>2021-03-21 04:46:00</td>\n      <td>#Pakistan's premier tests positive for #COVID-...</td>\n      <td>['Pakistan', 'COVID', 'Imran', 'Khan', 'China']</td>\n      <td>Twitter Web App</td>\n      <td>0</td>\n      <td>0</td>\n      <td>False</td>\n      <td>Turkey</td>\n      <td>TUR</td>\n    </tr>\n    <tr>\n      <th>19188</th>\n      <td>1375193209056464904</td>\n      <td>Ruslan Skokliev</td>\n      <td>Moldova</td>\n      <td>Journalist, owner @moldovalibera</td>\n      <td>2019-02-21 22:16:45</td>\n      <td>28</td>\n      <td>2</td>\n      <td>1</td>\n      <td>False</td>\n      <td>2021-03-25 21:09:45</td>\n      <td>President of Moldova, Maia Sandu asked Russia ...</td>\n      <td>['SputnikV']</td>\n      <td>Twitter for Android</td>\n      <td>0</td>\n      <td>1</td>\n      <td>False</td>\n      <td>Moldova</td>\n      <td>MDA</td>\n    </tr>\n    <tr>\n      <th>19189</th>\n      <td>1374438996990775310</td>\n      <td>marcosecchi</td>\n      <td>Slovenia</td>\n      <td>▸Leica Photographer @GettyImages\\n▸Fine Art &amp; ...</td>\n      <td>2009-02-20 21:14:47</td>\n      <td>12880</td>\n      <td>894</td>\n      <td>76326</td>\n      <td>True</td>\n      <td>2021-03-23 19:12:47</td>\n      <td>Sputnik V Covid vaccine 1st jab done today in ...</td>\n      <td>['covid', 'vaccine', 'sputnik', 'sputnikv']</td>\n      <td>SocialPilot.co</td>\n      <td>0</td>\n      <td>0</td>\n      <td>False</td>\n      <td>Slovenia</td>\n      <td>SVN</td>\n    </tr>\n    <tr>\n      <th>19190</th>\n      <td>1374011935000297473</td>\n      <td>marcosecchi</td>\n      <td>Slovenia</td>\n      <td>▸Leica Photographer @GettyImages\\n▸Fine Art &amp; ...</td>\n      <td>2009-02-20 21:14:47</td>\n      <td>12880</td>\n      <td>894</td>\n      <td>76326</td>\n      <td>True</td>\n      <td>2021-03-22 14:55:47</td>\n      <td>I will get the Sputnik V vaccine as well tomor...</td>\n      <td>['SputnikV', 'Sputnik', 'SputnikVaccinated']</td>\n      <td>Twitter Web App</td>\n      <td>0</td>\n      <td>1</td>\n      <td>False</td>\n      <td>Slovenia</td>\n      <td>SVN</td>\n    </tr>\n  </tbody>\n</table>\n<p>19191 rows × 18 columns</p>\n</div>"
     },
     "metadata": {},
     "execution_count": 7
    }
   ],
   "source": [
    "world_df = city_df.append(province_df)\n",
    "world_df = world_df.append(country_df)\n",
    "world_df = world_df.drop_duplicates(subset = \"id\",keep = \"first\")\n",
    "world_df = world_df.reset_index(drop=True)\n",
    "world_df"
   ]
  },
  {
   "cell_type": "code",
   "execution_count": 8,
   "metadata": {},
   "outputs": [],
   "source": []
  },
  {
   "cell_type": "code",
   "execution_count": 13,
   "metadata": {},
   "outputs": [
    {
     "output_type": "execute_result",
     "data": {
      "text/plain": [
       "           country  tweets\n",
       "0      Afghanistan       5\n",
       "1          Albania      17\n",
       "2          Algeria       3\n",
       "3       Antarctica       4\n",
       "4        Argentina     104\n",
       "..             ...     ...\n",
       "142  United States    6284\n",
       "143     Uzbekistan       1\n",
       "144      Venezuela      18\n",
       "145        Vietnam       6\n",
       "146       Zimbabwe     202\n",
       "\n",
       "[147 rows x 2 columns]"
      ],
      "text/html": "<div>\n<style scoped>\n    .dataframe tbody tr th:only-of-type {\n        vertical-align: middle;\n    }\n\n    .dataframe tbody tr th {\n        vertical-align: top;\n    }\n\n    .dataframe thead th {\n        text-align: right;\n    }\n</style>\n<table border=\"1\" class=\"dataframe\">\n  <thead>\n    <tr style=\"text-align: right;\">\n      <th></th>\n      <th>country</th>\n      <th>tweets</th>\n    </tr>\n  </thead>\n  <tbody>\n    <tr>\n      <th>0</th>\n      <td>Afghanistan</td>\n      <td>5</td>\n    </tr>\n    <tr>\n      <th>1</th>\n      <td>Albania</td>\n      <td>17</td>\n    </tr>\n    <tr>\n      <th>2</th>\n      <td>Algeria</td>\n      <td>3</td>\n    </tr>\n    <tr>\n      <th>3</th>\n      <td>Antarctica</td>\n      <td>4</td>\n    </tr>\n    <tr>\n      <th>4</th>\n      <td>Argentina</td>\n      <td>104</td>\n    </tr>\n    <tr>\n      <th>...</th>\n      <td>...</td>\n      <td>...</td>\n    </tr>\n    <tr>\n      <th>142</th>\n      <td>United States</td>\n      <td>6284</td>\n    </tr>\n    <tr>\n      <th>143</th>\n      <td>Uzbekistan</td>\n      <td>1</td>\n    </tr>\n    <tr>\n      <th>144</th>\n      <td>Venezuela</td>\n      <td>18</td>\n    </tr>\n    <tr>\n      <th>145</th>\n      <td>Vietnam</td>\n      <td>6</td>\n    </tr>\n    <tr>\n      <th>146</th>\n      <td>Zimbabwe</td>\n      <td>202</td>\n    </tr>\n  </tbody>\n</table>\n<p>147 rows × 2 columns</p>\n</div>"
     },
     "metadata": {},
     "execution_count": 13
    }
   ],
   "source": [
    "tw_add_df = world_df.groupby(\"country\")['text'].count().reset_index()\n",
    "tw_add_df.columns = [\"country\",\"tweets\"]\n",
    "tw_add_df"
   ]
  },
  {
   "cell_type": "code",
   "execution_count": 14,
   "metadata": {},
   "outputs": [],
   "source": [
    "tw_add_df.to_excel(\"for-world-map.xlsx\")"
   ]
  },
  {
   "cell_type": "code",
   "execution_count": 10,
   "metadata": {},
   "outputs": [],
   "source": [
    "def plot_map(dd_df, title):\n",
    "    hover_text = []\n",
    "    for index, row in dd_df.iterrows():\n",
    "        hover_text.append((f\"country: {row['country']}<br>tweets: {row['tweets']}\"))\n",
    "    dd_df['hover_text'] = hover_text\n",
    "\n",
    "    fig = px.choropleth(dd_df, \n",
    "                        locations=\"alpha3\",\n",
    "                        hover_name='hover_text',\n",
    "                        color=\"tweets\",\n",
    "                        projection=\"natural earth\",\n",
    "                        color_continuous_scale=px.colors.sequential.Plasma,\n",
    "                        width=900, height=700)\n",
    "    fig.update_geos(   \n",
    "        showcoastlines=True, coastlinecolor=\"DarkBlue\",\n",
    "        showland=True, landcolor=\"LightGrey\",\n",
    "        showocean=True, oceancolor=\"LightBlue\",\n",
    "        showlakes=True, lakecolor=\"Blue\",\n",
    "        showrivers=True, rivercolor=\"Blue\",\n",
    "        showcountries=True, countrycolor=\"DarkBlue\"\n",
    "    )\n",
    "    fig.update_layout(title = title, geo_scope=\"world\")\n",
    "    fig.show()"
   ]
  },
  {
   "cell_type": "code",
   "execution_count": 11,
   "metadata": {},
   "outputs": [
    {
     "output_type": "stream",
     "name": "stdout",
     "text": [
      "tweets containing country information: 19191\ntweets containing country information; distinct countries: 147\n"
     ]
    }
   ],
   "source": [
    "print(f\"tweets containing country information: {tw_add_df.tweets.sum()}\")\n",
    "print(f\"tweets containing country information; distinct countries: {tw_add_df.country.shape[0]}\")"
   ]
  },
  {
   "cell_type": "code",
   "execution_count": 12,
   "metadata": {},
   "outputs": [
    {
     "output_type": "display_data",
     "data": {
      "application/vnd.plotly.v1+json": {
       "config": {
        "plotlyServerURL": "https://plot.ly"
       },
       "data": [
        {
         "coloraxis": "coloraxis",
         "geo": "geo",
         "hovertemplate": "<b>%{hovertext}</b><br><br>alpha3=%{location}<br>tweets=%{z}<extra></extra>",
         "hovertext": [
          "country: Afghanistan<br>tweets: 5",
          "country: Albania<br>tweets: 17",
          "country: Algeria<br>tweets: 3",
          "country: Antarctica<br>tweets: 4",
          "country: Argentina<br>tweets: 104",
          "country: Australia<br>tweets: 161",
          "country: Austria<br>tweets: 78",
          "country: Azerbaijan<br>tweets: 9",
          "country: Bahamas, The<br>tweets: 1",
          "country: Bahrain<br>tweets: 12",
          "country: Bangladesh<br>tweets: 49",
          "country: Barbados<br>tweets: 2",
          "country: Belarus<br>tweets: 1",
          "country: Belgium<br>tweets: 187",
          "country: Bolivia<br>tweets: 4",
          "country: Botswana<br>tweets: 33",
          "country: Brazil<br>tweets: 135",
          "country: Bulgaria<br>tweets: 7",
          "country: Burkina Faso<br>tweets: 2",
          "country: Burma<br>tweets: 1",
          "country: Cambodia<br>tweets: 56",
          "country: Cameroon<br>tweets: 2",
          "country: Canada<br>tweets: 1578",
          "country: Cayman Islands<br>tweets: 1",
          "country: Chile<br>tweets: 20",
          "country: China<br>tweets: 810",
          "country: Colombia<br>tweets: 13",
          "country: Congo (Brazzaville)<br>tweets: 1",
          "country: Congo (Kinshasa)<br>tweets: 2",
          "country: Croatia<br>tweets: 5",
          "country: Cuba<br>tweets: 3",
          "country: Cyprus<br>tweets: 28",
          "country: Czechia<br>tweets: 48",
          "country: Denmark<br>tweets: 27",
          "country: Dominica<br>tweets: 1",
          "country: Dominican Republic<br>tweets: 2",
          "country: Ecuador<br>tweets: 7",
          "country: Egypt<br>tweets: 33",
          "country: El Salvador<br>tweets: 2",
          "country: Equatorial Guinea<br>tweets: 1",
          "country: Estonia<br>tweets: 2",
          "country: Ethiopia<br>tweets: 6",
          "country: Fiji<br>tweets: 1",
          "country: Finland<br>tweets: 25",
          "country: France<br>tweets: 185",
          "country: Gabon<br>tweets: 2",
          "country: Georgia<br>tweets: 3",
          "country: Germany<br>tweets: 225",
          "country: Ghana<br>tweets: 18",
          "country: Gibraltar<br>tweets: 4",
          "country: Greece<br>tweets: 14",
          "country: Guam<br>tweets: 4",
          "country: Guatemala<br>tweets: 1",
          "country: Guyana<br>tweets: 9",
          "country: Honduras<br>tweets: 1",
          "country: Hong Kong<br>tweets: 140",
          "country: Hungary<br>tweets: 63",
          "country: Iceland<br>tweets: 1",
          "country: India<br>tweets: 3171",
          "country: Indonesia<br>tweets: 45",
          "country: Iran<br>tweets: 25",
          "country: Iraq<br>tweets: 6",
          "country: Ireland<br>tweets: 229",
          "country: Isle Of Man<br>tweets: 4",
          "country: Israel<br>tweets: 48",
          "country: Italy<br>tweets: 76",
          "country: Jamaica<br>tweets: 14",
          "country: Japan<br>tweets: 30",
          "country: Jersey<br>tweets: 3",
          "country: Jordan<br>tweets: 4",
          "country: Kazakhstan<br>tweets: 1",
          "country: Kenya<br>tweets: 111",
          "country: Korea, North<br>tweets: 2",
          "country: Korea, South<br>tweets: 3",
          "country: Kuwait<br>tweets: 10",
          "country: Kyrgyzstan<br>tweets: 2",
          "country: Latvia<br>tweets: 1",
          "country: Lebanon<br>tweets: 13",
          "country: Liberia<br>tweets: 1",
          "country: Libya<br>tweets: 1",
          "country: Lithuania<br>tweets: 8",
          "country: Luxembourg<br>tweets: 2",
          "country: Macedonia<br>tweets: 8",
          "country: Madagascar<br>tweets: 1",
          "country: Malawi<br>tweets: 4",
          "country: Malaysia<br>tweets: 230",
          "country: Maldives<br>tweets: 21",
          "country: Mauritius<br>tweets: 13",
          "country: Mexico<br>tweets: 30",
          "country: Moldova<br>tweets: 1",
          "country: Monaco<br>tweets: 3",
          "country: Mongolia<br>tweets: 5",
          "country: Montenegro<br>tweets: 8",
          "country: Morocco<br>tweets: 2",
          "country: Mozambique<br>tweets: 7",
          "country: Namibia<br>tweets: 4",
          "country: Nepal<br>tweets: 19",
          "country: Netherlands<br>tweets: 49",
          "country: New Zealand<br>tweets: 10",
          "country: Nicaragua<br>tweets: 3",
          "country: Nigeria<br>tweets: 59",
          "country: Norway<br>tweets: 10",
          "country: Oman<br>tweets: 14",
          "country: Pakistan<br>tweets: 341",
          "country: Panama<br>tweets: 5",
          "country: Papua New Guinea<br>tweets: 4",
          "country: Paraguay<br>tweets: 6",
          "country: Peru<br>tweets: 15",
          "country: Philippines<br>tweets: 149",
          "country: Poland<br>tweets: 8",
          "country: Portugal<br>tweets: 13",
          "country: Puerto Rico<br>tweets: 14",
          "country: Qatar<br>tweets: 102",
          "country: Romania<br>tweets: 7",
          "country: Russia<br>tweets: 372",
          "country: Rwanda<br>tweets: 6",
          "country: Samoa<br>tweets: 1",
          "country: Saudi Arabia<br>tweets: 28",
          "country: Senegal<br>tweets: 2",
          "country: Serbia<br>tweets: 41",
          "country: Seychelles<br>tweets: 1",
          "country: Sierra Leone<br>tweets: 13",
          "country: Singapore<br>tweets: 64",
          "country: Slovakia<br>tweets: 36",
          "country: Slovenia<br>tweets: 4",
          "country: Somalia<br>tweets: 7",
          "country: South Africa<br>tweets: 184",
          "country: Spain<br>tweets: 31",
          "country: Sri Lanka<br>tweets: 128",
          "country: Sweden<br>tweets: 16",
          "country: Switzerland<br>tweets: 67",
          "country: Syria<br>tweets: 2",
          "country: Taiwan<br>tweets: 4",
          "country: Tanzania<br>tweets: 4",
          "country: Thailand<br>tweets: 54",
          "country: Timor-Leste<br>tweets: 2",
          "country: Tunisia<br>tweets: 19",
          "country: Turkey<br>tweets: 39",
          "country: Uganda<br>tweets: 9",
          "country: Ukraine<br>tweets: 18",
          "country: United Arab Emirates<br>tweets: 268",
          "country: United Kingdom<br>tweets: 2126",
          "country: United States<br>tweets: 6284",
          "country: Uzbekistan<br>tweets: 1",
          "country: Venezuela<br>tweets: 18",
          "country: Vietnam<br>tweets: 6",
          "country: Zimbabwe<br>tweets: 202"
         ],
         "locations": [
          "AFG",
          "ALB",
          "DZA",
          "ATA",
          "ARG",
          "AUS",
          "AUT",
          "AZE",
          "BHS",
          "BHR",
          "BGD",
          "BRB",
          "BLR",
          "BEL",
          "BOL",
          "BWA",
          "BRA",
          "BGR",
          "BFA",
          "MMR",
          "KHM",
          "CMR",
          "CAN",
          "CYM",
          "CHL",
          "CHN",
          "COL",
          "COG",
          "COD",
          "HRV",
          "CUB",
          "CYP",
          "CZE",
          "DNK",
          "DMA",
          "DOM",
          "ECU",
          "EGY",
          "SLV",
          "GNQ",
          "EST",
          "ETH",
          "FJI",
          "FIN",
          "FRA",
          "GAB",
          "GEO",
          "DEU",
          "GHA",
          "GIB",
          "GRC",
          "GUM",
          "GTM",
          "GUY",
          "HND",
          "HKG",
          "HUN",
          "ISL",
          "IND",
          "IDN",
          "IRN",
          "IRQ",
          "IRL",
          "IMN",
          "ISR",
          "ITA",
          "JAM",
          "JPN",
          "JEY",
          "JOR",
          "KAZ",
          "KEN",
          "PRK",
          "KOR",
          "KWT",
          "KGZ",
          "LVA",
          "LBN",
          "LBR",
          "LBY",
          "LTU",
          "LUX",
          "MKD",
          "MDG",
          "MWI",
          "MYS",
          "MDV",
          "MUS",
          "MEX",
          "MDA",
          "MCO",
          "MNG",
          "MNE",
          "MAR",
          "MOZ",
          "NAM",
          "NPL",
          "NLD",
          "NZL",
          "NIC",
          "NGA",
          "NOR",
          "OMN",
          "PAK",
          "PAN",
          "PNG",
          "PRY",
          "PER",
          "PHL",
          "POL",
          "PRT",
          "PRI",
          "QAT",
          "ROU",
          "RUS",
          "RWA",
          "WSM",
          "SAU",
          "SEN",
          "SRB",
          "SYC",
          "SLE",
          "SGP",
          "SVK",
          "SVN",
          "SOM",
          "ZAF",
          "ESP",
          "LKA",
          "SWE",
          "CHE",
          "SYR",
          "TWN",
          "TZA",
          "THA",
          "TLS",
          "TUN",
          "TUR",
          "UGA",
          "UKR",
          "ARE",
          "GBR",
          "USA",
          "UZB",
          "VEN",
          "VNM",
          "ZWE"
         ],
         "name": "",
         "type": "choropleth",
         "z": [
          5,
          17,
          3,
          4,
          104,
          161,
          78,
          9,
          1,
          12,
          49,
          2,
          1,
          187,
          4,
          33,
          135,
          7,
          2,
          1,
          56,
          2,
          1578,
          1,
          20,
          810,
          13,
          1,
          2,
          5,
          3,
          28,
          48,
          27,
          1,
          2,
          7,
          33,
          2,
          1,
          2,
          6,
          1,
          25,
          185,
          2,
          3,
          225,
          18,
          4,
          14,
          4,
          1,
          9,
          1,
          140,
          63,
          1,
          3171,
          45,
          25,
          6,
          229,
          4,
          48,
          76,
          14,
          30,
          3,
          4,
          1,
          111,
          2,
          3,
          10,
          2,
          1,
          13,
          1,
          1,
          8,
          2,
          8,
          1,
          4,
          230,
          21,
          13,
          30,
          1,
          3,
          5,
          8,
          2,
          7,
          4,
          19,
          49,
          10,
          3,
          59,
          10,
          14,
          341,
          5,
          4,
          6,
          15,
          149,
          8,
          13,
          14,
          102,
          7,
          372,
          6,
          1,
          28,
          2,
          41,
          1,
          13,
          64,
          36,
          4,
          7,
          184,
          31,
          128,
          16,
          67,
          2,
          4,
          4,
          54,
          2,
          19,
          39,
          9,
          18,
          268,
          2126,
          6284,
          1,
          18,
          6,
          202
         ]
        }
       ],
       "layout": {
        "coloraxis": {
         "colorbar": {
          "title": {
           "text": "tweets"
          }
         },
         "colorscale": [
          [
           0,
           "#0d0887"
          ],
          [
           0.1111111111111111,
           "#46039f"
          ],
          [
           0.2222222222222222,
           "#7201a8"
          ],
          [
           0.3333333333333333,
           "#9c179e"
          ],
          [
           0.4444444444444444,
           "#bd3786"
          ],
          [
           0.5555555555555556,
           "#d8576b"
          ],
          [
           0.6666666666666666,
           "#ed7953"
          ],
          [
           0.7777777777777778,
           "#fb9f3a"
          ],
          [
           0.8888888888888888,
           "#fdca26"
          ],
          [
           1,
           "#f0f921"
          ]
         ]
        },
        "geo": {
         "center": {},
         "coastlinecolor": "DarkBlue",
         "countrycolor": "DarkBlue",
         "domain": {
          "x": [
           0,
           1
          ],
          "y": [
           0,
           1
          ]
         },
         "lakecolor": "Blue",
         "landcolor": "LightGrey",
         "oceancolor": "LightBlue",
         "projection": {
          "type": "natural earth"
         },
         "rivercolor": "Blue",
         "scope": "world",
         "showcoastlines": true,
         "showcountries": true,
         "showlakes": true,
         "showland": true,
         "showocean": true,
         "showrivers": true
        },
        "height": 700,
        "legend": {
         "tracegroupgap": 0
        },
        "margin": {
         "t": 60
        },
        "template": {
         "data": {
          "bar": [
           {
            "error_x": {
             "color": "#2a3f5f"
            },
            "error_y": {
             "color": "#2a3f5f"
            },
            "marker": {
             "line": {
              "color": "#E5ECF6",
              "width": 0.5
             }
            },
            "type": "bar"
           }
          ],
          "barpolar": [
           {
            "marker": {
             "line": {
              "color": "#E5ECF6",
              "width": 0.5
             }
            },
            "type": "barpolar"
           }
          ],
          "carpet": [
           {
            "aaxis": {
             "endlinecolor": "#2a3f5f",
             "gridcolor": "white",
             "linecolor": "white",
             "minorgridcolor": "white",
             "startlinecolor": "#2a3f5f"
            },
            "baxis": {
             "endlinecolor": "#2a3f5f",
             "gridcolor": "white",
             "linecolor": "white",
             "minorgridcolor": "white",
             "startlinecolor": "#2a3f5f"
            },
            "type": "carpet"
           }
          ],
          "choropleth": [
           {
            "colorbar": {
             "outlinewidth": 0,
             "ticks": ""
            },
            "type": "choropleth"
           }
          ],
          "contour": [
           {
            "colorbar": {
             "outlinewidth": 0,
             "ticks": ""
            },
            "colorscale": [
             [
              0,
              "#0d0887"
             ],
             [
              0.1111111111111111,
              "#46039f"
             ],
             [
              0.2222222222222222,
              "#7201a8"
             ],
             [
              0.3333333333333333,
              "#9c179e"
             ],
             [
              0.4444444444444444,
              "#bd3786"
             ],
             [
              0.5555555555555556,
              "#d8576b"
             ],
             [
              0.6666666666666666,
              "#ed7953"
             ],
             [
              0.7777777777777778,
              "#fb9f3a"
             ],
             [
              0.8888888888888888,
              "#fdca26"
             ],
             [
              1,
              "#f0f921"
             ]
            ],
            "type": "contour"
           }
          ],
          "contourcarpet": [
           {
            "colorbar": {
             "outlinewidth": 0,
             "ticks": ""
            },
            "type": "contourcarpet"
           }
          ],
          "heatmap": [
           {
            "colorbar": {
             "outlinewidth": 0,
             "ticks": ""
            },
            "colorscale": [
             [
              0,
              "#0d0887"
             ],
             [
              0.1111111111111111,
              "#46039f"
             ],
             [
              0.2222222222222222,
              "#7201a8"
             ],
             [
              0.3333333333333333,
              "#9c179e"
             ],
             [
              0.4444444444444444,
              "#bd3786"
             ],
             [
              0.5555555555555556,
              "#d8576b"
             ],
             [
              0.6666666666666666,
              "#ed7953"
             ],
             [
              0.7777777777777778,
              "#fb9f3a"
             ],
             [
              0.8888888888888888,
              "#fdca26"
             ],
             [
              1,
              "#f0f921"
             ]
            ],
            "type": "heatmap"
           }
          ],
          "heatmapgl": [
           {
            "colorbar": {
             "outlinewidth": 0,
             "ticks": ""
            },
            "colorscale": [
             [
              0,
              "#0d0887"
             ],
             [
              0.1111111111111111,
              "#46039f"
             ],
             [
              0.2222222222222222,
              "#7201a8"
             ],
             [
              0.3333333333333333,
              "#9c179e"
             ],
             [
              0.4444444444444444,
              "#bd3786"
             ],
             [
              0.5555555555555556,
              "#d8576b"
             ],
             [
              0.6666666666666666,
              "#ed7953"
             ],
             [
              0.7777777777777778,
              "#fb9f3a"
             ],
             [
              0.8888888888888888,
              "#fdca26"
             ],
             [
              1,
              "#f0f921"
             ]
            ],
            "type": "heatmapgl"
           }
          ],
          "histogram": [
           {
            "marker": {
             "colorbar": {
              "outlinewidth": 0,
              "ticks": ""
             }
            },
            "type": "histogram"
           }
          ],
          "histogram2d": [
           {
            "colorbar": {
             "outlinewidth": 0,
             "ticks": ""
            },
            "colorscale": [
             [
              0,
              "#0d0887"
             ],
             [
              0.1111111111111111,
              "#46039f"
             ],
             [
              0.2222222222222222,
              "#7201a8"
             ],
             [
              0.3333333333333333,
              "#9c179e"
             ],
             [
              0.4444444444444444,
              "#bd3786"
             ],
             [
              0.5555555555555556,
              "#d8576b"
             ],
             [
              0.6666666666666666,
              "#ed7953"
             ],
             [
              0.7777777777777778,
              "#fb9f3a"
             ],
             [
              0.8888888888888888,
              "#fdca26"
             ],
             [
              1,
              "#f0f921"
             ]
            ],
            "type": "histogram2d"
           }
          ],
          "histogram2dcontour": [
           {
            "colorbar": {
             "outlinewidth": 0,
             "ticks": ""
            },
            "colorscale": [
             [
              0,
              "#0d0887"
             ],
             [
              0.1111111111111111,
              "#46039f"
             ],
             [
              0.2222222222222222,
              "#7201a8"
             ],
             [
              0.3333333333333333,
              "#9c179e"
             ],
             [
              0.4444444444444444,
              "#bd3786"
             ],
             [
              0.5555555555555556,
              "#d8576b"
             ],
             [
              0.6666666666666666,
              "#ed7953"
             ],
             [
              0.7777777777777778,
              "#fb9f3a"
             ],
             [
              0.8888888888888888,
              "#fdca26"
             ],
             [
              1,
              "#f0f921"
             ]
            ],
            "type": "histogram2dcontour"
           }
          ],
          "mesh3d": [
           {
            "colorbar": {
             "outlinewidth": 0,
             "ticks": ""
            },
            "type": "mesh3d"
           }
          ],
          "parcoords": [
           {
            "line": {
             "colorbar": {
              "outlinewidth": 0,
              "ticks": ""
             }
            },
            "type": "parcoords"
           }
          ],
          "pie": [
           {
            "automargin": true,
            "type": "pie"
           }
          ],
          "scatter": [
           {
            "marker": {
             "colorbar": {
              "outlinewidth": 0,
              "ticks": ""
             }
            },
            "type": "scatter"
           }
          ],
          "scatter3d": [
           {
            "line": {
             "colorbar": {
              "outlinewidth": 0,
              "ticks": ""
             }
            },
            "marker": {
             "colorbar": {
              "outlinewidth": 0,
              "ticks": ""
             }
            },
            "type": "scatter3d"
           }
          ],
          "scattercarpet": [
           {
            "marker": {
             "colorbar": {
              "outlinewidth": 0,
              "ticks": ""
             }
            },
            "type": "scattercarpet"
           }
          ],
          "scattergeo": [
           {
            "marker": {
             "colorbar": {
              "outlinewidth": 0,
              "ticks": ""
             }
            },
            "type": "scattergeo"
           }
          ],
          "scattergl": [
           {
            "marker": {
             "colorbar": {
              "outlinewidth": 0,
              "ticks": ""
             }
            },
            "type": "scattergl"
           }
          ],
          "scattermapbox": [
           {
            "marker": {
             "colorbar": {
              "outlinewidth": 0,
              "ticks": ""
             }
            },
            "type": "scattermapbox"
           }
          ],
          "scatterpolar": [
           {
            "marker": {
             "colorbar": {
              "outlinewidth": 0,
              "ticks": ""
             }
            },
            "type": "scatterpolar"
           }
          ],
          "scatterpolargl": [
           {
            "marker": {
             "colorbar": {
              "outlinewidth": 0,
              "ticks": ""
             }
            },
            "type": "scatterpolargl"
           }
          ],
          "scatterternary": [
           {
            "marker": {
             "colorbar": {
              "outlinewidth": 0,
              "ticks": ""
             }
            },
            "type": "scatterternary"
           }
          ],
          "surface": [
           {
            "colorbar": {
             "outlinewidth": 0,
             "ticks": ""
            },
            "colorscale": [
             [
              0,
              "#0d0887"
             ],
             [
              0.1111111111111111,
              "#46039f"
             ],
             [
              0.2222222222222222,
              "#7201a8"
             ],
             [
              0.3333333333333333,
              "#9c179e"
             ],
             [
              0.4444444444444444,
              "#bd3786"
             ],
             [
              0.5555555555555556,
              "#d8576b"
             ],
             [
              0.6666666666666666,
              "#ed7953"
             ],
             [
              0.7777777777777778,
              "#fb9f3a"
             ],
             [
              0.8888888888888888,
              "#fdca26"
             ],
             [
              1,
              "#f0f921"
             ]
            ],
            "type": "surface"
           }
          ],
          "table": [
           {
            "cells": {
             "fill": {
              "color": "#EBF0F8"
             },
             "line": {
              "color": "white"
             }
            },
            "header": {
             "fill": {
              "color": "#C8D4E3"
             },
             "line": {
              "color": "white"
             }
            },
            "type": "table"
           }
          ]
         },
         "layout": {
          "annotationdefaults": {
           "arrowcolor": "#2a3f5f",
           "arrowhead": 0,
           "arrowwidth": 1
          },
          "autotypenumbers": "strict",
          "coloraxis": {
           "colorbar": {
            "outlinewidth": 0,
            "ticks": ""
           }
          },
          "colorscale": {
           "diverging": [
            [
             0,
             "#8e0152"
            ],
            [
             0.1,
             "#c51b7d"
            ],
            [
             0.2,
             "#de77ae"
            ],
            [
             0.3,
             "#f1b6da"
            ],
            [
             0.4,
             "#fde0ef"
            ],
            [
             0.5,
             "#f7f7f7"
            ],
            [
             0.6,
             "#e6f5d0"
            ],
            [
             0.7,
             "#b8e186"
            ],
            [
             0.8,
             "#7fbc41"
            ],
            [
             0.9,
             "#4d9221"
            ],
            [
             1,
             "#276419"
            ]
           ],
           "sequential": [
            [
             0,
             "#0d0887"
            ],
            [
             0.1111111111111111,
             "#46039f"
            ],
            [
             0.2222222222222222,
             "#7201a8"
            ],
            [
             0.3333333333333333,
             "#9c179e"
            ],
            [
             0.4444444444444444,
             "#bd3786"
            ],
            [
             0.5555555555555556,
             "#d8576b"
            ],
            [
             0.6666666666666666,
             "#ed7953"
            ],
            [
             0.7777777777777778,
             "#fb9f3a"
            ],
            [
             0.8888888888888888,
             "#fdca26"
            ],
            [
             1,
             "#f0f921"
            ]
           ],
           "sequentialminus": [
            [
             0,
             "#0d0887"
            ],
            [
             0.1111111111111111,
             "#46039f"
            ],
            [
             0.2222222222222222,
             "#7201a8"
            ],
            [
             0.3333333333333333,
             "#9c179e"
            ],
            [
             0.4444444444444444,
             "#bd3786"
            ],
            [
             0.5555555555555556,
             "#d8576b"
            ],
            [
             0.6666666666666666,
             "#ed7953"
            ],
            [
             0.7777777777777778,
             "#fb9f3a"
            ],
            [
             0.8888888888888888,
             "#fdca26"
            ],
            [
             1,
             "#f0f921"
            ]
           ]
          },
          "colorway": [
           "#636efa",
           "#EF553B",
           "#00cc96",
           "#ab63fa",
           "#FFA15A",
           "#19d3f3",
           "#FF6692",
           "#B6E880",
           "#FF97FF",
           "#FECB52"
          ],
          "font": {
           "color": "#2a3f5f"
          },
          "geo": {
           "bgcolor": "white",
           "lakecolor": "white",
           "landcolor": "#E5ECF6",
           "showlakes": true,
           "showland": true,
           "subunitcolor": "white"
          },
          "hoverlabel": {
           "align": "left"
          },
          "hovermode": "closest",
          "mapbox": {
           "style": "light"
          },
          "paper_bgcolor": "white",
          "plot_bgcolor": "#E5ECF6",
          "polar": {
           "angularaxis": {
            "gridcolor": "white",
            "linecolor": "white",
            "ticks": ""
           },
           "bgcolor": "#E5ECF6",
           "radialaxis": {
            "gridcolor": "white",
            "linecolor": "white",
            "ticks": ""
           }
          },
          "scene": {
           "xaxis": {
            "backgroundcolor": "#E5ECF6",
            "gridcolor": "white",
            "gridwidth": 2,
            "linecolor": "white",
            "showbackground": true,
            "ticks": "",
            "zerolinecolor": "white"
           },
           "yaxis": {
            "backgroundcolor": "#E5ECF6",
            "gridcolor": "white",
            "gridwidth": 2,
            "linecolor": "white",
            "showbackground": true,
            "ticks": "",
            "zerolinecolor": "white"
           },
           "zaxis": {
            "backgroundcolor": "#E5ECF6",
            "gridcolor": "white",
            "gridwidth": 2,
            "linecolor": "white",
            "showbackground": true,
            "ticks": "",
            "zerolinecolor": "white"
           }
          },
          "shapedefaults": {
           "line": {
            "color": "#2a3f5f"
           }
          },
          "ternary": {
           "aaxis": {
            "gridcolor": "white",
            "linecolor": "white",
            "ticks": ""
           },
           "baxis": {
            "gridcolor": "white",
            "linecolor": "white",
            "ticks": ""
           },
           "bgcolor": "#E5ECF6",
           "caxis": {
            "gridcolor": "white",
            "linecolor": "white",
            "ticks": ""
           }
          },
          "title": {
           "x": 0.05
          },
          "xaxis": {
           "automargin": true,
           "gridcolor": "white",
           "linecolor": "white",
           "ticks": "",
           "title": {
            "standoff": 15
           },
           "zerolinecolor": "white",
           "zerolinewidth": 2
          },
          "yaxis": {
           "automargin": true,
           "gridcolor": "white",
           "linecolor": "white",
           "ticks": "",
           "title": {
            "standoff": 15
           },
           "zerolinecolor": "white",
           "zerolinewidth": 2
          }
         }
        },
        "title": {
         "text": "Tweets per country (where country is specified)"
        },
        "width": 900
       }
      }
     },
     "metadata": {}
    }
   ],
   "source": [
    "plot_map(tw_add_df, \"Tweets per country (where country is specified)\")"
   ]
  },
  {
   "cell_type": "code",
   "execution_count": null,
   "metadata": {},
   "outputs": [],
   "source": []
  },
  {
   "cell_type": "code",
   "execution_count": null,
   "metadata": {},
   "outputs": [],
   "source": []
  }
 ],
 "metadata": {
  "kernelspec": {
   "name": "python385jvsc74a57bd04480e32245891b07b354378c7dbc380a1b3f17ee24171af64af582c25470e498",
   "display_name": "Python 3.8.5 64-bit ('base': conda)"
  },
  "language_info": {
   "codemirror_mode": {
    "name": "ipython",
    "version": 3
   },
   "file_extension": ".py",
   "mimetype": "text/x-python",
   "name": "python",
   "nbconvert_exporter": "python",
   "pygments_lexer": "ipython3",
   "version": "3.8.5"
  }
 },
 "nbformat": 4,
 "nbformat_minor": 4
}