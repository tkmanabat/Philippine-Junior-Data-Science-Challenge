{
 "cells": [
  {
   "cell_type": "code",
   "execution_count": 31,
   "metadata": {},
   "outputs": [
    {
     "output_type": "execute_result",
     "data": {
      "text/plain": [
       "                        id                   user_name  \\\n",
       "0      1340539111971516416                  Rachel Roh   \n",
       "1      1338158543359250433                 Albert Fong   \n",
       "2      1337858199140118533                    eli🇱🇹🇪🇺👌   \n",
       "3      1337855739918835717               Charles Adler   \n",
       "4      1337854064604966912        Citizen News Channel   \n",
       "...                    ...                         ...   \n",
       "40166  1373522034903420929  Stankevicius International   \n",
       "40167  1373517049184587776         Emanuele Capobianco   \n",
       "40168  1373514710033821705                          RT   \n",
       "40169  1373512948417695746             Sunday Observer   \n",
       "40170  1373503451372552197                   M a r t í   \n",
       "\n",
       "                   user_location  \\\n",
       "0      La Crescenta-Montrose, CA   \n",
       "1              San Francisco, CA   \n",
       "2                       Your Bed   \n",
       "3         Vancouver, BC - Canada   \n",
       "4                            NaN   \n",
       "...                          ...   \n",
       "40166            Dublin, Ireland   \n",
       "40167        Geneva, Switzerland   \n",
       "40168                        NaN   \n",
       "40169                  Sri Lanka   \n",
       "40170                     США 🇺🇸   \n",
       "\n",
       "                                        user_description         user_created  \\\n",
       "0      Aggregator of Asian American news; scanning di...  2009-04-08 17:52:46   \n",
       "1      Marketing dude, tech geek, heavy metal & '80s ...  2009-09-21 15:27:30   \n",
       "2                                         heil, hydra 🖐☺  2020-06-25 23:30:28   \n",
       "3      Hosting \"CharlesAdlerTonight\" Global News Radi...  2008-09-10 11:28:53   \n",
       "4      Citizen News Channel bringing you an alternati...  2020-04-23 17:58:42   \n",
       "...                                                  ...                  ...   \n",
       "40166  Professional trading consultant specializing i...  2020-06-30 12:31:42   \n",
       "40167  Director Health & Care, International Federati...  2009-04-13 09:56:49   \n",
       "40168  Freedom over censorship, truth over narrative\\...  2009-08-11 06:12:45   \n",
       "40169  Sri Lanka's oldest and the most circulated wee...  2017-02-07 02:59:59   \n",
       "40170  El meu twitter en català, des dels Estats Unit...  2014-02-09 03:41:26   \n",
       "\n",
       "       user_followers  user_friends  user_favourites  user_verified  \\\n",
       "0                 405          1692             3247          False   \n",
       "1                 834           666              178          False   \n",
       "2                  10            88              155          False   \n",
       "3               49165          3933            21853           True   \n",
       "4                 152           580             1473          False   \n",
       "...               ...           ...              ...            ...   \n",
       "40166              16             3                0          False   \n",
       "40167            3242           824             5665           True   \n",
       "40168         2996352           680             1880           True   \n",
       "40169            6590            75              455          False   \n",
       "40170              61           117               34          False   \n",
       "\n",
       "                      date                                               text  \\\n",
       "0      2020-12-20 06:06:44  Same folks said daikon paste could treat a cyt...   \n",
       "1      2020-12-13 16:27:13  While the world has been on the wrong side of ...   \n",
       "2      2020-12-12 20:33:45  #coronavirus #SputnikV #AstraZeneca #PfizerBio...   \n",
       "3      2020-12-12 20:23:59  Facts are immutable, Senator, even when you're...   \n",
       "4      2020-12-12 20:17:19  Explain to me again why we need a vaccine @Bor...   \n",
       "...                    ...                                                ...   \n",
       "40166  2021-03-21 06:29:06  Selling: #NitrileGloves, #1860 #FaceMasks, #Va...   \n",
       "40167  2021-03-21 06:09:17  Limited vaccine manufacturing capacity is a ma...   \n",
       "40168  2021-03-21 06:00:00  Trust in #AstraZeneca jab in Europe has been s...   \n",
       "40169  2021-03-21 05:53:00  State Minister of Production, Supply and Regul...   \n",
       "40170  2021-03-21 05:15:15  European micronation #SanMarino begins adminis...   \n",
       "\n",
       "                                                hashtags  \\\n",
       "0                                     ['PfizerBioNTech']   \n",
       "1                                                    NaN   \n",
       "2      ['coronavirus', 'SputnikV', 'AstraZeneca', 'Pf...   \n",
       "3                                                    NaN   \n",
       "4         ['whereareallthesickpeople', 'PfizerBioNTech']   \n",
       "...                                                  ...   \n",
       "40166  ['NitrileGloves', 'FaceMasks', 'Vaccines', 'Sp...   \n",
       "40167                                        ['covid19']   \n",
       "40168                                    ['AstraZeneca']   \n",
       "40169                                                NaN   \n",
       "40170                          ['SanMarino', 'SputnikV']   \n",
       "\n",
       "                     source  retweets  favorites  is_retweet  \n",
       "0       Twitter for Android         0          0       False  \n",
       "1           Twitter Web App         1          1       False  \n",
       "2       Twitter for Android         0          0       False  \n",
       "3           Twitter Web App       446       2129       False  \n",
       "4        Twitter for iPhone         0          0       False  \n",
       "...                     ...       ...        ...         ...  \n",
       "40166                 IFTTT         1          0       False  \n",
       "40167    Twitter for iPhone         0          2       False  \n",
       "40168  Twitter Media Studio        25         49       False  \n",
       "40169             TweetDeck         1          2       False  \n",
       "40170       Twitter Web App         0          0       False  \n",
       "\n",
       "[40171 rows x 16 columns]"
      ],
      "text/html": "<div>\n<style scoped>\n    .dataframe tbody tr th:only-of-type {\n        vertical-align: middle;\n    }\n\n    .dataframe tbody tr th {\n        vertical-align: top;\n    }\n\n    .dataframe thead th {\n        text-align: right;\n    }\n</style>\n<table border=\"1\" class=\"dataframe\">\n  <thead>\n    <tr style=\"text-align: right;\">\n      <th></th>\n      <th>id</th>\n      <th>user_name</th>\n      <th>user_location</th>\n      <th>user_description</th>\n      <th>user_created</th>\n      <th>user_followers</th>\n      <th>user_friends</th>\n      <th>user_favourites</th>\n      <th>user_verified</th>\n      <th>date</th>\n      <th>text</th>\n      <th>hashtags</th>\n      <th>source</th>\n      <th>retweets</th>\n      <th>favorites</th>\n      <th>is_retweet</th>\n    </tr>\n  </thead>\n  <tbody>\n    <tr>\n      <td>0</td>\n      <td>1340539111971516416</td>\n      <td>Rachel Roh</td>\n      <td>La Crescenta-Montrose, CA</td>\n      <td>Aggregator of Asian American news; scanning di...</td>\n      <td>2009-04-08 17:52:46</td>\n      <td>405</td>\n      <td>1692</td>\n      <td>3247</td>\n      <td>False</td>\n      <td>2020-12-20 06:06:44</td>\n      <td>Same folks said daikon paste could treat a cyt...</td>\n      <td>['PfizerBioNTech']</td>\n      <td>Twitter for Android</td>\n      <td>0</td>\n      <td>0</td>\n      <td>False</td>\n    </tr>\n    <tr>\n      <td>1</td>\n      <td>1338158543359250433</td>\n      <td>Albert Fong</td>\n      <td>San Francisco, CA</td>\n      <td>Marketing dude, tech geek, heavy metal &amp; '80s ...</td>\n      <td>2009-09-21 15:27:30</td>\n      <td>834</td>\n      <td>666</td>\n      <td>178</td>\n      <td>False</td>\n      <td>2020-12-13 16:27:13</td>\n      <td>While the world has been on the wrong side of ...</td>\n      <td>NaN</td>\n      <td>Twitter Web App</td>\n      <td>1</td>\n      <td>1</td>\n      <td>False</td>\n    </tr>\n    <tr>\n      <td>2</td>\n      <td>1337858199140118533</td>\n      <td>eli🇱🇹🇪🇺👌</td>\n      <td>Your Bed</td>\n      <td>heil, hydra 🖐☺</td>\n      <td>2020-06-25 23:30:28</td>\n      <td>10</td>\n      <td>88</td>\n      <td>155</td>\n      <td>False</td>\n      <td>2020-12-12 20:33:45</td>\n      <td>#coronavirus #SputnikV #AstraZeneca #PfizerBio...</td>\n      <td>['coronavirus', 'SputnikV', 'AstraZeneca', 'Pf...</td>\n      <td>Twitter for Android</td>\n      <td>0</td>\n      <td>0</td>\n      <td>False</td>\n    </tr>\n    <tr>\n      <td>3</td>\n      <td>1337855739918835717</td>\n      <td>Charles Adler</td>\n      <td>Vancouver, BC - Canada</td>\n      <td>Hosting \"CharlesAdlerTonight\" Global News Radi...</td>\n      <td>2008-09-10 11:28:53</td>\n      <td>49165</td>\n      <td>3933</td>\n      <td>21853</td>\n      <td>True</td>\n      <td>2020-12-12 20:23:59</td>\n      <td>Facts are immutable, Senator, even when you're...</td>\n      <td>NaN</td>\n      <td>Twitter Web App</td>\n      <td>446</td>\n      <td>2129</td>\n      <td>False</td>\n    </tr>\n    <tr>\n      <td>4</td>\n      <td>1337854064604966912</td>\n      <td>Citizen News Channel</td>\n      <td>NaN</td>\n      <td>Citizen News Channel bringing you an alternati...</td>\n      <td>2020-04-23 17:58:42</td>\n      <td>152</td>\n      <td>580</td>\n      <td>1473</td>\n      <td>False</td>\n      <td>2020-12-12 20:17:19</td>\n      <td>Explain to me again why we need a vaccine @Bor...</td>\n      <td>['whereareallthesickpeople', 'PfizerBioNTech']</td>\n      <td>Twitter for iPhone</td>\n      <td>0</td>\n      <td>0</td>\n      <td>False</td>\n    </tr>\n    <tr>\n      <td>...</td>\n      <td>...</td>\n      <td>...</td>\n      <td>...</td>\n      <td>...</td>\n      <td>...</td>\n      <td>...</td>\n      <td>...</td>\n      <td>...</td>\n      <td>...</td>\n      <td>...</td>\n      <td>...</td>\n      <td>...</td>\n      <td>...</td>\n      <td>...</td>\n      <td>...</td>\n      <td>...</td>\n    </tr>\n    <tr>\n      <td>40166</td>\n      <td>1373522034903420929</td>\n      <td>Stankevicius International</td>\n      <td>Dublin, Ireland</td>\n      <td>Professional trading consultant specializing i...</td>\n      <td>2020-06-30 12:31:42</td>\n      <td>16</td>\n      <td>3</td>\n      <td>0</td>\n      <td>False</td>\n      <td>2021-03-21 06:29:06</td>\n      <td>Selling: #NitrileGloves, #1860 #FaceMasks, #Va...</td>\n      <td>['NitrileGloves', 'FaceMasks', 'Vaccines', 'Sp...</td>\n      <td>IFTTT</td>\n      <td>1</td>\n      <td>0</td>\n      <td>False</td>\n    </tr>\n    <tr>\n      <td>40167</td>\n      <td>1373517049184587776</td>\n      <td>Emanuele Capobianco</td>\n      <td>Geneva, Switzerland</td>\n      <td>Director Health &amp; Care, International Federati...</td>\n      <td>2009-04-13 09:56:49</td>\n      <td>3242</td>\n      <td>824</td>\n      <td>5665</td>\n      <td>True</td>\n      <td>2021-03-21 06:09:17</td>\n      <td>Limited vaccine manufacturing capacity is a ma...</td>\n      <td>['covid19']</td>\n      <td>Twitter for iPhone</td>\n      <td>0</td>\n      <td>2</td>\n      <td>False</td>\n    </tr>\n    <tr>\n      <td>40168</td>\n      <td>1373514710033821705</td>\n      <td>RT</td>\n      <td>NaN</td>\n      <td>Freedom over censorship, truth over narrative\\...</td>\n      <td>2009-08-11 06:12:45</td>\n      <td>2996352</td>\n      <td>680</td>\n      <td>1880</td>\n      <td>True</td>\n      <td>2021-03-21 06:00:00</td>\n      <td>Trust in #AstraZeneca jab in Europe has been s...</td>\n      <td>['AstraZeneca']</td>\n      <td>Twitter Media Studio</td>\n      <td>25</td>\n      <td>49</td>\n      <td>False</td>\n    </tr>\n    <tr>\n      <td>40169</td>\n      <td>1373512948417695746</td>\n      <td>Sunday Observer</td>\n      <td>Sri Lanka</td>\n      <td>Sri Lanka's oldest and the most circulated wee...</td>\n      <td>2017-02-07 02:59:59</td>\n      <td>6590</td>\n      <td>75</td>\n      <td>455</td>\n      <td>False</td>\n      <td>2021-03-21 05:53:00</td>\n      <td>State Minister of Production, Supply and Regul...</td>\n      <td>NaN</td>\n      <td>TweetDeck</td>\n      <td>1</td>\n      <td>2</td>\n      <td>False</td>\n    </tr>\n    <tr>\n      <td>40170</td>\n      <td>1373503451372552197</td>\n      <td>M a r t í</td>\n      <td>США 🇺🇸</td>\n      <td>El meu twitter en català, des dels Estats Unit...</td>\n      <td>2014-02-09 03:41:26</td>\n      <td>61</td>\n      <td>117</td>\n      <td>34</td>\n      <td>False</td>\n      <td>2021-03-21 05:15:15</td>\n      <td>European micronation #SanMarino begins adminis...</td>\n      <td>['SanMarino', 'SputnikV']</td>\n      <td>Twitter Web App</td>\n      <td>0</td>\n      <td>0</td>\n      <td>False</td>\n    </tr>\n  </tbody>\n</table>\n<p>40171 rows × 16 columns</p>\n</div>"
     },
     "metadata": {},
     "execution_count": 31
    }
   ],
   "source": [
    "# Data Crunchers \n",
    "\n",
    "import pandas as pd\n",
    "import numpy as np\n",
    "import plotly.express as px\n",
    "import altair as alt\n",
    "import plotly.graph_objects as go\n",
    "\n",
    "country_df = pd.read_csv(\"wikipedia-iso-country-codes.csv\")\n",
    "df = pd.read_csv(\"vaccination_all_tweets.csv\")\n",
    "df"
   ]
  },
  {
   "cell_type": "code",
   "execution_count": 32,
   "metadata": {},
   "outputs": [
    {
     "output_type": "execute_result",
     "data": {
      "text/plain": [
       "False    35635\n",
       "True      4536\n",
       "Name: user_verified, dtype: int64"
      ]
     },
     "metadata": {},
     "execution_count": 32
    }
   ],
   "source": [
    "df['user_verified'].value_counts()"
   ]
  },
  {
   "cell_type": "code",
   "execution_count": 33,
   "metadata": {},
   "outputs": [
    {
     "output_type": "display_data",
     "data": {
      "application/vnd.plotly.v1+json": {
       "config": {
        "plotlyServerURL": "https://plot.ly"
       },
       "data": [
        {
         "hole": 0.3,
         "labels": [
          "Verified",
          "Unverified"
         ],
         "type": "pie",
         "values": [
          4536,
          35635
         ]
        }
       ],
       "layout": {
        "template": {
         "data": {
          "bar": [
           {
            "error_x": {
             "color": "#2a3f5f"
            },
            "error_y": {
             "color": "#2a3f5f"
            },
            "marker": {
             "line": {
              "color": "#E5ECF6",
              "width": 0.5
             }
            },
            "type": "bar"
           }
          ],
          "barpolar": [
           {
            "marker": {
             "line": {
              "color": "#E5ECF6",
              "width": 0.5
             }
            },
            "type": "barpolar"
           }
          ],
          "carpet": [
           {
            "aaxis": {
             "endlinecolor": "#2a3f5f",
             "gridcolor": "white",
             "linecolor": "white",
             "minorgridcolor": "white",
             "startlinecolor": "#2a3f5f"
            },
            "baxis": {
             "endlinecolor": "#2a3f5f",
             "gridcolor": "white",
             "linecolor": "white",
             "minorgridcolor": "white",
             "startlinecolor": "#2a3f5f"
            },
            "type": "carpet"
           }
          ],
          "choropleth": [
           {
            "colorbar": {
             "outlinewidth": 0,
             "ticks": ""
            },
            "type": "choropleth"
           }
          ],
          "contour": [
           {
            "colorbar": {
             "outlinewidth": 0,
             "ticks": ""
            },
            "colorscale": [
             [
              0,
              "#0d0887"
             ],
             [
              0.1111111111111111,
              "#46039f"
             ],
             [
              0.2222222222222222,
              "#7201a8"
             ],
             [
              0.3333333333333333,
              "#9c179e"
             ],
             [
              0.4444444444444444,
              "#bd3786"
             ],
             [
              0.5555555555555556,
              "#d8576b"
             ],
             [
              0.6666666666666666,
              "#ed7953"
             ],
             [
              0.7777777777777778,
              "#fb9f3a"
             ],
             [
              0.8888888888888888,
              "#fdca26"
             ],
             [
              1,
              "#f0f921"
             ]
            ],
            "type": "contour"
           }
          ],
          "contourcarpet": [
           {
            "colorbar": {
             "outlinewidth": 0,
             "ticks": ""
            },
            "type": "contourcarpet"
           }
          ],
          "heatmap": [
           {
            "colorbar": {
             "outlinewidth": 0,
             "ticks": ""
            },
            "colorscale": [
             [
              0,
              "#0d0887"
             ],
             [
              0.1111111111111111,
              "#46039f"
             ],
             [
              0.2222222222222222,
              "#7201a8"
             ],
             [
              0.3333333333333333,
              "#9c179e"
             ],
             [
              0.4444444444444444,
              "#bd3786"
             ],
             [
              0.5555555555555556,
              "#d8576b"
             ],
             [
              0.6666666666666666,
              "#ed7953"
             ],
             [
              0.7777777777777778,
              "#fb9f3a"
             ],
             [
              0.8888888888888888,
              "#fdca26"
             ],
             [
              1,
              "#f0f921"
             ]
            ],
            "type": "heatmap"
           }
          ],
          "heatmapgl": [
           {
            "colorbar": {
             "outlinewidth": 0,
             "ticks": ""
            },
            "colorscale": [
             [
              0,
              "#0d0887"
             ],
             [
              0.1111111111111111,
              "#46039f"
             ],
             [
              0.2222222222222222,
              "#7201a8"
             ],
             [
              0.3333333333333333,
              "#9c179e"
             ],
             [
              0.4444444444444444,
              "#bd3786"
             ],
             [
              0.5555555555555556,
              "#d8576b"
             ],
             [
              0.6666666666666666,
              "#ed7953"
             ],
             [
              0.7777777777777778,
              "#fb9f3a"
             ],
             [
              0.8888888888888888,
              "#fdca26"
             ],
             [
              1,
              "#f0f921"
             ]
            ],
            "type": "heatmapgl"
           }
          ],
          "histogram": [
           {
            "marker": {
             "colorbar": {
              "outlinewidth": 0,
              "ticks": ""
             }
            },
            "type": "histogram"
           }
          ],
          "histogram2d": [
           {
            "colorbar": {
             "outlinewidth": 0,
             "ticks": ""
            },
            "colorscale": [
             [
              0,
              "#0d0887"
             ],
             [
              0.1111111111111111,
              "#46039f"
             ],
             [
              0.2222222222222222,
              "#7201a8"
             ],
             [
              0.3333333333333333,
              "#9c179e"
             ],
             [
              0.4444444444444444,
              "#bd3786"
             ],
             [
              0.5555555555555556,
              "#d8576b"
             ],
             [
              0.6666666666666666,
              "#ed7953"
             ],
             [
              0.7777777777777778,
              "#fb9f3a"
             ],
             [
              0.8888888888888888,
              "#fdca26"
             ],
             [
              1,
              "#f0f921"
             ]
            ],
            "type": "histogram2d"
           }
          ],
          "histogram2dcontour": [
           {
            "colorbar": {
             "outlinewidth": 0,
             "ticks": ""
            },
            "colorscale": [
             [
              0,
              "#0d0887"
             ],
             [
              0.1111111111111111,
              "#46039f"
             ],
             [
              0.2222222222222222,
              "#7201a8"
             ],
             [
              0.3333333333333333,
              "#9c179e"
             ],
             [
              0.4444444444444444,
              "#bd3786"
             ],
             [
              0.5555555555555556,
              "#d8576b"
             ],
             [
              0.6666666666666666,
              "#ed7953"
             ],
             [
              0.7777777777777778,
              "#fb9f3a"
             ],
             [
              0.8888888888888888,
              "#fdca26"
             ],
             [
              1,
              "#f0f921"
             ]
            ],
            "type": "histogram2dcontour"
           }
          ],
          "mesh3d": [
           {
            "colorbar": {
             "outlinewidth": 0,
             "ticks": ""
            },
            "type": "mesh3d"
           }
          ],
          "parcoords": [
           {
            "line": {
             "colorbar": {
              "outlinewidth": 0,
              "ticks": ""
             }
            },
            "type": "parcoords"
           }
          ],
          "pie": [
           {
            "automargin": true,
            "type": "pie"
           }
          ],
          "scatter": [
           {
            "marker": {
             "colorbar": {
              "outlinewidth": 0,
              "ticks": ""
             }
            },
            "type": "scatter"
           }
          ],
          "scatter3d": [
           {
            "line": {
             "colorbar": {
              "outlinewidth": 0,
              "ticks": ""
             }
            },
            "marker": {
             "colorbar": {
              "outlinewidth": 0,
              "ticks": ""
             }
            },
            "type": "scatter3d"
           }
          ],
          "scattercarpet": [
           {
            "marker": {
             "colorbar": {
              "outlinewidth": 0,
              "ticks": ""
             }
            },
            "type": "scattercarpet"
           }
          ],
          "scattergeo": [
           {
            "marker": {
             "colorbar": {
              "outlinewidth": 0,
              "ticks": ""
             }
            },
            "type": "scattergeo"
           }
          ],
          "scattergl": [
           {
            "marker": {
             "colorbar": {
              "outlinewidth": 0,
              "ticks": ""
             }
            },
            "type": "scattergl"
           }
          ],
          "scattermapbox": [
           {
            "marker": {
             "colorbar": {
              "outlinewidth": 0,
              "ticks": ""
             }
            },
            "type": "scattermapbox"
           }
          ],
          "scatterpolar": [
           {
            "marker": {
             "colorbar": {
              "outlinewidth": 0,
              "ticks": ""
             }
            },
            "type": "scatterpolar"
           }
          ],
          "scatterpolargl": [
           {
            "marker": {
             "colorbar": {
              "outlinewidth": 0,
              "ticks": ""
             }
            },
            "type": "scatterpolargl"
           }
          ],
          "scatterternary": [
           {
            "marker": {
             "colorbar": {
              "outlinewidth": 0,
              "ticks": ""
             }
            },
            "type": "scatterternary"
           }
          ],
          "surface": [
           {
            "colorbar": {
             "outlinewidth": 0,
             "ticks": ""
            },
            "colorscale": [
             [
              0,
              "#0d0887"
             ],
             [
              0.1111111111111111,
              "#46039f"
             ],
             [
              0.2222222222222222,
              "#7201a8"
             ],
             [
              0.3333333333333333,
              "#9c179e"
             ],
             [
              0.4444444444444444,
              "#bd3786"
             ],
             [
              0.5555555555555556,
              "#d8576b"
             ],
             [
              0.6666666666666666,
              "#ed7953"
             ],
             [
              0.7777777777777778,
              "#fb9f3a"
             ],
             [
              0.8888888888888888,
              "#fdca26"
             ],
             [
              1,
              "#f0f921"
             ]
            ],
            "type": "surface"
           }
          ],
          "table": [
           {
            "cells": {
             "fill": {
              "color": "#EBF0F8"
             },
             "line": {
              "color": "white"
             }
            },
            "header": {
             "fill": {
              "color": "#C8D4E3"
             },
             "line": {
              "color": "white"
             }
            },
            "type": "table"
           }
          ]
         },
         "layout": {
          "annotationdefaults": {
           "arrowcolor": "#2a3f5f",
           "arrowhead": 0,
           "arrowwidth": 1
          },
          "autotypenumbers": "strict",
          "coloraxis": {
           "colorbar": {
            "outlinewidth": 0,
            "ticks": ""
           }
          },
          "colorscale": {
           "diverging": [
            [
             0,
             "#8e0152"
            ],
            [
             0.1,
             "#c51b7d"
            ],
            [
             0.2,
             "#de77ae"
            ],
            [
             0.3,
             "#f1b6da"
            ],
            [
             0.4,
             "#fde0ef"
            ],
            [
             0.5,
             "#f7f7f7"
            ],
            [
             0.6,
             "#e6f5d0"
            ],
            [
             0.7,
             "#b8e186"
            ],
            [
             0.8,
             "#7fbc41"
            ],
            [
             0.9,
             "#4d9221"
            ],
            [
             1,
             "#276419"
            ]
           ],
           "sequential": [
            [
             0,
             "#0d0887"
            ],
            [
             0.1111111111111111,
             "#46039f"
            ],
            [
             0.2222222222222222,
             "#7201a8"
            ],
            [
             0.3333333333333333,
             "#9c179e"
            ],
            [
             0.4444444444444444,
             "#bd3786"
            ],
            [
             0.5555555555555556,
             "#d8576b"
            ],
            [
             0.6666666666666666,
             "#ed7953"
            ],
            [
             0.7777777777777778,
             "#fb9f3a"
            ],
            [
             0.8888888888888888,
             "#fdca26"
            ],
            [
             1,
             "#f0f921"
            ]
           ],
           "sequentialminus": [
            [
             0,
             "#0d0887"
            ],
            [
             0.1111111111111111,
             "#46039f"
            ],
            [
             0.2222222222222222,
             "#7201a8"
            ],
            [
             0.3333333333333333,
             "#9c179e"
            ],
            [
             0.4444444444444444,
             "#bd3786"
            ],
            [
             0.5555555555555556,
             "#d8576b"
            ],
            [
             0.6666666666666666,
             "#ed7953"
            ],
            [
             0.7777777777777778,
             "#fb9f3a"
            ],
            [
             0.8888888888888888,
             "#fdca26"
            ],
            [
             1,
             "#f0f921"
            ]
           ]
          },
          "colorway": [
           "#636efa",
           "#EF553B",
           "#00cc96",
           "#ab63fa",
           "#FFA15A",
           "#19d3f3",
           "#FF6692",
           "#B6E880",
           "#FF97FF",
           "#FECB52"
          ],
          "font": {
           "color": "#2a3f5f"
          },
          "geo": {
           "bgcolor": "white",
           "lakecolor": "white",
           "landcolor": "#E5ECF6",
           "showlakes": true,
           "showland": true,
           "subunitcolor": "white"
          },
          "hoverlabel": {
           "align": "left"
          },
          "hovermode": "closest",
          "mapbox": {
           "style": "light"
          },
          "paper_bgcolor": "white",
          "plot_bgcolor": "#E5ECF6",
          "polar": {
           "angularaxis": {
            "gridcolor": "white",
            "linecolor": "white",
            "ticks": ""
           },
           "bgcolor": "#E5ECF6",
           "radialaxis": {
            "gridcolor": "white",
            "linecolor": "white",
            "ticks": ""
           }
          },
          "scene": {
           "xaxis": {
            "backgroundcolor": "#E5ECF6",
            "gridcolor": "white",
            "gridwidth": 2,
            "linecolor": "white",
            "showbackground": true,
            "ticks": "",
            "zerolinecolor": "white"
           },
           "yaxis": {
            "backgroundcolor": "#E5ECF6",
            "gridcolor": "white",
            "gridwidth": 2,
            "linecolor": "white",
            "showbackground": true,
            "ticks": "",
            "zerolinecolor": "white"
           },
           "zaxis": {
            "backgroundcolor": "#E5ECF6",
            "gridcolor": "white",
            "gridwidth": 2,
            "linecolor": "white",
            "showbackground": true,
            "ticks": "",
            "zerolinecolor": "white"
           }
          },
          "shapedefaults": {
           "line": {
            "color": "#2a3f5f"
           }
          },
          "ternary": {
           "aaxis": {
            "gridcolor": "white",
            "linecolor": "white",
            "ticks": ""
           },
           "baxis": {
            "gridcolor": "white",
            "linecolor": "white",
            "ticks": ""
           },
           "bgcolor": "#E5ECF6",
           "caxis": {
            "gridcolor": "white",
            "linecolor": "white",
            "ticks": ""
           }
          },
          "title": {
           "x": 0.05
          },
          "xaxis": {
           "automargin": true,
           "gridcolor": "white",
           "linecolor": "white",
           "ticks": "",
           "title": {
            "standoff": 15
           },
           "zerolinecolor": "white",
           "zerolinewidth": 2
          },
          "yaxis": {
           "automargin": true,
           "gridcolor": "white",
           "linecolor": "white",
           "ticks": "",
           "title": {
            "standoff": 15
           },
           "zerolinecolor": "white",
           "zerolinewidth": 2
          }
         }
        }
       }
      }
     },
     "metadata": {}
    }
   ],
   "source": [
    "labels = ['Verified','Unverified']\n",
    "values = [4536, 35635]\n",
    "\n",
    "fig = go.Figure(data=[go.Pie(labels=labels, values=values, hole=.3)])\n",
    "fig.show()"
   ]
  },
  {
   "cell_type": "code",
   "execution_count": 34,
   "metadata": {},
   "outputs": [
    {
     "output_type": "execute_result",
     "data": {
      "text/plain": [
       "                        id        user_name                  user_location  \\\n",
       "3      1337855739918835717    Charles Adler         Vancouver, BC - Canada   \n",
       "182    1338293277058076672      Mohua Dutta  Shillong India Ottawa Canada    \n",
       "183    1338287664454393858      Anita Anand              Oakville, Ontario   \n",
       "217    1338150440534466560  The Epoch Times                  New York, USA   \n",
       "228    1338133740195897347              SMB                            NaN   \n",
       "...                    ...              ...                            ...   \n",
       "39972  1373940178683887625        Sputnik V                Moscow, Russia    \n",
       "40003  1373902895477882880        Sputnik V                Moscow, Russia    \n",
       "40019  1373877564951965696        Sputnik V                Moscow, Russia    \n",
       "40143  1373585892141625345        Sputnik V                Moscow, Russia    \n",
       "40158  1373560364286291977        Sputnik V                Moscow, Russia    \n",
       "\n",
       "                                        user_description         user_created  \\\n",
       "3      Hosting \"CharlesAdlerTonight\" Global News Radi...  2008-09-10 11:28:53   \n",
       "182    #Canadian #Entrepreneur #Spiritual 🕉#Int #Dire...  2020-04-13 11:13:45   \n",
       "183    MP for #Oakville & Minister of Public Services...  2012-02-01 13:38:10   \n",
       "217    An independent, award-winning voice in print &...  2009-04-05 23:54:55   \n",
       "228    Boy Mom, Wife, Dog Mom, Suburban Woman, Proud ...  2020-08-20 00:23:15   \n",
       "...                                                  ...                  ...   \n",
       "39972  Sputnik V is the world’s first registered COVI...  2020-08-11 09:12:38   \n",
       "40003  Sputnik V is the world’s first registered COVI...  2020-08-11 09:12:38   \n",
       "40019  Sputnik V is the world’s first registered COVI...  2020-08-11 09:12:38   \n",
       "40143  Sputnik V is the world’s first registered COVI...  2020-08-11 09:12:38   \n",
       "40158  Sputnik V is the world’s first registered COVI...  2020-08-11 09:12:38   \n",
       "\n",
       "       user_followers  user_friends  user_favourites  user_verified  \\\n",
       "3               49165          3933            21853           True   \n",
       "182              2417          1725            11470          False   \n",
       "183              8410          2228            10393           True   \n",
       "217            440115            90            28034           True   \n",
       "228                 4           283              169          False   \n",
       "...               ...           ...              ...            ...   \n",
       "39972          231907           143              718           True   \n",
       "40003          231907           143              718           True   \n",
       "40019          231907           143              718           True   \n",
       "40143          231907           143              718           True   \n",
       "40158          231907           143              718           True   \n",
       "\n",
       "                      date                                               text  \\\n",
       "3      2020-12-12 20:23:59  Facts are immutable, Senator, even when you're...   \n",
       "182    2020-12-14 01:22:36  #HarHarMahadev 🙏\\nFirst batch of doses of #Pfi...   \n",
       "183    2020-12-14 01:00:18  Welcoming the 1st #COVID19vaccines to 🇨🇦 tonig...   \n",
       "217    2020-12-13 15:55:01  The newly approved #Vaccine for the #CCPVirus ...   \n",
       "228    2020-12-13 14:48:39  @JoJoFromJerz Someone should remind @tedcruz t...   \n",
       "...                    ...                                                ...   \n",
       "39972  2021-03-22 10:10:39  Just in the last 7 days, RDIF announced produc...   \n",
       "40003  2021-03-22 07:42:30  Watch this Channel One report about people fro...   \n",
       "40019  2021-03-22 06:01:51  Sputnik V leads all other vaccines on safety p...   \n",
       "40143  2021-03-21 10:42:51  Svenska Dagbladet: Several Swedish companies a...   \n",
       "40158  2021-03-21 09:01:25  Watch this NBC News report on #SputnikV succes...   \n",
       "\n",
       "                                                hashtags              source  \\\n",
       "3                                                    NaN     Twitter Web App   \n",
       "182    ['HarHarMahadev', 'Pfizer', 'BioNTech', 'Canada']     Twitter Web App   \n",
       "183                ['COVID19vaccines', 'PfizerBioNTech']  Twitter for iPhone   \n",
       "217                              ['Vaccine', 'CCPVirus']              Buffer   \n",
       "228              ['PfizerBioNTech', 'scienceovermorons']  Twitter for iPhone   \n",
       "...                                                  ...                 ...   \n",
       "39972                                                NaN     Twitter Web App   \n",
       "40003                                                NaN     Twitter Web App   \n",
       "40019                                       ['SputnikV']     Twitter Web App   \n",
       "40143                                       ['SputnikV']     Twitter Web App   \n",
       "40158                                       ['SputnikV']  Twitter for iPhone   \n",
       "\n",
       "       retweets  favorites  is_retweet  \n",
       "3           446       2129       False  \n",
       "182          37        170       False  \n",
       "183         284       1979       False  \n",
       "217          23        133       False  \n",
       "228           9        169       False  \n",
       "...         ...        ...         ...  \n",
       "39972        84        396       False  \n",
       "40003        51        153       False  \n",
       "40019       170        600       False  \n",
       "40143       175        608       False  \n",
       "40158        59        290       False  \n",
       "\n",
       "[685 rows x 16 columns]"
      ],
      "text/html": "<div>\n<style scoped>\n    .dataframe tbody tr th:only-of-type {\n        vertical-align: middle;\n    }\n\n    .dataframe tbody tr th {\n        vertical-align: top;\n    }\n\n    .dataframe thead th {\n        text-align: right;\n    }\n</style>\n<table border=\"1\" class=\"dataframe\">\n  <thead>\n    <tr style=\"text-align: right;\">\n      <th></th>\n      <th>id</th>\n      <th>user_name</th>\n      <th>user_location</th>\n      <th>user_description</th>\n      <th>user_created</th>\n      <th>user_followers</th>\n      <th>user_friends</th>\n      <th>user_favourites</th>\n      <th>user_verified</th>\n      <th>date</th>\n      <th>text</th>\n      <th>hashtags</th>\n      <th>source</th>\n      <th>retweets</th>\n      <th>favorites</th>\n      <th>is_retweet</th>\n    </tr>\n  </thead>\n  <tbody>\n    <tr>\n      <td>3</td>\n      <td>1337855739918835717</td>\n      <td>Charles Adler</td>\n      <td>Vancouver, BC - Canada</td>\n      <td>Hosting \"CharlesAdlerTonight\" Global News Radi...</td>\n      <td>2008-09-10 11:28:53</td>\n      <td>49165</td>\n      <td>3933</td>\n      <td>21853</td>\n      <td>True</td>\n      <td>2020-12-12 20:23:59</td>\n      <td>Facts are immutable, Senator, even when you're...</td>\n      <td>NaN</td>\n      <td>Twitter Web App</td>\n      <td>446</td>\n      <td>2129</td>\n      <td>False</td>\n    </tr>\n    <tr>\n      <td>182</td>\n      <td>1338293277058076672</td>\n      <td>Mohua Dutta</td>\n      <td>Shillong India Ottawa Canada</td>\n      <td>#Canadian #Entrepreneur #Spiritual 🕉#Int #Dire...</td>\n      <td>2020-04-13 11:13:45</td>\n      <td>2417</td>\n      <td>1725</td>\n      <td>11470</td>\n      <td>False</td>\n      <td>2020-12-14 01:22:36</td>\n      <td>#HarHarMahadev 🙏\\nFirst batch of doses of #Pfi...</td>\n      <td>['HarHarMahadev', 'Pfizer', 'BioNTech', 'Canada']</td>\n      <td>Twitter Web App</td>\n      <td>37</td>\n      <td>170</td>\n      <td>False</td>\n    </tr>\n    <tr>\n      <td>183</td>\n      <td>1338287664454393858</td>\n      <td>Anita Anand</td>\n      <td>Oakville, Ontario</td>\n      <td>MP for #Oakville &amp; Minister of Public Services...</td>\n      <td>2012-02-01 13:38:10</td>\n      <td>8410</td>\n      <td>2228</td>\n      <td>10393</td>\n      <td>True</td>\n      <td>2020-12-14 01:00:18</td>\n      <td>Welcoming the 1st #COVID19vaccines to 🇨🇦 tonig...</td>\n      <td>['COVID19vaccines', 'PfizerBioNTech']</td>\n      <td>Twitter for iPhone</td>\n      <td>284</td>\n      <td>1979</td>\n      <td>False</td>\n    </tr>\n    <tr>\n      <td>217</td>\n      <td>1338150440534466560</td>\n      <td>The Epoch Times</td>\n      <td>New York, USA</td>\n      <td>An independent, award-winning voice in print &amp;...</td>\n      <td>2009-04-05 23:54:55</td>\n      <td>440115</td>\n      <td>90</td>\n      <td>28034</td>\n      <td>True</td>\n      <td>2020-12-13 15:55:01</td>\n      <td>The newly approved #Vaccine for the #CCPVirus ...</td>\n      <td>['Vaccine', 'CCPVirus']</td>\n      <td>Buffer</td>\n      <td>23</td>\n      <td>133</td>\n      <td>False</td>\n    </tr>\n    <tr>\n      <td>228</td>\n      <td>1338133740195897347</td>\n      <td>SMB</td>\n      <td>NaN</td>\n      <td>Boy Mom, Wife, Dog Mom, Suburban Woman, Proud ...</td>\n      <td>2020-08-20 00:23:15</td>\n      <td>4</td>\n      <td>283</td>\n      <td>169</td>\n      <td>False</td>\n      <td>2020-12-13 14:48:39</td>\n      <td>@JoJoFromJerz Someone should remind @tedcruz t...</td>\n      <td>['PfizerBioNTech', 'scienceovermorons']</td>\n      <td>Twitter for iPhone</td>\n      <td>9</td>\n      <td>169</td>\n      <td>False</td>\n    </tr>\n    <tr>\n      <td>...</td>\n      <td>...</td>\n      <td>...</td>\n      <td>...</td>\n      <td>...</td>\n      <td>...</td>\n      <td>...</td>\n      <td>...</td>\n      <td>...</td>\n      <td>...</td>\n      <td>...</td>\n      <td>...</td>\n      <td>...</td>\n      <td>...</td>\n      <td>...</td>\n      <td>...</td>\n      <td>...</td>\n    </tr>\n    <tr>\n      <td>39972</td>\n      <td>1373940178683887625</td>\n      <td>Sputnik V</td>\n      <td>Moscow, Russia</td>\n      <td>Sputnik V is the world’s first registered COVI...</td>\n      <td>2020-08-11 09:12:38</td>\n      <td>231907</td>\n      <td>143</td>\n      <td>718</td>\n      <td>True</td>\n      <td>2021-03-22 10:10:39</td>\n      <td>Just in the last 7 days, RDIF announced produc...</td>\n      <td>NaN</td>\n      <td>Twitter Web App</td>\n      <td>84</td>\n      <td>396</td>\n      <td>False</td>\n    </tr>\n    <tr>\n      <td>40003</td>\n      <td>1373902895477882880</td>\n      <td>Sputnik V</td>\n      <td>Moscow, Russia</td>\n      <td>Sputnik V is the world’s first registered COVI...</td>\n      <td>2020-08-11 09:12:38</td>\n      <td>231907</td>\n      <td>143</td>\n      <td>718</td>\n      <td>True</td>\n      <td>2021-03-22 07:42:30</td>\n      <td>Watch this Channel One report about people fro...</td>\n      <td>NaN</td>\n      <td>Twitter Web App</td>\n      <td>51</td>\n      <td>153</td>\n      <td>False</td>\n    </tr>\n    <tr>\n      <td>40019</td>\n      <td>1373877564951965696</td>\n      <td>Sputnik V</td>\n      <td>Moscow, Russia</td>\n      <td>Sputnik V is the world’s first registered COVI...</td>\n      <td>2020-08-11 09:12:38</td>\n      <td>231907</td>\n      <td>143</td>\n      <td>718</td>\n      <td>True</td>\n      <td>2021-03-22 06:01:51</td>\n      <td>Sputnik V leads all other vaccines on safety p...</td>\n      <td>['SputnikV']</td>\n      <td>Twitter Web App</td>\n      <td>170</td>\n      <td>600</td>\n      <td>False</td>\n    </tr>\n    <tr>\n      <td>40143</td>\n      <td>1373585892141625345</td>\n      <td>Sputnik V</td>\n      <td>Moscow, Russia</td>\n      <td>Sputnik V is the world’s first registered COVI...</td>\n      <td>2020-08-11 09:12:38</td>\n      <td>231907</td>\n      <td>143</td>\n      <td>718</td>\n      <td>True</td>\n      <td>2021-03-21 10:42:51</td>\n      <td>Svenska Dagbladet: Several Swedish companies a...</td>\n      <td>['SputnikV']</td>\n      <td>Twitter Web App</td>\n      <td>175</td>\n      <td>608</td>\n      <td>False</td>\n    </tr>\n    <tr>\n      <td>40158</td>\n      <td>1373560364286291977</td>\n      <td>Sputnik V</td>\n      <td>Moscow, Russia</td>\n      <td>Sputnik V is the world’s first registered COVI...</td>\n      <td>2020-08-11 09:12:38</td>\n      <td>231907</td>\n      <td>143</td>\n      <td>718</td>\n      <td>True</td>\n      <td>2021-03-21 09:01:25</td>\n      <td>Watch this NBC News report on #SputnikV succes...</td>\n      <td>['SputnikV']</td>\n      <td>Twitter for iPhone</td>\n      <td>59</td>\n      <td>290</td>\n      <td>False</td>\n    </tr>\n  </tbody>\n</table>\n<p>685 rows × 16 columns</p>\n</div>"
     },
     "metadata": {},
     "execution_count": 34
    }
   ],
   "source": [
    "df[df.favorites > 100]"
   ]
  },
  {
   "cell_type": "code",
   "execution_count": 35,
   "metadata": {},
   "outputs": [
    {
     "output_type": "execute_result",
     "data": {
      "text/plain": [
       "                        id                    user_name  \\\n",
       "17118  1366365003968823296            Dr. S. Jaishankar   \n",
       "24268  1369208356968140802               Megh Updates 🚨   \n",
       "30800  1372004340563468288           Nagarjuna Akkineni   \n",
       "17543  1366306056826019840               Megh Updates 🚨   \n",
       "32213  1372566694833569792         The Hoarse Whisperer   \n",
       "...                    ...                          ...   \n",
       "19215  1367053861706489857               garth rapeport   \n",
       "19214  1367057007061139456              San Marco Press   \n",
       "19212  1367062075445493761  Sue Reeve ♥️🧡💛💚💙💜🇪🇺🏳️‍🌈🕊️🕷️   \n",
       "19211  1367067980538994693               Warrior Athena   \n",
       "40170  1373503451372552197                    M a r t í   \n",
       "\n",
       "                user_location  \\\n",
       "17118        New Delhi, India   \n",
       "24268  Turn on Notification 🔔   \n",
       "30800               hyderabad   \n",
       "17543  Turn on Notification 🔔   \n",
       "32213                     NaN   \n",
       "...                       ...   \n",
       "19215         London, England   \n",
       "19214           Venice, Italy   \n",
       "19212       Glasgow environs.   \n",
       "19211                     NaN   \n",
       "40170                  США 🇺🇸   \n",
       "\n",
       "                                        user_description         user_created  \\\n",
       "17118                 External Affairs Minister of India  2017-05-02 11:08:14   \n",
       "24268  Top News | Breaking | Real Time |\\n🛰 Observing...  2019-03-22 18:44:11   \n",
       "30800                                         film actor  2010-03-08 05:43:34   \n",
       "17543  Top News | Breaking | Real Time |\\n🛰 Observing...  2019-03-22 18:44:11   \n",
       "32213  “A Twitter rando” - Rolling Stone mag. Beer mo...  2016-10-08 02:05:30   \n",
       "...                                                  ...                  ...   \n",
       "19215  Garth Rapeport, Visiting Prof, NHLI, Imperial ...  2012-10-11 22:45:10   \n",
       "19214  Publisher of English/Italian books, specialisi...  2013-11-17 11:52:07   \n",
       "19212  Londoner now living in Glasgow suburbs via The...  2010-12-28 19:17:39   \n",
       "19211  Powerlifter, Bodybuilder, Macro Enthusiast, In...  2010-06-19 22:05:19   \n",
       "40170  El meu twitter en català, des dels Estats Unit...  2014-02-09 03:41:26   \n",
       "\n",
       "       user_followers  user_friends  user_favourites  user_verified  \\\n",
       "17118          962016             9              100           True   \n",
       "24268           88330           363            55368          False   \n",
       "30800         6190081             3               55           True   \n",
       "17543           84326           369            54384          False   \n",
       "32213          379874          1139            74745          False   \n",
       "...               ...           ...              ...            ...   \n",
       "19215             138           157               56          False   \n",
       "19214             258           145              254          False   \n",
       "19212            1412          2236            62272          False   \n",
       "19211            8123           856              688          False   \n",
       "40170              61           117               34          False   \n",
       "\n",
       "                      date                                               text  \\\n",
       "17118  2021-03-01 12:29:37  Got my jab. For the curious, it was #Covaxin. ...   \n",
       "24268  2021-03-09 08:48:05  #Covaxin 🇮🇳 , made by Hyderabad-based Bharat B...   \n",
       "30800  2021-03-17 01:58:20  Got my #covaxin jab yesterday .. absolutely no...   \n",
       "17543  2021-03-01 08:35:23  Prime Minister Narendra Modi choose early morn...   \n",
       "32213  2021-03-18 15:12:55  That. Just. Happened.\\n\\n#Moderna #CovidVaccin...   \n",
       "...                    ...                                                ...   \n",
       "19215  2021-03-03 10:06:53  Interpreting vaccine efficacy trial results fo...   \n",
       "19214  2021-03-03 10:19:23  #Covid19 #vaccinations a friend forwarded the ...   \n",
       "19212  2021-03-03 10:39:32  #DollyParton gets vaccinated with #Moderna jab...   \n",
       "19211  2021-03-03 11:03:00  And with zero 0️⃣⭕️🅾️ liability for it. #Death...   \n",
       "40170  2021-03-21 05:15:15  European micronation #SanMarino begins adminis...   \n",
       "\n",
       "                                                hashtags               source  \\\n",
       "17118                                        ['Covaxin']   Twitter for iPhone   \n",
       "24268                                        ['Covaxin']  Twitter for Android   \n",
       "30800                                        ['covaxin']   Twitter for iPhone   \n",
       "17543                                        ['covaxin']  Twitter for Android   \n",
       "32213  ['Moderna', 'CovidVaccine', 'ThankYouScience',...   Twitter for iPhone   \n",
       "...                                                  ...                  ...   \n",
       "19215                                        ['Moderna']      Twitter Web App   \n",
       "19214             ['Covid19', 'vaccinations', 'Belgium']      Twitter Web App   \n",
       "19212                         ['DollyParton', 'Moderna']     Twitter for iPad   \n",
       "19211  ['DeathRoulette', 'AstraZeneca', 'Covid19Vacci...   Twitter for iPhone   \n",
       "40170                          ['SanMarino', 'SputnikV']      Twitter Web App   \n",
       "\n",
       "       retweets  favorites  is_retweet  \n",
       "17118      2360      22815       False  \n",
       "24268      2095       9458       False  \n",
       "30800       728       8470       False  \n",
       "17543      1980       8153       False  \n",
       "32213       121       8098       False  \n",
       "...         ...        ...         ...  \n",
       "19215         0          0       False  \n",
       "19214         0          0       False  \n",
       "19212         0          0       False  \n",
       "19211         0          0       False  \n",
       "40170         0          0       False  \n",
       "\n",
       "[40171 rows x 16 columns]"
      ],
      "text/html": "<div>\n<style scoped>\n    .dataframe tbody tr th:only-of-type {\n        vertical-align: middle;\n    }\n\n    .dataframe tbody tr th {\n        vertical-align: top;\n    }\n\n    .dataframe thead th {\n        text-align: right;\n    }\n</style>\n<table border=\"1\" class=\"dataframe\">\n  <thead>\n    <tr style=\"text-align: right;\">\n      <th></th>\n      <th>id</th>\n      <th>user_name</th>\n      <th>user_location</th>\n      <th>user_description</th>\n      <th>user_created</th>\n      <th>user_followers</th>\n      <th>user_friends</th>\n      <th>user_favourites</th>\n      <th>user_verified</th>\n      <th>date</th>\n      <th>text</th>\n      <th>hashtags</th>\n      <th>source</th>\n      <th>retweets</th>\n      <th>favorites</th>\n      <th>is_retweet</th>\n    </tr>\n  </thead>\n  <tbody>\n    <tr>\n      <td>17118</td>\n      <td>1366365003968823296</td>\n      <td>Dr. S. Jaishankar</td>\n      <td>New Delhi, India</td>\n      <td>External Affairs Minister of India</td>\n      <td>2017-05-02 11:08:14</td>\n      <td>962016</td>\n      <td>9</td>\n      <td>100</td>\n      <td>True</td>\n      <td>2021-03-01 12:29:37</td>\n      <td>Got my jab. For the curious, it was #Covaxin. ...</td>\n      <td>['Covaxin']</td>\n      <td>Twitter for iPhone</td>\n      <td>2360</td>\n      <td>22815</td>\n      <td>False</td>\n    </tr>\n    <tr>\n      <td>24268</td>\n      <td>1369208356968140802</td>\n      <td>Megh Updates 🚨</td>\n      <td>Turn on Notification 🔔</td>\n      <td>Top News | Breaking | Real Time |\\n🛰 Observing...</td>\n      <td>2019-03-22 18:44:11</td>\n      <td>88330</td>\n      <td>363</td>\n      <td>55368</td>\n      <td>False</td>\n      <td>2021-03-09 08:48:05</td>\n      <td>#Covaxin 🇮🇳 , made by Hyderabad-based Bharat B...</td>\n      <td>['Covaxin']</td>\n      <td>Twitter for Android</td>\n      <td>2095</td>\n      <td>9458</td>\n      <td>False</td>\n    </tr>\n    <tr>\n      <td>30800</td>\n      <td>1372004340563468288</td>\n      <td>Nagarjuna Akkineni</td>\n      <td>hyderabad</td>\n      <td>film actor</td>\n      <td>2010-03-08 05:43:34</td>\n      <td>6190081</td>\n      <td>3</td>\n      <td>55</td>\n      <td>True</td>\n      <td>2021-03-17 01:58:20</td>\n      <td>Got my #covaxin jab yesterday .. absolutely no...</td>\n      <td>['covaxin']</td>\n      <td>Twitter for iPhone</td>\n      <td>728</td>\n      <td>8470</td>\n      <td>False</td>\n    </tr>\n    <tr>\n      <td>17543</td>\n      <td>1366306056826019840</td>\n      <td>Megh Updates 🚨</td>\n      <td>Turn on Notification 🔔</td>\n      <td>Top News | Breaking | Real Time |\\n🛰 Observing...</td>\n      <td>2019-03-22 18:44:11</td>\n      <td>84326</td>\n      <td>369</td>\n      <td>54384</td>\n      <td>False</td>\n      <td>2021-03-01 08:35:23</td>\n      <td>Prime Minister Narendra Modi choose early morn...</td>\n      <td>['covaxin']</td>\n      <td>Twitter for Android</td>\n      <td>1980</td>\n      <td>8153</td>\n      <td>False</td>\n    </tr>\n    <tr>\n      <td>32213</td>\n      <td>1372566694833569792</td>\n      <td>The Hoarse Whisperer</td>\n      <td>NaN</td>\n      <td>“A Twitter rando” - Rolling Stone mag. Beer mo...</td>\n      <td>2016-10-08 02:05:30</td>\n      <td>379874</td>\n      <td>1139</td>\n      <td>74745</td>\n      <td>False</td>\n      <td>2021-03-18 15:12:55</td>\n      <td>That. Just. Happened.\\n\\n#Moderna #CovidVaccin...</td>\n      <td>['Moderna', 'CovidVaccine', 'ThankYouScience',...</td>\n      <td>Twitter for iPhone</td>\n      <td>121</td>\n      <td>8098</td>\n      <td>False</td>\n    </tr>\n    <tr>\n      <td>...</td>\n      <td>...</td>\n      <td>...</td>\n      <td>...</td>\n      <td>...</td>\n      <td>...</td>\n      <td>...</td>\n      <td>...</td>\n      <td>...</td>\n      <td>...</td>\n      <td>...</td>\n      <td>...</td>\n      <td>...</td>\n      <td>...</td>\n      <td>...</td>\n      <td>...</td>\n      <td>...</td>\n    </tr>\n    <tr>\n      <td>19215</td>\n      <td>1367053861706489857</td>\n      <td>garth rapeport</td>\n      <td>London, England</td>\n      <td>Garth Rapeport, Visiting Prof, NHLI, Imperial ...</td>\n      <td>2012-10-11 22:45:10</td>\n      <td>138</td>\n      <td>157</td>\n      <td>56</td>\n      <td>False</td>\n      <td>2021-03-03 10:06:53</td>\n      <td>Interpreting vaccine efficacy trial results fo...</td>\n      <td>['Moderna']</td>\n      <td>Twitter Web App</td>\n      <td>0</td>\n      <td>0</td>\n      <td>False</td>\n    </tr>\n    <tr>\n      <td>19214</td>\n      <td>1367057007061139456</td>\n      <td>San Marco Press</td>\n      <td>Venice, Italy</td>\n      <td>Publisher of English/Italian books, specialisi...</td>\n      <td>2013-11-17 11:52:07</td>\n      <td>258</td>\n      <td>145</td>\n      <td>254</td>\n      <td>False</td>\n      <td>2021-03-03 10:19:23</td>\n      <td>#Covid19 #vaccinations a friend forwarded the ...</td>\n      <td>['Covid19', 'vaccinations', 'Belgium']</td>\n      <td>Twitter Web App</td>\n      <td>0</td>\n      <td>0</td>\n      <td>False</td>\n    </tr>\n    <tr>\n      <td>19212</td>\n      <td>1367062075445493761</td>\n      <td>Sue Reeve ♥️🧡💛💚💙💜🇪🇺🏳️‍🌈🕊️🕷️</td>\n      <td>Glasgow environs.</td>\n      <td>Londoner now living in Glasgow suburbs via The...</td>\n      <td>2010-12-28 19:17:39</td>\n      <td>1412</td>\n      <td>2236</td>\n      <td>62272</td>\n      <td>False</td>\n      <td>2021-03-03 10:39:32</td>\n      <td>#DollyParton gets vaccinated with #Moderna jab...</td>\n      <td>['DollyParton', 'Moderna']</td>\n      <td>Twitter for iPad</td>\n      <td>0</td>\n      <td>0</td>\n      <td>False</td>\n    </tr>\n    <tr>\n      <td>19211</td>\n      <td>1367067980538994693</td>\n      <td>Warrior Athena</td>\n      <td>NaN</td>\n      <td>Powerlifter, Bodybuilder, Macro Enthusiast, In...</td>\n      <td>2010-06-19 22:05:19</td>\n      <td>8123</td>\n      <td>856</td>\n      <td>688</td>\n      <td>False</td>\n      <td>2021-03-03 11:03:00</td>\n      <td>And with zero 0️⃣⭕️🅾️ liability for it. #Death...</td>\n      <td>['DeathRoulette', 'AstraZeneca', 'Covid19Vacci...</td>\n      <td>Twitter for iPhone</td>\n      <td>0</td>\n      <td>0</td>\n      <td>False</td>\n    </tr>\n    <tr>\n      <td>40170</td>\n      <td>1373503451372552197</td>\n      <td>M a r t í</td>\n      <td>США 🇺🇸</td>\n      <td>El meu twitter en català, des dels Estats Unit...</td>\n      <td>2014-02-09 03:41:26</td>\n      <td>61</td>\n      <td>117</td>\n      <td>34</td>\n      <td>False</td>\n      <td>2021-03-21 05:15:15</td>\n      <td>European micronation #SanMarino begins adminis...</td>\n      <td>['SanMarino', 'SputnikV']</td>\n      <td>Twitter Web App</td>\n      <td>0</td>\n      <td>0</td>\n      <td>False</td>\n    </tr>\n  </tbody>\n</table>\n<p>40171 rows × 16 columns</p>\n</div>"
     },
     "metadata": {},
     "execution_count": 35
    }
   ],
   "source": [
    "df.sort_values(by=\"favorites\", ascending=False)"
   ]
  },
  {
   "cell_type": "code",
   "execution_count": 36,
   "metadata": {},
   "outputs": [
    {
     "output_type": "execute_result",
     "data": {
      "text/plain": [
       "                        id                  user_name  \\\n",
       "17118  1366365003968823296          Dr. S. Jaishankar   \n",
       "7126   1359520343891841034       Robert F. Kennedy Jr   \n",
       "24268  1369208356968140802             Megh Updates 🚨   \n",
       "17543  1366306056826019840             Megh Updates 🚨   \n",
       "32831  1372559220688760836                  Sputnik V   \n",
       "...                    ...                        ...   \n",
       "15822  1365408083464380423                      Erica   \n",
       "15821  1365408647652790275  Deborah Tood🇨🇦🙋‍♀️🌎💡☕️🤝🇨🇱   \n",
       "15820  1365409927485865984           Legalize Liberty   \n",
       "15819  1365410598050226176             Kimberly McKay   \n",
       "40170  1373503451372552197                  M a r t í   \n",
       "\n",
       "                        user_location  \\\n",
       "17118                New Delhi, India   \n",
       "7126           Los Angles, California   \n",
       "24268          Turn on Notification 🔔   \n",
       "17543          Turn on Notification 🔔   \n",
       "32831                 Moscow, Russia    \n",
       "...                               ...   \n",
       "15822                   New York, USA   \n",
       "15821                         Toronto   \n",
       "15820  U.S. Brothel aka U.S. Congress   \n",
       "15819                    Oklalalahoma   \n",
       "40170                          США 🇺🇸   \n",
       "\n",
       "                                        user_description         user_created  \\\n",
       "17118                 External Affairs Minister of India  2017-05-02 11:08:14   \n",
       "7126   Robert F. Kennedy, Jr. is founder + chairman o...  2011-07-18 16:22:27   \n",
       "24268  Top News | Breaking | Real Time |\\n🛰 Observing...  2019-03-22 18:44:11   \n",
       "17543  Top News | Breaking | Real Time |\\n🛰 Observing...  2019-03-22 18:44:11   \n",
       "32831  Sputnik V is the world’s first registered COVI...  2020-08-11 09:12:38   \n",
       "...                                                  ...                  ...   \n",
       "15822  Tennis playing, outdoor loving, health educato...  2012-04-08 05:08:15   \n",
       "15821  OPPOSE Extremes:Left & Right. Fiscal Conservat...  2017-01-13 14:06:40   \n",
       "15820  Taxed out of the house I was raised in. Amazed...  2009-04-24 05:15:26   \n",
       "15819  Multi-genre #Author, Repped Screenwriter, Podc...  2007-05-09 14:09:32   \n",
       "40170  El meu twitter en català, des dels Estats Unit...  2014-02-09 03:41:26   \n",
       "\n",
       "       user_followers  user_friends  user_favourites  user_verified  \\\n",
       "17118          962016             9              100           True   \n",
       "7126           224642           594              114           True   \n",
       "24268           88330           363            55368          False   \n",
       "17543           84326           369            54384          False   \n",
       "32831          223700           142              678           True   \n",
       "...               ...           ...              ...            ...   \n",
       "15822             365          1157            30714          False   \n",
       "15821            1320           795            79434          False   \n",
       "15820             700            58              123          False   \n",
       "15819            8832          6927             9511          False   \n",
       "40170              61           117               34          False   \n",
       "\n",
       "                      date                                               text  \\\n",
       "17118  2021-03-01 12:29:37  Got my jab. For the curious, it was #Covaxin. ...   \n",
       "7126   2021-02-10 15:11:23  New research published in Microbiology &amp; I...   \n",
       "24268  2021-03-09 08:48:05  #Covaxin 🇮🇳 , made by Hyderabad-based Bharat B...   \n",
       "17543  2021-03-01 08:35:23  Prime Minister Narendra Modi choose early morn...   \n",
       "32831  2021-03-18 14:43:13  A batch of fake Sputnik V vaccines was confisc...   \n",
       "...                    ...                                                ...   \n",
       "15822  2021-02-26 21:07:09  Just got my first #moderna vaccine today! 🎉💉#1...   \n",
       "15821  2021-02-26 21:09:24  @skrymir42 @globeandmail #Pfizer and #Moderna ...   \n",
       "15820  2021-02-26 21:14:29  @megtirrell @TexasDSHS Why doesn't someone rep...   \n",
       "15819  2021-02-26 21:17:09  We just got our first round. #moderna https://...   \n",
       "40170  2021-03-21 05:15:15  European micronation #SanMarino begins adminis...   \n",
       "\n",
       "                                                hashtags               source  \\\n",
       "17118                                        ['Covaxin']   Twitter for iPhone   \n",
       "7126                                            ['mRNA']            TweetDeck   \n",
       "24268                                        ['Covaxin']  Twitter for Android   \n",
       "17543                                        ['covaxin']  Twitter for Android   \n",
       "32831                                       ['SputnikV']   Twitter for iPhone   \n",
       "...                                                  ...                  ...   \n",
       "15822  ['moderna', '1B', 'PublicHealth', 'GetVaccinat...   Twitter for iPhone   \n",
       "15821                              ['Pfizer', 'Moderna']   Twitter for iPhone   \n",
       "15820                                                NaN      Twitter Web App   \n",
       "15819                                        ['moderna']   Twitter for iPhone   \n",
       "40170                          ['SanMarino', 'SputnikV']      Twitter Web App   \n",
       "\n",
       "       retweets  favorites  is_retweet  \n",
       "17118      2360      22815       False  \n",
       "7126       2247       3090       False  \n",
       "24268      2095       9458       False  \n",
       "17543      1980       8153       False  \n",
       "32831      1980       3473       False  \n",
       "...         ...        ...         ...  \n",
       "15822         0          2       False  \n",
       "15821         0          0       False  \n",
       "15820         0          0       False  \n",
       "15819         0          4       False  \n",
       "40170         0          0       False  \n",
       "\n",
       "[40171 rows x 16 columns]"
      ],
      "text/html": "<div>\n<style scoped>\n    .dataframe tbody tr th:only-of-type {\n        vertical-align: middle;\n    }\n\n    .dataframe tbody tr th {\n        vertical-align: top;\n    }\n\n    .dataframe thead th {\n        text-align: right;\n    }\n</style>\n<table border=\"1\" class=\"dataframe\">\n  <thead>\n    <tr style=\"text-align: right;\">\n      <th></th>\n      <th>id</th>\n      <th>user_name</th>\n      <th>user_location</th>\n      <th>user_description</th>\n      <th>user_created</th>\n      <th>user_followers</th>\n      <th>user_friends</th>\n      <th>user_favourites</th>\n      <th>user_verified</th>\n      <th>date</th>\n      <th>text</th>\n      <th>hashtags</th>\n      <th>source</th>\n      <th>retweets</th>\n      <th>favorites</th>\n      <th>is_retweet</th>\n    </tr>\n  </thead>\n  <tbody>\n    <tr>\n      <td>17118</td>\n      <td>1366365003968823296</td>\n      <td>Dr. S. Jaishankar</td>\n      <td>New Delhi, India</td>\n      <td>External Affairs Minister of India</td>\n      <td>2017-05-02 11:08:14</td>\n      <td>962016</td>\n      <td>9</td>\n      <td>100</td>\n      <td>True</td>\n      <td>2021-03-01 12:29:37</td>\n      <td>Got my jab. For the curious, it was #Covaxin. ...</td>\n      <td>['Covaxin']</td>\n      <td>Twitter for iPhone</td>\n      <td>2360</td>\n      <td>22815</td>\n      <td>False</td>\n    </tr>\n    <tr>\n      <td>7126</td>\n      <td>1359520343891841034</td>\n      <td>Robert F. Kennedy Jr</td>\n      <td>Los Angles, California</td>\n      <td>Robert F. Kennedy, Jr. is founder + chairman o...</td>\n      <td>2011-07-18 16:22:27</td>\n      <td>224642</td>\n      <td>594</td>\n      <td>114</td>\n      <td>True</td>\n      <td>2021-02-10 15:11:23</td>\n      <td>New research published in Microbiology &amp;amp; I...</td>\n      <td>['mRNA']</td>\n      <td>TweetDeck</td>\n      <td>2247</td>\n      <td>3090</td>\n      <td>False</td>\n    </tr>\n    <tr>\n      <td>24268</td>\n      <td>1369208356968140802</td>\n      <td>Megh Updates 🚨</td>\n      <td>Turn on Notification 🔔</td>\n      <td>Top News | Breaking | Real Time |\\n🛰 Observing...</td>\n      <td>2019-03-22 18:44:11</td>\n      <td>88330</td>\n      <td>363</td>\n      <td>55368</td>\n      <td>False</td>\n      <td>2021-03-09 08:48:05</td>\n      <td>#Covaxin 🇮🇳 , made by Hyderabad-based Bharat B...</td>\n      <td>['Covaxin']</td>\n      <td>Twitter for Android</td>\n      <td>2095</td>\n      <td>9458</td>\n      <td>False</td>\n    </tr>\n    <tr>\n      <td>17543</td>\n      <td>1366306056826019840</td>\n      <td>Megh Updates 🚨</td>\n      <td>Turn on Notification 🔔</td>\n      <td>Top News | Breaking | Real Time |\\n🛰 Observing...</td>\n      <td>2019-03-22 18:44:11</td>\n      <td>84326</td>\n      <td>369</td>\n      <td>54384</td>\n      <td>False</td>\n      <td>2021-03-01 08:35:23</td>\n      <td>Prime Minister Narendra Modi choose early morn...</td>\n      <td>['covaxin']</td>\n      <td>Twitter for Android</td>\n      <td>1980</td>\n      <td>8153</td>\n      <td>False</td>\n    </tr>\n    <tr>\n      <td>32831</td>\n      <td>1372559220688760836</td>\n      <td>Sputnik V</td>\n      <td>Moscow, Russia</td>\n      <td>Sputnik V is the world’s first registered COVI...</td>\n      <td>2020-08-11 09:12:38</td>\n      <td>223700</td>\n      <td>142</td>\n      <td>678</td>\n      <td>True</td>\n      <td>2021-03-18 14:43:13</td>\n      <td>A batch of fake Sputnik V vaccines was confisc...</td>\n      <td>['SputnikV']</td>\n      <td>Twitter for iPhone</td>\n      <td>1980</td>\n      <td>3473</td>\n      <td>False</td>\n    </tr>\n    <tr>\n      <td>...</td>\n      <td>...</td>\n      <td>...</td>\n      <td>...</td>\n      <td>...</td>\n      <td>...</td>\n      <td>...</td>\n      <td>...</td>\n      <td>...</td>\n      <td>...</td>\n      <td>...</td>\n      <td>...</td>\n      <td>...</td>\n      <td>...</td>\n      <td>...</td>\n      <td>...</td>\n      <td>...</td>\n    </tr>\n    <tr>\n      <td>15822</td>\n      <td>1365408083464380423</td>\n      <td>Erica</td>\n      <td>New York, USA</td>\n      <td>Tennis playing, outdoor loving, health educato...</td>\n      <td>2012-04-08 05:08:15</td>\n      <td>365</td>\n      <td>1157</td>\n      <td>30714</td>\n      <td>False</td>\n      <td>2021-02-26 21:07:09</td>\n      <td>Just got my first #moderna vaccine today! 🎉💉#1...</td>\n      <td>['moderna', '1B', 'PublicHealth', 'GetVaccinat...</td>\n      <td>Twitter for iPhone</td>\n      <td>0</td>\n      <td>2</td>\n      <td>False</td>\n    </tr>\n    <tr>\n      <td>15821</td>\n      <td>1365408647652790275</td>\n      <td>Deborah Tood🇨🇦🙋‍♀️🌎💡☕️🤝🇨🇱</td>\n      <td>Toronto</td>\n      <td>OPPOSE Extremes:Left &amp; Right. Fiscal Conservat...</td>\n      <td>2017-01-13 14:06:40</td>\n      <td>1320</td>\n      <td>795</td>\n      <td>79434</td>\n      <td>False</td>\n      <td>2021-02-26 21:09:24</td>\n      <td>@skrymir42 @globeandmail #Pfizer and #Moderna ...</td>\n      <td>['Pfizer', 'Moderna']</td>\n      <td>Twitter for iPhone</td>\n      <td>0</td>\n      <td>0</td>\n      <td>False</td>\n    </tr>\n    <tr>\n      <td>15820</td>\n      <td>1365409927485865984</td>\n      <td>Legalize Liberty</td>\n      <td>U.S. Brothel aka U.S. Congress</td>\n      <td>Taxed out of the house I was raised in. Amazed...</td>\n      <td>2009-04-24 05:15:26</td>\n      <td>700</td>\n      <td>58</td>\n      <td>123</td>\n      <td>False</td>\n      <td>2021-02-26 21:14:29</td>\n      <td>@megtirrell @TexasDSHS Why doesn't someone rep...</td>\n      <td>NaN</td>\n      <td>Twitter Web App</td>\n      <td>0</td>\n      <td>0</td>\n      <td>False</td>\n    </tr>\n    <tr>\n      <td>15819</td>\n      <td>1365410598050226176</td>\n      <td>Kimberly McKay</td>\n      <td>Oklalalahoma</td>\n      <td>Multi-genre #Author, Repped Screenwriter, Podc...</td>\n      <td>2007-05-09 14:09:32</td>\n      <td>8832</td>\n      <td>6927</td>\n      <td>9511</td>\n      <td>False</td>\n      <td>2021-02-26 21:17:09</td>\n      <td>We just got our first round. #moderna https://...</td>\n      <td>['moderna']</td>\n      <td>Twitter for iPhone</td>\n      <td>0</td>\n      <td>4</td>\n      <td>False</td>\n    </tr>\n    <tr>\n      <td>40170</td>\n      <td>1373503451372552197</td>\n      <td>M a r t í</td>\n      <td>США 🇺🇸</td>\n      <td>El meu twitter en català, des dels Estats Unit...</td>\n      <td>2014-02-09 03:41:26</td>\n      <td>61</td>\n      <td>117</td>\n      <td>34</td>\n      <td>False</td>\n      <td>2021-03-21 05:15:15</td>\n      <td>European micronation #SanMarino begins adminis...</td>\n      <td>['SanMarino', 'SputnikV']</td>\n      <td>Twitter Web App</td>\n      <td>0</td>\n      <td>0</td>\n      <td>False</td>\n    </tr>\n  </tbody>\n</table>\n<p>40171 rows × 16 columns</p>\n</div>"
     },
     "metadata": {},
     "execution_count": 36
    }
   ],
   "source": [
    "df.sort_values(by=\"retweets\", ascending=False)"
   ]
  },
  {
   "cell_type": "code",
   "execution_count": 37,
   "metadata": {},
   "outputs": [
    {
     "output_type": "execute_result",
     "data": {
      "text/plain": [
       "                        id                   user_name  \\\n",
       "0      1340539111971516416                  Rachel Roh   \n",
       "1      1338158543359250433                 Albert Fong   \n",
       "2      1337858199140118533                    eli🇱🇹🇪🇺👌   \n",
       "4      1337854064604966912        Citizen News Channel   \n",
       "8      1337850023531347969                 Erin Despas   \n",
       "...                    ...                         ...   \n",
       "40166  1373522034903420929  Stankevicius International   \n",
       "40167  1373517049184587776         Emanuele Capobianco   \n",
       "40168  1373514710033821705                          RT   \n",
       "40169  1373512948417695746             Sunday Observer   \n",
       "40170  1373503451372552197                   M a r t í   \n",
       "\n",
       "                   user_location  \\\n",
       "0      La Crescenta-Montrose, CA   \n",
       "1              San Francisco, CA   \n",
       "2                       Your Bed   \n",
       "4                            NaN   \n",
       "8                            NaN   \n",
       "...                          ...   \n",
       "40166            Dublin, Ireland   \n",
       "40167        Geneva, Switzerland   \n",
       "40168                        NaN   \n",
       "40169                  Sri Lanka   \n",
       "40170                     США 🇺🇸   \n",
       "\n",
       "                                        user_description         user_created  \\\n",
       "0      Aggregator of Asian American news; scanning di...  2009-04-08 17:52:46   \n",
       "1      Marketing dude, tech geek, heavy metal & '80s ...  2009-09-21 15:27:30   \n",
       "2                                         heil, hydra 🖐☺  2020-06-25 23:30:28   \n",
       "4      Citizen News Channel bringing you an alternati...  2020-04-23 17:58:42   \n",
       "8      Designing&selling on Teespring. Like 90s Disne...  2009-10-30 17:53:54   \n",
       "...                                                  ...                  ...   \n",
       "40166  Professional trading consultant specializing i...  2020-06-30 12:31:42   \n",
       "40167  Director Health & Care, International Federati...  2009-04-13 09:56:49   \n",
       "40168  Freedom over censorship, truth over narrative\\...  2009-08-11 06:12:45   \n",
       "40169  Sri Lanka's oldest and the most circulated wee...  2017-02-07 02:59:59   \n",
       "40170  El meu twitter en català, des dels Estats Unit...  2014-02-09 03:41:26   \n",
       "\n",
       "       user_followers  user_friends  user_favourites  user_verified  \\\n",
       "0                 405          1692             3247          False   \n",
       "1                 834           666              178          False   \n",
       "2                  10            88              155          False   \n",
       "4                 152           580             1473          False   \n",
       "8                 887          1515             9639          False   \n",
       "...               ...           ...              ...            ...   \n",
       "40166              16             3                0          False   \n",
       "40167            3242           824             5665           True   \n",
       "40168         2996352           680             1880           True   \n",
       "40169            6590            75              455          False   \n",
       "40170              61           117               34          False   \n",
       "\n",
       "                      date                                               text  \\\n",
       "0      2020-12-20 06:06:44  Same folks said daikon paste could treat a cyt...   \n",
       "1      2020-12-13 16:27:13  While the world has been on the wrong side of ...   \n",
       "2      2020-12-12 20:33:45  #coronavirus #SputnikV #AstraZeneca #PfizerBio...   \n",
       "4      2020-12-12 20:17:19  Explain to me again why we need a vaccine @Bor...   \n",
       "8      2020-12-12 20:01:16  Covid vaccine; You getting it?\\n\\n #CovidVacci...   \n",
       "...                    ...                                                ...   \n",
       "40166  2021-03-21 06:29:06  Selling: #NitrileGloves, #1860 #FaceMasks, #Va...   \n",
       "40167  2021-03-21 06:09:17  Limited vaccine manufacturing capacity is a ma...   \n",
       "40168  2021-03-21 06:00:00  Trust in #AstraZeneca jab in Europe has been s...   \n",
       "40169  2021-03-21 05:53:00  State Minister of Production, Supply and Regul...   \n",
       "40170  2021-03-21 05:15:15  European micronation #SanMarino begins adminis...   \n",
       "\n",
       "                                                hashtags  \\\n",
       "0                                     ['PfizerBioNTech']   \n",
       "1                                                    NaN   \n",
       "2      ['coronavirus', 'SputnikV', 'AstraZeneca', 'Pf...   \n",
       "4         ['whereareallthesickpeople', 'PfizerBioNTech']   \n",
       "8      ['CovidVaccine', 'covid19', 'PfizerBioNTech', ...   \n",
       "...                                                  ...   \n",
       "40166  ['NitrileGloves', 'FaceMasks', 'Vaccines', 'Sp...   \n",
       "40167                                        ['covid19']   \n",
       "40168                                    ['AstraZeneca']   \n",
       "40169                                                NaN   \n",
       "40170                          ['SanMarino', 'SputnikV']   \n",
       "\n",
       "                     source  retweets  favorites  is_retweet  \n",
       "0       Twitter for Android         0          0       False  \n",
       "1           Twitter Web App         1          1       False  \n",
       "2       Twitter for Android         0          0       False  \n",
       "4        Twitter for iPhone         0          0       False  \n",
       "8           Twitter Web App         2          1       False  \n",
       "...                     ...       ...        ...         ...  \n",
       "40166                 IFTTT         1          0       False  \n",
       "40167    Twitter for iPhone         0          2       False  \n",
       "40168  Twitter Media Studio        25         49       False  \n",
       "40169             TweetDeck         1          2       False  \n",
       "40170       Twitter Web App         0          0       False  \n",
       "\n",
       "[22483 rows x 16 columns]"
      ],
      "text/html": "<div>\n<style scoped>\n    .dataframe tbody tr th:only-of-type {\n        vertical-align: middle;\n    }\n\n    .dataframe tbody tr th {\n        vertical-align: top;\n    }\n\n    .dataframe thead th {\n        text-align: right;\n    }\n</style>\n<table border=\"1\" class=\"dataframe\">\n  <thead>\n    <tr style=\"text-align: right;\">\n      <th></th>\n      <th>id</th>\n      <th>user_name</th>\n      <th>user_location</th>\n      <th>user_description</th>\n      <th>user_created</th>\n      <th>user_followers</th>\n      <th>user_friends</th>\n      <th>user_favourites</th>\n      <th>user_verified</th>\n      <th>date</th>\n      <th>text</th>\n      <th>hashtags</th>\n      <th>source</th>\n      <th>retweets</th>\n      <th>favorites</th>\n      <th>is_retweet</th>\n    </tr>\n  </thead>\n  <tbody>\n    <tr>\n      <td>0</td>\n      <td>1340539111971516416</td>\n      <td>Rachel Roh</td>\n      <td>La Crescenta-Montrose, CA</td>\n      <td>Aggregator of Asian American news; scanning di...</td>\n      <td>2009-04-08 17:52:46</td>\n      <td>405</td>\n      <td>1692</td>\n      <td>3247</td>\n      <td>False</td>\n      <td>2020-12-20 06:06:44</td>\n      <td>Same folks said daikon paste could treat a cyt...</td>\n      <td>['PfizerBioNTech']</td>\n      <td>Twitter for Android</td>\n      <td>0</td>\n      <td>0</td>\n      <td>False</td>\n    </tr>\n    <tr>\n      <td>1</td>\n      <td>1338158543359250433</td>\n      <td>Albert Fong</td>\n      <td>San Francisco, CA</td>\n      <td>Marketing dude, tech geek, heavy metal &amp; '80s ...</td>\n      <td>2009-09-21 15:27:30</td>\n      <td>834</td>\n      <td>666</td>\n      <td>178</td>\n      <td>False</td>\n      <td>2020-12-13 16:27:13</td>\n      <td>While the world has been on the wrong side of ...</td>\n      <td>NaN</td>\n      <td>Twitter Web App</td>\n      <td>1</td>\n      <td>1</td>\n      <td>False</td>\n    </tr>\n    <tr>\n      <td>2</td>\n      <td>1337858199140118533</td>\n      <td>eli🇱🇹🇪🇺👌</td>\n      <td>Your Bed</td>\n      <td>heil, hydra 🖐☺</td>\n      <td>2020-06-25 23:30:28</td>\n      <td>10</td>\n      <td>88</td>\n      <td>155</td>\n      <td>False</td>\n      <td>2020-12-12 20:33:45</td>\n      <td>#coronavirus #SputnikV #AstraZeneca #PfizerBio...</td>\n      <td>['coronavirus', 'SputnikV', 'AstraZeneca', 'Pf...</td>\n      <td>Twitter for Android</td>\n      <td>0</td>\n      <td>0</td>\n      <td>False</td>\n    </tr>\n    <tr>\n      <td>4</td>\n      <td>1337854064604966912</td>\n      <td>Citizen News Channel</td>\n      <td>NaN</td>\n      <td>Citizen News Channel bringing you an alternati...</td>\n      <td>2020-04-23 17:58:42</td>\n      <td>152</td>\n      <td>580</td>\n      <td>1473</td>\n      <td>False</td>\n      <td>2020-12-12 20:17:19</td>\n      <td>Explain to me again why we need a vaccine @Bor...</td>\n      <td>['whereareallthesickpeople', 'PfizerBioNTech']</td>\n      <td>Twitter for iPhone</td>\n      <td>0</td>\n      <td>0</td>\n      <td>False</td>\n    </tr>\n    <tr>\n      <td>8</td>\n      <td>1337850023531347969</td>\n      <td>Erin Despas</td>\n      <td>NaN</td>\n      <td>Designing&amp;selling on Teespring. Like 90s Disne...</td>\n      <td>2009-10-30 17:53:54</td>\n      <td>887</td>\n      <td>1515</td>\n      <td>9639</td>\n      <td>False</td>\n      <td>2020-12-12 20:01:16</td>\n      <td>Covid vaccine; You getting it?\\n\\n #CovidVacci...</td>\n      <td>['CovidVaccine', 'covid19', 'PfizerBioNTech', ...</td>\n      <td>Twitter Web App</td>\n      <td>2</td>\n      <td>1</td>\n      <td>False</td>\n    </tr>\n    <tr>\n      <td>...</td>\n      <td>...</td>\n      <td>...</td>\n      <td>...</td>\n      <td>...</td>\n      <td>...</td>\n      <td>...</td>\n      <td>...</td>\n      <td>...</td>\n      <td>...</td>\n      <td>...</td>\n      <td>...</td>\n      <td>...</td>\n      <td>...</td>\n      <td>...</td>\n      <td>...</td>\n      <td>...</td>\n    </tr>\n    <tr>\n      <td>40166</td>\n      <td>1373522034903420929</td>\n      <td>Stankevicius International</td>\n      <td>Dublin, Ireland</td>\n      <td>Professional trading consultant specializing i...</td>\n      <td>2020-06-30 12:31:42</td>\n      <td>16</td>\n      <td>3</td>\n      <td>0</td>\n      <td>False</td>\n      <td>2021-03-21 06:29:06</td>\n      <td>Selling: #NitrileGloves, #1860 #FaceMasks, #Va...</td>\n      <td>['NitrileGloves', 'FaceMasks', 'Vaccines', 'Sp...</td>\n      <td>IFTTT</td>\n      <td>1</td>\n      <td>0</td>\n      <td>False</td>\n    </tr>\n    <tr>\n      <td>40167</td>\n      <td>1373517049184587776</td>\n      <td>Emanuele Capobianco</td>\n      <td>Geneva, Switzerland</td>\n      <td>Director Health &amp; Care, International Federati...</td>\n      <td>2009-04-13 09:56:49</td>\n      <td>3242</td>\n      <td>824</td>\n      <td>5665</td>\n      <td>True</td>\n      <td>2021-03-21 06:09:17</td>\n      <td>Limited vaccine manufacturing capacity is a ma...</td>\n      <td>['covid19']</td>\n      <td>Twitter for iPhone</td>\n      <td>0</td>\n      <td>2</td>\n      <td>False</td>\n    </tr>\n    <tr>\n      <td>40168</td>\n      <td>1373514710033821705</td>\n      <td>RT</td>\n      <td>NaN</td>\n      <td>Freedom over censorship, truth over narrative\\...</td>\n      <td>2009-08-11 06:12:45</td>\n      <td>2996352</td>\n      <td>680</td>\n      <td>1880</td>\n      <td>True</td>\n      <td>2021-03-21 06:00:00</td>\n      <td>Trust in #AstraZeneca jab in Europe has been s...</td>\n      <td>['AstraZeneca']</td>\n      <td>Twitter Media Studio</td>\n      <td>25</td>\n      <td>49</td>\n      <td>False</td>\n    </tr>\n    <tr>\n      <td>40169</td>\n      <td>1373512948417695746</td>\n      <td>Sunday Observer</td>\n      <td>Sri Lanka</td>\n      <td>Sri Lanka's oldest and the most circulated wee...</td>\n      <td>2017-02-07 02:59:59</td>\n      <td>6590</td>\n      <td>75</td>\n      <td>455</td>\n      <td>False</td>\n      <td>2021-03-21 05:53:00</td>\n      <td>State Minister of Production, Supply and Regul...</td>\n      <td>NaN</td>\n      <td>TweetDeck</td>\n      <td>1</td>\n      <td>2</td>\n      <td>False</td>\n    </tr>\n    <tr>\n      <td>40170</td>\n      <td>1373503451372552197</td>\n      <td>M a r t í</td>\n      <td>США 🇺🇸</td>\n      <td>El meu twitter en català, des dels Estats Unit...</td>\n      <td>2014-02-09 03:41:26</td>\n      <td>61</td>\n      <td>117</td>\n      <td>34</td>\n      <td>False</td>\n      <td>2021-03-21 05:15:15</td>\n      <td>European micronation #SanMarino begins adminis...</td>\n      <td>['SanMarino', 'SputnikV']</td>\n      <td>Twitter Web App</td>\n      <td>0</td>\n      <td>0</td>\n      <td>False</td>\n    </tr>\n  </tbody>\n</table>\n<p>22483 rows × 16 columns</p>\n</div>"
     },
     "metadata": {},
     "execution_count": 37
    }
   ],
   "source": [
    "#unique users\n",
    "df.drop_duplicates('user_name', keep='last')"
   ]
  },
  {
   "cell_type": "code",
   "execution_count": 38,
   "metadata": {},
   "outputs": [
    {
     "output_type": "execute_result",
     "data": {
      "text/plain": [
       "                        id                  user_name           user_location  \\\n",
       "17118  1366365003968823296          Dr. S. Jaishankar        New Delhi, India   \n",
       "24268  1369208356968140802             Megh Updates 🚨  Turn on Notification 🔔   \n",
       "30800  1372004340563468288         Nagarjuna Akkineni               hyderabad   \n",
       "17543  1366306056826019840             Megh Updates 🚨  Turn on Notification 🔔   \n",
       "32213  1372566694833569792       The Hoarse Whisperer                     NaN   \n",
       "...                    ...                        ...                     ...   \n",
       "40160  1373553275224657923                       Umer       Karachi, Pakistan   \n",
       "40161  1373551654994329603          Nicola Facciolini                L'Aquila   \n",
       "40162  1373544337607376902           Muhammad Shahzeb               Islamabad   \n",
       "40163  1373539685683896320  Philipp Grätzel von Grätz                  Berlin   \n",
       "40170  1373503451372552197                  M a r t í                  США 🇺🇸   \n",
       "\n",
       "                                        user_description         user_created  \\\n",
       "17118                 External Affairs Minister of India  2017-05-02 11:08:14   \n",
       "24268  Top News | Breaking | Real Time |\\n🛰 Observing...  2019-03-22 18:44:11   \n",
       "30800                                         film actor  2010-03-08 05:43:34   \n",
       "17543  Top News | Breaking | Real Time |\\n🛰 Observing...  2019-03-22 18:44:11   \n",
       "32213  “A Twitter rando” - Rolling Stone mag. Beer mo...  2016-10-08 02:05:30   \n",
       "...                                                  ...                  ...   \n",
       "40160                                                NaN  2011-04-04 10:02:29   \n",
       "40161                                 Science Journalist  2009-05-16 08:28:23   \n",
       "40162  Proud Pakistani, cricket lover, chicken ka dus...  2016-01-22 10:09:55   \n",
       "40163  Medicine, photography. MD. MSc SciComm #Imperi...  2016-11-06 20:00:58   \n",
       "40170  El meu twitter en català, des dels Estats Unit...  2014-02-09 03:41:26   \n",
       "\n",
       "       user_followers  user_friends  user_favourites  user_verified  \\\n",
       "17118          962016             9              100           True   \n",
       "24268           88330           363            55368          False   \n",
       "30800         6190081             3               55           True   \n",
       "17543           84326           369            54384          False   \n",
       "32213          379874          1139            74745          False   \n",
       "...               ...           ...              ...            ...   \n",
       "40160             364           422              816          False   \n",
       "40161             648          1721            83694          False   \n",
       "40162             552           240             4772          False   \n",
       "40163            1431           995             1897          False   \n",
       "40170              61           117               34          False   \n",
       "\n",
       "                      date                                               text  \\\n",
       "17118  2021-03-01 12:29:37  Got my jab. For the curious, it was #Covaxin. ...   \n",
       "24268  2021-03-09 08:48:05  #Covaxin 🇮🇳 , made by Hyderabad-based Bharat B...   \n",
       "30800  2021-03-17 01:58:20  Got my #covaxin jab yesterday .. absolutely no...   \n",
       "17543  2021-03-01 08:35:23  Prime Minister Narendra Modi choose early morn...   \n",
       "32213  2021-03-18 15:12:55  That. Just. Happened.\\n\\n#Moderna #CovidVaccin...   \n",
       "...                    ...                                                ...   \n",
       "40160  2021-03-21 08:33:14  Official price cap for Covid19 vaccine Sputnik...   \n",
       "40161  2021-03-21 08:26:48  @mod_russia #SputnikV to #Italy. God Bless Hol...   \n",
       "40162  2021-03-21 07:57:43  Govt allows Private sector  to sell Russian va...   \n",
       "40163  2021-03-21 07:39:14  Pretty good overview on the stuttering #SarsCo...   \n",
       "40170  2021-03-21 05:15:15  European micronation #SanMarino begins adminis...   \n",
       "\n",
       "                                                hashtags               source  \\\n",
       "17118                                        ['Covaxin']   Twitter for iPhone   \n",
       "24268                                        ['Covaxin']  Twitter for Android   \n",
       "30800                                        ['covaxin']   Twitter for iPhone   \n",
       "17543                                        ['covaxin']  Twitter for Android   \n",
       "32213  ['Moderna', 'CovidVaccine', 'ThankYouScience',...   Twitter for iPhone   \n",
       "...                                                  ...                  ...   \n",
       "40160                           ['Pakistan', 'SputnikV']   Twitter for iPhone   \n",
       "40161                    ['SputnikV', 'Italy', 'Russia']  Twitter for Android   \n",
       "40162                                                NaN  Twitter for Android   \n",
       "40163                                       ['SarsCoV2']   Twitter for iPhone   \n",
       "40170                          ['SanMarino', 'SputnikV']      Twitter Web App   \n",
       "\n",
       "       retweets  favorites  is_retweet  \n",
       "17118      2360      22815       False  \n",
       "24268      2095       9458       False  \n",
       "30800       728       8470       False  \n",
       "17543      1980       8153       False  \n",
       "32213       121       8098       False  \n",
       "...         ...        ...         ...  \n",
       "40160         0          0       False  \n",
       "40161         0          0       False  \n",
       "40162         0          0       False  \n",
       "40163         0          0       False  \n",
       "40170         0          0       False  \n",
       "\n",
       "[40171 rows x 16 columns]"
      ],
      "text/html": "<div>\n<style scoped>\n    .dataframe tbody tr th:only-of-type {\n        vertical-align: middle;\n    }\n\n    .dataframe tbody tr th {\n        vertical-align: top;\n    }\n\n    .dataframe thead th {\n        text-align: right;\n    }\n</style>\n<table border=\"1\" class=\"dataframe\">\n  <thead>\n    <tr style=\"text-align: right;\">\n      <th></th>\n      <th>id</th>\n      <th>user_name</th>\n      <th>user_location</th>\n      <th>user_description</th>\n      <th>user_created</th>\n      <th>user_followers</th>\n      <th>user_friends</th>\n      <th>user_favourites</th>\n      <th>user_verified</th>\n      <th>date</th>\n      <th>text</th>\n      <th>hashtags</th>\n      <th>source</th>\n      <th>retweets</th>\n      <th>favorites</th>\n      <th>is_retweet</th>\n    </tr>\n  </thead>\n  <tbody>\n    <tr>\n      <td>17118</td>\n      <td>1366365003968823296</td>\n      <td>Dr. S. Jaishankar</td>\n      <td>New Delhi, India</td>\n      <td>External Affairs Minister of India</td>\n      <td>2017-05-02 11:08:14</td>\n      <td>962016</td>\n      <td>9</td>\n      <td>100</td>\n      <td>True</td>\n      <td>2021-03-01 12:29:37</td>\n      <td>Got my jab. For the curious, it was #Covaxin. ...</td>\n      <td>['Covaxin']</td>\n      <td>Twitter for iPhone</td>\n      <td>2360</td>\n      <td>22815</td>\n      <td>False</td>\n    </tr>\n    <tr>\n      <td>24268</td>\n      <td>1369208356968140802</td>\n      <td>Megh Updates 🚨</td>\n      <td>Turn on Notification 🔔</td>\n      <td>Top News | Breaking | Real Time |\\n🛰 Observing...</td>\n      <td>2019-03-22 18:44:11</td>\n      <td>88330</td>\n      <td>363</td>\n      <td>55368</td>\n      <td>False</td>\n      <td>2021-03-09 08:48:05</td>\n      <td>#Covaxin 🇮🇳 , made by Hyderabad-based Bharat B...</td>\n      <td>['Covaxin']</td>\n      <td>Twitter for Android</td>\n      <td>2095</td>\n      <td>9458</td>\n      <td>False</td>\n    </tr>\n    <tr>\n      <td>30800</td>\n      <td>1372004340563468288</td>\n      <td>Nagarjuna Akkineni</td>\n      <td>hyderabad</td>\n      <td>film actor</td>\n      <td>2010-03-08 05:43:34</td>\n      <td>6190081</td>\n      <td>3</td>\n      <td>55</td>\n      <td>True</td>\n      <td>2021-03-17 01:58:20</td>\n      <td>Got my #covaxin jab yesterday .. absolutely no...</td>\n      <td>['covaxin']</td>\n      <td>Twitter for iPhone</td>\n      <td>728</td>\n      <td>8470</td>\n      <td>False</td>\n    </tr>\n    <tr>\n      <td>17543</td>\n      <td>1366306056826019840</td>\n      <td>Megh Updates 🚨</td>\n      <td>Turn on Notification 🔔</td>\n      <td>Top News | Breaking | Real Time |\\n🛰 Observing...</td>\n      <td>2019-03-22 18:44:11</td>\n      <td>84326</td>\n      <td>369</td>\n      <td>54384</td>\n      <td>False</td>\n      <td>2021-03-01 08:35:23</td>\n      <td>Prime Minister Narendra Modi choose early morn...</td>\n      <td>['covaxin']</td>\n      <td>Twitter for Android</td>\n      <td>1980</td>\n      <td>8153</td>\n      <td>False</td>\n    </tr>\n    <tr>\n      <td>32213</td>\n      <td>1372566694833569792</td>\n      <td>The Hoarse Whisperer</td>\n      <td>NaN</td>\n      <td>“A Twitter rando” - Rolling Stone mag. Beer mo...</td>\n      <td>2016-10-08 02:05:30</td>\n      <td>379874</td>\n      <td>1139</td>\n      <td>74745</td>\n      <td>False</td>\n      <td>2021-03-18 15:12:55</td>\n      <td>That. Just. Happened.\\n\\n#Moderna #CovidVaccin...</td>\n      <td>['Moderna', 'CovidVaccine', 'ThankYouScience',...</td>\n      <td>Twitter for iPhone</td>\n      <td>121</td>\n      <td>8098</td>\n      <td>False</td>\n    </tr>\n    <tr>\n      <td>...</td>\n      <td>...</td>\n      <td>...</td>\n      <td>...</td>\n      <td>...</td>\n      <td>...</td>\n      <td>...</td>\n      <td>...</td>\n      <td>...</td>\n      <td>...</td>\n      <td>...</td>\n      <td>...</td>\n      <td>...</td>\n      <td>...</td>\n      <td>...</td>\n      <td>...</td>\n      <td>...</td>\n    </tr>\n    <tr>\n      <td>40160</td>\n      <td>1373553275224657923</td>\n      <td>Umer</td>\n      <td>Karachi, Pakistan</td>\n      <td>NaN</td>\n      <td>2011-04-04 10:02:29</td>\n      <td>364</td>\n      <td>422</td>\n      <td>816</td>\n      <td>False</td>\n      <td>2021-03-21 08:33:14</td>\n      <td>Official price cap for Covid19 vaccine Sputnik...</td>\n      <td>['Pakistan', 'SputnikV']</td>\n      <td>Twitter for iPhone</td>\n      <td>0</td>\n      <td>0</td>\n      <td>False</td>\n    </tr>\n    <tr>\n      <td>40161</td>\n      <td>1373551654994329603</td>\n      <td>Nicola Facciolini</td>\n      <td>L'Aquila</td>\n      <td>Science Journalist</td>\n      <td>2009-05-16 08:28:23</td>\n      <td>648</td>\n      <td>1721</td>\n      <td>83694</td>\n      <td>False</td>\n      <td>2021-03-21 08:26:48</td>\n      <td>@mod_russia #SputnikV to #Italy. God Bless Hol...</td>\n      <td>['SputnikV', 'Italy', 'Russia']</td>\n      <td>Twitter for Android</td>\n      <td>0</td>\n      <td>0</td>\n      <td>False</td>\n    </tr>\n    <tr>\n      <td>40162</td>\n      <td>1373544337607376902</td>\n      <td>Muhammad Shahzeb</td>\n      <td>Islamabad</td>\n      <td>Proud Pakistani, cricket lover, chicken ka dus...</td>\n      <td>2016-01-22 10:09:55</td>\n      <td>552</td>\n      <td>240</td>\n      <td>4772</td>\n      <td>False</td>\n      <td>2021-03-21 07:57:43</td>\n      <td>Govt allows Private sector  to sell Russian va...</td>\n      <td>NaN</td>\n      <td>Twitter for Android</td>\n      <td>0</td>\n      <td>0</td>\n      <td>False</td>\n    </tr>\n    <tr>\n      <td>40163</td>\n      <td>1373539685683896320</td>\n      <td>Philipp Grätzel von Grätz</td>\n      <td>Berlin</td>\n      <td>Medicine, photography. MD. MSc SciComm #Imperi...</td>\n      <td>2016-11-06 20:00:58</td>\n      <td>1431</td>\n      <td>995</td>\n      <td>1897</td>\n      <td>False</td>\n      <td>2021-03-21 07:39:14</td>\n      <td>Pretty good overview on the stuttering #SarsCo...</td>\n      <td>['SarsCoV2']</td>\n      <td>Twitter for iPhone</td>\n      <td>0</td>\n      <td>0</td>\n      <td>False</td>\n    </tr>\n    <tr>\n      <td>40170</td>\n      <td>1373503451372552197</td>\n      <td>M a r t í</td>\n      <td>США 🇺🇸</td>\n      <td>El meu twitter en català, des dels Estats Unit...</td>\n      <td>2014-02-09 03:41:26</td>\n      <td>61</td>\n      <td>117</td>\n      <td>34</td>\n      <td>False</td>\n      <td>2021-03-21 05:15:15</td>\n      <td>European micronation #SanMarino begins adminis...</td>\n      <td>['SanMarino', 'SputnikV']</td>\n      <td>Twitter Web App</td>\n      <td>0</td>\n      <td>0</td>\n      <td>False</td>\n    </tr>\n  </tbody>\n</table>\n<p>40171 rows × 16 columns</p>\n</div>"
     },
     "metadata": {},
     "execution_count": 38
    }
   ],
   "source": [
    "df.sort_values(by=[\"favorites\",\"retweets\"], ascending=False)"
   ]
  },
  {
   "cell_type": "code",
   "execution_count": 39,
   "metadata": {},
   "outputs": [
    {
     "output_type": "execute_result",
     "data": {
      "text/plain": [
       "               country alpha2 alpha3  numeric            iso\n",
       "0          Afghanistan     AF    AFG        4  ISO 3166-2:AF\n",
       "1        Åland Islands     AX    ALA      248  ISO 3166-2:AX\n",
       "2              Albania     AL    ALB        8  ISO 3166-2:AL\n",
       "3              Algeria     DZ    DZA       12  ISO 3166-2:DZ\n",
       "4       American Samoa     AS    ASM       16  ISO 3166-2:AS\n",
       "..                 ...    ...    ...      ...            ...\n",
       "241  Wallis and Futuna     WF    WLF      876  ISO 3166-2:WF\n",
       "242     Western Sahara     EH    ESH      732  ISO 3166-2:EH\n",
       "243              Yemen     YE    YEM      887  ISO 3166-2:YE\n",
       "244             Zambia     ZM    ZMB      894  ISO 3166-2:ZM\n",
       "245           Zimbabwe     ZW    ZWE      716  ISO 3166-2:ZW\n",
       "\n",
       "[246 rows x 5 columns]"
      ],
      "text/html": "<div>\n<style scoped>\n    .dataframe tbody tr th:only-of-type {\n        vertical-align: middle;\n    }\n\n    .dataframe tbody tr th {\n        vertical-align: top;\n    }\n\n    .dataframe thead th {\n        text-align: right;\n    }\n</style>\n<table border=\"1\" class=\"dataframe\">\n  <thead>\n    <tr style=\"text-align: right;\">\n      <th></th>\n      <th>country</th>\n      <th>alpha2</th>\n      <th>alpha3</th>\n      <th>numeric</th>\n      <th>iso</th>\n    </tr>\n  </thead>\n  <tbody>\n    <tr>\n      <td>0</td>\n      <td>Afghanistan</td>\n      <td>AF</td>\n      <td>AFG</td>\n      <td>4</td>\n      <td>ISO 3166-2:AF</td>\n    </tr>\n    <tr>\n      <td>1</td>\n      <td>Åland Islands</td>\n      <td>AX</td>\n      <td>ALA</td>\n      <td>248</td>\n      <td>ISO 3166-2:AX</td>\n    </tr>\n    <tr>\n      <td>2</td>\n      <td>Albania</td>\n      <td>AL</td>\n      <td>ALB</td>\n      <td>8</td>\n      <td>ISO 3166-2:AL</td>\n    </tr>\n    <tr>\n      <td>3</td>\n      <td>Algeria</td>\n      <td>DZ</td>\n      <td>DZA</td>\n      <td>12</td>\n      <td>ISO 3166-2:DZ</td>\n    </tr>\n    <tr>\n      <td>4</td>\n      <td>American Samoa</td>\n      <td>AS</td>\n      <td>ASM</td>\n      <td>16</td>\n      <td>ISO 3166-2:AS</td>\n    </tr>\n    <tr>\n      <td>...</td>\n      <td>...</td>\n      <td>...</td>\n      <td>...</td>\n      <td>...</td>\n      <td>...</td>\n    </tr>\n    <tr>\n      <td>241</td>\n      <td>Wallis and Futuna</td>\n      <td>WF</td>\n      <td>WLF</td>\n      <td>876</td>\n      <td>ISO 3166-2:WF</td>\n    </tr>\n    <tr>\n      <td>242</td>\n      <td>Western Sahara</td>\n      <td>EH</td>\n      <td>ESH</td>\n      <td>732</td>\n      <td>ISO 3166-2:EH</td>\n    </tr>\n    <tr>\n      <td>243</td>\n      <td>Yemen</td>\n      <td>YE</td>\n      <td>YEM</td>\n      <td>887</td>\n      <td>ISO 3166-2:YE</td>\n    </tr>\n    <tr>\n      <td>244</td>\n      <td>Zambia</td>\n      <td>ZM</td>\n      <td>ZMB</td>\n      <td>894</td>\n      <td>ISO 3166-2:ZM</td>\n    </tr>\n    <tr>\n      <td>245</td>\n      <td>Zimbabwe</td>\n      <td>ZW</td>\n      <td>ZWE</td>\n      <td>716</td>\n      <td>ISO 3166-2:ZW</td>\n    </tr>\n  </tbody>\n</table>\n<p>246 rows × 5 columns</p>\n</div>"
     },
     "metadata": {},
     "execution_count": 39
    }
   ],
   "source": [
    "country_df.columns = [\"country\", \"alpha2\", \"alpha3\", \"numeric\", \"iso\"]\n",
    "country_df"
   ]
  },
  {
   "cell_type": "code",
   "execution_count": 40,
   "metadata": {},
   "outputs": [
    {
     "output_type": "execute_result",
     "data": {
      "text/plain": [
       "                       id                  user_name user_location  \\\n",
       "0     1337815730486702087                       WION         India   \n",
       "1     1338574693087936513        Prof. Manish Thakur         India   \n",
       "2     1338551175587786752               India Blooms         India   \n",
       "3     1338466008466505728              Rachna Tandon         India   \n",
       "4     1338377471360569347                  India.com         India   \n",
       "...                   ...                        ...           ...   \n",
       "3669  1375540506667573250          Peter Byard Davis   New Zealand   \n",
       "3670  1375064010501066753                The General       Namibia   \n",
       "3671  1373496087420547074  Daily Ummah International        Turkey   \n",
       "3672  1374438996990775310                marcosecchi      Slovenia   \n",
       "3673  1374011935000297473                marcosecchi      Slovenia   \n",
       "\n",
       "                                       user_description         user_created  \\\n",
       "0     #WION: World Is One | Welcome to India’s first...  2016-03-21 03:44:54   \n",
       "1     #Proprietor English Academy #Blockchain #AI #I...  2012-06-11 13:50:05   \n",
       "2     A news and reference portal on India and a 24X...  2009-10-10 11:19:34   \n",
       "3     District Epidemiologist, Meerut (IDSP). MDI-Gu...  2014-10-02 20:07:17   \n",
       "4     Follow https://t.co/RBTHZHv1ga for breaking ne...  2009-03-04 16:20:07   \n",
       "...                                                 ...                  ...   \n",
       "3669  Ex-prof, recovering workaholic, quiz kid. Soci...  2011-09-10 03:57:58   \n",
       "3670  Manchester United ⚽️| I Am Good But I Am Not A...  2012-03-18 16:54:40   \n",
       "3671  Bir miladın habercisiyiz • We are the messenge...  2020-10-15 20:35:56   \n",
       "3672  ▸Leica Photographer @GettyImages\\n▸Fine Art & ...  2009-02-20 21:14:47   \n",
       "3673  ▸Leica Photographer @GettyImages\\n▸Fine Art & ...  2009-02-20 21:14:47   \n",
       "\n",
       "      user_followers  user_friends  user_favourites  user_verified  \\\n",
       "0             292510            91             7531           True   \n",
       "1               3372          1713           119631          False   \n",
       "2              16816          2448               20          False   \n",
       "3                 72           120               66          False   \n",
       "4              13417           399              349           True   \n",
       "...              ...           ...              ...            ...   \n",
       "3669            1244            93              580          False   \n",
       "3670            1629          1605             1872          False   \n",
       "3671              70             2                1          False   \n",
       "3672           12880           894            76326           True   \n",
       "3673           12880           894            76326           True   \n",
       "\n",
       "                     date  ...  \\\n",
       "0     2020-12-12 17:45:00  ...   \n",
       "1     2020-12-14 20:00:51  ...   \n",
       "2     2020-12-14 18:27:23  ...   \n",
       "3     2020-12-14 12:48:58  ...   \n",
       "4     2020-12-14 06:57:09  ...   \n",
       "...                   ...  ...   \n",
       "3669  2021-03-26 20:09:47  ...   \n",
       "3670  2021-03-25 12:36:22  ...   \n",
       "3671  2021-03-21 04:46:00  ...   \n",
       "3672  2021-03-23 19:12:47  ...   \n",
       "3673  2021-03-22 14:55:47  ...   \n",
       "\n",
       "                                               hashtags               source  \\\n",
       "0                                                   NaN            TweetDeck   \n",
       "1     ['UgurSahin', 'ozlemtureci', 'Muslim', 'Pfizer...  Twitter for Android   \n",
       "2                                           ['Ontario']      Twitter Web App   \n",
       "3       ['PfizerBioNTech', 'Singapore', 'CovidVaccine']      Twitter Web App   \n",
       "4                   ['Pfizervaccine', 'PfizerBioNTech']            TweetDeck   \n",
       "...                                                 ...                  ...   \n",
       "3669                                                NaN      Twitter Web App   \n",
       "3670                                                NaN  Twitter for Android   \n",
       "3671    ['Pakistan', 'COVID', 'Imran', 'Khan', 'China']      Twitter Web App   \n",
       "3672        ['covid', 'vaccine', 'sputnik', 'sputnikv']       SocialPilot.co   \n",
       "3673       ['SputnikV', 'Sputnik', 'SputnikVaccinated']      Twitter Web App   \n",
       "\n",
       "     retweets  favorites  is_retweet      country alpha2 alpha3 numeric  \\\n",
       "0           0         18       False        India     IN    IND     356   \n",
       "1           0          0       False        India     IN    IND     356   \n",
       "2           0          0       False        India     IN    IND     356   \n",
       "3           0          0       False        India     IN    IND     356   \n",
       "4           0          0       False        India     IN    IND     356   \n",
       "...       ...        ...         ...          ...    ...    ...     ...   \n",
       "3669        0          0       False  New Zealand     NZ    NZL     554   \n",
       "3670        0          0       False      Namibia    NaN    NAM     516   \n",
       "3671        0          0       False       Turkey     TR    TUR     792   \n",
       "3672        0          0       False     Slovenia     SI    SVN     705   \n",
       "3673        0          1       False     Slovenia     SI    SVN     705   \n",
       "\n",
       "                iso  \n",
       "0     ISO 3166-2:IN  \n",
       "1     ISO 3166-2:IN  \n",
       "2     ISO 3166-2:IN  \n",
       "3     ISO 3166-2:IN  \n",
       "4     ISO 3166-2:IN  \n",
       "...             ...  \n",
       "3669  ISO 3166-2:NZ  \n",
       "3670  ISO 3166-2:NA  \n",
       "3671  ISO 3166-2:TR  \n",
       "3672  ISO 3166-2:SI  \n",
       "3673  ISO 3166-2:SI  \n",
       "\n",
       "[3674 rows x 21 columns]"
      ],
      "text/html": "<div>\n<style scoped>\n    .dataframe tbody tr th:only-of-type {\n        vertical-align: middle;\n    }\n\n    .dataframe tbody tr th {\n        vertical-align: top;\n    }\n\n    .dataframe thead th {\n        text-align: right;\n    }\n</style>\n<table border=\"1\" class=\"dataframe\">\n  <thead>\n    <tr style=\"text-align: right;\">\n      <th></th>\n      <th>id</th>\n      <th>user_name</th>\n      <th>user_location</th>\n      <th>user_description</th>\n      <th>user_created</th>\n      <th>user_followers</th>\n      <th>user_friends</th>\n      <th>user_favourites</th>\n      <th>user_verified</th>\n      <th>date</th>\n      <th>...</th>\n      <th>hashtags</th>\n      <th>source</th>\n      <th>retweets</th>\n      <th>favorites</th>\n      <th>is_retweet</th>\n      <th>country</th>\n      <th>alpha2</th>\n      <th>alpha3</th>\n      <th>numeric</th>\n      <th>iso</th>\n    </tr>\n  </thead>\n  <tbody>\n    <tr>\n      <td>0</td>\n      <td>1337815730486702087</td>\n      <td>WION</td>\n      <td>India</td>\n      <td>#WION: World Is One | Welcome to India’s first...</td>\n      <td>2016-03-21 03:44:54</td>\n      <td>292510</td>\n      <td>91</td>\n      <td>7531</td>\n      <td>True</td>\n      <td>2020-12-12 17:45:00</td>\n      <td>...</td>\n      <td>NaN</td>\n      <td>TweetDeck</td>\n      <td>0</td>\n      <td>18</td>\n      <td>False</td>\n      <td>India</td>\n      <td>IN</td>\n      <td>IND</td>\n      <td>356</td>\n      <td>ISO 3166-2:IN</td>\n    </tr>\n    <tr>\n      <td>1</td>\n      <td>1338574693087936513</td>\n      <td>Prof. Manish Thakur</td>\n      <td>India</td>\n      <td>#Proprietor English Academy #Blockchain #AI #I...</td>\n      <td>2012-06-11 13:50:05</td>\n      <td>3372</td>\n      <td>1713</td>\n      <td>119631</td>\n      <td>False</td>\n      <td>2020-12-14 20:00:51</td>\n      <td>...</td>\n      <td>['UgurSahin', 'ozlemtureci', 'Muslim', 'Pfizer...</td>\n      <td>Twitter for Android</td>\n      <td>0</td>\n      <td>0</td>\n      <td>False</td>\n      <td>India</td>\n      <td>IN</td>\n      <td>IND</td>\n      <td>356</td>\n      <td>ISO 3166-2:IN</td>\n    </tr>\n    <tr>\n      <td>2</td>\n      <td>1338551175587786752</td>\n      <td>India Blooms</td>\n      <td>India</td>\n      <td>A news and reference portal on India and a 24X...</td>\n      <td>2009-10-10 11:19:34</td>\n      <td>16816</td>\n      <td>2448</td>\n      <td>20</td>\n      <td>False</td>\n      <td>2020-12-14 18:27:23</td>\n      <td>...</td>\n      <td>['Ontario']</td>\n      <td>Twitter Web App</td>\n      <td>0</td>\n      <td>0</td>\n      <td>False</td>\n      <td>India</td>\n      <td>IN</td>\n      <td>IND</td>\n      <td>356</td>\n      <td>ISO 3166-2:IN</td>\n    </tr>\n    <tr>\n      <td>3</td>\n      <td>1338466008466505728</td>\n      <td>Rachna Tandon</td>\n      <td>India</td>\n      <td>District Epidemiologist, Meerut (IDSP). MDI-Gu...</td>\n      <td>2014-10-02 20:07:17</td>\n      <td>72</td>\n      <td>120</td>\n      <td>66</td>\n      <td>False</td>\n      <td>2020-12-14 12:48:58</td>\n      <td>...</td>\n      <td>['PfizerBioNTech', 'Singapore', 'CovidVaccine']</td>\n      <td>Twitter Web App</td>\n      <td>0</td>\n      <td>0</td>\n      <td>False</td>\n      <td>India</td>\n      <td>IN</td>\n      <td>IND</td>\n      <td>356</td>\n      <td>ISO 3166-2:IN</td>\n    </tr>\n    <tr>\n      <td>4</td>\n      <td>1338377471360569347</td>\n      <td>India.com</td>\n      <td>India</td>\n      <td>Follow https://t.co/RBTHZHv1ga for breaking ne...</td>\n      <td>2009-03-04 16:20:07</td>\n      <td>13417</td>\n      <td>399</td>\n      <td>349</td>\n      <td>True</td>\n      <td>2020-12-14 06:57:09</td>\n      <td>...</td>\n      <td>['Pfizervaccine', 'PfizerBioNTech']</td>\n      <td>TweetDeck</td>\n      <td>0</td>\n      <td>0</td>\n      <td>False</td>\n      <td>India</td>\n      <td>IN</td>\n      <td>IND</td>\n      <td>356</td>\n      <td>ISO 3166-2:IN</td>\n    </tr>\n    <tr>\n      <td>...</td>\n      <td>...</td>\n      <td>...</td>\n      <td>...</td>\n      <td>...</td>\n      <td>...</td>\n      <td>...</td>\n      <td>...</td>\n      <td>...</td>\n      <td>...</td>\n      <td>...</td>\n      <td>...</td>\n      <td>...</td>\n      <td>...</td>\n      <td>...</td>\n      <td>...</td>\n      <td>...</td>\n      <td>...</td>\n      <td>...</td>\n      <td>...</td>\n      <td>...</td>\n      <td>...</td>\n    </tr>\n    <tr>\n      <td>3669</td>\n      <td>1375540506667573250</td>\n      <td>Peter Byard Davis</td>\n      <td>New Zealand</td>\n      <td>Ex-prof, recovering workaholic, quiz kid. Soci...</td>\n      <td>2011-09-10 03:57:58</td>\n      <td>1244</td>\n      <td>93</td>\n      <td>580</td>\n      <td>False</td>\n      <td>2021-03-26 20:09:47</td>\n      <td>...</td>\n      <td>NaN</td>\n      <td>Twitter Web App</td>\n      <td>0</td>\n      <td>0</td>\n      <td>False</td>\n      <td>New Zealand</td>\n      <td>NZ</td>\n      <td>NZL</td>\n      <td>554</td>\n      <td>ISO 3166-2:NZ</td>\n    </tr>\n    <tr>\n      <td>3670</td>\n      <td>1375064010501066753</td>\n      <td>The General</td>\n      <td>Namibia</td>\n      <td>Manchester United ⚽️| I Am Good But I Am Not A...</td>\n      <td>2012-03-18 16:54:40</td>\n      <td>1629</td>\n      <td>1605</td>\n      <td>1872</td>\n      <td>False</td>\n      <td>2021-03-25 12:36:22</td>\n      <td>...</td>\n      <td>NaN</td>\n      <td>Twitter for Android</td>\n      <td>0</td>\n      <td>0</td>\n      <td>False</td>\n      <td>Namibia</td>\n      <td>NaN</td>\n      <td>NAM</td>\n      <td>516</td>\n      <td>ISO 3166-2:NA</td>\n    </tr>\n    <tr>\n      <td>3671</td>\n      <td>1373496087420547074</td>\n      <td>Daily Ummah International</td>\n      <td>Turkey</td>\n      <td>Bir miladın habercisiyiz • We are the messenge...</td>\n      <td>2020-10-15 20:35:56</td>\n      <td>70</td>\n      <td>2</td>\n      <td>1</td>\n      <td>False</td>\n      <td>2021-03-21 04:46:00</td>\n      <td>...</td>\n      <td>['Pakistan', 'COVID', 'Imran', 'Khan', 'China']</td>\n      <td>Twitter Web App</td>\n      <td>0</td>\n      <td>0</td>\n      <td>False</td>\n      <td>Turkey</td>\n      <td>TR</td>\n      <td>TUR</td>\n      <td>792</td>\n      <td>ISO 3166-2:TR</td>\n    </tr>\n    <tr>\n      <td>3672</td>\n      <td>1374438996990775310</td>\n      <td>marcosecchi</td>\n      <td>Slovenia</td>\n      <td>▸Leica Photographer @GettyImages\\n▸Fine Art &amp; ...</td>\n      <td>2009-02-20 21:14:47</td>\n      <td>12880</td>\n      <td>894</td>\n      <td>76326</td>\n      <td>True</td>\n      <td>2021-03-23 19:12:47</td>\n      <td>...</td>\n      <td>['covid', 'vaccine', 'sputnik', 'sputnikv']</td>\n      <td>SocialPilot.co</td>\n      <td>0</td>\n      <td>0</td>\n      <td>False</td>\n      <td>Slovenia</td>\n      <td>SI</td>\n      <td>SVN</td>\n      <td>705</td>\n      <td>ISO 3166-2:SI</td>\n    </tr>\n    <tr>\n      <td>3673</td>\n      <td>1374011935000297473</td>\n      <td>marcosecchi</td>\n      <td>Slovenia</td>\n      <td>▸Leica Photographer @GettyImages\\n▸Fine Art &amp; ...</td>\n      <td>2009-02-20 21:14:47</td>\n      <td>12880</td>\n      <td>894</td>\n      <td>76326</td>\n      <td>True</td>\n      <td>2021-03-22 14:55:47</td>\n      <td>...</td>\n      <td>['SputnikV', 'Sputnik', 'SputnikVaccinated']</td>\n      <td>Twitter Web App</td>\n      <td>0</td>\n      <td>1</td>\n      <td>False</td>\n      <td>Slovenia</td>\n      <td>SI</td>\n      <td>SVN</td>\n      <td>705</td>\n      <td>ISO 3166-2:SI</td>\n    </tr>\n  </tbody>\n</table>\n<p>3674 rows × 21 columns</p>\n</div>"
     },
     "metadata": {},
     "execution_count": 40
    }
   ],
   "source": [
    "df['country'] = df['user_location']\r\n",
    "df = df.merge(country_df, on=\"country\")\r\n",
    "df"
   ]
  },
  {
   "cell_type": "code",
   "execution_count": 38,
   "metadata": {},
   "outputs": [
    {
     "output_type": "execute_result",
     "data": {
      "text/plain": [
       "                       id                  user_name user_location  \\\n",
       "1     1338574693087936513        Prof. Manish Thakur         India   \n",
       "3     1338466008466505728              Rachna Tandon         India   \n",
       "5     1338016390679244801                   Alive,🦅🦁         India   \n",
       "7     1339305268753039361            Mohammad Arafat         India   \n",
       "12    1340262970656321536             SantaBanta.com         India   \n",
       "...                   ...                        ...           ...   \n",
       "3668  1374746020614074372                     Steamy   New Zealand   \n",
       "3669  1375540506667573250          Peter Byard Davis   New Zealand   \n",
       "3670  1375064010501066753                The General       Namibia   \n",
       "3671  1373496087420547074  Daily Ummah International        Turkey   \n",
       "3673  1374011935000297473                marcosecchi      Slovenia   \n",
       "\n",
       "                                       user_description         user_created  \\\n",
       "1     #Proprietor English Academy #Blockchain #AI #I...  2012-06-11 13:50:05   \n",
       "3     District Epidemiologist, Meerut (IDSP). MDI-Gu...  2014-10-02 20:07:17   \n",
       "5     #Ambedkarite\\nMasters #Pharmacy #Researcher. \\...  2015-08-16 17:42:27   \n",
       "7             Telegram channel\\nhttps://t.co/gSotQ3oPde  2009-08-03 09:09:44   \n",
       "12     An entertainment portal for Bollywood and Humour  2009-04-02 07:05:49   \n",
       "...                                                 ...                  ...   \n",
       "3668             Deutschland's favorite NZ broadcaster.  2014-09-22 02:36:40   \n",
       "3669  Ex-prof, recovering workaholic, quiz kid. Soci...  2011-09-10 03:57:58   \n",
       "3670  Manchester United ⚽️| I Am Good But I Am Not A...  2012-03-18 16:54:40   \n",
       "3671  Bir miladın habercisiyiz • We are the messenge...  2020-10-15 20:35:56   \n",
       "3673  ▸Leica Photographer @GettyImages\\n▸Fine Art & ...  2009-02-20 21:14:47   \n",
       "\n",
       "      user_followers  user_friends  user_favourites  user_verified  \\\n",
       "1               3372          1713           119631          False   \n",
       "3                 72           120               66          False   \n",
       "5                291          1756            13707          False   \n",
       "7               1444           100               15          False   \n",
       "12             36101          4628              436          False   \n",
       "...              ...           ...              ...            ...   \n",
       "3668             212            34            15703          False   \n",
       "3669            1244            93              580          False   \n",
       "3670            1629          1605             1872          False   \n",
       "3671              70             2                1          False   \n",
       "3673           12880           894            76326           True   \n",
       "\n",
       "                     date  ...  \\\n",
       "1     2020-12-14 20:00:51  ...   \n",
       "3     2020-12-14 12:48:58  ...   \n",
       "5     2020-12-13 07:02:21  ...   \n",
       "7     2020-12-16 20:23:53  ...   \n",
       "12    2020-12-19 11:49:27  ...   \n",
       "...                   ...  ...   \n",
       "3668  2021-03-24 15:32:47  ...   \n",
       "3669  2021-03-26 20:09:47  ...   \n",
       "3670  2021-03-25 12:36:22  ...   \n",
       "3671  2021-03-21 04:46:00  ...   \n",
       "3673  2021-03-22 14:55:47  ...   \n",
       "\n",
       "                                               hashtags               source  \\\n",
       "1     ['UgurSahin', 'ozlemtureci', 'Muslim', 'Pfizer...  Twitter for Android   \n",
       "3       ['PfizerBioNTech', 'Singapore', 'CovidVaccine']      Twitter Web App   \n",
       "5                                                   NaN  Twitter for Android   \n",
       "7       ['PfizerBioNTech', 'COVID19', 'vaccine', 'USA']  Twitter for Android   \n",
       "12            ['COVID19', 'Crocodiles', 'CovidVaccine']      Twitter Web App   \n",
       "...                                                 ...                  ...   \n",
       "3668  ['europe', 'QatarAirways', 'bts', 'merkel', 'A...      Twitter Web App   \n",
       "3669                                                NaN      Twitter Web App   \n",
       "3670                                                NaN  Twitter for Android   \n",
       "3671    ['Pakistan', 'COVID', 'Imran', 'Khan', 'China']      Twitter Web App   \n",
       "3673       ['SputnikV', 'Sputnik', 'SputnikVaccinated']      Twitter Web App   \n",
       "\n",
       "     retweets  favorites  is_retweet      country alpha2 alpha3 numeric  \\\n",
       "1           0          0       False        India     IN    IND     356   \n",
       "3           0          0       False        India     IN    IND     356   \n",
       "5           0          0       False        India     IN    IND     356   \n",
       "7           0          0       False        India     IN    IND     356   \n",
       "12          0          1       False        India     IN    IND     356   \n",
       "...       ...        ...         ...          ...    ...    ...     ...   \n",
       "3668        1          7       False  New Zealand     NZ    NZL     554   \n",
       "3669        0          0       False  New Zealand     NZ    NZL     554   \n",
       "3670        0          0       False      Namibia    NaN    NAM     516   \n",
       "3671        0          0       False       Turkey     TR    TUR     792   \n",
       "3673        0          1       False     Slovenia     SI    SVN     705   \n",
       "\n",
       "                iso  \n",
       "1     ISO 3166-2:IN  \n",
       "3     ISO 3166-2:IN  \n",
       "5     ISO 3166-2:IN  \n",
       "7     ISO 3166-2:IN  \n",
       "12    ISO 3166-2:IN  \n",
       "...             ...  \n",
       "3668  ISO 3166-2:NZ  \n",
       "3669  ISO 3166-2:NZ  \n",
       "3670  ISO 3166-2:NA  \n",
       "3671  ISO 3166-2:TR  \n",
       "3673  ISO 3166-2:SI  \n",
       "\n",
       "[1651 rows x 21 columns]"
      ],
      "text/html": "<div>\n<style scoped>\n    .dataframe tbody tr th:only-of-type {\n        vertical-align: middle;\n    }\n\n    .dataframe tbody tr th {\n        vertical-align: top;\n    }\n\n    .dataframe thead th {\n        text-align: right;\n    }\n</style>\n<table border=\"1\" class=\"dataframe\">\n  <thead>\n    <tr style=\"text-align: right;\">\n      <th></th>\n      <th>id</th>\n      <th>user_name</th>\n      <th>user_location</th>\n      <th>user_description</th>\n      <th>user_created</th>\n      <th>user_followers</th>\n      <th>user_friends</th>\n      <th>user_favourites</th>\n      <th>user_verified</th>\n      <th>date</th>\n      <th>...</th>\n      <th>hashtags</th>\n      <th>source</th>\n      <th>retweets</th>\n      <th>favorites</th>\n      <th>is_retweet</th>\n      <th>country</th>\n      <th>alpha2</th>\n      <th>alpha3</th>\n      <th>numeric</th>\n      <th>iso</th>\n    </tr>\n  </thead>\n  <tbody>\n    <tr>\n      <td>1</td>\n      <td>1338574693087936513</td>\n      <td>Prof. Manish Thakur</td>\n      <td>India</td>\n      <td>#Proprietor English Academy #Blockchain #AI #I...</td>\n      <td>2012-06-11 13:50:05</td>\n      <td>3372</td>\n      <td>1713</td>\n      <td>119631</td>\n      <td>False</td>\n      <td>2020-12-14 20:00:51</td>\n      <td>...</td>\n      <td>['UgurSahin', 'ozlemtureci', 'Muslim', 'Pfizer...</td>\n      <td>Twitter for Android</td>\n      <td>0</td>\n      <td>0</td>\n      <td>False</td>\n      <td>India</td>\n      <td>IN</td>\n      <td>IND</td>\n      <td>356</td>\n      <td>ISO 3166-2:IN</td>\n    </tr>\n    <tr>\n      <td>3</td>\n      <td>1338466008466505728</td>\n      <td>Rachna Tandon</td>\n      <td>India</td>\n      <td>District Epidemiologist, Meerut (IDSP). MDI-Gu...</td>\n      <td>2014-10-02 20:07:17</td>\n      <td>72</td>\n      <td>120</td>\n      <td>66</td>\n      <td>False</td>\n      <td>2020-12-14 12:48:58</td>\n      <td>...</td>\n      <td>['PfizerBioNTech', 'Singapore', 'CovidVaccine']</td>\n      <td>Twitter Web App</td>\n      <td>0</td>\n      <td>0</td>\n      <td>False</td>\n      <td>India</td>\n      <td>IN</td>\n      <td>IND</td>\n      <td>356</td>\n      <td>ISO 3166-2:IN</td>\n    </tr>\n    <tr>\n      <td>5</td>\n      <td>1338016390679244801</td>\n      <td>Alive,🦅🦁</td>\n      <td>India</td>\n      <td>#Ambedkarite\\nMasters #Pharmacy #Researcher. \\...</td>\n      <td>2015-08-16 17:42:27</td>\n      <td>291</td>\n      <td>1756</td>\n      <td>13707</td>\n      <td>False</td>\n      <td>2020-12-13 07:02:21</td>\n      <td>...</td>\n      <td>NaN</td>\n      <td>Twitter for Android</td>\n      <td>0</td>\n      <td>0</td>\n      <td>False</td>\n      <td>India</td>\n      <td>IN</td>\n      <td>IND</td>\n      <td>356</td>\n      <td>ISO 3166-2:IN</td>\n    </tr>\n    <tr>\n      <td>7</td>\n      <td>1339305268753039361</td>\n      <td>Mohammad Arafat</td>\n      <td>India</td>\n      <td>Telegram channel\\nhttps://t.co/gSotQ3oPde</td>\n      <td>2009-08-03 09:09:44</td>\n      <td>1444</td>\n      <td>100</td>\n      <td>15</td>\n      <td>False</td>\n      <td>2020-12-16 20:23:53</td>\n      <td>...</td>\n      <td>['PfizerBioNTech', 'COVID19', 'vaccine', 'USA']</td>\n      <td>Twitter for Android</td>\n      <td>0</td>\n      <td>0</td>\n      <td>False</td>\n      <td>India</td>\n      <td>IN</td>\n      <td>IND</td>\n      <td>356</td>\n      <td>ISO 3166-2:IN</td>\n    </tr>\n    <tr>\n      <td>12</td>\n      <td>1340262970656321536</td>\n      <td>SantaBanta.com</td>\n      <td>India</td>\n      <td>An entertainment portal for Bollywood and Humour</td>\n      <td>2009-04-02 07:05:49</td>\n      <td>36101</td>\n      <td>4628</td>\n      <td>436</td>\n      <td>False</td>\n      <td>2020-12-19 11:49:27</td>\n      <td>...</td>\n      <td>['COVID19', 'Crocodiles', 'CovidVaccine']</td>\n      <td>Twitter Web App</td>\n      <td>0</td>\n      <td>1</td>\n      <td>False</td>\n      <td>India</td>\n      <td>IN</td>\n      <td>IND</td>\n      <td>356</td>\n      <td>ISO 3166-2:IN</td>\n    </tr>\n    <tr>\n      <td>...</td>\n      <td>...</td>\n      <td>...</td>\n      <td>...</td>\n      <td>...</td>\n      <td>...</td>\n      <td>...</td>\n      <td>...</td>\n      <td>...</td>\n      <td>...</td>\n      <td>...</td>\n      <td>...</td>\n      <td>...</td>\n      <td>...</td>\n      <td>...</td>\n      <td>...</td>\n      <td>...</td>\n      <td>...</td>\n      <td>...</td>\n      <td>...</td>\n      <td>...</td>\n      <td>...</td>\n    </tr>\n    <tr>\n      <td>3668</td>\n      <td>1374746020614074372</td>\n      <td>Steamy</td>\n      <td>New Zealand</td>\n      <td>Deutschland's favorite NZ broadcaster.</td>\n      <td>2014-09-22 02:36:40</td>\n      <td>212</td>\n      <td>34</td>\n      <td>15703</td>\n      <td>False</td>\n      <td>2021-03-24 15:32:47</td>\n      <td>...</td>\n      <td>['europe', 'QatarAirways', 'bts', 'merkel', 'A...</td>\n      <td>Twitter Web App</td>\n      <td>1</td>\n      <td>7</td>\n      <td>False</td>\n      <td>New Zealand</td>\n      <td>NZ</td>\n      <td>NZL</td>\n      <td>554</td>\n      <td>ISO 3166-2:NZ</td>\n    </tr>\n    <tr>\n      <td>3669</td>\n      <td>1375540506667573250</td>\n      <td>Peter Byard Davis</td>\n      <td>New Zealand</td>\n      <td>Ex-prof, recovering workaholic, quiz kid. Soci...</td>\n      <td>2011-09-10 03:57:58</td>\n      <td>1244</td>\n      <td>93</td>\n      <td>580</td>\n      <td>False</td>\n      <td>2021-03-26 20:09:47</td>\n      <td>...</td>\n      <td>NaN</td>\n      <td>Twitter Web App</td>\n      <td>0</td>\n      <td>0</td>\n      <td>False</td>\n      <td>New Zealand</td>\n      <td>NZ</td>\n      <td>NZL</td>\n      <td>554</td>\n      <td>ISO 3166-2:NZ</td>\n    </tr>\n    <tr>\n      <td>3670</td>\n      <td>1375064010501066753</td>\n      <td>The General</td>\n      <td>Namibia</td>\n      <td>Manchester United ⚽️| I Am Good But I Am Not A...</td>\n      <td>2012-03-18 16:54:40</td>\n      <td>1629</td>\n      <td>1605</td>\n      <td>1872</td>\n      <td>False</td>\n      <td>2021-03-25 12:36:22</td>\n      <td>...</td>\n      <td>NaN</td>\n      <td>Twitter for Android</td>\n      <td>0</td>\n      <td>0</td>\n      <td>False</td>\n      <td>Namibia</td>\n      <td>NaN</td>\n      <td>NAM</td>\n      <td>516</td>\n      <td>ISO 3166-2:NA</td>\n    </tr>\n    <tr>\n      <td>3671</td>\n      <td>1373496087420547074</td>\n      <td>Daily Ummah International</td>\n      <td>Turkey</td>\n      <td>Bir miladın habercisiyiz • We are the messenge...</td>\n      <td>2020-10-15 20:35:56</td>\n      <td>70</td>\n      <td>2</td>\n      <td>1</td>\n      <td>False</td>\n      <td>2021-03-21 04:46:00</td>\n      <td>...</td>\n      <td>['Pakistan', 'COVID', 'Imran', 'Khan', 'China']</td>\n      <td>Twitter Web App</td>\n      <td>0</td>\n      <td>0</td>\n      <td>False</td>\n      <td>Turkey</td>\n      <td>TR</td>\n      <td>TUR</td>\n      <td>792</td>\n      <td>ISO 3166-2:TR</td>\n    </tr>\n    <tr>\n      <td>3673</td>\n      <td>1374011935000297473</td>\n      <td>marcosecchi</td>\n      <td>Slovenia</td>\n      <td>▸Leica Photographer @GettyImages\\n▸Fine Art &amp; ...</td>\n      <td>2009-02-20 21:14:47</td>\n      <td>12880</td>\n      <td>894</td>\n      <td>76326</td>\n      <td>True</td>\n      <td>2021-03-22 14:55:47</td>\n      <td>...</td>\n      <td>['SputnikV', 'Sputnik', 'SputnikVaccinated']</td>\n      <td>Twitter Web App</td>\n      <td>0</td>\n      <td>1</td>\n      <td>False</td>\n      <td>Slovenia</td>\n      <td>SI</td>\n      <td>SVN</td>\n      <td>705</td>\n      <td>ISO 3166-2:SI</td>\n    </tr>\n  </tbody>\n</table>\n<p>1651 rows × 21 columns</p>\n</div>"
     },
     "metadata": {},
     "execution_count": 38
    }
   ],
   "source": []
  },
  {
   "cell_type": "code",
   "execution_count": 41,
   "metadata": {},
   "outputs": [
    {
     "output_type": "execute_result",
     "data": {
      "text/plain": [
       "                  country  tweets\n",
       "0             Afghanistan       4\n",
       "1                 Albania      14\n",
       "2                 Algeria       3\n",
       "3              Antarctica       4\n",
       "4               Argentina       4\n",
       "..                    ...     ...\n",
       "115        United Kingdom     202\n",
       "116         United States     396\n",
       "117            Uzbekistan       1\n",
       "118  Virgin Islands, U.S.       1\n",
       "119              Zimbabwe      76\n",
       "\n",
       "[120 rows x 2 columns]"
      ],
      "text/html": "<div>\n<style scoped>\n    .dataframe tbody tr th:only-of-type {\n        vertical-align: middle;\n    }\n\n    .dataframe tbody tr th {\n        vertical-align: top;\n    }\n\n    .dataframe thead th {\n        text-align: right;\n    }\n</style>\n<table border=\"1\" class=\"dataframe\">\n  <thead>\n    <tr style=\"text-align: right;\">\n      <th></th>\n      <th>country</th>\n      <th>tweets</th>\n    </tr>\n  </thead>\n  <tbody>\n    <tr>\n      <td>0</td>\n      <td>Afghanistan</td>\n      <td>4</td>\n    </tr>\n    <tr>\n      <td>1</td>\n      <td>Albania</td>\n      <td>14</td>\n    </tr>\n    <tr>\n      <td>2</td>\n      <td>Algeria</td>\n      <td>3</td>\n    </tr>\n    <tr>\n      <td>3</td>\n      <td>Antarctica</td>\n      <td>4</td>\n    </tr>\n    <tr>\n      <td>4</td>\n      <td>Argentina</td>\n      <td>4</td>\n    </tr>\n    <tr>\n      <td>...</td>\n      <td>...</td>\n      <td>...</td>\n    </tr>\n    <tr>\n      <td>115</td>\n      <td>United Kingdom</td>\n      <td>202</td>\n    </tr>\n    <tr>\n      <td>116</td>\n      <td>United States</td>\n      <td>396</td>\n    </tr>\n    <tr>\n      <td>117</td>\n      <td>Uzbekistan</td>\n      <td>1</td>\n    </tr>\n    <tr>\n      <td>118</td>\n      <td>Virgin Islands, U.S.</td>\n      <td>1</td>\n    </tr>\n    <tr>\n      <td>119</td>\n      <td>Zimbabwe</td>\n      <td>76</td>\n    </tr>\n  </tbody>\n</table>\n<p>120 rows × 2 columns</p>\n</div>"
     },
     "metadata": {},
     "execution_count": 41
    }
   ],
   "source": [
    "tw_add_df = df.groupby([\"country\", \"iso\", \"alpha3\"])['text'].count().reset_index()\n",
    "tw_add_df.columns = [\"country\", \"iso\", \"alpha3\", \"tweets\"]\n",
    "tw_add_df.drop(columns=[\"iso\", \"alpha3\"])\n"
   ]
  },
  {
   "cell_type": "code",
   "execution_count": 42,
   "metadata": {},
   "outputs": [
    {
     "output_type": "execute_result",
     "data": {
      "text/html": "\n<div id=\"altair-viz-6c17cc79842e48ba90c68e0b1b55a3d8\"></div>\n<script type=\"text/javascript\">\n  (function(spec, embedOpt){\n    let outputDiv = document.currentScript.previousElementSibling;\n    if (outputDiv.id !== \"altair-viz-6c17cc79842e48ba90c68e0b1b55a3d8\") {\n      outputDiv = document.getElementById(\"altair-viz-6c17cc79842e48ba90c68e0b1b55a3d8\");\n    }\n    const paths = {\n      \"vega\": \"https://cdn.jsdelivr.net/npm//vega@5?noext\",\n      \"vega-lib\": \"https://cdn.jsdelivr.net/npm//vega-lib?noext\",\n      \"vega-lite\": \"https://cdn.jsdelivr.net/npm//vega-lite@4.8.1?noext\",\n      \"vega-embed\": \"https://cdn.jsdelivr.net/npm//vega-embed@6?noext\",\n    };\n\n    function loadScript(lib) {\n      return new Promise(function(resolve, reject) {\n        var s = document.createElement('script');\n        s.src = paths[lib];\n        s.async = true;\n        s.onload = () => resolve(paths[lib]);\n        s.onerror = () => reject(`Error loading script: ${paths[lib]}`);\n        document.getElementsByTagName(\"head\")[0].appendChild(s);\n      });\n    }\n\n    function showError(err) {\n      outputDiv.innerHTML = `<div class=\"error\" style=\"color:red;\">${err}</div>`;\n      throw err;\n    }\n\n    function displayChart(vegaEmbed) {\n      vegaEmbed(outputDiv, spec, embedOpt)\n        .catch(err => showError(`Javascript Error: ${err.message}<br>This usually means there's a typo in your chart specification. See the javascript console for the full traceback.`));\n    }\n\n    if(typeof define === \"function\" && define.amd) {\n      requirejs.config({paths});\n      require([\"vega-embed\"], displayChart, err => showError(`Error loading script: ${err.message}`));\n    } else if (typeof vegaEmbed === \"function\") {\n      displayChart(vegaEmbed);\n    } else {\n      loadScript(\"vega\")\n        .then(() => loadScript(\"vega-lite\"))\n        .then(() => loadScript(\"vega-embed\"))\n        .catch(showError)\n        .then(() => displayChart(vegaEmbed));\n    }\n  })({\"config\": {\"view\": {\"continuousWidth\": 400, \"continuousHeight\": 300}}, \"data\": {\"name\": \"data-5bff750cd8c06d5303dbdc1b7081f3bc\"}, \"mark\": \"bar\", \"encoding\": {\"color\": {\"type\": \"nominal\", \"field\": \"iso\"}, \"x\": {\"type\": \"nominal\", \"field\": \"country\", \"scale\": {\"zero\": false}}, \"y\": {\"type\": \"quantitative\", \"field\": \"tweets\", \"scale\": {\"zero\": false}}}, \"$schema\": \"https://vega.github.io/schema/vega-lite/v4.8.1.json\", \"datasets\": {\"data-5bff750cd8c06d5303dbdc1b7081f3bc\": [{\"country\": \"Afghanistan\", \"iso\": \"ISO 3166-2:AF\", \"alpha3\": \"AFG\", \"tweets\": 4}, {\"country\": \"Albania\", \"iso\": \"ISO 3166-2:AL\", \"alpha3\": \"ALB\", \"tweets\": 14}, {\"country\": \"Algeria\", \"iso\": \"ISO 3166-2:DZ\", \"alpha3\": \"DZA\", \"tweets\": 3}, {\"country\": \"Antarctica\", \"iso\": \"ISO 3166-2:AQ\", \"alpha3\": \"ATA\", \"tweets\": 4}, {\"country\": \"Argentina\", \"iso\": \"ISO 3166-2:AR\", \"alpha3\": \"ARG\", \"tweets\": 4}, {\"country\": \"Armenia\", \"iso\": \"ISO 3166-2:AM\", \"alpha3\": \"ARM\", \"tweets\": 7}, {\"country\": \"Australia\", \"iso\": \"ISO 3166-2:AU\", \"alpha3\": \"AUS\", \"tweets\": 40}, {\"country\": \"Austria\", \"iso\": \"ISO 3166-2:AT\", \"alpha3\": \"AUT\", \"tweets\": 6}, {\"country\": \"Azerbaijan\", \"iso\": \"ISO 3166-2:AZ\", \"alpha3\": \"AZE\", \"tweets\": 8}, {\"country\": \"Bahamas\", \"iso\": \"ISO 3166-2:BS\", \"alpha3\": \"BHS\", \"tweets\": 1}, {\"country\": \"Bahrain\", \"iso\": \"ISO 3166-2:BH\", \"alpha3\": \"BHR\", \"tweets\": 12}, {\"country\": \"Bangladesh\", \"iso\": \"ISO 3166-2:BD\", \"alpha3\": \"BGD\", \"tweets\": 19}, {\"country\": \"Barbados\", \"iso\": \"ISO 3166-2:BB\", \"alpha3\": \"BRB\", \"tweets\": 2}, {\"country\": \"Belgium\", \"iso\": \"ISO 3166-2:BE\", \"alpha3\": \"BEL\", \"tweets\": 23}, {\"country\": \"Bosnia and Herzegovina\", \"iso\": \"ISO 3166-2:BA\", \"alpha3\": \"BIH\", \"tweets\": 3}, {\"country\": \"Botswana\", \"iso\": \"ISO 3166-2:BW\", \"alpha3\": \"BWA\", \"tweets\": 2}, {\"country\": \"Bulgaria\", \"iso\": \"ISO 3166-2:BG\", \"alpha3\": \"BGR\", \"tweets\": 3}, {\"country\": \"Burkina Faso\", \"iso\": \"ISO 3166-2:BF\", \"alpha3\": \"BFA\", \"tweets\": 2}, {\"country\": \"Cambodia\", \"iso\": \"ISO 3166-2:KH\", \"alpha3\": \"KHM\", \"tweets\": 22}, {\"country\": \"Cameroon\", \"iso\": \"ISO 3166-2:CM\", \"alpha3\": \"CMR\", \"tweets\": 2}, {\"country\": \"Canada\", \"iso\": \"ISO 3166-2:CA\", \"alpha3\": \"CAN\", \"tweets\": 159}, {\"country\": \"Cayman Islands\", \"iso\": \"ISO 3166-2:KY\", \"alpha3\": \"CYM\", \"tweets\": 1}, {\"country\": \"Chile\", \"iso\": \"ISO 3166-2:CL\", \"alpha3\": \"CHL\", \"tweets\": 5}, {\"country\": \"China\", \"iso\": \"ISO 3166-2:CN\", \"alpha3\": \"CHN\", \"tweets\": 5}, {\"country\": \"Croatia\", \"iso\": \"ISO 3166-2:HR\", \"alpha3\": \"HRV\", \"tweets\": 3}, {\"country\": \"Cyprus\", \"iso\": \"ISO 3166-2:CY\", \"alpha3\": \"CYP\", \"tweets\": 23}, {\"country\": \"Denmark\", \"iso\": \"ISO 3166-2:DK\", \"alpha3\": \"DNK\", \"tweets\": 16}, {\"country\": \"Dominica\", \"iso\": \"ISO 3166-2:DM\", \"alpha3\": \"DMA\", \"tweets\": 1}, {\"country\": \"Dominican Republic\", \"iso\": \"ISO 3166-2:DO\", \"alpha3\": \"DOM\", \"tweets\": 1}, {\"country\": \"Ecuador\", \"iso\": \"ISO 3166-2:EC\", \"alpha3\": \"ECU\", \"tweets\": 1}, {\"country\": \"Egypt\", \"iso\": \"ISO 3166-2:EG\", \"alpha3\": \"EGY\", \"tweets\": 18}, {\"country\": \"Estonia\", \"iso\": \"ISO 3166-2:EE\", \"alpha3\": \"EST\", \"tweets\": 1}, {\"country\": \"Ethiopia\", \"iso\": \"ISO 3166-2:ET\", \"alpha3\": \"ETH\", \"tweets\": 1}, {\"country\": \"Falkland Islands (Malvinas)\", \"iso\": \"ISO 3166-2:FK\", \"alpha3\": \"FLK\", \"tweets\": 1}, {\"country\": \"Fiji\", \"iso\": \"ISO 3166-2:FJ\", \"alpha3\": \"FJI\", \"tweets\": 1}, {\"country\": \"Finland\", \"iso\": \"ISO 3166-2:FI\", \"alpha3\": \"FIN\", \"tweets\": 5}, {\"country\": \"France\", \"iso\": \"ISO 3166-2:FR\", \"alpha3\": \"FRA\", \"tweets\": 95}, {\"country\": \"Gabon\", \"iso\": \"ISO 3166-2:GA\", \"alpha3\": \"GAB\", \"tweets\": 1}, {\"country\": \"Gambia\", \"iso\": \"ISO 3166-2:GM\", \"alpha3\": \"GMB\", \"tweets\": 2}, {\"country\": \"Georgia\", \"iso\": \"ISO 3166-2:GE\", \"alpha3\": \"GEO\", \"tweets\": 2}, {\"country\": \"Germany\", \"iso\": \"ISO 3166-2:DE\", \"alpha3\": \"DEU\", \"tweets\": 50}, {\"country\": \"Ghana\", \"iso\": \"ISO 3166-2:GH\", \"alpha3\": \"GHA\", \"tweets\": 7}, {\"country\": \"Gibraltar\", \"iso\": \"ISO 3166-2:GI\", \"alpha3\": \"GIB\", \"tweets\": 4}, {\"country\": \"Greece\", \"iso\": \"ISO 3166-2:GR\", \"alpha3\": \"GRC\", \"tweets\": 8}, {\"country\": \"Guam\", \"iso\": \"ISO 3166-2:GU\", \"alpha3\": \"GUM\", \"tweets\": 4}, {\"country\": \"Guyana\", \"iso\": \"ISO 3166-2:GY\", \"alpha3\": \"GUY\", \"tweets\": 7}, {\"country\": \"Hong Kong\", \"iso\": \"ISO 3166-2:HK\", \"alpha3\": \"HKG\", \"tweets\": 138}, {\"country\": \"Hungary\", \"iso\": \"ISO 3166-2:HU\", \"alpha3\": \"HUN\", \"tweets\": 2}, {\"country\": \"Iceland\", \"iso\": \"ISO 3166-2:IS\", \"alpha3\": \"ISL\", \"tweets\": 1}, {\"country\": \"India\", \"iso\": \"ISO 3166-2:IN\", \"alpha3\": \"IND\", \"tweets\": 1108}, {\"country\": \"Indonesia\", \"iso\": \"ISO 3166-2:ID\", \"alpha3\": \"IDN\", \"tweets\": 8}, {\"country\": \"Iraq\", \"iso\": \"ISO 3166-2:IQ\", \"alpha3\": \"IRQ\", \"tweets\": 5}, {\"country\": \"Ireland\", \"iso\": \"ISO 3166-2:IE\", \"alpha3\": \"IRL\", \"tweets\": 64}, {\"country\": \"Isle of Man\", \"iso\": \"ISO 3166-2:IM\", \"alpha3\": \"IMN\", \"tweets\": 7}, {\"country\": \"Israel\", \"iso\": \"ISO 3166-2:IL\", \"alpha3\": \"ISR\", \"tweets\": 35}, {\"country\": \"Italy\", \"iso\": \"ISO 3166-2:IT\", \"alpha3\": \"ITA\", \"tweets\": 11}, {\"country\": \"Jamaica\", \"iso\": \"ISO 3166-2:JM\", \"alpha3\": \"JAM\", \"tweets\": 2}, {\"country\": \"Japan\", \"iso\": \"ISO 3166-2:JP\", \"alpha3\": \"JPN\", \"tweets\": 16}, {\"country\": \"Jersey\", \"iso\": \"ISO 3166-2:JE\", \"alpha3\": \"JEY\", \"tweets\": 1}, {\"country\": \"Jordan\", \"iso\": \"ISO 3166-2:JO\", \"alpha3\": \"JOR\", \"tweets\": 3}, {\"country\": \"Kenya\", \"iso\": \"ISO 3166-2:KE\", \"alpha3\": \"KEN\", \"tweets\": 21}, {\"country\": \"Kuwait\", \"iso\": \"ISO 3166-2:KW\", \"alpha3\": \"KWT\", \"tweets\": 10}, {\"country\": \"Lebanon\", \"iso\": \"ISO 3166-2:LB\", \"alpha3\": \"LBN\", \"tweets\": 22}, {\"country\": \"Lithuania\", \"iso\": \"ISO 3166-2:LT\", \"alpha3\": \"LTU\", \"tweets\": 1}, {\"country\": \"Luxembourg\", \"iso\": \"ISO 3166-2:LU\", \"alpha3\": \"LUX\", \"tweets\": 2}, {\"country\": \"Madagascar\", \"iso\": \"ISO 3166-2:MG\", \"alpha3\": \"MDG\", \"tweets\": 1}, {\"country\": \"Malawi\", \"iso\": \"ISO 3166-2:MW\", \"alpha3\": \"MWI\", \"tweets\": 1}, {\"country\": \"Malaysia\", \"iso\": \"ISO 3166-2:MY\", \"alpha3\": \"MYS\", \"tweets\": 157}, {\"country\": \"Maldives\", \"iso\": \"ISO 3166-2:MV\", \"alpha3\": \"MDV\", \"tweets\": 21}, {\"country\": \"Malta\", \"iso\": \"ISO 3166-2:MT\", \"alpha3\": \"MLT\", \"tweets\": 14}, {\"country\": \"Mauritius\", \"iso\": \"ISO 3166-2:MU\", \"alpha3\": \"MUS\", \"tweets\": 4}, {\"country\": \"Mexico\", \"iso\": \"ISO 3166-2:MX\", \"alpha3\": \"MEX\", \"tweets\": 9}, {\"country\": \"Monaco\", \"iso\": \"ISO 3166-2:MC\", \"alpha3\": \"MCO\", \"tweets\": 3}, {\"country\": \"Montenegro\", \"iso\": \"ISO 3166-2:ME\", \"alpha3\": \"MNE\", \"tweets\": 8}, {\"country\": \"Myanmar\", \"iso\": \"ISO 3166-2:MM\", \"alpha3\": \"MMR\", \"tweets\": 1}, {\"country\": \"Namibia\", \"iso\": \"ISO 3166-2:NA\", \"alpha3\": \"NAM\", \"tweets\": 1}, {\"country\": \"Nepal\", \"iso\": \"ISO 3166-2:NP\", \"alpha3\": \"NPL\", \"tweets\": 6}, {\"country\": \"Netherlands\", \"iso\": \"ISO 3166-2:NL\", \"alpha3\": \"NLD\", \"tweets\": 7}, {\"country\": \"New Zealand\", \"iso\": \"ISO 3166-2:NZ\", \"alpha3\": \"NZL\", \"tweets\": 2}, {\"country\": \"Nicaragua\", \"iso\": \"ISO 3166-2:NI\", \"alpha3\": \"NIC\", \"tweets\": 2}, {\"country\": \"Nigeria\", \"iso\": \"ISO 3166-2:NG\", \"alpha3\": \"NGA\", \"tweets\": 16}, {\"country\": \"Norway\", \"iso\": \"ISO 3166-2:NO\", \"alpha3\": \"NOR\", \"tweets\": 2}, {\"country\": \"Oman\", \"iso\": \"ISO 3166-2:OM\", \"alpha3\": \"OMN\", \"tweets\": 8}, {\"country\": \"Pakistan\", \"iso\": \"ISO 3166-2:PK\", \"alpha3\": \"PAK\", \"tweets\": 120}, {\"country\": \"Papua New Guinea\", \"iso\": \"ISO 3166-2:PG\", \"alpha3\": \"PNG\", \"tweets\": 1}, {\"country\": \"Peru\", \"iso\": \"ISO 3166-2:PE\", \"alpha3\": \"PER\", \"tweets\": 4}, {\"country\": \"Philippines\", \"iso\": \"ISO 3166-2:PH\", \"alpha3\": \"PHL\", \"tweets\": 28}, {\"country\": \"Portugal\", \"iso\": \"ISO 3166-2:PT\", \"alpha3\": \"PRT\", \"tweets\": 6}, {\"country\": \"Puerto Rico\", \"iso\": \"ISO 3166-2:PR\", \"alpha3\": \"PRI\", \"tweets\": 14}, {\"country\": \"Qatar\", \"iso\": \"ISO 3166-2:QA\", \"alpha3\": \"QAT\", \"tweets\": 69}, {\"country\": \"Romania\", \"iso\": \"ISO 3166-2:RO\", \"alpha3\": \"ROU\", \"tweets\": 1}, {\"country\": \"Rwanda\", \"iso\": \"ISO 3166-2:RW\", \"alpha3\": \"RWA\", \"tweets\": 3}, {\"country\": \"Saint Kitts and Nevis\", \"iso\": \"ISO 3166-2:KN\", \"alpha3\": \"KNA\", \"tweets\": 1}, {\"country\": \"Samoa\", \"iso\": \"ISO 3166-2:WS\", \"alpha3\": \"WSM\", \"tweets\": 1}, {\"country\": \"Saudi Arabia\", \"iso\": \"ISO 3166-2:SA\", \"alpha3\": \"SAU\", \"tweets\": 14}, {\"country\": \"Serbia\", \"iso\": \"ISO 3166-2:RS\", \"alpha3\": \"SRB\", \"tweets\": 2}, {\"country\": \"Seychelles\", \"iso\": \"ISO 3166-2:SC\", \"alpha3\": \"SYC\", \"tweets\": 1}, {\"country\": \"Sierra Leone\", \"iso\": \"ISO 3166-2:SL\", \"alpha3\": \"SLE\", \"tweets\": 10}, {\"country\": \"Singapore\", \"iso\": \"ISO 3166-2:SG\", \"alpha3\": \"SGP\", \"tweets\": 61}, {\"country\": \"Slovakia\", \"iso\": \"ISO 3166-2:SK\", \"alpha3\": \"SVK\", \"tweets\": 19}, {\"country\": \"Slovenia\", \"iso\": \"ISO 3166-2:SI\", \"alpha3\": \"SVN\", \"tweets\": 2}, {\"country\": \"Somalia\", \"iso\": \"ISO 3166-2:SO\", \"alpha3\": \"SOM\", \"tweets\": 5}, {\"country\": \"South Africa\", \"iso\": \"ISO 3166-2:ZA\", \"alpha3\": \"ZAF\", \"tweets\": 57}, {\"country\": \"Spain\", \"iso\": \"ISO 3166-2:ES\", \"alpha3\": \"ESP\", \"tweets\": 9}, {\"country\": \"Sri Lanka\", \"iso\": \"ISO 3166-2:LK\", \"alpha3\": \"LKA\", \"tweets\": 89}, {\"country\": \"Sweden\", \"iso\": \"ISO 3166-2:SE\", \"alpha3\": \"SWE\", \"tweets\": 4}, {\"country\": \"Switzerland\", \"iso\": \"ISO 3166-2:CH\", \"alpha3\": \"CHE\", \"tweets\": 13}, {\"country\": \"Thailand\", \"iso\": \"ISO 3166-2:TH\", \"alpha3\": \"THA\", \"tweets\": 21}, {\"country\": \"Timor-Leste\", \"iso\": \"ISO 3166-2:TL\", \"alpha3\": \"TLS\", \"tweets\": 2}, {\"country\": \"Trinidad and Tobago\", \"iso\": \"ISO 3166-2:TT\", \"alpha3\": \"TTO\", \"tweets\": 3}, {\"country\": \"Tunisia\", \"iso\": \"ISO 3166-2:TN\", \"alpha3\": \"TUN\", \"tweets\": 5}, {\"country\": \"Turkey\", \"iso\": \"ISO 3166-2:TR\", \"alpha3\": \"TUR\", \"tweets\": 1}, {\"country\": \"Uganda\", \"iso\": \"ISO 3166-2:UG\", \"alpha3\": \"UGA\", \"tweets\": 4}, {\"country\": \"Ukraine\", \"iso\": \"ISO 3166-2:UA\", \"alpha3\": \"UKR\", \"tweets\": 4}, {\"country\": \"United Arab Emirates\", \"iso\": \"ISO 3166-2:AE\", \"alpha3\": \"ARE\", \"tweets\": 101}, {\"country\": \"United Kingdom\", \"iso\": \"ISO 3166-2:GB\", \"alpha3\": \"GBR\", \"tweets\": 202}, {\"country\": \"United States\", \"iso\": \"ISO 3166-2:US\", \"alpha3\": \"USA\", \"tweets\": 396}, {\"country\": \"Uzbekistan\", \"iso\": \"ISO 3166-2:UZ\", \"alpha3\": \"UZB\", \"tweets\": 1}, {\"country\": \"Virgin Islands, U.S.\", \"iso\": \"ISO 3166-2:VI\", \"alpha3\": \"VIR\", \"tweets\": 1}, {\"country\": \"Zimbabwe\", \"iso\": \"ISO 3166-2:ZW\", \"alpha3\": \"ZWE\", \"tweets\": 76}]}}, {\"mode\": \"vega-lite\"});\n</script>",
      "text/plain": [
       "alt.Chart(...)"
      ]
     },
     "metadata": {},
     "execution_count": 42
    }
   ],
   "source": [
    "alt.Chart(data=tw_add_df).mark_bar().encode(alt.X('country', scale=alt.Scale(zero=False)), \n",
    "                                                            alt.Y('tweets', scale=alt.Scale(zero=False)),color='iso')\n"
   ]
  },
  {
   "cell_type": "code",
   "execution_count": 43,
   "metadata": {},
   "outputs": [],
   "source": [
    "def plot_map(dd_df, title):\n",
    "    hover_text = []\n",
    "    for index, row in dd_df.iterrows():\n",
    "        hover_text.append((f\"country: {row['country']}<br>tweets: {row['tweets']}\\\n",
    "                          <br>country code: {row['iso']}<br>country alpha3: {row['alpha3']}\"))\n",
    "    dd_df['hover_text'] = hover_text\n",
    "\n",
    "    fig = px.choropleth(dd_df, \n",
    "                        locations=\"alpha3\",\n",
    "                        hover_name='hover_text',\n",
    "                        color=\"tweets\",\n",
    "                        projection=\"natural earth\",\n",
    "                        color_continuous_scale=px.colors.sequential.Plasma,\n",
    "                        width=900, height=700)\n",
    "    fig.update_geos(   \n",
    "        showcoastlines=True, coastlinecolor=\"DarkBlue\",\n",
    "        showland=True, landcolor=\"LightGrey\",\n",
    "        showocean=True, oceancolor=\"LightBlue\",\n",
    "        showlakes=True, lakecolor=\"Blue\",\n",
    "        showrivers=True, rivercolor=\"Blue\",\n",
    "        showcountries=True, countrycolor=\"DarkBlue\"\n",
    "    )\n",
    "    fig.update_layout(title = title, geo_scope=\"world\")\n",
    "    fig.show()"
   ]
  },
  {
   "cell_type": "code",
   "execution_count": 44,
   "metadata": {},
   "outputs": [
    {
     "output_type": "stream",
     "name": "stdout",
     "text": [
      "tweets containing country information: 3674\ntweets containing country information; distinct countries: 120\n"
     ]
    }
   ],
   "source": [
    "print(f\"tweets containing country information: {tw_add_df.tweets.sum()}\")\n",
    "print(f\"tweets containing country information; distinct countries: {tw_add_df.country.shape[0]}\")"
   ]
  },
  {
   "cell_type": "code",
   "execution_count": 45,
   "metadata": {},
   "outputs": [
    {
     "output_type": "display_data",
     "data": {
      "application/vnd.plotly.v1+json": {
       "config": {
        "plotlyServerURL": "https://plot.ly"
       },
       "data": [
        {
         "coloraxis": "coloraxis",
         "geo": "geo",
         "hovertemplate": "<b>%{hovertext}</b><br><br>alpha3=%{location}<br>tweets=%{z}<extra></extra>",
         "hovertext": [
          "country: Afghanistan<br>tweets: 4                          <br>country code: ISO 3166-2:AF<br>country alpha3: AFG",
          "country: Albania<br>tweets: 14                          <br>country code: ISO 3166-2:AL<br>country alpha3: ALB",
          "country: Algeria<br>tweets: 3                          <br>country code: ISO 3166-2:DZ<br>country alpha3: DZA",
          "country: Antarctica<br>tweets: 4                          <br>country code: ISO 3166-2:AQ<br>country alpha3: ATA",
          "country: Argentina<br>tweets: 4                          <br>country code: ISO 3166-2:AR<br>country alpha3: ARG",
          "country: Armenia<br>tweets: 7                          <br>country code: ISO 3166-2:AM<br>country alpha3: ARM",
          "country: Australia<br>tweets: 40                          <br>country code: ISO 3166-2:AU<br>country alpha3: AUS",
          "country: Austria<br>tweets: 6                          <br>country code: ISO 3166-2:AT<br>country alpha3: AUT",
          "country: Azerbaijan<br>tweets: 8                          <br>country code: ISO 3166-2:AZ<br>country alpha3: AZE",
          "country: Bahamas<br>tweets: 1                          <br>country code: ISO 3166-2:BS<br>country alpha3: BHS",
          "country: Bahrain<br>tweets: 12                          <br>country code: ISO 3166-2:BH<br>country alpha3: BHR",
          "country: Bangladesh<br>tweets: 19                          <br>country code: ISO 3166-2:BD<br>country alpha3: BGD",
          "country: Barbados<br>tweets: 2                          <br>country code: ISO 3166-2:BB<br>country alpha3: BRB",
          "country: Belgium<br>tweets: 23                          <br>country code: ISO 3166-2:BE<br>country alpha3: BEL",
          "country: Bosnia and Herzegovina<br>tweets: 3                          <br>country code: ISO 3166-2:BA<br>country alpha3: BIH",
          "country: Botswana<br>tweets: 2                          <br>country code: ISO 3166-2:BW<br>country alpha3: BWA",
          "country: Bulgaria<br>tweets: 3                          <br>country code: ISO 3166-2:BG<br>country alpha3: BGR",
          "country: Burkina Faso<br>tweets: 2                          <br>country code: ISO 3166-2:BF<br>country alpha3: BFA",
          "country: Cambodia<br>tweets: 22                          <br>country code: ISO 3166-2:KH<br>country alpha3: KHM",
          "country: Cameroon<br>tweets: 2                          <br>country code: ISO 3166-2:CM<br>country alpha3: CMR",
          "country: Canada<br>tweets: 159                          <br>country code: ISO 3166-2:CA<br>country alpha3: CAN",
          "country: Cayman Islands<br>tweets: 1                          <br>country code: ISO 3166-2:KY<br>country alpha3: CYM",
          "country: Chile<br>tweets: 5                          <br>country code: ISO 3166-2:CL<br>country alpha3: CHL",
          "country: China<br>tweets: 5                          <br>country code: ISO 3166-2:CN<br>country alpha3: CHN",
          "country: Croatia<br>tweets: 3                          <br>country code: ISO 3166-2:HR<br>country alpha3: HRV",
          "country: Cyprus<br>tweets: 23                          <br>country code: ISO 3166-2:CY<br>country alpha3: CYP",
          "country: Denmark<br>tweets: 16                          <br>country code: ISO 3166-2:DK<br>country alpha3: DNK",
          "country: Dominica<br>tweets: 1                          <br>country code: ISO 3166-2:DM<br>country alpha3: DMA",
          "country: Dominican Republic<br>tweets: 1                          <br>country code: ISO 3166-2:DO<br>country alpha3: DOM",
          "country: Ecuador<br>tweets: 1                          <br>country code: ISO 3166-2:EC<br>country alpha3: ECU",
          "country: Egypt<br>tweets: 18                          <br>country code: ISO 3166-2:EG<br>country alpha3: EGY",
          "country: Estonia<br>tweets: 1                          <br>country code: ISO 3166-2:EE<br>country alpha3: EST",
          "country: Ethiopia<br>tweets: 1                          <br>country code: ISO 3166-2:ET<br>country alpha3: ETH",
          "country: Falkland Islands (Malvinas)<br>tweets: 1                          <br>country code: ISO 3166-2:FK<br>country alpha3: FLK",
          "country: Fiji<br>tweets: 1                          <br>country code: ISO 3166-2:FJ<br>country alpha3: FJI",
          "country: Finland<br>tweets: 5                          <br>country code: ISO 3166-2:FI<br>country alpha3: FIN",
          "country: France<br>tweets: 95                          <br>country code: ISO 3166-2:FR<br>country alpha3: FRA",
          "country: Gabon<br>tweets: 1                          <br>country code: ISO 3166-2:GA<br>country alpha3: GAB",
          "country: Gambia<br>tweets: 2                          <br>country code: ISO 3166-2:GM<br>country alpha3: GMB",
          "country: Georgia<br>tweets: 2                          <br>country code: ISO 3166-2:GE<br>country alpha3: GEO",
          "country: Germany<br>tweets: 50                          <br>country code: ISO 3166-2:DE<br>country alpha3: DEU",
          "country: Ghana<br>tweets: 7                          <br>country code: ISO 3166-2:GH<br>country alpha3: GHA",
          "country: Gibraltar<br>tweets: 4                          <br>country code: ISO 3166-2:GI<br>country alpha3: GIB",
          "country: Greece<br>tweets: 8                          <br>country code: ISO 3166-2:GR<br>country alpha3: GRC",
          "country: Guam<br>tweets: 4                          <br>country code: ISO 3166-2:GU<br>country alpha3: GUM",
          "country: Guyana<br>tweets: 7                          <br>country code: ISO 3166-2:GY<br>country alpha3: GUY",
          "country: Hong Kong<br>tweets: 138                          <br>country code: ISO 3166-2:HK<br>country alpha3: HKG",
          "country: Hungary<br>tweets: 2                          <br>country code: ISO 3166-2:HU<br>country alpha3: HUN",
          "country: Iceland<br>tweets: 1                          <br>country code: ISO 3166-2:IS<br>country alpha3: ISL",
          "country: India<br>tweets: 1108                          <br>country code: ISO 3166-2:IN<br>country alpha3: IND",
          "country: Indonesia<br>tweets: 8                          <br>country code: ISO 3166-2:ID<br>country alpha3: IDN",
          "country: Iraq<br>tweets: 5                          <br>country code: ISO 3166-2:IQ<br>country alpha3: IRQ",
          "country: Ireland<br>tweets: 64                          <br>country code: ISO 3166-2:IE<br>country alpha3: IRL",
          "country: Isle of Man<br>tweets: 7                          <br>country code: ISO 3166-2:IM<br>country alpha3: IMN",
          "country: Israel<br>tweets: 35                          <br>country code: ISO 3166-2:IL<br>country alpha3: ISR",
          "country: Italy<br>tweets: 11                          <br>country code: ISO 3166-2:IT<br>country alpha3: ITA",
          "country: Jamaica<br>tweets: 2                          <br>country code: ISO 3166-2:JM<br>country alpha3: JAM",
          "country: Japan<br>tweets: 16                          <br>country code: ISO 3166-2:JP<br>country alpha3: JPN",
          "country: Jersey<br>tweets: 1                          <br>country code: ISO 3166-2:JE<br>country alpha3: JEY",
          "country: Jordan<br>tweets: 3                          <br>country code: ISO 3166-2:JO<br>country alpha3: JOR",
          "country: Kenya<br>tweets: 21                          <br>country code: ISO 3166-2:KE<br>country alpha3: KEN",
          "country: Kuwait<br>tweets: 10                          <br>country code: ISO 3166-2:KW<br>country alpha3: KWT",
          "country: Lebanon<br>tweets: 22                          <br>country code: ISO 3166-2:LB<br>country alpha3: LBN",
          "country: Lithuania<br>tweets: 1                          <br>country code: ISO 3166-2:LT<br>country alpha3: LTU",
          "country: Luxembourg<br>tweets: 2                          <br>country code: ISO 3166-2:LU<br>country alpha3: LUX",
          "country: Madagascar<br>tweets: 1                          <br>country code: ISO 3166-2:MG<br>country alpha3: MDG",
          "country: Malawi<br>tweets: 1                          <br>country code: ISO 3166-2:MW<br>country alpha3: MWI",
          "country: Malaysia<br>tweets: 157                          <br>country code: ISO 3166-2:MY<br>country alpha3: MYS",
          "country: Maldives<br>tweets: 21                          <br>country code: ISO 3166-2:MV<br>country alpha3: MDV",
          "country: Malta<br>tweets: 14                          <br>country code: ISO 3166-2:MT<br>country alpha3: MLT",
          "country: Mauritius<br>tweets: 4                          <br>country code: ISO 3166-2:MU<br>country alpha3: MUS",
          "country: Mexico<br>tweets: 9                          <br>country code: ISO 3166-2:MX<br>country alpha3: MEX",
          "country: Monaco<br>tweets: 3                          <br>country code: ISO 3166-2:MC<br>country alpha3: MCO",
          "country: Montenegro<br>tweets: 8                          <br>country code: ISO 3166-2:ME<br>country alpha3: MNE",
          "country: Myanmar<br>tweets: 1                          <br>country code: ISO 3166-2:MM<br>country alpha3: MMR",
          "country: Namibia<br>tweets: 1                          <br>country code: ISO 3166-2:NA<br>country alpha3: NAM",
          "country: Nepal<br>tweets: 6                          <br>country code: ISO 3166-2:NP<br>country alpha3: NPL",
          "country: Netherlands<br>tweets: 7                          <br>country code: ISO 3166-2:NL<br>country alpha3: NLD",
          "country: New Zealand<br>tweets: 2                          <br>country code: ISO 3166-2:NZ<br>country alpha3: NZL",
          "country: Nicaragua<br>tweets: 2                          <br>country code: ISO 3166-2:NI<br>country alpha3: NIC",
          "country: Nigeria<br>tweets: 16                          <br>country code: ISO 3166-2:NG<br>country alpha3: NGA",
          "country: Norway<br>tweets: 2                          <br>country code: ISO 3166-2:NO<br>country alpha3: NOR",
          "country: Oman<br>tweets: 8                          <br>country code: ISO 3166-2:OM<br>country alpha3: OMN",
          "country: Pakistan<br>tweets: 120                          <br>country code: ISO 3166-2:PK<br>country alpha3: PAK",
          "country: Papua New Guinea<br>tweets: 1                          <br>country code: ISO 3166-2:PG<br>country alpha3: PNG",
          "country: Peru<br>tweets: 4                          <br>country code: ISO 3166-2:PE<br>country alpha3: PER",
          "country: Philippines<br>tweets: 28                          <br>country code: ISO 3166-2:PH<br>country alpha3: PHL",
          "country: Portugal<br>tweets: 6                          <br>country code: ISO 3166-2:PT<br>country alpha3: PRT",
          "country: Puerto Rico<br>tweets: 14                          <br>country code: ISO 3166-2:PR<br>country alpha3: PRI",
          "country: Qatar<br>tweets: 69                          <br>country code: ISO 3166-2:QA<br>country alpha3: QAT",
          "country: Romania<br>tweets: 1                          <br>country code: ISO 3166-2:RO<br>country alpha3: ROU",
          "country: Rwanda<br>tweets: 3                          <br>country code: ISO 3166-2:RW<br>country alpha3: RWA",
          "country: Saint Kitts and Nevis<br>tweets: 1                          <br>country code: ISO 3166-2:KN<br>country alpha3: KNA",
          "country: Samoa<br>tweets: 1                          <br>country code: ISO 3166-2:WS<br>country alpha3: WSM",
          "country: Saudi Arabia<br>tweets: 14                          <br>country code: ISO 3166-2:SA<br>country alpha3: SAU",
          "country: Serbia<br>tweets: 2                          <br>country code: ISO 3166-2:RS<br>country alpha3: SRB",
          "country: Seychelles<br>tweets: 1                          <br>country code: ISO 3166-2:SC<br>country alpha3: SYC",
          "country: Sierra Leone<br>tweets: 10                          <br>country code: ISO 3166-2:SL<br>country alpha3: SLE",
          "country: Singapore<br>tweets: 61                          <br>country code: ISO 3166-2:SG<br>country alpha3: SGP",
          "country: Slovakia<br>tweets: 19                          <br>country code: ISO 3166-2:SK<br>country alpha3: SVK",
          "country: Slovenia<br>tweets: 2                          <br>country code: ISO 3166-2:SI<br>country alpha3: SVN",
          "country: Somalia<br>tweets: 5                          <br>country code: ISO 3166-2:SO<br>country alpha3: SOM",
          "country: South Africa<br>tweets: 57                          <br>country code: ISO 3166-2:ZA<br>country alpha3: ZAF",
          "country: Spain<br>tweets: 9                          <br>country code: ISO 3166-2:ES<br>country alpha3: ESP",
          "country: Sri Lanka<br>tweets: 89                          <br>country code: ISO 3166-2:LK<br>country alpha3: LKA",
          "country: Sweden<br>tweets: 4                          <br>country code: ISO 3166-2:SE<br>country alpha3: SWE",
          "country: Switzerland<br>tweets: 13                          <br>country code: ISO 3166-2:CH<br>country alpha3: CHE",
          "country: Thailand<br>tweets: 21                          <br>country code: ISO 3166-2:TH<br>country alpha3: THA",
          "country: Timor-Leste<br>tweets: 2                          <br>country code: ISO 3166-2:TL<br>country alpha3: TLS",
          "country: Trinidad and Tobago<br>tweets: 3                          <br>country code: ISO 3166-2:TT<br>country alpha3: TTO",
          "country: Tunisia<br>tweets: 5                          <br>country code: ISO 3166-2:TN<br>country alpha3: TUN",
          "country: Turkey<br>tweets: 1                          <br>country code: ISO 3166-2:TR<br>country alpha3: TUR",
          "country: Uganda<br>tweets: 4                          <br>country code: ISO 3166-2:UG<br>country alpha3: UGA",
          "country: Ukraine<br>tweets: 4                          <br>country code: ISO 3166-2:UA<br>country alpha3: UKR",
          "country: United Arab Emirates<br>tweets: 101                          <br>country code: ISO 3166-2:AE<br>country alpha3: ARE",
          "country: United Kingdom<br>tweets: 202                          <br>country code: ISO 3166-2:GB<br>country alpha3: GBR",
          "country: United States<br>tweets: 396                          <br>country code: ISO 3166-2:US<br>country alpha3: USA",
          "country: Uzbekistan<br>tweets: 1                          <br>country code: ISO 3166-2:UZ<br>country alpha3: UZB",
          "country: Virgin Islands, U.S.<br>tweets: 1                          <br>country code: ISO 3166-2:VI<br>country alpha3: VIR",
          "country: Zimbabwe<br>tweets: 76                          <br>country code: ISO 3166-2:ZW<br>country alpha3: ZWE"
         ],
         "locations": [
          "AFG",
          "ALB",
          "DZA",
          "ATA",
          "ARG",
          "ARM",
          "AUS",
          "AUT",
          "AZE",
          "BHS",
          "BHR",
          "BGD",
          "BRB",
          "BEL",
          "BIH",
          "BWA",
          "BGR",
          "BFA",
          "KHM",
          "CMR",
          "CAN",
          "CYM",
          "CHL",
          "CHN",
          "HRV",
          "CYP",
          "DNK",
          "DMA",
          "DOM",
          "ECU",
          "EGY",
          "EST",
          "ETH",
          "FLK",
          "FJI",
          "FIN",
          "FRA",
          "GAB",
          "GMB",
          "GEO",
          "DEU",
          "GHA",
          "GIB",
          "GRC",
          "GUM",
          "GUY",
          "HKG",
          "HUN",
          "ISL",
          "IND",
          "IDN",
          "IRQ",
          "IRL",
          "IMN",
          "ISR",
          "ITA",
          "JAM",
          "JPN",
          "JEY",
          "JOR",
          "KEN",
          "KWT",
          "LBN",
          "LTU",
          "LUX",
          "MDG",
          "MWI",
          "MYS",
          "MDV",
          "MLT",
          "MUS",
          "MEX",
          "MCO",
          "MNE",
          "MMR",
          "NAM",
          "NPL",
          "NLD",
          "NZL",
          "NIC",
          "NGA",
          "NOR",
          "OMN",
          "PAK",
          "PNG",
          "PER",
          "PHL",
          "PRT",
          "PRI",
          "QAT",
          "ROU",
          "RWA",
          "KNA",
          "WSM",
          "SAU",
          "SRB",
          "SYC",
          "SLE",
          "SGP",
          "SVK",
          "SVN",
          "SOM",
          "ZAF",
          "ESP",
          "LKA",
          "SWE",
          "CHE",
          "THA",
          "TLS",
          "TTO",
          "TUN",
          "TUR",
          "UGA",
          "UKR",
          "ARE",
          "GBR",
          "USA",
          "UZB",
          "VIR",
          "ZWE"
         ],
         "name": "",
         "type": "choropleth",
         "z": [
          4,
          14,
          3,
          4,
          4,
          7,
          40,
          6,
          8,
          1,
          12,
          19,
          2,
          23,
          3,
          2,
          3,
          2,
          22,
          2,
          159,
          1,
          5,
          5,
          3,
          23,
          16,
          1,
          1,
          1,
          18,
          1,
          1,
          1,
          1,
          5,
          95,
          1,
          2,
          2,
          50,
          7,
          4,
          8,
          4,
          7,
          138,
          2,
          1,
          1108,
          8,
          5,
          64,
          7,
          35,
          11,
          2,
          16,
          1,
          3,
          21,
          10,
          22,
          1,
          2,
          1,
          1,
          157,
          21,
          14,
          4,
          9,
          3,
          8,
          1,
          1,
          6,
          7,
          2,
          2,
          16,
          2,
          8,
          120,
          1,
          4,
          28,
          6,
          14,
          69,
          1,
          3,
          1,
          1,
          14,
          2,
          1,
          10,
          61,
          19,
          2,
          5,
          57,
          9,
          89,
          4,
          13,
          21,
          2,
          3,
          5,
          1,
          4,
          4,
          101,
          202,
          396,
          1,
          1,
          76
         ]
        }
       ],
       "layout": {
        "coloraxis": {
         "colorbar": {
          "title": {
           "text": "tweets"
          }
         },
         "colorscale": [
          [
           0,
           "#0d0887"
          ],
          [
           0.1111111111111111,
           "#46039f"
          ],
          [
           0.2222222222222222,
           "#7201a8"
          ],
          [
           0.3333333333333333,
           "#9c179e"
          ],
          [
           0.4444444444444444,
           "#bd3786"
          ],
          [
           0.5555555555555556,
           "#d8576b"
          ],
          [
           0.6666666666666666,
           "#ed7953"
          ],
          [
           0.7777777777777778,
           "#fb9f3a"
          ],
          [
           0.8888888888888888,
           "#fdca26"
          ],
          [
           1,
           "#f0f921"
          ]
         ]
        },
        "geo": {
         "center": {},
         "coastlinecolor": "DarkBlue",
         "countrycolor": "DarkBlue",
         "domain": {
          "x": [
           0,
           1
          ],
          "y": [
           0,
           1
          ]
         },
         "lakecolor": "Blue",
         "landcolor": "LightGrey",
         "oceancolor": "LightBlue",
         "projection": {
          "type": "natural earth"
         },
         "rivercolor": "Blue",
         "scope": "world",
         "showcoastlines": true,
         "showcountries": true,
         "showlakes": true,
         "showland": true,
         "showocean": true,
         "showrivers": true
        },
        "height": 700,
        "legend": {
         "tracegroupgap": 0
        },
        "margin": {
         "t": 60
        },
        "template": {
         "data": {
          "bar": [
           {
            "error_x": {
             "color": "#2a3f5f"
            },
            "error_y": {
             "color": "#2a3f5f"
            },
            "marker": {
             "line": {
              "color": "#E5ECF6",
              "width": 0.5
             }
            },
            "type": "bar"
           }
          ],
          "barpolar": [
           {
            "marker": {
             "line": {
              "color": "#E5ECF6",
              "width": 0.5
             }
            },
            "type": "barpolar"
           }
          ],
          "carpet": [
           {
            "aaxis": {
             "endlinecolor": "#2a3f5f",
             "gridcolor": "white",
             "linecolor": "white",
             "minorgridcolor": "white",
             "startlinecolor": "#2a3f5f"
            },
            "baxis": {
             "endlinecolor": "#2a3f5f",
             "gridcolor": "white",
             "linecolor": "white",
             "minorgridcolor": "white",
             "startlinecolor": "#2a3f5f"
            },
            "type": "carpet"
           }
          ],
          "choropleth": [
           {
            "colorbar": {
             "outlinewidth": 0,
             "ticks": ""
            },
            "type": "choropleth"
           }
          ],
          "contour": [
           {
            "colorbar": {
             "outlinewidth": 0,
             "ticks": ""
            },
            "colorscale": [
             [
              0,
              "#0d0887"
             ],
             [
              0.1111111111111111,
              "#46039f"
             ],
             [
              0.2222222222222222,
              "#7201a8"
             ],
             [
              0.3333333333333333,
              "#9c179e"
             ],
             [
              0.4444444444444444,
              "#bd3786"
             ],
             [
              0.5555555555555556,
              "#d8576b"
             ],
             [
              0.6666666666666666,
              "#ed7953"
             ],
             [
              0.7777777777777778,
              "#fb9f3a"
             ],
             [
              0.8888888888888888,
              "#fdca26"
             ],
             [
              1,
              "#f0f921"
             ]
            ],
            "type": "contour"
           }
          ],
          "contourcarpet": [
           {
            "colorbar": {
             "outlinewidth": 0,
             "ticks": ""
            },
            "type": "contourcarpet"
           }
          ],
          "heatmap": [
           {
            "colorbar": {
             "outlinewidth": 0,
             "ticks": ""
            },
            "colorscale": [
             [
              0,
              "#0d0887"
             ],
             [
              0.1111111111111111,
              "#46039f"
             ],
             [
              0.2222222222222222,
              "#7201a8"
             ],
             [
              0.3333333333333333,
              "#9c179e"
             ],
             [
              0.4444444444444444,
              "#bd3786"
             ],
             [
              0.5555555555555556,
              "#d8576b"
             ],
             [
              0.6666666666666666,
              "#ed7953"
             ],
             [
              0.7777777777777778,
              "#fb9f3a"
             ],
             [
              0.8888888888888888,
              "#fdca26"
             ],
             [
              1,
              "#f0f921"
             ]
            ],
            "type": "heatmap"
           }
          ],
          "heatmapgl": [
           {
            "colorbar": {
             "outlinewidth": 0,
             "ticks": ""
            },
            "colorscale": [
             [
              0,
              "#0d0887"
             ],
             [
              0.1111111111111111,
              "#46039f"
             ],
             [
              0.2222222222222222,
              "#7201a8"
             ],
             [
              0.3333333333333333,
              "#9c179e"
             ],
             [
              0.4444444444444444,
              "#bd3786"
             ],
             [
              0.5555555555555556,
              "#d8576b"
             ],
             [
              0.6666666666666666,
              "#ed7953"
             ],
             [
              0.7777777777777778,
              "#fb9f3a"
             ],
             [
              0.8888888888888888,
              "#fdca26"
             ],
             [
              1,
              "#f0f921"
             ]
            ],
            "type": "heatmapgl"
           }
          ],
          "histogram": [
           {
            "marker": {
             "colorbar": {
              "outlinewidth": 0,
              "ticks": ""
             }
            },
            "type": "histogram"
           }
          ],
          "histogram2d": [
           {
            "colorbar": {
             "outlinewidth": 0,
             "ticks": ""
            },
            "colorscale": [
             [
              0,
              "#0d0887"
             ],
             [
              0.1111111111111111,
              "#46039f"
             ],
             [
              0.2222222222222222,
              "#7201a8"
             ],
             [
              0.3333333333333333,
              "#9c179e"
             ],
             [
              0.4444444444444444,
              "#bd3786"
             ],
             [
              0.5555555555555556,
              "#d8576b"
             ],
             [
              0.6666666666666666,
              "#ed7953"
             ],
             [
              0.7777777777777778,
              "#fb9f3a"
             ],
             [
              0.8888888888888888,
              "#fdca26"
             ],
             [
              1,
              "#f0f921"
             ]
            ],
            "type": "histogram2d"
           }
          ],
          "histogram2dcontour": [
           {
            "colorbar": {
             "outlinewidth": 0,
             "ticks": ""
            },
            "colorscale": [
             [
              0,
              "#0d0887"
             ],
             [
              0.1111111111111111,
              "#46039f"
             ],
             [
              0.2222222222222222,
              "#7201a8"
             ],
             [
              0.3333333333333333,
              "#9c179e"
             ],
             [
              0.4444444444444444,
              "#bd3786"
             ],
             [
              0.5555555555555556,
              "#d8576b"
             ],
             [
              0.6666666666666666,
              "#ed7953"
             ],
             [
              0.7777777777777778,
              "#fb9f3a"
             ],
             [
              0.8888888888888888,
              "#fdca26"
             ],
             [
              1,
              "#f0f921"
             ]
            ],
            "type": "histogram2dcontour"
           }
          ],
          "mesh3d": [
           {
            "colorbar": {
             "outlinewidth": 0,
             "ticks": ""
            },
            "type": "mesh3d"
           }
          ],
          "parcoords": [
           {
            "line": {
             "colorbar": {
              "outlinewidth": 0,
              "ticks": ""
             }
            },
            "type": "parcoords"
           }
          ],
          "pie": [
           {
            "automargin": true,
            "type": "pie"
           }
          ],
          "scatter": [
           {
            "marker": {
             "colorbar": {
              "outlinewidth": 0,
              "ticks": ""
             }
            },
            "type": "scatter"
           }
          ],
          "scatter3d": [
           {
            "line": {
             "colorbar": {
              "outlinewidth": 0,
              "ticks": ""
             }
            },
            "marker": {
             "colorbar": {
              "outlinewidth": 0,
              "ticks": ""
             }
            },
            "type": "scatter3d"
           }
          ],
          "scattercarpet": [
           {
            "marker": {
             "colorbar": {
              "outlinewidth": 0,
              "ticks": ""
             }
            },
            "type": "scattercarpet"
           }
          ],
          "scattergeo": [
           {
            "marker": {
             "colorbar": {
              "outlinewidth": 0,
              "ticks": ""
             }
            },
            "type": "scattergeo"
           }
          ],
          "scattergl": [
           {
            "marker": {
             "colorbar": {
              "outlinewidth": 0,
              "ticks": ""
             }
            },
            "type": "scattergl"
           }
          ],
          "scattermapbox": [
           {
            "marker": {
             "colorbar": {
              "outlinewidth": 0,
              "ticks": ""
             }
            },
            "type": "scattermapbox"
           }
          ],
          "scatterpolar": [
           {
            "marker": {
             "colorbar": {
              "outlinewidth": 0,
              "ticks": ""
             }
            },
            "type": "scatterpolar"
           }
          ],
          "scatterpolargl": [
           {
            "marker": {
             "colorbar": {
              "outlinewidth": 0,
              "ticks": ""
             }
            },
            "type": "scatterpolargl"
           }
          ],
          "scatterternary": [
           {
            "marker": {
             "colorbar": {
              "outlinewidth": 0,
              "ticks": ""
             }
            },
            "type": "scatterternary"
           }
          ],
          "surface": [
           {
            "colorbar": {
             "outlinewidth": 0,
             "ticks": ""
            },
            "colorscale": [
             [
              0,
              "#0d0887"
             ],
             [
              0.1111111111111111,
              "#46039f"
             ],
             [
              0.2222222222222222,
              "#7201a8"
             ],
             [
              0.3333333333333333,
              "#9c179e"
             ],
             [
              0.4444444444444444,
              "#bd3786"
             ],
             [
              0.5555555555555556,
              "#d8576b"
             ],
             [
              0.6666666666666666,
              "#ed7953"
             ],
             [
              0.7777777777777778,
              "#fb9f3a"
             ],
             [
              0.8888888888888888,
              "#fdca26"
             ],
             [
              1,
              "#f0f921"
             ]
            ],
            "type": "surface"
           }
          ],
          "table": [
           {
            "cells": {
             "fill": {
              "color": "#EBF0F8"
             },
             "line": {
              "color": "white"
             }
            },
            "header": {
             "fill": {
              "color": "#C8D4E3"
             },
             "line": {
              "color": "white"
             }
            },
            "type": "table"
           }
          ]
         },
         "layout": {
          "annotationdefaults": {
           "arrowcolor": "#2a3f5f",
           "arrowhead": 0,
           "arrowwidth": 1
          },
          "autotypenumbers": "strict",
          "coloraxis": {
           "colorbar": {
            "outlinewidth": 0,
            "ticks": ""
           }
          },
          "colorscale": {
           "diverging": [
            [
             0,
             "#8e0152"
            ],
            [
             0.1,
             "#c51b7d"
            ],
            [
             0.2,
             "#de77ae"
            ],
            [
             0.3,
             "#f1b6da"
            ],
            [
             0.4,
             "#fde0ef"
            ],
            [
             0.5,
             "#f7f7f7"
            ],
            [
             0.6,
             "#e6f5d0"
            ],
            [
             0.7,
             "#b8e186"
            ],
            [
             0.8,
             "#7fbc41"
            ],
            [
             0.9,
             "#4d9221"
            ],
            [
             1,
             "#276419"
            ]
           ],
           "sequential": [
            [
             0,
             "#0d0887"
            ],
            [
             0.1111111111111111,
             "#46039f"
            ],
            [
             0.2222222222222222,
             "#7201a8"
            ],
            [
             0.3333333333333333,
             "#9c179e"
            ],
            [
             0.4444444444444444,
             "#bd3786"
            ],
            [
             0.5555555555555556,
             "#d8576b"
            ],
            [
             0.6666666666666666,
             "#ed7953"
            ],
            [
             0.7777777777777778,
             "#fb9f3a"
            ],
            [
             0.8888888888888888,
             "#fdca26"
            ],
            [
             1,
             "#f0f921"
            ]
           ],
           "sequentialminus": [
            [
             0,
             "#0d0887"
            ],
            [
             0.1111111111111111,
             "#46039f"
            ],
            [
             0.2222222222222222,
             "#7201a8"
            ],
            [
             0.3333333333333333,
             "#9c179e"
            ],
            [
             0.4444444444444444,
             "#bd3786"
            ],
            [
             0.5555555555555556,
             "#d8576b"
            ],
            [
             0.6666666666666666,
             "#ed7953"
            ],
            [
             0.7777777777777778,
             "#fb9f3a"
            ],
            [
             0.8888888888888888,
             "#fdca26"
            ],
            [
             1,
             "#f0f921"
            ]
           ]
          },
          "colorway": [
           "#636efa",
           "#EF553B",
           "#00cc96",
           "#ab63fa",
           "#FFA15A",
           "#19d3f3",
           "#FF6692",
           "#B6E880",
           "#FF97FF",
           "#FECB52"
          ],
          "font": {
           "color": "#2a3f5f"
          },
          "geo": {
           "bgcolor": "white",
           "lakecolor": "white",
           "landcolor": "#E5ECF6",
           "showlakes": true,
           "showland": true,
           "subunitcolor": "white"
          },
          "hoverlabel": {
           "align": "left"
          },
          "hovermode": "closest",
          "mapbox": {
           "style": "light"
          },
          "paper_bgcolor": "white",
          "plot_bgcolor": "#E5ECF6",
          "polar": {
           "angularaxis": {
            "gridcolor": "white",
            "linecolor": "white",
            "ticks": ""
           },
           "bgcolor": "#E5ECF6",
           "radialaxis": {
            "gridcolor": "white",
            "linecolor": "white",
            "ticks": ""
           }
          },
          "scene": {
           "xaxis": {
            "backgroundcolor": "#E5ECF6",
            "gridcolor": "white",
            "gridwidth": 2,
            "linecolor": "white",
            "showbackground": true,
            "ticks": "",
            "zerolinecolor": "white"
           },
           "yaxis": {
            "backgroundcolor": "#E5ECF6",
            "gridcolor": "white",
            "gridwidth": 2,
            "linecolor": "white",
            "showbackground": true,
            "ticks": "",
            "zerolinecolor": "white"
           },
           "zaxis": {
            "backgroundcolor": "#E5ECF6",
            "gridcolor": "white",
            "gridwidth": 2,
            "linecolor": "white",
            "showbackground": true,
            "ticks": "",
            "zerolinecolor": "white"
           }
          },
          "shapedefaults": {
           "line": {
            "color": "#2a3f5f"
           }
          },
          "ternary": {
           "aaxis": {
            "gridcolor": "white",
            "linecolor": "white",
            "ticks": ""
           },
           "baxis": {
            "gridcolor": "white",
            "linecolor": "white",
            "ticks": ""
           },
           "bgcolor": "#E5ECF6",
           "caxis": {
            "gridcolor": "white",
            "linecolor": "white",
            "ticks": ""
           }
          },
          "title": {
           "x": 0.05
          },
          "xaxis": {
           "automargin": true,
           "gridcolor": "white",
           "linecolor": "white",
           "ticks": "",
           "title": {
            "standoff": 15
           },
           "zerolinecolor": "white",
           "zerolinewidth": 2
          },
          "yaxis": {
           "automargin": true,
           "gridcolor": "white",
           "linecolor": "white",
           "ticks": "",
           "title": {
            "standoff": 15
           },
           "zerolinecolor": "white",
           "zerolinewidth": 2
          }
         }
        },
        "title": {
         "text": "Tweets per country (where country is specified)"
        },
        "width": 900
       }
      }
     },
     "metadata": {}
    }
   ],
   "source": [
    "plot_map(tw_add_df, \"Tweets per country (where country is specified)\")"
   ]
  },
  {
   "cell_type": "code",
   "execution_count": null,
   "metadata": {},
   "outputs": [],
   "source": []
  }
 ],
 "metadata": {
  "kernelspec": {
   "name": "python374jvsc74a57bd05973e705ff377894f4094cd301342e56967dce96a05684e8561f06e9111099d5",
   "display_name": "Python 3.7.4 32-bit ('base': conda)"
  },
  "language_info": {
   "codemirror_mode": {
    "name": "ipython",
    "version": 3
   },
   "file_extension": ".py",
   "mimetype": "text/x-python",
   "name": "python",
   "nbconvert_exporter": "python",
   "pygments_lexer": "ipython3",
   "version": "3.7.4"
  }
 },
 "nbformat": 4,
 "nbformat_minor": 4
}