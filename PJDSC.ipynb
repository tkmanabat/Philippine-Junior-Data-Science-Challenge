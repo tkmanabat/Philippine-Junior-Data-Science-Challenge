{
 "cells": [
  {
   "cell_type": "code",
   "execution_count": 1,
   "metadata": {},
   "outputs": [
    {
     "output_type": "execute_result",
     "data": {
      "text/plain": [
       "                        id                   user_name  \\\n",
       "0      1340539111971516416                  Rachel Roh   \n",
       "1      1338158543359250433                 Albert Fong   \n",
       "2      1337858199140118533                    eli🇱🇹🇪🇺👌   \n",
       "3      1337855739918835717               Charles Adler   \n",
       "4      1337854064604966912        Citizen News Channel   \n",
       "...                    ...                         ...   \n",
       "40166  1373522034903420929  Stankevicius International   \n",
       "40167  1373517049184587776         Emanuele Capobianco   \n",
       "40168  1373514710033821705                          RT   \n",
       "40169  1373512948417695746             Sunday Observer   \n",
       "40170  1373503451372552197                   M a r t í   \n",
       "\n",
       "                   user_location  \\\n",
       "0      La Crescenta-Montrose, CA   \n",
       "1              San Francisco, CA   \n",
       "2                       Your Bed   \n",
       "3         Vancouver, BC - Canada   \n",
       "4                            NaN   \n",
       "...                          ...   \n",
       "40166            Dublin, Ireland   \n",
       "40167        Geneva, Switzerland   \n",
       "40168                        NaN   \n",
       "40169                  Sri Lanka   \n",
       "40170                     США 🇺🇸   \n",
       "\n",
       "                                        user_description         user_created  \\\n",
       "0      Aggregator of Asian American news; scanning di...  2009-04-08 17:52:46   \n",
       "1      Marketing dude, tech geek, heavy metal & '80s ...  2009-09-21 15:27:30   \n",
       "2                                         heil, hydra 🖐☺  2020-06-25 23:30:28   \n",
       "3      Hosting \"CharlesAdlerTonight\" Global News Radi...  2008-09-10 11:28:53   \n",
       "4      Citizen News Channel bringing you an alternati...  2020-04-23 17:58:42   \n",
       "...                                                  ...                  ...   \n",
       "40166  Professional trading consultant specializing i...  2020-06-30 12:31:42   \n",
       "40167  Director Health & Care, International Federati...  2009-04-13 09:56:49   \n",
       "40168  Freedom over censorship, truth over narrative\\...  2009-08-11 06:12:45   \n",
       "40169  Sri Lanka's oldest and the most circulated wee...  2017-02-07 02:59:59   \n",
       "40170  El meu twitter en català, des dels Estats Unit...  2014-02-09 03:41:26   \n",
       "\n",
       "       user_followers  user_friends  user_favourites  user_verified  \\\n",
       "0                 405          1692             3247          False   \n",
       "1                 834           666              178          False   \n",
       "2                  10            88              155          False   \n",
       "3               49165          3933            21853           True   \n",
       "4                 152           580             1473          False   \n",
       "...               ...           ...              ...            ...   \n",
       "40166              16             3                0          False   \n",
       "40167            3242           824             5665           True   \n",
       "40168         2996352           680             1880           True   \n",
       "40169            6590            75              455          False   \n",
       "40170              61           117               34          False   \n",
       "\n",
       "                      date                                               text  \\\n",
       "0      2020-12-20 06:06:44  Same folks said daikon paste could treat a cyt...   \n",
       "1      2020-12-13 16:27:13  While the world has been on the wrong side of ...   \n",
       "2      2020-12-12 20:33:45  #coronavirus #SputnikV #AstraZeneca #PfizerBio...   \n",
       "3      2020-12-12 20:23:59  Facts are immutable, Senator, even when you're...   \n",
       "4      2020-12-12 20:17:19  Explain to me again why we need a vaccine @Bor...   \n",
       "...                    ...                                                ...   \n",
       "40166  2021-03-21 06:29:06  Selling: #NitrileGloves, #1860 #FaceMasks, #Va...   \n",
       "40167  2021-03-21 06:09:17  Limited vaccine manufacturing capacity is a ma...   \n",
       "40168  2021-03-21 06:00:00  Trust in #AstraZeneca jab in Europe has been s...   \n",
       "40169  2021-03-21 05:53:00  State Minister of Production, Supply and Regul...   \n",
       "40170  2021-03-21 05:15:15  European micronation #SanMarino begins adminis...   \n",
       "\n",
       "                                                hashtags  \\\n",
       "0                                     ['PfizerBioNTech']   \n",
       "1                                                    NaN   \n",
       "2      ['coronavirus', 'SputnikV', 'AstraZeneca', 'Pf...   \n",
       "3                                                    NaN   \n",
       "4         ['whereareallthesickpeople', 'PfizerBioNTech']   \n",
       "...                                                  ...   \n",
       "40166  ['NitrileGloves', 'FaceMasks', 'Vaccines', 'Sp...   \n",
       "40167                                        ['covid19']   \n",
       "40168                                    ['AstraZeneca']   \n",
       "40169                                                NaN   \n",
       "40170                          ['SanMarino', 'SputnikV']   \n",
       "\n",
       "                     source  retweets  favorites  is_retweet  \n",
       "0       Twitter for Android         0          0       False  \n",
       "1           Twitter Web App         1          1       False  \n",
       "2       Twitter for Android         0          0       False  \n",
       "3           Twitter Web App       446       2129       False  \n",
       "4        Twitter for iPhone         0          0       False  \n",
       "...                     ...       ...        ...         ...  \n",
       "40166                 IFTTT         1          0       False  \n",
       "40167    Twitter for iPhone         0          2       False  \n",
       "40168  Twitter Media Studio        25         49       False  \n",
       "40169             TweetDeck         1          2       False  \n",
       "40170       Twitter Web App         0          0       False  \n",
       "\n",
       "[40171 rows x 16 columns]"
      ],
      "text/html": "<div>\n<style scoped>\n    .dataframe tbody tr th:only-of-type {\n        vertical-align: middle;\n    }\n\n    .dataframe tbody tr th {\n        vertical-align: top;\n    }\n\n    .dataframe thead th {\n        text-align: right;\n    }\n</style>\n<table border=\"1\" class=\"dataframe\">\n  <thead>\n    <tr style=\"text-align: right;\">\n      <th></th>\n      <th>id</th>\n      <th>user_name</th>\n      <th>user_location</th>\n      <th>user_description</th>\n      <th>user_created</th>\n      <th>user_followers</th>\n      <th>user_friends</th>\n      <th>user_favourites</th>\n      <th>user_verified</th>\n      <th>date</th>\n      <th>text</th>\n      <th>hashtags</th>\n      <th>source</th>\n      <th>retweets</th>\n      <th>favorites</th>\n      <th>is_retweet</th>\n    </tr>\n  </thead>\n  <tbody>\n    <tr>\n      <th>0</th>\n      <td>1340539111971516416</td>\n      <td>Rachel Roh</td>\n      <td>La Crescenta-Montrose, CA</td>\n      <td>Aggregator of Asian American news; scanning di...</td>\n      <td>2009-04-08 17:52:46</td>\n      <td>405</td>\n      <td>1692</td>\n      <td>3247</td>\n      <td>False</td>\n      <td>2020-12-20 06:06:44</td>\n      <td>Same folks said daikon paste could treat a cyt...</td>\n      <td>['PfizerBioNTech']</td>\n      <td>Twitter for Android</td>\n      <td>0</td>\n      <td>0</td>\n      <td>False</td>\n    </tr>\n    <tr>\n      <th>1</th>\n      <td>1338158543359250433</td>\n      <td>Albert Fong</td>\n      <td>San Francisco, CA</td>\n      <td>Marketing dude, tech geek, heavy metal &amp; '80s ...</td>\n      <td>2009-09-21 15:27:30</td>\n      <td>834</td>\n      <td>666</td>\n      <td>178</td>\n      <td>False</td>\n      <td>2020-12-13 16:27:13</td>\n      <td>While the world has been on the wrong side of ...</td>\n      <td>NaN</td>\n      <td>Twitter Web App</td>\n      <td>1</td>\n      <td>1</td>\n      <td>False</td>\n    </tr>\n    <tr>\n      <th>2</th>\n      <td>1337858199140118533</td>\n      <td>eli🇱🇹🇪🇺👌</td>\n      <td>Your Bed</td>\n      <td>heil, hydra 🖐☺</td>\n      <td>2020-06-25 23:30:28</td>\n      <td>10</td>\n      <td>88</td>\n      <td>155</td>\n      <td>False</td>\n      <td>2020-12-12 20:33:45</td>\n      <td>#coronavirus #SputnikV #AstraZeneca #PfizerBio...</td>\n      <td>['coronavirus', 'SputnikV', 'AstraZeneca', 'Pf...</td>\n      <td>Twitter for Android</td>\n      <td>0</td>\n      <td>0</td>\n      <td>False</td>\n    </tr>\n    <tr>\n      <th>3</th>\n      <td>1337855739918835717</td>\n      <td>Charles Adler</td>\n      <td>Vancouver, BC - Canada</td>\n      <td>Hosting \"CharlesAdlerTonight\" Global News Radi...</td>\n      <td>2008-09-10 11:28:53</td>\n      <td>49165</td>\n      <td>3933</td>\n      <td>21853</td>\n      <td>True</td>\n      <td>2020-12-12 20:23:59</td>\n      <td>Facts are immutable, Senator, even when you're...</td>\n      <td>NaN</td>\n      <td>Twitter Web App</td>\n      <td>446</td>\n      <td>2129</td>\n      <td>False</td>\n    </tr>\n    <tr>\n      <th>4</th>\n      <td>1337854064604966912</td>\n      <td>Citizen News Channel</td>\n      <td>NaN</td>\n      <td>Citizen News Channel bringing you an alternati...</td>\n      <td>2020-04-23 17:58:42</td>\n      <td>152</td>\n      <td>580</td>\n      <td>1473</td>\n      <td>False</td>\n      <td>2020-12-12 20:17:19</td>\n      <td>Explain to me again why we need a vaccine @Bor...</td>\n      <td>['whereareallthesickpeople', 'PfizerBioNTech']</td>\n      <td>Twitter for iPhone</td>\n      <td>0</td>\n      <td>0</td>\n      <td>False</td>\n    </tr>\n    <tr>\n      <th>...</th>\n      <td>...</td>\n      <td>...</td>\n      <td>...</td>\n      <td>...</td>\n      <td>...</td>\n      <td>...</td>\n      <td>...</td>\n      <td>...</td>\n      <td>...</td>\n      <td>...</td>\n      <td>...</td>\n      <td>...</td>\n      <td>...</td>\n      <td>...</td>\n      <td>...</td>\n      <td>...</td>\n    </tr>\n    <tr>\n      <th>40166</th>\n      <td>1373522034903420929</td>\n      <td>Stankevicius International</td>\n      <td>Dublin, Ireland</td>\n      <td>Professional trading consultant specializing i...</td>\n      <td>2020-06-30 12:31:42</td>\n      <td>16</td>\n      <td>3</td>\n      <td>0</td>\n      <td>False</td>\n      <td>2021-03-21 06:29:06</td>\n      <td>Selling: #NitrileGloves, #1860 #FaceMasks, #Va...</td>\n      <td>['NitrileGloves', 'FaceMasks', 'Vaccines', 'Sp...</td>\n      <td>IFTTT</td>\n      <td>1</td>\n      <td>0</td>\n      <td>False</td>\n    </tr>\n    <tr>\n      <th>40167</th>\n      <td>1373517049184587776</td>\n      <td>Emanuele Capobianco</td>\n      <td>Geneva, Switzerland</td>\n      <td>Director Health &amp; Care, International Federati...</td>\n      <td>2009-04-13 09:56:49</td>\n      <td>3242</td>\n      <td>824</td>\n      <td>5665</td>\n      <td>True</td>\n      <td>2021-03-21 06:09:17</td>\n      <td>Limited vaccine manufacturing capacity is a ma...</td>\n      <td>['covid19']</td>\n      <td>Twitter for iPhone</td>\n      <td>0</td>\n      <td>2</td>\n      <td>False</td>\n    </tr>\n    <tr>\n      <th>40168</th>\n      <td>1373514710033821705</td>\n      <td>RT</td>\n      <td>NaN</td>\n      <td>Freedom over censorship, truth over narrative\\...</td>\n      <td>2009-08-11 06:12:45</td>\n      <td>2996352</td>\n      <td>680</td>\n      <td>1880</td>\n      <td>True</td>\n      <td>2021-03-21 06:00:00</td>\n      <td>Trust in #AstraZeneca jab in Europe has been s...</td>\n      <td>['AstraZeneca']</td>\n      <td>Twitter Media Studio</td>\n      <td>25</td>\n      <td>49</td>\n      <td>False</td>\n    </tr>\n    <tr>\n      <th>40169</th>\n      <td>1373512948417695746</td>\n      <td>Sunday Observer</td>\n      <td>Sri Lanka</td>\n      <td>Sri Lanka's oldest and the most circulated wee...</td>\n      <td>2017-02-07 02:59:59</td>\n      <td>6590</td>\n      <td>75</td>\n      <td>455</td>\n      <td>False</td>\n      <td>2021-03-21 05:53:00</td>\n      <td>State Minister of Production, Supply and Regul...</td>\n      <td>NaN</td>\n      <td>TweetDeck</td>\n      <td>1</td>\n      <td>2</td>\n      <td>False</td>\n    </tr>\n    <tr>\n      <th>40170</th>\n      <td>1373503451372552197</td>\n      <td>M a r t í</td>\n      <td>США 🇺🇸</td>\n      <td>El meu twitter en català, des dels Estats Unit...</td>\n      <td>2014-02-09 03:41:26</td>\n      <td>61</td>\n      <td>117</td>\n      <td>34</td>\n      <td>False</td>\n      <td>2021-03-21 05:15:15</td>\n      <td>European micronation #SanMarino begins adminis...</td>\n      <td>['SanMarino', 'SputnikV']</td>\n      <td>Twitter Web App</td>\n      <td>0</td>\n      <td>0</td>\n      <td>False</td>\n    </tr>\n  </tbody>\n</table>\n<p>40171 rows × 16 columns</p>\n</div>"
     },
     "metadata": {},
     "execution_count": 1
    }
   ],
   "source": [
    "# Data Crunchers \n",
    "\n",
    "import pandas as pd\n",
    "import numpy as np\n",
    "import plotly.express as px\n",
    "\n",
    "country_df = pd.read_csv(\"wikipedia-iso-country-codes.csv\")\n",
    "df = pd.read_csv(\"vaccination_all_tweets.csv\")\n",
    "df"
   ]
  },
  {
   "cell_type": "code",
   "execution_count": 2,
   "metadata": {},
   "outputs": [
    {
     "output_type": "execute_result",
     "data": {
      "text/plain": [
       "                        id                    user_name  \\\n",
       "17118  1366365003968823296            Dr. S. Jaishankar   \n",
       "24268  1369208356968140802               Megh Updates 🚨   \n",
       "30800  1372004340563468288           Nagarjuna Akkineni   \n",
       "17543  1366306056826019840               Megh Updates 🚨   \n",
       "32213  1372566694833569792         The Hoarse Whisperer   \n",
       "...                    ...                          ...   \n",
       "19215  1367053861706489857               garth rapeport   \n",
       "19214  1367057007061139456              San Marco Press   \n",
       "19212  1367062075445493761  Sue Reeve ♥️🧡💛💚💙💜🇪🇺🏳️‍🌈🕊️🕷️   \n",
       "19211  1367067980538994693               Warrior Athena   \n",
       "40170  1373503451372552197                    M a r t í   \n",
       "\n",
       "                user_location  \\\n",
       "17118        New Delhi, India   \n",
       "24268  Turn on Notification 🔔   \n",
       "30800               hyderabad   \n",
       "17543  Turn on Notification 🔔   \n",
       "32213                     NaN   \n",
       "...                       ...   \n",
       "19215         London, England   \n",
       "19214           Venice, Italy   \n",
       "19212       Glasgow environs.   \n",
       "19211                     NaN   \n",
       "40170                  США 🇺🇸   \n",
       "\n",
       "                                        user_description         user_created  \\\n",
       "17118                 External Affairs Minister of India  2017-05-02 11:08:14   \n",
       "24268  Top News | Breaking | Real Time |\\n🛰 Observing...  2019-03-22 18:44:11   \n",
       "30800                                         film actor  2010-03-08 05:43:34   \n",
       "17543  Top News | Breaking | Real Time |\\n🛰 Observing...  2019-03-22 18:44:11   \n",
       "32213  “A Twitter rando” - Rolling Stone mag. Beer mo...  2016-10-08 02:05:30   \n",
       "...                                                  ...                  ...   \n",
       "19215  Garth Rapeport, Visiting Prof, NHLI, Imperial ...  2012-10-11 22:45:10   \n",
       "19214  Publisher of English/Italian books, specialisi...  2013-11-17 11:52:07   \n",
       "19212  Londoner now living in Glasgow suburbs via The...  2010-12-28 19:17:39   \n",
       "19211  Powerlifter, Bodybuilder, Macro Enthusiast, In...  2010-06-19 22:05:19   \n",
       "40170  El meu twitter en català, des dels Estats Unit...  2014-02-09 03:41:26   \n",
       "\n",
       "       user_followers  user_friends  user_favourites  user_verified  \\\n",
       "17118          962016             9              100           True   \n",
       "24268           88330           363            55368          False   \n",
       "30800         6190081             3               55           True   \n",
       "17543           84326           369            54384          False   \n",
       "32213          379874          1139            74745          False   \n",
       "...               ...           ...              ...            ...   \n",
       "19215             138           157               56          False   \n",
       "19214             258           145              254          False   \n",
       "19212            1412          2236            62272          False   \n",
       "19211            8123           856              688          False   \n",
       "40170              61           117               34          False   \n",
       "\n",
       "                      date                                               text  \\\n",
       "17118  2021-03-01 12:29:37  Got my jab. For the curious, it was #Covaxin. ...   \n",
       "24268  2021-03-09 08:48:05  #Covaxin 🇮🇳 , made by Hyderabad-based Bharat B...   \n",
       "30800  2021-03-17 01:58:20  Got my #covaxin jab yesterday .. absolutely no...   \n",
       "17543  2021-03-01 08:35:23  Prime Minister Narendra Modi choose early morn...   \n",
       "32213  2021-03-18 15:12:55  That. Just. Happened.\\n\\n#Moderna #CovidVaccin...   \n",
       "...                    ...                                                ...   \n",
       "19215  2021-03-03 10:06:53  Interpreting vaccine efficacy trial results fo...   \n",
       "19214  2021-03-03 10:19:23  #Covid19 #vaccinations a friend forwarded the ...   \n",
       "19212  2021-03-03 10:39:32  #DollyParton gets vaccinated with #Moderna jab...   \n",
       "19211  2021-03-03 11:03:00  And with zero 0️⃣⭕️🅾️ liability for it. #Death...   \n",
       "40170  2021-03-21 05:15:15  European micronation #SanMarino begins adminis...   \n",
       "\n",
       "                                                hashtags               source  \\\n",
       "17118                                        ['Covaxin']   Twitter for iPhone   \n",
       "24268                                        ['Covaxin']  Twitter for Android   \n",
       "30800                                        ['covaxin']   Twitter for iPhone   \n",
       "17543                                        ['covaxin']  Twitter for Android   \n",
       "32213  ['Moderna', 'CovidVaccine', 'ThankYouScience',...   Twitter for iPhone   \n",
       "...                                                  ...                  ...   \n",
       "19215                                        ['Moderna']      Twitter Web App   \n",
       "19214             ['Covid19', 'vaccinations', 'Belgium']      Twitter Web App   \n",
       "19212                         ['DollyParton', 'Moderna']     Twitter for iPad   \n",
       "19211  ['DeathRoulette', 'AstraZeneca', 'Covid19Vacci...   Twitter for iPhone   \n",
       "40170                          ['SanMarino', 'SputnikV']      Twitter Web App   \n",
       "\n",
       "       retweets  favorites  is_retweet  \n",
       "17118      2360      22815       False  \n",
       "24268      2095       9458       False  \n",
       "30800       728       8470       False  \n",
       "17543      1980       8153       False  \n",
       "32213       121       8098       False  \n",
       "...         ...        ...         ...  \n",
       "19215         0          0       False  \n",
       "19214         0          0       False  \n",
       "19212         0          0       False  \n",
       "19211         0          0       False  \n",
       "40170         0          0       False  \n",
       "\n",
       "[40171 rows x 16 columns]"
      ],
      "text/html": "<div>\n<style scoped>\n    .dataframe tbody tr th:only-of-type {\n        vertical-align: middle;\n    }\n\n    .dataframe tbody tr th {\n        vertical-align: top;\n    }\n\n    .dataframe thead th {\n        text-align: right;\n    }\n</style>\n<table border=\"1\" class=\"dataframe\">\n  <thead>\n    <tr style=\"text-align: right;\">\n      <th></th>\n      <th>id</th>\n      <th>user_name</th>\n      <th>user_location</th>\n      <th>user_description</th>\n      <th>user_created</th>\n      <th>user_followers</th>\n      <th>user_friends</th>\n      <th>user_favourites</th>\n      <th>user_verified</th>\n      <th>date</th>\n      <th>text</th>\n      <th>hashtags</th>\n      <th>source</th>\n      <th>retweets</th>\n      <th>favorites</th>\n      <th>is_retweet</th>\n    </tr>\n  </thead>\n  <tbody>\n    <tr>\n      <th>17118</th>\n      <td>1366365003968823296</td>\n      <td>Dr. S. Jaishankar</td>\n      <td>New Delhi, India</td>\n      <td>External Affairs Minister of India</td>\n      <td>2017-05-02 11:08:14</td>\n      <td>962016</td>\n      <td>9</td>\n      <td>100</td>\n      <td>True</td>\n      <td>2021-03-01 12:29:37</td>\n      <td>Got my jab. For the curious, it was #Covaxin. ...</td>\n      <td>['Covaxin']</td>\n      <td>Twitter for iPhone</td>\n      <td>2360</td>\n      <td>22815</td>\n      <td>False</td>\n    </tr>\n    <tr>\n      <th>24268</th>\n      <td>1369208356968140802</td>\n      <td>Megh Updates 🚨</td>\n      <td>Turn on Notification 🔔</td>\n      <td>Top News | Breaking | Real Time |\\n🛰 Observing...</td>\n      <td>2019-03-22 18:44:11</td>\n      <td>88330</td>\n      <td>363</td>\n      <td>55368</td>\n      <td>False</td>\n      <td>2021-03-09 08:48:05</td>\n      <td>#Covaxin 🇮🇳 , made by Hyderabad-based Bharat B...</td>\n      <td>['Covaxin']</td>\n      <td>Twitter for Android</td>\n      <td>2095</td>\n      <td>9458</td>\n      <td>False</td>\n    </tr>\n    <tr>\n      <th>30800</th>\n      <td>1372004340563468288</td>\n      <td>Nagarjuna Akkineni</td>\n      <td>hyderabad</td>\n      <td>film actor</td>\n      <td>2010-03-08 05:43:34</td>\n      <td>6190081</td>\n      <td>3</td>\n      <td>55</td>\n      <td>True</td>\n      <td>2021-03-17 01:58:20</td>\n      <td>Got my #covaxin jab yesterday .. absolutely no...</td>\n      <td>['covaxin']</td>\n      <td>Twitter for iPhone</td>\n      <td>728</td>\n      <td>8470</td>\n      <td>False</td>\n    </tr>\n    <tr>\n      <th>17543</th>\n      <td>1366306056826019840</td>\n      <td>Megh Updates 🚨</td>\n      <td>Turn on Notification 🔔</td>\n      <td>Top News | Breaking | Real Time |\\n🛰 Observing...</td>\n      <td>2019-03-22 18:44:11</td>\n      <td>84326</td>\n      <td>369</td>\n      <td>54384</td>\n      <td>False</td>\n      <td>2021-03-01 08:35:23</td>\n      <td>Prime Minister Narendra Modi choose early morn...</td>\n      <td>['covaxin']</td>\n      <td>Twitter for Android</td>\n      <td>1980</td>\n      <td>8153</td>\n      <td>False</td>\n    </tr>\n    <tr>\n      <th>32213</th>\n      <td>1372566694833569792</td>\n      <td>The Hoarse Whisperer</td>\n      <td>NaN</td>\n      <td>“A Twitter rando” - Rolling Stone mag. Beer mo...</td>\n      <td>2016-10-08 02:05:30</td>\n      <td>379874</td>\n      <td>1139</td>\n      <td>74745</td>\n      <td>False</td>\n      <td>2021-03-18 15:12:55</td>\n      <td>That. Just. Happened.\\n\\n#Moderna #CovidVaccin...</td>\n      <td>['Moderna', 'CovidVaccine', 'ThankYouScience',...</td>\n      <td>Twitter for iPhone</td>\n      <td>121</td>\n      <td>8098</td>\n      <td>False</td>\n    </tr>\n    <tr>\n      <th>...</th>\n      <td>...</td>\n      <td>...</td>\n      <td>...</td>\n      <td>...</td>\n      <td>...</td>\n      <td>...</td>\n      <td>...</td>\n      <td>...</td>\n      <td>...</td>\n      <td>...</td>\n      <td>...</td>\n      <td>...</td>\n      <td>...</td>\n      <td>...</td>\n      <td>...</td>\n      <td>...</td>\n    </tr>\n    <tr>\n      <th>19215</th>\n      <td>1367053861706489857</td>\n      <td>garth rapeport</td>\n      <td>London, England</td>\n      <td>Garth Rapeport, Visiting Prof, NHLI, Imperial ...</td>\n      <td>2012-10-11 22:45:10</td>\n      <td>138</td>\n      <td>157</td>\n      <td>56</td>\n      <td>False</td>\n      <td>2021-03-03 10:06:53</td>\n      <td>Interpreting vaccine efficacy trial results fo...</td>\n      <td>['Moderna']</td>\n      <td>Twitter Web App</td>\n      <td>0</td>\n      <td>0</td>\n      <td>False</td>\n    </tr>\n    <tr>\n      <th>19214</th>\n      <td>1367057007061139456</td>\n      <td>San Marco Press</td>\n      <td>Venice, Italy</td>\n      <td>Publisher of English/Italian books, specialisi...</td>\n      <td>2013-11-17 11:52:07</td>\n      <td>258</td>\n      <td>145</td>\n      <td>254</td>\n      <td>False</td>\n      <td>2021-03-03 10:19:23</td>\n      <td>#Covid19 #vaccinations a friend forwarded the ...</td>\n      <td>['Covid19', 'vaccinations', 'Belgium']</td>\n      <td>Twitter Web App</td>\n      <td>0</td>\n      <td>0</td>\n      <td>False</td>\n    </tr>\n    <tr>\n      <th>19212</th>\n      <td>1367062075445493761</td>\n      <td>Sue Reeve ♥️🧡💛💚💙💜🇪🇺🏳️‍🌈🕊️🕷️</td>\n      <td>Glasgow environs.</td>\n      <td>Londoner now living in Glasgow suburbs via The...</td>\n      <td>2010-12-28 19:17:39</td>\n      <td>1412</td>\n      <td>2236</td>\n      <td>62272</td>\n      <td>False</td>\n      <td>2021-03-03 10:39:32</td>\n      <td>#DollyParton gets vaccinated with #Moderna jab...</td>\n      <td>['DollyParton', 'Moderna']</td>\n      <td>Twitter for iPad</td>\n      <td>0</td>\n      <td>0</td>\n      <td>False</td>\n    </tr>\n    <tr>\n      <th>19211</th>\n      <td>1367067980538994693</td>\n      <td>Warrior Athena</td>\n      <td>NaN</td>\n      <td>Powerlifter, Bodybuilder, Macro Enthusiast, In...</td>\n      <td>2010-06-19 22:05:19</td>\n      <td>8123</td>\n      <td>856</td>\n      <td>688</td>\n      <td>False</td>\n      <td>2021-03-03 11:03:00</td>\n      <td>And with zero 0️⃣⭕️🅾️ liability for it. #Death...</td>\n      <td>['DeathRoulette', 'AstraZeneca', 'Covid19Vacci...</td>\n      <td>Twitter for iPhone</td>\n      <td>0</td>\n      <td>0</td>\n      <td>False</td>\n    </tr>\n    <tr>\n      <th>40170</th>\n      <td>1373503451372552197</td>\n      <td>M a r t í</td>\n      <td>США 🇺🇸</td>\n      <td>El meu twitter en català, des dels Estats Unit...</td>\n      <td>2014-02-09 03:41:26</td>\n      <td>61</td>\n      <td>117</td>\n      <td>34</td>\n      <td>False</td>\n      <td>2021-03-21 05:15:15</td>\n      <td>European micronation #SanMarino begins adminis...</td>\n      <td>['SanMarino', 'SputnikV']</td>\n      <td>Twitter Web App</td>\n      <td>0</td>\n      <td>0</td>\n      <td>False</td>\n    </tr>\n  </tbody>\n</table>\n<p>40171 rows × 16 columns</p>\n</div>"
     },
     "metadata": {},
     "execution_count": 2
    }
   ],
   "source": [
    "df.sort_values(by=\"favorites\", ascending=False)"
   ]
  },
  {
   "cell_type": "code",
   "execution_count": 3,
   "metadata": {},
   "outputs": [
    {
     "output_type": "execute_result",
     "data": {
      "text/plain": [
       "                        id        user_name                  user_location  \\\n",
       "3      1337855739918835717    Charles Adler         Vancouver, BC - Canada   \n",
       "182    1338293277058076672      Mohua Dutta  Shillong India Ottawa Canada    \n",
       "183    1338287664454393858      Anita Anand              Oakville, Ontario   \n",
       "217    1338150440534466560  The Epoch Times                  New York, USA   \n",
       "228    1338133740195897347              SMB                            NaN   \n",
       "...                    ...              ...                            ...   \n",
       "39972  1373940178683887625        Sputnik V                Moscow, Russia    \n",
       "40003  1373902895477882880        Sputnik V                Moscow, Russia    \n",
       "40019  1373877564951965696        Sputnik V                Moscow, Russia    \n",
       "40143  1373585892141625345        Sputnik V                Moscow, Russia    \n",
       "40158  1373560364286291977        Sputnik V                Moscow, Russia    \n",
       "\n",
       "                                        user_description         user_created  \\\n",
       "3      Hosting \"CharlesAdlerTonight\" Global News Radi...  2008-09-10 11:28:53   \n",
       "182    #Canadian #Entrepreneur #Spiritual 🕉#Int #Dire...  2020-04-13 11:13:45   \n",
       "183    MP for #Oakville & Minister of Public Services...  2012-02-01 13:38:10   \n",
       "217    An independent, award-winning voice in print &...  2009-04-05 23:54:55   \n",
       "228    Boy Mom, Wife, Dog Mom, Suburban Woman, Proud ...  2020-08-20 00:23:15   \n",
       "...                                                  ...                  ...   \n",
       "39972  Sputnik V is the world’s first registered COVI...  2020-08-11 09:12:38   \n",
       "40003  Sputnik V is the world’s first registered COVI...  2020-08-11 09:12:38   \n",
       "40019  Sputnik V is the world’s first registered COVI...  2020-08-11 09:12:38   \n",
       "40143  Sputnik V is the world’s first registered COVI...  2020-08-11 09:12:38   \n",
       "40158  Sputnik V is the world’s first registered COVI...  2020-08-11 09:12:38   \n",
       "\n",
       "       user_followers  user_friends  user_favourites  user_verified  \\\n",
       "3               49165          3933            21853           True   \n",
       "182              2417          1725            11470          False   \n",
       "183              8410          2228            10393           True   \n",
       "217            440115            90            28034           True   \n",
       "228                 4           283              169          False   \n",
       "...               ...           ...              ...            ...   \n",
       "39972          231907           143              718           True   \n",
       "40003          231907           143              718           True   \n",
       "40019          231907           143              718           True   \n",
       "40143          231907           143              718           True   \n",
       "40158          231907           143              718           True   \n",
       "\n",
       "                      date                                               text  \\\n",
       "3      2020-12-12 20:23:59  Facts are immutable, Senator, even when you're...   \n",
       "182    2020-12-14 01:22:36  #HarHarMahadev 🙏\\nFirst batch of doses of #Pfi...   \n",
       "183    2020-12-14 01:00:18  Welcoming the 1st #COVID19vaccines to 🇨🇦 tonig...   \n",
       "217    2020-12-13 15:55:01  The newly approved #Vaccine for the #CCPVirus ...   \n",
       "228    2020-12-13 14:48:39  @JoJoFromJerz Someone should remind @tedcruz t...   \n",
       "...                    ...                                                ...   \n",
       "39972  2021-03-22 10:10:39  Just in the last 7 days, RDIF announced produc...   \n",
       "40003  2021-03-22 07:42:30  Watch this Channel One report about people fro...   \n",
       "40019  2021-03-22 06:01:51  Sputnik V leads all other vaccines on safety p...   \n",
       "40143  2021-03-21 10:42:51  Svenska Dagbladet: Several Swedish companies a...   \n",
       "40158  2021-03-21 09:01:25  Watch this NBC News report on #SputnikV succes...   \n",
       "\n",
       "                                                hashtags              source  \\\n",
       "3                                                    NaN     Twitter Web App   \n",
       "182    ['HarHarMahadev', 'Pfizer', 'BioNTech', 'Canada']     Twitter Web App   \n",
       "183                ['COVID19vaccines', 'PfizerBioNTech']  Twitter for iPhone   \n",
       "217                              ['Vaccine', 'CCPVirus']              Buffer   \n",
       "228              ['PfizerBioNTech', 'scienceovermorons']  Twitter for iPhone   \n",
       "...                                                  ...                 ...   \n",
       "39972                                                NaN     Twitter Web App   \n",
       "40003                                                NaN     Twitter Web App   \n",
       "40019                                       ['SputnikV']     Twitter Web App   \n",
       "40143                                       ['SputnikV']     Twitter Web App   \n",
       "40158                                       ['SputnikV']  Twitter for iPhone   \n",
       "\n",
       "       retweets  favorites  is_retweet  \n",
       "3           446       2129       False  \n",
       "182          37        170       False  \n",
       "183         284       1979       False  \n",
       "217          23        133       False  \n",
       "228           9        169       False  \n",
       "...         ...        ...         ...  \n",
       "39972        84        396       False  \n",
       "40003        51        153       False  \n",
       "40019       170        600       False  \n",
       "40143       175        608       False  \n",
       "40158        59        290       False  \n",
       "\n",
       "[685 rows x 16 columns]"
      ],
      "text/html": "<div>\n<style scoped>\n    .dataframe tbody tr th:only-of-type {\n        vertical-align: middle;\n    }\n\n    .dataframe tbody tr th {\n        vertical-align: top;\n    }\n\n    .dataframe thead th {\n        text-align: right;\n    }\n</style>\n<table border=\"1\" class=\"dataframe\">\n  <thead>\n    <tr style=\"text-align: right;\">\n      <th></th>\n      <th>id</th>\n      <th>user_name</th>\n      <th>user_location</th>\n      <th>user_description</th>\n      <th>user_created</th>\n      <th>user_followers</th>\n      <th>user_friends</th>\n      <th>user_favourites</th>\n      <th>user_verified</th>\n      <th>date</th>\n      <th>text</th>\n      <th>hashtags</th>\n      <th>source</th>\n      <th>retweets</th>\n      <th>favorites</th>\n      <th>is_retweet</th>\n    </tr>\n  </thead>\n  <tbody>\n    <tr>\n      <th>3</th>\n      <td>1337855739918835717</td>\n      <td>Charles Adler</td>\n      <td>Vancouver, BC - Canada</td>\n      <td>Hosting \"CharlesAdlerTonight\" Global News Radi...</td>\n      <td>2008-09-10 11:28:53</td>\n      <td>49165</td>\n      <td>3933</td>\n      <td>21853</td>\n      <td>True</td>\n      <td>2020-12-12 20:23:59</td>\n      <td>Facts are immutable, Senator, even when you're...</td>\n      <td>NaN</td>\n      <td>Twitter Web App</td>\n      <td>446</td>\n      <td>2129</td>\n      <td>False</td>\n    </tr>\n    <tr>\n      <th>182</th>\n      <td>1338293277058076672</td>\n      <td>Mohua Dutta</td>\n      <td>Shillong India Ottawa Canada</td>\n      <td>#Canadian #Entrepreneur #Spiritual 🕉#Int #Dire...</td>\n      <td>2020-04-13 11:13:45</td>\n      <td>2417</td>\n      <td>1725</td>\n      <td>11470</td>\n      <td>False</td>\n      <td>2020-12-14 01:22:36</td>\n      <td>#HarHarMahadev 🙏\\nFirst batch of doses of #Pfi...</td>\n      <td>['HarHarMahadev', 'Pfizer', 'BioNTech', 'Canada']</td>\n      <td>Twitter Web App</td>\n      <td>37</td>\n      <td>170</td>\n      <td>False</td>\n    </tr>\n    <tr>\n      <th>183</th>\n      <td>1338287664454393858</td>\n      <td>Anita Anand</td>\n      <td>Oakville, Ontario</td>\n      <td>MP for #Oakville &amp; Minister of Public Services...</td>\n      <td>2012-02-01 13:38:10</td>\n      <td>8410</td>\n      <td>2228</td>\n      <td>10393</td>\n      <td>True</td>\n      <td>2020-12-14 01:00:18</td>\n      <td>Welcoming the 1st #COVID19vaccines to 🇨🇦 tonig...</td>\n      <td>['COVID19vaccines', 'PfizerBioNTech']</td>\n      <td>Twitter for iPhone</td>\n      <td>284</td>\n      <td>1979</td>\n      <td>False</td>\n    </tr>\n    <tr>\n      <th>217</th>\n      <td>1338150440534466560</td>\n      <td>The Epoch Times</td>\n      <td>New York, USA</td>\n      <td>An independent, award-winning voice in print &amp;...</td>\n      <td>2009-04-05 23:54:55</td>\n      <td>440115</td>\n      <td>90</td>\n      <td>28034</td>\n      <td>True</td>\n      <td>2020-12-13 15:55:01</td>\n      <td>The newly approved #Vaccine for the #CCPVirus ...</td>\n      <td>['Vaccine', 'CCPVirus']</td>\n      <td>Buffer</td>\n      <td>23</td>\n      <td>133</td>\n      <td>False</td>\n    </tr>\n    <tr>\n      <th>228</th>\n      <td>1338133740195897347</td>\n      <td>SMB</td>\n      <td>NaN</td>\n      <td>Boy Mom, Wife, Dog Mom, Suburban Woman, Proud ...</td>\n      <td>2020-08-20 00:23:15</td>\n      <td>4</td>\n      <td>283</td>\n      <td>169</td>\n      <td>False</td>\n      <td>2020-12-13 14:48:39</td>\n      <td>@JoJoFromJerz Someone should remind @tedcruz t...</td>\n      <td>['PfizerBioNTech', 'scienceovermorons']</td>\n      <td>Twitter for iPhone</td>\n      <td>9</td>\n      <td>169</td>\n      <td>False</td>\n    </tr>\n    <tr>\n      <th>...</th>\n      <td>...</td>\n      <td>...</td>\n      <td>...</td>\n      <td>...</td>\n      <td>...</td>\n      <td>...</td>\n      <td>...</td>\n      <td>...</td>\n      <td>...</td>\n      <td>...</td>\n      <td>...</td>\n      <td>...</td>\n      <td>...</td>\n      <td>...</td>\n      <td>...</td>\n      <td>...</td>\n    </tr>\n    <tr>\n      <th>39972</th>\n      <td>1373940178683887625</td>\n      <td>Sputnik V</td>\n      <td>Moscow, Russia</td>\n      <td>Sputnik V is the world’s first registered COVI...</td>\n      <td>2020-08-11 09:12:38</td>\n      <td>231907</td>\n      <td>143</td>\n      <td>718</td>\n      <td>True</td>\n      <td>2021-03-22 10:10:39</td>\n      <td>Just in the last 7 days, RDIF announced produc...</td>\n      <td>NaN</td>\n      <td>Twitter Web App</td>\n      <td>84</td>\n      <td>396</td>\n      <td>False</td>\n    </tr>\n    <tr>\n      <th>40003</th>\n      <td>1373902895477882880</td>\n      <td>Sputnik V</td>\n      <td>Moscow, Russia</td>\n      <td>Sputnik V is the world’s first registered COVI...</td>\n      <td>2020-08-11 09:12:38</td>\n      <td>231907</td>\n      <td>143</td>\n      <td>718</td>\n      <td>True</td>\n      <td>2021-03-22 07:42:30</td>\n      <td>Watch this Channel One report about people fro...</td>\n      <td>NaN</td>\n      <td>Twitter Web App</td>\n      <td>51</td>\n      <td>153</td>\n      <td>False</td>\n    </tr>\n    <tr>\n      <th>40019</th>\n      <td>1373877564951965696</td>\n      <td>Sputnik V</td>\n      <td>Moscow, Russia</td>\n      <td>Sputnik V is the world’s first registered COVI...</td>\n      <td>2020-08-11 09:12:38</td>\n      <td>231907</td>\n      <td>143</td>\n      <td>718</td>\n      <td>True</td>\n      <td>2021-03-22 06:01:51</td>\n      <td>Sputnik V leads all other vaccines on safety p...</td>\n      <td>['SputnikV']</td>\n      <td>Twitter Web App</td>\n      <td>170</td>\n      <td>600</td>\n      <td>False</td>\n    </tr>\n    <tr>\n      <th>40143</th>\n      <td>1373585892141625345</td>\n      <td>Sputnik V</td>\n      <td>Moscow, Russia</td>\n      <td>Sputnik V is the world’s first registered COVI...</td>\n      <td>2020-08-11 09:12:38</td>\n      <td>231907</td>\n      <td>143</td>\n      <td>718</td>\n      <td>True</td>\n      <td>2021-03-21 10:42:51</td>\n      <td>Svenska Dagbladet: Several Swedish companies a...</td>\n      <td>['SputnikV']</td>\n      <td>Twitter Web App</td>\n      <td>175</td>\n      <td>608</td>\n      <td>False</td>\n    </tr>\n    <tr>\n      <th>40158</th>\n      <td>1373560364286291977</td>\n      <td>Sputnik V</td>\n      <td>Moscow, Russia</td>\n      <td>Sputnik V is the world’s first registered COVI...</td>\n      <td>2020-08-11 09:12:38</td>\n      <td>231907</td>\n      <td>143</td>\n      <td>718</td>\n      <td>True</td>\n      <td>2021-03-21 09:01:25</td>\n      <td>Watch this NBC News report on #SputnikV succes...</td>\n      <td>['SputnikV']</td>\n      <td>Twitter for iPhone</td>\n      <td>59</td>\n      <td>290</td>\n      <td>False</td>\n    </tr>\n  </tbody>\n</table>\n<p>685 rows × 16 columns</p>\n</div>"
     },
     "metadata": {},
     "execution_count": 3
    }
   ],
   "source": [
    "df[df.favorites > 100]"
   ]
  },
  {
   "cell_type": "code",
   "execution_count": 4,
   "metadata": {},
   "outputs": [
    {
     "output_type": "execute_result",
     "data": {
      "text/plain": [
       "                        id                  user_name  \\\n",
       "17118  1366365003968823296          Dr. S. Jaishankar   \n",
       "7126   1359520343891841034       Robert F. Kennedy Jr   \n",
       "24268  1369208356968140802             Megh Updates 🚨   \n",
       "17543  1366306056826019840             Megh Updates 🚨   \n",
       "32831  1372559220688760836                  Sputnik V   \n",
       "...                    ...                        ...   \n",
       "15822  1365408083464380423                      Erica   \n",
       "15821  1365408647652790275  Deborah Tood🇨🇦🙋‍♀️🌎💡☕️🤝🇨🇱   \n",
       "15820  1365409927485865984           Legalize Liberty   \n",
       "15819  1365410598050226176             Kimberly McKay   \n",
       "40170  1373503451372552197                  M a r t í   \n",
       "\n",
       "                        user_location  \\\n",
       "17118                New Delhi, India   \n",
       "7126           Los Angles, California   \n",
       "24268          Turn on Notification 🔔   \n",
       "17543          Turn on Notification 🔔   \n",
       "32831                 Moscow, Russia    \n",
       "...                               ...   \n",
       "15822                   New York, USA   \n",
       "15821                         Toronto   \n",
       "15820  U.S. Brothel aka U.S. Congress   \n",
       "15819                    Oklalalahoma   \n",
       "40170                          США 🇺🇸   \n",
       "\n",
       "                                        user_description         user_created  \\\n",
       "17118                 External Affairs Minister of India  2017-05-02 11:08:14   \n",
       "7126   Robert F. Kennedy, Jr. is founder + chairman o...  2011-07-18 16:22:27   \n",
       "24268  Top News | Breaking | Real Time |\\n🛰 Observing...  2019-03-22 18:44:11   \n",
       "17543  Top News | Breaking | Real Time |\\n🛰 Observing...  2019-03-22 18:44:11   \n",
       "32831  Sputnik V is the world’s first registered COVI...  2020-08-11 09:12:38   \n",
       "...                                                  ...                  ...   \n",
       "15822  Tennis playing, outdoor loving, health educato...  2012-04-08 05:08:15   \n",
       "15821  OPPOSE Extremes:Left & Right. Fiscal Conservat...  2017-01-13 14:06:40   \n",
       "15820  Taxed out of the house I was raised in. Amazed...  2009-04-24 05:15:26   \n",
       "15819  Multi-genre #Author, Repped Screenwriter, Podc...  2007-05-09 14:09:32   \n",
       "40170  El meu twitter en català, des dels Estats Unit...  2014-02-09 03:41:26   \n",
       "\n",
       "       user_followers  user_friends  user_favourites  user_verified  \\\n",
       "17118          962016             9              100           True   \n",
       "7126           224642           594              114           True   \n",
       "24268           88330           363            55368          False   \n",
       "17543           84326           369            54384          False   \n",
       "32831          223700           142              678           True   \n",
       "...               ...           ...              ...            ...   \n",
       "15822             365          1157            30714          False   \n",
       "15821            1320           795            79434          False   \n",
       "15820             700            58              123          False   \n",
       "15819            8832          6927             9511          False   \n",
       "40170              61           117               34          False   \n",
       "\n",
       "                      date                                               text  \\\n",
       "17118  2021-03-01 12:29:37  Got my jab. For the curious, it was #Covaxin. ...   \n",
       "7126   2021-02-10 15:11:23  New research published in Microbiology &amp; I...   \n",
       "24268  2021-03-09 08:48:05  #Covaxin 🇮🇳 , made by Hyderabad-based Bharat B...   \n",
       "17543  2021-03-01 08:35:23  Prime Minister Narendra Modi choose early morn...   \n",
       "32831  2021-03-18 14:43:13  A batch of fake Sputnik V vaccines was confisc...   \n",
       "...                    ...                                                ...   \n",
       "15822  2021-02-26 21:07:09  Just got my first #moderna vaccine today! 🎉💉#1...   \n",
       "15821  2021-02-26 21:09:24  @skrymir42 @globeandmail #Pfizer and #Moderna ...   \n",
       "15820  2021-02-26 21:14:29  @megtirrell @TexasDSHS Why doesn't someone rep...   \n",
       "15819  2021-02-26 21:17:09  We just got our first round. #moderna https://...   \n",
       "40170  2021-03-21 05:15:15  European micronation #SanMarino begins adminis...   \n",
       "\n",
       "                                                hashtags               source  \\\n",
       "17118                                        ['Covaxin']   Twitter for iPhone   \n",
       "7126                                            ['mRNA']            TweetDeck   \n",
       "24268                                        ['Covaxin']  Twitter for Android   \n",
       "17543                                        ['covaxin']  Twitter for Android   \n",
       "32831                                       ['SputnikV']   Twitter for iPhone   \n",
       "...                                                  ...                  ...   \n",
       "15822  ['moderna', '1B', 'PublicHealth', 'GetVaccinat...   Twitter for iPhone   \n",
       "15821                              ['Pfizer', 'Moderna']   Twitter for iPhone   \n",
       "15820                                                NaN      Twitter Web App   \n",
       "15819                                        ['moderna']   Twitter for iPhone   \n",
       "40170                          ['SanMarino', 'SputnikV']      Twitter Web App   \n",
       "\n",
       "       retweets  favorites  is_retweet  \n",
       "17118      2360      22815       False  \n",
       "7126       2247       3090       False  \n",
       "24268      2095       9458       False  \n",
       "17543      1980       8153       False  \n",
       "32831      1980       3473       False  \n",
       "...         ...        ...         ...  \n",
       "15822         0          2       False  \n",
       "15821         0          0       False  \n",
       "15820         0          0       False  \n",
       "15819         0          4       False  \n",
       "40170         0          0       False  \n",
       "\n",
       "[40171 rows x 16 columns]"
      ],
      "text/html": "<div>\n<style scoped>\n    .dataframe tbody tr th:only-of-type {\n        vertical-align: middle;\n    }\n\n    .dataframe tbody tr th {\n        vertical-align: top;\n    }\n\n    .dataframe thead th {\n        text-align: right;\n    }\n</style>\n<table border=\"1\" class=\"dataframe\">\n  <thead>\n    <tr style=\"text-align: right;\">\n      <th></th>\n      <th>id</th>\n      <th>user_name</th>\n      <th>user_location</th>\n      <th>user_description</th>\n      <th>user_created</th>\n      <th>user_followers</th>\n      <th>user_friends</th>\n      <th>user_favourites</th>\n      <th>user_verified</th>\n      <th>date</th>\n      <th>text</th>\n      <th>hashtags</th>\n      <th>source</th>\n      <th>retweets</th>\n      <th>favorites</th>\n      <th>is_retweet</th>\n    </tr>\n  </thead>\n  <tbody>\n    <tr>\n      <th>17118</th>\n      <td>1366365003968823296</td>\n      <td>Dr. S. Jaishankar</td>\n      <td>New Delhi, India</td>\n      <td>External Affairs Minister of India</td>\n      <td>2017-05-02 11:08:14</td>\n      <td>962016</td>\n      <td>9</td>\n      <td>100</td>\n      <td>True</td>\n      <td>2021-03-01 12:29:37</td>\n      <td>Got my jab. For the curious, it was #Covaxin. ...</td>\n      <td>['Covaxin']</td>\n      <td>Twitter for iPhone</td>\n      <td>2360</td>\n      <td>22815</td>\n      <td>False</td>\n    </tr>\n    <tr>\n      <th>7126</th>\n      <td>1359520343891841034</td>\n      <td>Robert F. Kennedy Jr</td>\n      <td>Los Angles, California</td>\n      <td>Robert F. Kennedy, Jr. is founder + chairman o...</td>\n      <td>2011-07-18 16:22:27</td>\n      <td>224642</td>\n      <td>594</td>\n      <td>114</td>\n      <td>True</td>\n      <td>2021-02-10 15:11:23</td>\n      <td>New research published in Microbiology &amp;amp; I...</td>\n      <td>['mRNA']</td>\n      <td>TweetDeck</td>\n      <td>2247</td>\n      <td>3090</td>\n      <td>False</td>\n    </tr>\n    <tr>\n      <th>24268</th>\n      <td>1369208356968140802</td>\n      <td>Megh Updates 🚨</td>\n      <td>Turn on Notification 🔔</td>\n      <td>Top News | Breaking | Real Time |\\n🛰 Observing...</td>\n      <td>2019-03-22 18:44:11</td>\n      <td>88330</td>\n      <td>363</td>\n      <td>55368</td>\n      <td>False</td>\n      <td>2021-03-09 08:48:05</td>\n      <td>#Covaxin 🇮🇳 , made by Hyderabad-based Bharat B...</td>\n      <td>['Covaxin']</td>\n      <td>Twitter for Android</td>\n      <td>2095</td>\n      <td>9458</td>\n      <td>False</td>\n    </tr>\n    <tr>\n      <th>17543</th>\n      <td>1366306056826019840</td>\n      <td>Megh Updates 🚨</td>\n      <td>Turn on Notification 🔔</td>\n      <td>Top News | Breaking | Real Time |\\n🛰 Observing...</td>\n      <td>2019-03-22 18:44:11</td>\n      <td>84326</td>\n      <td>369</td>\n      <td>54384</td>\n      <td>False</td>\n      <td>2021-03-01 08:35:23</td>\n      <td>Prime Minister Narendra Modi choose early morn...</td>\n      <td>['covaxin']</td>\n      <td>Twitter for Android</td>\n      <td>1980</td>\n      <td>8153</td>\n      <td>False</td>\n    </tr>\n    <tr>\n      <th>32831</th>\n      <td>1372559220688760836</td>\n      <td>Sputnik V</td>\n      <td>Moscow, Russia</td>\n      <td>Sputnik V is the world’s first registered COVI...</td>\n      <td>2020-08-11 09:12:38</td>\n      <td>223700</td>\n      <td>142</td>\n      <td>678</td>\n      <td>True</td>\n      <td>2021-03-18 14:43:13</td>\n      <td>A batch of fake Sputnik V vaccines was confisc...</td>\n      <td>['SputnikV']</td>\n      <td>Twitter for iPhone</td>\n      <td>1980</td>\n      <td>3473</td>\n      <td>False</td>\n    </tr>\n    <tr>\n      <th>...</th>\n      <td>...</td>\n      <td>...</td>\n      <td>...</td>\n      <td>...</td>\n      <td>...</td>\n      <td>...</td>\n      <td>...</td>\n      <td>...</td>\n      <td>...</td>\n      <td>...</td>\n      <td>...</td>\n      <td>...</td>\n      <td>...</td>\n      <td>...</td>\n      <td>...</td>\n      <td>...</td>\n    </tr>\n    <tr>\n      <th>15822</th>\n      <td>1365408083464380423</td>\n      <td>Erica</td>\n      <td>New York, USA</td>\n      <td>Tennis playing, outdoor loving, health educato...</td>\n      <td>2012-04-08 05:08:15</td>\n      <td>365</td>\n      <td>1157</td>\n      <td>30714</td>\n      <td>False</td>\n      <td>2021-02-26 21:07:09</td>\n      <td>Just got my first #moderna vaccine today! 🎉💉#1...</td>\n      <td>['moderna', '1B', 'PublicHealth', 'GetVaccinat...</td>\n      <td>Twitter for iPhone</td>\n      <td>0</td>\n      <td>2</td>\n      <td>False</td>\n    </tr>\n    <tr>\n      <th>15821</th>\n      <td>1365408647652790275</td>\n      <td>Deborah Tood🇨🇦🙋‍♀️🌎💡☕️🤝🇨🇱</td>\n      <td>Toronto</td>\n      <td>OPPOSE Extremes:Left &amp; Right. Fiscal Conservat...</td>\n      <td>2017-01-13 14:06:40</td>\n      <td>1320</td>\n      <td>795</td>\n      <td>79434</td>\n      <td>False</td>\n      <td>2021-02-26 21:09:24</td>\n      <td>@skrymir42 @globeandmail #Pfizer and #Moderna ...</td>\n      <td>['Pfizer', 'Moderna']</td>\n      <td>Twitter for iPhone</td>\n      <td>0</td>\n      <td>0</td>\n      <td>False</td>\n    </tr>\n    <tr>\n      <th>15820</th>\n      <td>1365409927485865984</td>\n      <td>Legalize Liberty</td>\n      <td>U.S. Brothel aka U.S. Congress</td>\n      <td>Taxed out of the house I was raised in. Amazed...</td>\n      <td>2009-04-24 05:15:26</td>\n      <td>700</td>\n      <td>58</td>\n      <td>123</td>\n      <td>False</td>\n      <td>2021-02-26 21:14:29</td>\n      <td>@megtirrell @TexasDSHS Why doesn't someone rep...</td>\n      <td>NaN</td>\n      <td>Twitter Web App</td>\n      <td>0</td>\n      <td>0</td>\n      <td>False</td>\n    </tr>\n    <tr>\n      <th>15819</th>\n      <td>1365410598050226176</td>\n      <td>Kimberly McKay</td>\n      <td>Oklalalahoma</td>\n      <td>Multi-genre #Author, Repped Screenwriter, Podc...</td>\n      <td>2007-05-09 14:09:32</td>\n      <td>8832</td>\n      <td>6927</td>\n      <td>9511</td>\n      <td>False</td>\n      <td>2021-02-26 21:17:09</td>\n      <td>We just got our first round. #moderna https://...</td>\n      <td>['moderna']</td>\n      <td>Twitter for iPhone</td>\n      <td>0</td>\n      <td>4</td>\n      <td>False</td>\n    </tr>\n    <tr>\n      <th>40170</th>\n      <td>1373503451372552197</td>\n      <td>M a r t í</td>\n      <td>США 🇺🇸</td>\n      <td>El meu twitter en català, des dels Estats Unit...</td>\n      <td>2014-02-09 03:41:26</td>\n      <td>61</td>\n      <td>117</td>\n      <td>34</td>\n      <td>False</td>\n      <td>2021-03-21 05:15:15</td>\n      <td>European micronation #SanMarino begins adminis...</td>\n      <td>['SanMarino', 'SputnikV']</td>\n      <td>Twitter Web App</td>\n      <td>0</td>\n      <td>0</td>\n      <td>False</td>\n    </tr>\n  </tbody>\n</table>\n<p>40171 rows × 16 columns</p>\n</div>"
     },
     "metadata": {},
     "execution_count": 4
    }
   ],
   "source": [
    "df.sort_values(by=\"retweets\", ascending=False)"
   ]
  },
  {
   "cell_type": "code",
   "execution_count": 5,
   "metadata": {},
   "outputs": [
    {
     "output_type": "execute_result",
     "data": {
      "text/plain": [
       "                        id                   user_name  \\\n",
       "0      1340539111971516416                  Rachel Roh   \n",
       "1      1338158543359250433                 Albert Fong   \n",
       "2      1337858199140118533                    eli🇱🇹🇪🇺👌   \n",
       "4      1337854064604966912        Citizen News Channel   \n",
       "8      1337850023531347969                 Erin Despas   \n",
       "...                    ...                         ...   \n",
       "40166  1373522034903420929  Stankevicius International   \n",
       "40167  1373517049184587776         Emanuele Capobianco   \n",
       "40168  1373514710033821705                          RT   \n",
       "40169  1373512948417695746             Sunday Observer   \n",
       "40170  1373503451372552197                   M a r t í   \n",
       "\n",
       "                   user_location  \\\n",
       "0      La Crescenta-Montrose, CA   \n",
       "1              San Francisco, CA   \n",
       "2                       Your Bed   \n",
       "4                            NaN   \n",
       "8                            NaN   \n",
       "...                          ...   \n",
       "40166            Dublin, Ireland   \n",
       "40167        Geneva, Switzerland   \n",
       "40168                        NaN   \n",
       "40169                  Sri Lanka   \n",
       "40170                     США 🇺🇸   \n",
       "\n",
       "                                        user_description         user_created  \\\n",
       "0      Aggregator of Asian American news; scanning di...  2009-04-08 17:52:46   \n",
       "1      Marketing dude, tech geek, heavy metal & '80s ...  2009-09-21 15:27:30   \n",
       "2                                         heil, hydra 🖐☺  2020-06-25 23:30:28   \n",
       "4      Citizen News Channel bringing you an alternati...  2020-04-23 17:58:42   \n",
       "8      Designing&selling on Teespring. Like 90s Disne...  2009-10-30 17:53:54   \n",
       "...                                                  ...                  ...   \n",
       "40166  Professional trading consultant specializing i...  2020-06-30 12:31:42   \n",
       "40167  Director Health & Care, International Federati...  2009-04-13 09:56:49   \n",
       "40168  Freedom over censorship, truth over narrative\\...  2009-08-11 06:12:45   \n",
       "40169  Sri Lanka's oldest and the most circulated wee...  2017-02-07 02:59:59   \n",
       "40170  El meu twitter en català, des dels Estats Unit...  2014-02-09 03:41:26   \n",
       "\n",
       "       user_followers  user_friends  user_favourites  user_verified  \\\n",
       "0                 405          1692             3247          False   \n",
       "1                 834           666              178          False   \n",
       "2                  10            88              155          False   \n",
       "4                 152           580             1473          False   \n",
       "8                 887          1515             9639          False   \n",
       "...               ...           ...              ...            ...   \n",
       "40166              16             3                0          False   \n",
       "40167            3242           824             5665           True   \n",
       "40168         2996352           680             1880           True   \n",
       "40169            6590            75              455          False   \n",
       "40170              61           117               34          False   \n",
       "\n",
       "                      date                                               text  \\\n",
       "0      2020-12-20 06:06:44  Same folks said daikon paste could treat a cyt...   \n",
       "1      2020-12-13 16:27:13  While the world has been on the wrong side of ...   \n",
       "2      2020-12-12 20:33:45  #coronavirus #SputnikV #AstraZeneca #PfizerBio...   \n",
       "4      2020-12-12 20:17:19  Explain to me again why we need a vaccine @Bor...   \n",
       "8      2020-12-12 20:01:16  Covid vaccine; You getting it?\\n\\n #CovidVacci...   \n",
       "...                    ...                                                ...   \n",
       "40166  2021-03-21 06:29:06  Selling: #NitrileGloves, #1860 #FaceMasks, #Va...   \n",
       "40167  2021-03-21 06:09:17  Limited vaccine manufacturing capacity is a ma...   \n",
       "40168  2021-03-21 06:00:00  Trust in #AstraZeneca jab in Europe has been s...   \n",
       "40169  2021-03-21 05:53:00  State Minister of Production, Supply and Regul...   \n",
       "40170  2021-03-21 05:15:15  European micronation #SanMarino begins adminis...   \n",
       "\n",
       "                                                hashtags  \\\n",
       "0                                     ['PfizerBioNTech']   \n",
       "1                                                    NaN   \n",
       "2      ['coronavirus', 'SputnikV', 'AstraZeneca', 'Pf...   \n",
       "4         ['whereareallthesickpeople', 'PfizerBioNTech']   \n",
       "8      ['CovidVaccine', 'covid19', 'PfizerBioNTech', ...   \n",
       "...                                                  ...   \n",
       "40166  ['NitrileGloves', 'FaceMasks', 'Vaccines', 'Sp...   \n",
       "40167                                        ['covid19']   \n",
       "40168                                    ['AstraZeneca']   \n",
       "40169                                                NaN   \n",
       "40170                          ['SanMarino', 'SputnikV']   \n",
       "\n",
       "                     source  retweets  favorites  is_retweet  \n",
       "0       Twitter for Android         0          0       False  \n",
       "1           Twitter Web App         1          1       False  \n",
       "2       Twitter for Android         0          0       False  \n",
       "4        Twitter for iPhone         0          0       False  \n",
       "8           Twitter Web App         2          1       False  \n",
       "...                     ...       ...        ...         ...  \n",
       "40166                 IFTTT         1          0       False  \n",
       "40167    Twitter for iPhone         0          2       False  \n",
       "40168  Twitter Media Studio        25         49       False  \n",
       "40169             TweetDeck         1          2       False  \n",
       "40170       Twitter Web App         0          0       False  \n",
       "\n",
       "[22483 rows x 16 columns]"
      ],
      "text/html": "<div>\n<style scoped>\n    .dataframe tbody tr th:only-of-type {\n        vertical-align: middle;\n    }\n\n    .dataframe tbody tr th {\n        vertical-align: top;\n    }\n\n    .dataframe thead th {\n        text-align: right;\n    }\n</style>\n<table border=\"1\" class=\"dataframe\">\n  <thead>\n    <tr style=\"text-align: right;\">\n      <th></th>\n      <th>id</th>\n      <th>user_name</th>\n      <th>user_location</th>\n      <th>user_description</th>\n      <th>user_created</th>\n      <th>user_followers</th>\n      <th>user_friends</th>\n      <th>user_favourites</th>\n      <th>user_verified</th>\n      <th>date</th>\n      <th>text</th>\n      <th>hashtags</th>\n      <th>source</th>\n      <th>retweets</th>\n      <th>favorites</th>\n      <th>is_retweet</th>\n    </tr>\n  </thead>\n  <tbody>\n    <tr>\n      <th>0</th>\n      <td>1340539111971516416</td>\n      <td>Rachel Roh</td>\n      <td>La Crescenta-Montrose, CA</td>\n      <td>Aggregator of Asian American news; scanning di...</td>\n      <td>2009-04-08 17:52:46</td>\n      <td>405</td>\n      <td>1692</td>\n      <td>3247</td>\n      <td>False</td>\n      <td>2020-12-20 06:06:44</td>\n      <td>Same folks said daikon paste could treat a cyt...</td>\n      <td>['PfizerBioNTech']</td>\n      <td>Twitter for Android</td>\n      <td>0</td>\n      <td>0</td>\n      <td>False</td>\n    </tr>\n    <tr>\n      <th>1</th>\n      <td>1338158543359250433</td>\n      <td>Albert Fong</td>\n      <td>San Francisco, CA</td>\n      <td>Marketing dude, tech geek, heavy metal &amp; '80s ...</td>\n      <td>2009-09-21 15:27:30</td>\n      <td>834</td>\n      <td>666</td>\n      <td>178</td>\n      <td>False</td>\n      <td>2020-12-13 16:27:13</td>\n      <td>While the world has been on the wrong side of ...</td>\n      <td>NaN</td>\n      <td>Twitter Web App</td>\n      <td>1</td>\n      <td>1</td>\n      <td>False</td>\n    </tr>\n    <tr>\n      <th>2</th>\n      <td>1337858199140118533</td>\n      <td>eli🇱🇹🇪🇺👌</td>\n      <td>Your Bed</td>\n      <td>heil, hydra 🖐☺</td>\n      <td>2020-06-25 23:30:28</td>\n      <td>10</td>\n      <td>88</td>\n      <td>155</td>\n      <td>False</td>\n      <td>2020-12-12 20:33:45</td>\n      <td>#coronavirus #SputnikV #AstraZeneca #PfizerBio...</td>\n      <td>['coronavirus', 'SputnikV', 'AstraZeneca', 'Pf...</td>\n      <td>Twitter for Android</td>\n      <td>0</td>\n      <td>0</td>\n      <td>False</td>\n    </tr>\n    <tr>\n      <th>4</th>\n      <td>1337854064604966912</td>\n      <td>Citizen News Channel</td>\n      <td>NaN</td>\n      <td>Citizen News Channel bringing you an alternati...</td>\n      <td>2020-04-23 17:58:42</td>\n      <td>152</td>\n      <td>580</td>\n      <td>1473</td>\n      <td>False</td>\n      <td>2020-12-12 20:17:19</td>\n      <td>Explain to me again why we need a vaccine @Bor...</td>\n      <td>['whereareallthesickpeople', 'PfizerBioNTech']</td>\n      <td>Twitter for iPhone</td>\n      <td>0</td>\n      <td>0</td>\n      <td>False</td>\n    </tr>\n    <tr>\n      <th>8</th>\n      <td>1337850023531347969</td>\n      <td>Erin Despas</td>\n      <td>NaN</td>\n      <td>Designing&amp;selling on Teespring. Like 90s Disne...</td>\n      <td>2009-10-30 17:53:54</td>\n      <td>887</td>\n      <td>1515</td>\n      <td>9639</td>\n      <td>False</td>\n      <td>2020-12-12 20:01:16</td>\n      <td>Covid vaccine; You getting it?\\n\\n #CovidVacci...</td>\n      <td>['CovidVaccine', 'covid19', 'PfizerBioNTech', ...</td>\n      <td>Twitter Web App</td>\n      <td>2</td>\n      <td>1</td>\n      <td>False</td>\n    </tr>\n    <tr>\n      <th>...</th>\n      <td>...</td>\n      <td>...</td>\n      <td>...</td>\n      <td>...</td>\n      <td>...</td>\n      <td>...</td>\n      <td>...</td>\n      <td>...</td>\n      <td>...</td>\n      <td>...</td>\n      <td>...</td>\n      <td>...</td>\n      <td>...</td>\n      <td>...</td>\n      <td>...</td>\n      <td>...</td>\n    </tr>\n    <tr>\n      <th>40166</th>\n      <td>1373522034903420929</td>\n      <td>Stankevicius International</td>\n      <td>Dublin, Ireland</td>\n      <td>Professional trading consultant specializing i...</td>\n      <td>2020-06-30 12:31:42</td>\n      <td>16</td>\n      <td>3</td>\n      <td>0</td>\n      <td>False</td>\n      <td>2021-03-21 06:29:06</td>\n      <td>Selling: #NitrileGloves, #1860 #FaceMasks, #Va...</td>\n      <td>['NitrileGloves', 'FaceMasks', 'Vaccines', 'Sp...</td>\n      <td>IFTTT</td>\n      <td>1</td>\n      <td>0</td>\n      <td>False</td>\n    </tr>\n    <tr>\n      <th>40167</th>\n      <td>1373517049184587776</td>\n      <td>Emanuele Capobianco</td>\n      <td>Geneva, Switzerland</td>\n      <td>Director Health &amp; Care, International Federati...</td>\n      <td>2009-04-13 09:56:49</td>\n      <td>3242</td>\n      <td>824</td>\n      <td>5665</td>\n      <td>True</td>\n      <td>2021-03-21 06:09:17</td>\n      <td>Limited vaccine manufacturing capacity is a ma...</td>\n      <td>['covid19']</td>\n      <td>Twitter for iPhone</td>\n      <td>0</td>\n      <td>2</td>\n      <td>False</td>\n    </tr>\n    <tr>\n      <th>40168</th>\n      <td>1373514710033821705</td>\n      <td>RT</td>\n      <td>NaN</td>\n      <td>Freedom over censorship, truth over narrative\\...</td>\n      <td>2009-08-11 06:12:45</td>\n      <td>2996352</td>\n      <td>680</td>\n      <td>1880</td>\n      <td>True</td>\n      <td>2021-03-21 06:00:00</td>\n      <td>Trust in #AstraZeneca jab in Europe has been s...</td>\n      <td>['AstraZeneca']</td>\n      <td>Twitter Media Studio</td>\n      <td>25</td>\n      <td>49</td>\n      <td>False</td>\n    </tr>\n    <tr>\n      <th>40169</th>\n      <td>1373512948417695746</td>\n      <td>Sunday Observer</td>\n      <td>Sri Lanka</td>\n      <td>Sri Lanka's oldest and the most circulated wee...</td>\n      <td>2017-02-07 02:59:59</td>\n      <td>6590</td>\n      <td>75</td>\n      <td>455</td>\n      <td>False</td>\n      <td>2021-03-21 05:53:00</td>\n      <td>State Minister of Production, Supply and Regul...</td>\n      <td>NaN</td>\n      <td>TweetDeck</td>\n      <td>1</td>\n      <td>2</td>\n      <td>False</td>\n    </tr>\n    <tr>\n      <th>40170</th>\n      <td>1373503451372552197</td>\n      <td>M a r t í</td>\n      <td>США 🇺🇸</td>\n      <td>El meu twitter en català, des dels Estats Unit...</td>\n      <td>2014-02-09 03:41:26</td>\n      <td>61</td>\n      <td>117</td>\n      <td>34</td>\n      <td>False</td>\n      <td>2021-03-21 05:15:15</td>\n      <td>European micronation #SanMarino begins adminis...</td>\n      <td>['SanMarino', 'SputnikV']</td>\n      <td>Twitter Web App</td>\n      <td>0</td>\n      <td>0</td>\n      <td>False</td>\n    </tr>\n  </tbody>\n</table>\n<p>22483 rows × 16 columns</p>\n</div>"
     },
     "metadata": {},
     "execution_count": 5
    }
   ],
   "source": [
    "#unique users\n",
    "df.drop_duplicates('user_name', keep='last')"
   ]
  },
  {
   "cell_type": "code",
   "execution_count": 6,
   "metadata": {},
   "outputs": [
    {
     "output_type": "execute_result",
     "data": {
      "text/plain": [
       "                        id                  user_name           user_location  \\\n",
       "17118  1366365003968823296          Dr. S. Jaishankar        New Delhi, India   \n",
       "24268  1369208356968140802             Megh Updates 🚨  Turn on Notification 🔔   \n",
       "30800  1372004340563468288         Nagarjuna Akkineni               hyderabad   \n",
       "17543  1366306056826019840             Megh Updates 🚨  Turn on Notification 🔔   \n",
       "32213  1372566694833569792       The Hoarse Whisperer                     NaN   \n",
       "...                    ...                        ...                     ...   \n",
       "40160  1373553275224657923                       Umer       Karachi, Pakistan   \n",
       "40161  1373551654994329603          Nicola Facciolini                L'Aquila   \n",
       "40162  1373544337607376902           Muhammad Shahzeb               Islamabad   \n",
       "40163  1373539685683896320  Philipp Grätzel von Grätz                  Berlin   \n",
       "40170  1373503451372552197                  M a r t í                  США 🇺🇸   \n",
       "\n",
       "                                        user_description         user_created  \\\n",
       "17118                 External Affairs Minister of India  2017-05-02 11:08:14   \n",
       "24268  Top News | Breaking | Real Time |\\n🛰 Observing...  2019-03-22 18:44:11   \n",
       "30800                                         film actor  2010-03-08 05:43:34   \n",
       "17543  Top News | Breaking | Real Time |\\n🛰 Observing...  2019-03-22 18:44:11   \n",
       "32213  “A Twitter rando” - Rolling Stone mag. Beer mo...  2016-10-08 02:05:30   \n",
       "...                                                  ...                  ...   \n",
       "40160                                                NaN  2011-04-04 10:02:29   \n",
       "40161                                 Science Journalist  2009-05-16 08:28:23   \n",
       "40162  Proud Pakistani, cricket lover, chicken ka dus...  2016-01-22 10:09:55   \n",
       "40163  Medicine, photography. MD. MSc SciComm #Imperi...  2016-11-06 20:00:58   \n",
       "40170  El meu twitter en català, des dels Estats Unit...  2014-02-09 03:41:26   \n",
       "\n",
       "       user_followers  user_friends  user_favourites  user_verified  \\\n",
       "17118          962016             9              100           True   \n",
       "24268           88330           363            55368          False   \n",
       "30800         6190081             3               55           True   \n",
       "17543           84326           369            54384          False   \n",
       "32213          379874          1139            74745          False   \n",
       "...               ...           ...              ...            ...   \n",
       "40160             364           422              816          False   \n",
       "40161             648          1721            83694          False   \n",
       "40162             552           240             4772          False   \n",
       "40163            1431           995             1897          False   \n",
       "40170              61           117               34          False   \n",
       "\n",
       "                      date                                               text  \\\n",
       "17118  2021-03-01 12:29:37  Got my jab. For the curious, it was #Covaxin. ...   \n",
       "24268  2021-03-09 08:48:05  #Covaxin 🇮🇳 , made by Hyderabad-based Bharat B...   \n",
       "30800  2021-03-17 01:58:20  Got my #covaxin jab yesterday .. absolutely no...   \n",
       "17543  2021-03-01 08:35:23  Prime Minister Narendra Modi choose early morn...   \n",
       "32213  2021-03-18 15:12:55  That. Just. Happened.\\n\\n#Moderna #CovidVaccin...   \n",
       "...                    ...                                                ...   \n",
       "40160  2021-03-21 08:33:14  Official price cap for Covid19 vaccine Sputnik...   \n",
       "40161  2021-03-21 08:26:48  @mod_russia #SputnikV to #Italy. God Bless Hol...   \n",
       "40162  2021-03-21 07:57:43  Govt allows Private sector  to sell Russian va...   \n",
       "40163  2021-03-21 07:39:14  Pretty good overview on the stuttering #SarsCo...   \n",
       "40170  2021-03-21 05:15:15  European micronation #SanMarino begins adminis...   \n",
       "\n",
       "                                                hashtags               source  \\\n",
       "17118                                        ['Covaxin']   Twitter for iPhone   \n",
       "24268                                        ['Covaxin']  Twitter for Android   \n",
       "30800                                        ['covaxin']   Twitter for iPhone   \n",
       "17543                                        ['covaxin']  Twitter for Android   \n",
       "32213  ['Moderna', 'CovidVaccine', 'ThankYouScience',...   Twitter for iPhone   \n",
       "...                                                  ...                  ...   \n",
       "40160                           ['Pakistan', 'SputnikV']   Twitter for iPhone   \n",
       "40161                    ['SputnikV', 'Italy', 'Russia']  Twitter for Android   \n",
       "40162                                                NaN  Twitter for Android   \n",
       "40163                                       ['SarsCoV2']   Twitter for iPhone   \n",
       "40170                          ['SanMarino', 'SputnikV']      Twitter Web App   \n",
       "\n",
       "       retweets  favorites  is_retweet  \n",
       "17118      2360      22815       False  \n",
       "24268      2095       9458       False  \n",
       "30800       728       8470       False  \n",
       "17543      1980       8153       False  \n",
       "32213       121       8098       False  \n",
       "...         ...        ...         ...  \n",
       "40160         0          0       False  \n",
       "40161         0          0       False  \n",
       "40162         0          0       False  \n",
       "40163         0          0       False  \n",
       "40170         0          0       False  \n",
       "\n",
       "[40171 rows x 16 columns]"
      ],
      "text/html": "<div>\n<style scoped>\n    .dataframe tbody tr th:only-of-type {\n        vertical-align: middle;\n    }\n\n    .dataframe tbody tr th {\n        vertical-align: top;\n    }\n\n    .dataframe thead th {\n        text-align: right;\n    }\n</style>\n<table border=\"1\" class=\"dataframe\">\n  <thead>\n    <tr style=\"text-align: right;\">\n      <th></th>\n      <th>id</th>\n      <th>user_name</th>\n      <th>user_location</th>\n      <th>user_description</th>\n      <th>user_created</th>\n      <th>user_followers</th>\n      <th>user_friends</th>\n      <th>user_favourites</th>\n      <th>user_verified</th>\n      <th>date</th>\n      <th>text</th>\n      <th>hashtags</th>\n      <th>source</th>\n      <th>retweets</th>\n      <th>favorites</th>\n      <th>is_retweet</th>\n    </tr>\n  </thead>\n  <tbody>\n    <tr>\n      <th>17118</th>\n      <td>1366365003968823296</td>\n      <td>Dr. S. Jaishankar</td>\n      <td>New Delhi, India</td>\n      <td>External Affairs Minister of India</td>\n      <td>2017-05-02 11:08:14</td>\n      <td>962016</td>\n      <td>9</td>\n      <td>100</td>\n      <td>True</td>\n      <td>2021-03-01 12:29:37</td>\n      <td>Got my jab. For the curious, it was #Covaxin. ...</td>\n      <td>['Covaxin']</td>\n      <td>Twitter for iPhone</td>\n      <td>2360</td>\n      <td>22815</td>\n      <td>False</td>\n    </tr>\n    <tr>\n      <th>24268</th>\n      <td>1369208356968140802</td>\n      <td>Megh Updates 🚨</td>\n      <td>Turn on Notification 🔔</td>\n      <td>Top News | Breaking | Real Time |\\n🛰 Observing...</td>\n      <td>2019-03-22 18:44:11</td>\n      <td>88330</td>\n      <td>363</td>\n      <td>55368</td>\n      <td>False</td>\n      <td>2021-03-09 08:48:05</td>\n      <td>#Covaxin 🇮🇳 , made by Hyderabad-based Bharat B...</td>\n      <td>['Covaxin']</td>\n      <td>Twitter for Android</td>\n      <td>2095</td>\n      <td>9458</td>\n      <td>False</td>\n    </tr>\n    <tr>\n      <th>30800</th>\n      <td>1372004340563468288</td>\n      <td>Nagarjuna Akkineni</td>\n      <td>hyderabad</td>\n      <td>film actor</td>\n      <td>2010-03-08 05:43:34</td>\n      <td>6190081</td>\n      <td>3</td>\n      <td>55</td>\n      <td>True</td>\n      <td>2021-03-17 01:58:20</td>\n      <td>Got my #covaxin jab yesterday .. absolutely no...</td>\n      <td>['covaxin']</td>\n      <td>Twitter for iPhone</td>\n      <td>728</td>\n      <td>8470</td>\n      <td>False</td>\n    </tr>\n    <tr>\n      <th>17543</th>\n      <td>1366306056826019840</td>\n      <td>Megh Updates 🚨</td>\n      <td>Turn on Notification 🔔</td>\n      <td>Top News | Breaking | Real Time |\\n🛰 Observing...</td>\n      <td>2019-03-22 18:44:11</td>\n      <td>84326</td>\n      <td>369</td>\n      <td>54384</td>\n      <td>False</td>\n      <td>2021-03-01 08:35:23</td>\n      <td>Prime Minister Narendra Modi choose early morn...</td>\n      <td>['covaxin']</td>\n      <td>Twitter for Android</td>\n      <td>1980</td>\n      <td>8153</td>\n      <td>False</td>\n    </tr>\n    <tr>\n      <th>32213</th>\n      <td>1372566694833569792</td>\n      <td>The Hoarse Whisperer</td>\n      <td>NaN</td>\n      <td>“A Twitter rando” - Rolling Stone mag. Beer mo...</td>\n      <td>2016-10-08 02:05:30</td>\n      <td>379874</td>\n      <td>1139</td>\n      <td>74745</td>\n      <td>False</td>\n      <td>2021-03-18 15:12:55</td>\n      <td>That. Just. Happened.\\n\\n#Moderna #CovidVaccin...</td>\n      <td>['Moderna', 'CovidVaccine', 'ThankYouScience',...</td>\n      <td>Twitter for iPhone</td>\n      <td>121</td>\n      <td>8098</td>\n      <td>False</td>\n    </tr>\n    <tr>\n      <th>...</th>\n      <td>...</td>\n      <td>...</td>\n      <td>...</td>\n      <td>...</td>\n      <td>...</td>\n      <td>...</td>\n      <td>...</td>\n      <td>...</td>\n      <td>...</td>\n      <td>...</td>\n      <td>...</td>\n      <td>...</td>\n      <td>...</td>\n      <td>...</td>\n      <td>...</td>\n      <td>...</td>\n    </tr>\n    <tr>\n      <th>40160</th>\n      <td>1373553275224657923</td>\n      <td>Umer</td>\n      <td>Karachi, Pakistan</td>\n      <td>NaN</td>\n      <td>2011-04-04 10:02:29</td>\n      <td>364</td>\n      <td>422</td>\n      <td>816</td>\n      <td>False</td>\n      <td>2021-03-21 08:33:14</td>\n      <td>Official price cap for Covid19 vaccine Sputnik...</td>\n      <td>['Pakistan', 'SputnikV']</td>\n      <td>Twitter for iPhone</td>\n      <td>0</td>\n      <td>0</td>\n      <td>False</td>\n    </tr>\n    <tr>\n      <th>40161</th>\n      <td>1373551654994329603</td>\n      <td>Nicola Facciolini</td>\n      <td>L'Aquila</td>\n      <td>Science Journalist</td>\n      <td>2009-05-16 08:28:23</td>\n      <td>648</td>\n      <td>1721</td>\n      <td>83694</td>\n      <td>False</td>\n      <td>2021-03-21 08:26:48</td>\n      <td>@mod_russia #SputnikV to #Italy. God Bless Hol...</td>\n      <td>['SputnikV', 'Italy', 'Russia']</td>\n      <td>Twitter for Android</td>\n      <td>0</td>\n      <td>0</td>\n      <td>False</td>\n    </tr>\n    <tr>\n      <th>40162</th>\n      <td>1373544337607376902</td>\n      <td>Muhammad Shahzeb</td>\n      <td>Islamabad</td>\n      <td>Proud Pakistani, cricket lover, chicken ka dus...</td>\n      <td>2016-01-22 10:09:55</td>\n      <td>552</td>\n      <td>240</td>\n      <td>4772</td>\n      <td>False</td>\n      <td>2021-03-21 07:57:43</td>\n      <td>Govt allows Private sector  to sell Russian va...</td>\n      <td>NaN</td>\n      <td>Twitter for Android</td>\n      <td>0</td>\n      <td>0</td>\n      <td>False</td>\n    </tr>\n    <tr>\n      <th>40163</th>\n      <td>1373539685683896320</td>\n      <td>Philipp Grätzel von Grätz</td>\n      <td>Berlin</td>\n      <td>Medicine, photography. MD. MSc SciComm #Imperi...</td>\n      <td>2016-11-06 20:00:58</td>\n      <td>1431</td>\n      <td>995</td>\n      <td>1897</td>\n      <td>False</td>\n      <td>2021-03-21 07:39:14</td>\n      <td>Pretty good overview on the stuttering #SarsCo...</td>\n      <td>['SarsCoV2']</td>\n      <td>Twitter for iPhone</td>\n      <td>0</td>\n      <td>0</td>\n      <td>False</td>\n    </tr>\n    <tr>\n      <th>40170</th>\n      <td>1373503451372552197</td>\n      <td>M a r t í</td>\n      <td>США 🇺🇸</td>\n      <td>El meu twitter en català, des dels Estats Unit...</td>\n      <td>2014-02-09 03:41:26</td>\n      <td>61</td>\n      <td>117</td>\n      <td>34</td>\n      <td>False</td>\n      <td>2021-03-21 05:15:15</td>\n      <td>European micronation #SanMarino begins adminis...</td>\n      <td>['SanMarino', 'SputnikV']</td>\n      <td>Twitter Web App</td>\n      <td>0</td>\n      <td>0</td>\n      <td>False</td>\n    </tr>\n  </tbody>\n</table>\n<p>40171 rows × 16 columns</p>\n</div>"
     },
     "metadata": {},
     "execution_count": 6
    }
   ],
   "source": [
    "df.sort_values(by=[\"favorites\",\"retweets\"], ascending=False)"
   ]
  },
  {
   "cell_type": "code",
   "execution_count": 7,
   "metadata": {},
   "outputs": [
    {
     "output_type": "execute_result",
     "data": {
      "text/plain": [
       "               country alpha2 alpha3  numeric            iso\n",
       "0          Afghanistan     AF    AFG        4  ISO 3166-2:AF\n",
       "1        Åland Islands     AX    ALA      248  ISO 3166-2:AX\n",
       "2              Albania     AL    ALB        8  ISO 3166-2:AL\n",
       "3              Algeria     DZ    DZA       12  ISO 3166-2:DZ\n",
       "4       American Samoa     AS    ASM       16  ISO 3166-2:AS\n",
       "..                 ...    ...    ...      ...            ...\n",
       "241  Wallis and Futuna     WF    WLF      876  ISO 3166-2:WF\n",
       "242     Western Sahara     EH    ESH      732  ISO 3166-2:EH\n",
       "243              Yemen     YE    YEM      887  ISO 3166-2:YE\n",
       "244             Zambia     ZM    ZMB      894  ISO 3166-2:ZM\n",
       "245           Zimbabwe     ZW    ZWE      716  ISO 3166-2:ZW\n",
       "\n",
       "[246 rows x 5 columns]"
      ],
      "text/html": "<div>\n<style scoped>\n    .dataframe tbody tr th:only-of-type {\n        vertical-align: middle;\n    }\n\n    .dataframe tbody tr th {\n        vertical-align: top;\n    }\n\n    .dataframe thead th {\n        text-align: right;\n    }\n</style>\n<table border=\"1\" class=\"dataframe\">\n  <thead>\n    <tr style=\"text-align: right;\">\n      <th></th>\n      <th>country</th>\n      <th>alpha2</th>\n      <th>alpha3</th>\n      <th>numeric</th>\n      <th>iso</th>\n    </tr>\n  </thead>\n  <tbody>\n    <tr>\n      <th>0</th>\n      <td>Afghanistan</td>\n      <td>AF</td>\n      <td>AFG</td>\n      <td>4</td>\n      <td>ISO 3166-2:AF</td>\n    </tr>\n    <tr>\n      <th>1</th>\n      <td>Åland Islands</td>\n      <td>AX</td>\n      <td>ALA</td>\n      <td>248</td>\n      <td>ISO 3166-2:AX</td>\n    </tr>\n    <tr>\n      <th>2</th>\n      <td>Albania</td>\n      <td>AL</td>\n      <td>ALB</td>\n      <td>8</td>\n      <td>ISO 3166-2:AL</td>\n    </tr>\n    <tr>\n      <th>3</th>\n      <td>Algeria</td>\n      <td>DZ</td>\n      <td>DZA</td>\n      <td>12</td>\n      <td>ISO 3166-2:DZ</td>\n    </tr>\n    <tr>\n      <th>4</th>\n      <td>American Samoa</td>\n      <td>AS</td>\n      <td>ASM</td>\n      <td>16</td>\n      <td>ISO 3166-2:AS</td>\n    </tr>\n    <tr>\n      <th>...</th>\n      <td>...</td>\n      <td>...</td>\n      <td>...</td>\n      <td>...</td>\n      <td>...</td>\n    </tr>\n    <tr>\n      <th>241</th>\n      <td>Wallis and Futuna</td>\n      <td>WF</td>\n      <td>WLF</td>\n      <td>876</td>\n      <td>ISO 3166-2:WF</td>\n    </tr>\n    <tr>\n      <th>242</th>\n      <td>Western Sahara</td>\n      <td>EH</td>\n      <td>ESH</td>\n      <td>732</td>\n      <td>ISO 3166-2:EH</td>\n    </tr>\n    <tr>\n      <th>243</th>\n      <td>Yemen</td>\n      <td>YE</td>\n      <td>YEM</td>\n      <td>887</td>\n      <td>ISO 3166-2:YE</td>\n    </tr>\n    <tr>\n      <th>244</th>\n      <td>Zambia</td>\n      <td>ZM</td>\n      <td>ZMB</td>\n      <td>894</td>\n      <td>ISO 3166-2:ZM</td>\n    </tr>\n    <tr>\n      <th>245</th>\n      <td>Zimbabwe</td>\n      <td>ZW</td>\n      <td>ZWE</td>\n      <td>716</td>\n      <td>ISO 3166-2:ZW</td>\n    </tr>\n  </tbody>\n</table>\n<p>246 rows × 5 columns</p>\n</div>"
     },
     "metadata": {},
     "execution_count": 7
    }
   ],
   "source": [
    "country_df.columns = [\"country\", \"alpha2\", \"alpha3\", \"numeric\", \"iso\"]\n",
    "country_df"
   ]
  },
  {
   "cell_type": "code",
   "execution_count": 8,
   "metadata": {},
   "outputs": [
    {
     "output_type": "execute_result",
     "data": {
      "text/plain": [
       "                       id                  user_name user_location  \\\n",
       "0     1337815730486702087                       WION         India   \n",
       "1     1338574693087936513        Prof. Manish Thakur         India   \n",
       "2     1338551175587786752               India Blooms         India   \n",
       "3     1338466008466505728              Rachna Tandon         India   \n",
       "4     1338377471360569347                  India.com         India   \n",
       "...                   ...                        ...           ...   \n",
       "3669  1375540506667573250          Peter Byard Davis   New Zealand   \n",
       "3670  1375064010501066753                The General       Namibia   \n",
       "3671  1373496087420547074  Daily Ummah International        Turkey   \n",
       "3672  1374438996990775310                marcosecchi      Slovenia   \n",
       "3673  1374011935000297473                marcosecchi      Slovenia   \n",
       "\n",
       "                                       user_description         user_created  \\\n",
       "0     #WION: World Is One | Welcome to India’s first...  2016-03-21 03:44:54   \n",
       "1     #Proprietor English Academy #Blockchain #AI #I...  2012-06-11 13:50:05   \n",
       "2     A news and reference portal on India and a 24X...  2009-10-10 11:19:34   \n",
       "3     District Epidemiologist, Meerut (IDSP). MDI-Gu...  2014-10-02 20:07:17   \n",
       "4     Follow https://t.co/RBTHZHv1ga for breaking ne...  2009-03-04 16:20:07   \n",
       "...                                                 ...                  ...   \n",
       "3669  Ex-prof, recovering workaholic, quiz kid. Soci...  2011-09-10 03:57:58   \n",
       "3670  Manchester United ⚽️| I Am Good But I Am Not A...  2012-03-18 16:54:40   \n",
       "3671  Bir miladın habercisiyiz • We are the messenge...  2020-10-15 20:35:56   \n",
       "3672  ▸Leica Photographer @GettyImages\\n▸Fine Art & ...  2009-02-20 21:14:47   \n",
       "3673  ▸Leica Photographer @GettyImages\\n▸Fine Art & ...  2009-02-20 21:14:47   \n",
       "\n",
       "      user_followers  user_friends  user_favourites  user_verified  \\\n",
       "0             292510            91             7531           True   \n",
       "1               3372          1713           119631          False   \n",
       "2              16816          2448               20          False   \n",
       "3                 72           120               66          False   \n",
       "4              13417           399              349           True   \n",
       "...              ...           ...              ...            ...   \n",
       "3669            1244            93              580          False   \n",
       "3670            1629          1605             1872          False   \n",
       "3671              70             2                1          False   \n",
       "3672           12880           894            76326           True   \n",
       "3673           12880           894            76326           True   \n",
       "\n",
       "                     date  ...  \\\n",
       "0     2020-12-12 17:45:00  ...   \n",
       "1     2020-12-14 20:00:51  ...   \n",
       "2     2020-12-14 18:27:23  ...   \n",
       "3     2020-12-14 12:48:58  ...   \n",
       "4     2020-12-14 06:57:09  ...   \n",
       "...                   ...  ...   \n",
       "3669  2021-03-26 20:09:47  ...   \n",
       "3670  2021-03-25 12:36:22  ...   \n",
       "3671  2021-03-21 04:46:00  ...   \n",
       "3672  2021-03-23 19:12:47  ...   \n",
       "3673  2021-03-22 14:55:47  ...   \n",
       "\n",
       "                                               hashtags               source  \\\n",
       "0                                                   NaN            TweetDeck   \n",
       "1     ['UgurSahin', 'ozlemtureci', 'Muslim', 'Pfizer...  Twitter for Android   \n",
       "2                                           ['Ontario']      Twitter Web App   \n",
       "3       ['PfizerBioNTech', 'Singapore', 'CovidVaccine']      Twitter Web App   \n",
       "4                   ['Pfizervaccine', 'PfizerBioNTech']            TweetDeck   \n",
       "...                                                 ...                  ...   \n",
       "3669                                                NaN      Twitter Web App   \n",
       "3670                                                NaN  Twitter for Android   \n",
       "3671    ['Pakistan', 'COVID', 'Imran', 'Khan', 'China']      Twitter Web App   \n",
       "3672        ['covid', 'vaccine', 'sputnik', 'sputnikv']       SocialPilot.co   \n",
       "3673       ['SputnikV', 'Sputnik', 'SputnikVaccinated']      Twitter Web App   \n",
       "\n",
       "     retweets  favorites  is_retweet      country alpha2 alpha3 numeric  \\\n",
       "0           0         18       False        India     IN    IND     356   \n",
       "1           0          0       False        India     IN    IND     356   \n",
       "2           0          0       False        India     IN    IND     356   \n",
       "3           0          0       False        India     IN    IND     356   \n",
       "4           0          0       False        India     IN    IND     356   \n",
       "...       ...        ...         ...          ...    ...    ...     ...   \n",
       "3669        0          0       False  New Zealand     NZ    NZL     554   \n",
       "3670        0          0       False      Namibia    NaN    NAM     516   \n",
       "3671        0          0       False       Turkey     TR    TUR     792   \n",
       "3672        0          0       False     Slovenia     SI    SVN     705   \n",
       "3673        0          1       False     Slovenia     SI    SVN     705   \n",
       "\n",
       "                iso  \n",
       "0     ISO 3166-2:IN  \n",
       "1     ISO 3166-2:IN  \n",
       "2     ISO 3166-2:IN  \n",
       "3     ISO 3166-2:IN  \n",
       "4     ISO 3166-2:IN  \n",
       "...             ...  \n",
       "3669  ISO 3166-2:NZ  \n",
       "3670  ISO 3166-2:NA  \n",
       "3671  ISO 3166-2:TR  \n",
       "3672  ISO 3166-2:SI  \n",
       "3673  ISO 3166-2:SI  \n",
       "\n",
       "[3674 rows x 21 columns]"
      ],
      "text/html": "<div>\n<style scoped>\n    .dataframe tbody tr th:only-of-type {\n        vertical-align: middle;\n    }\n\n    .dataframe tbody tr th {\n        vertical-align: top;\n    }\n\n    .dataframe thead th {\n        text-align: right;\n    }\n</style>\n<table border=\"1\" class=\"dataframe\">\n  <thead>\n    <tr style=\"text-align: right;\">\n      <th></th>\n      <th>id</th>\n      <th>user_name</th>\n      <th>user_location</th>\n      <th>user_description</th>\n      <th>user_created</th>\n      <th>user_followers</th>\n      <th>user_friends</th>\n      <th>user_favourites</th>\n      <th>user_verified</th>\n      <th>date</th>\n      <th>...</th>\n      <th>hashtags</th>\n      <th>source</th>\n      <th>retweets</th>\n      <th>favorites</th>\n      <th>is_retweet</th>\n      <th>country</th>\n      <th>alpha2</th>\n      <th>alpha3</th>\n      <th>numeric</th>\n      <th>iso</th>\n    </tr>\n  </thead>\n  <tbody>\n    <tr>\n      <th>0</th>\n      <td>1337815730486702087</td>\n      <td>WION</td>\n      <td>India</td>\n      <td>#WION: World Is One | Welcome to India’s first...</td>\n      <td>2016-03-21 03:44:54</td>\n      <td>292510</td>\n      <td>91</td>\n      <td>7531</td>\n      <td>True</td>\n      <td>2020-12-12 17:45:00</td>\n      <td>...</td>\n      <td>NaN</td>\n      <td>TweetDeck</td>\n      <td>0</td>\n      <td>18</td>\n      <td>False</td>\n      <td>India</td>\n      <td>IN</td>\n      <td>IND</td>\n      <td>356</td>\n      <td>ISO 3166-2:IN</td>\n    </tr>\n    <tr>\n      <th>1</th>\n      <td>1338574693087936513</td>\n      <td>Prof. Manish Thakur</td>\n      <td>India</td>\n      <td>#Proprietor English Academy #Blockchain #AI #I...</td>\n      <td>2012-06-11 13:50:05</td>\n      <td>3372</td>\n      <td>1713</td>\n      <td>119631</td>\n      <td>False</td>\n      <td>2020-12-14 20:00:51</td>\n      <td>...</td>\n      <td>['UgurSahin', 'ozlemtureci', 'Muslim', 'Pfizer...</td>\n      <td>Twitter for Android</td>\n      <td>0</td>\n      <td>0</td>\n      <td>False</td>\n      <td>India</td>\n      <td>IN</td>\n      <td>IND</td>\n      <td>356</td>\n      <td>ISO 3166-2:IN</td>\n    </tr>\n    <tr>\n      <th>2</th>\n      <td>1338551175587786752</td>\n      <td>India Blooms</td>\n      <td>India</td>\n      <td>A news and reference portal on India and a 24X...</td>\n      <td>2009-10-10 11:19:34</td>\n      <td>16816</td>\n      <td>2448</td>\n      <td>20</td>\n      <td>False</td>\n      <td>2020-12-14 18:27:23</td>\n      <td>...</td>\n      <td>['Ontario']</td>\n      <td>Twitter Web App</td>\n      <td>0</td>\n      <td>0</td>\n      <td>False</td>\n      <td>India</td>\n      <td>IN</td>\n      <td>IND</td>\n      <td>356</td>\n      <td>ISO 3166-2:IN</td>\n    </tr>\n    <tr>\n      <th>3</th>\n      <td>1338466008466505728</td>\n      <td>Rachna Tandon</td>\n      <td>India</td>\n      <td>District Epidemiologist, Meerut (IDSP). MDI-Gu...</td>\n      <td>2014-10-02 20:07:17</td>\n      <td>72</td>\n      <td>120</td>\n      <td>66</td>\n      <td>False</td>\n      <td>2020-12-14 12:48:58</td>\n      <td>...</td>\n      <td>['PfizerBioNTech', 'Singapore', 'CovidVaccine']</td>\n      <td>Twitter Web App</td>\n      <td>0</td>\n      <td>0</td>\n      <td>False</td>\n      <td>India</td>\n      <td>IN</td>\n      <td>IND</td>\n      <td>356</td>\n      <td>ISO 3166-2:IN</td>\n    </tr>\n    <tr>\n      <th>4</th>\n      <td>1338377471360569347</td>\n      <td>India.com</td>\n      <td>India</td>\n      <td>Follow https://t.co/RBTHZHv1ga for breaking ne...</td>\n      <td>2009-03-04 16:20:07</td>\n      <td>13417</td>\n      <td>399</td>\n      <td>349</td>\n      <td>True</td>\n      <td>2020-12-14 06:57:09</td>\n      <td>...</td>\n      <td>['Pfizervaccine', 'PfizerBioNTech']</td>\n      <td>TweetDeck</td>\n      <td>0</td>\n      <td>0</td>\n      <td>False</td>\n      <td>India</td>\n      <td>IN</td>\n      <td>IND</td>\n      <td>356</td>\n      <td>ISO 3166-2:IN</td>\n    </tr>\n    <tr>\n      <th>...</th>\n      <td>...</td>\n      <td>...</td>\n      <td>...</td>\n      <td>...</td>\n      <td>...</td>\n      <td>...</td>\n      <td>...</td>\n      <td>...</td>\n      <td>...</td>\n      <td>...</td>\n      <td>...</td>\n      <td>...</td>\n      <td>...</td>\n      <td>...</td>\n      <td>...</td>\n      <td>...</td>\n      <td>...</td>\n      <td>...</td>\n      <td>...</td>\n      <td>...</td>\n      <td>...</td>\n    </tr>\n    <tr>\n      <th>3669</th>\n      <td>1375540506667573250</td>\n      <td>Peter Byard Davis</td>\n      <td>New Zealand</td>\n      <td>Ex-prof, recovering workaholic, quiz kid. Soci...</td>\n      <td>2011-09-10 03:57:58</td>\n      <td>1244</td>\n      <td>93</td>\n      <td>580</td>\n      <td>False</td>\n      <td>2021-03-26 20:09:47</td>\n      <td>...</td>\n      <td>NaN</td>\n      <td>Twitter Web App</td>\n      <td>0</td>\n      <td>0</td>\n      <td>False</td>\n      <td>New Zealand</td>\n      <td>NZ</td>\n      <td>NZL</td>\n      <td>554</td>\n      <td>ISO 3166-2:NZ</td>\n    </tr>\n    <tr>\n      <th>3670</th>\n      <td>1375064010501066753</td>\n      <td>The General</td>\n      <td>Namibia</td>\n      <td>Manchester United ⚽️| I Am Good But I Am Not A...</td>\n      <td>2012-03-18 16:54:40</td>\n      <td>1629</td>\n      <td>1605</td>\n      <td>1872</td>\n      <td>False</td>\n      <td>2021-03-25 12:36:22</td>\n      <td>...</td>\n      <td>NaN</td>\n      <td>Twitter for Android</td>\n      <td>0</td>\n      <td>0</td>\n      <td>False</td>\n      <td>Namibia</td>\n      <td>NaN</td>\n      <td>NAM</td>\n      <td>516</td>\n      <td>ISO 3166-2:NA</td>\n    </tr>\n    <tr>\n      <th>3671</th>\n      <td>1373496087420547074</td>\n      <td>Daily Ummah International</td>\n      <td>Turkey</td>\n      <td>Bir miladın habercisiyiz • We are the messenge...</td>\n      <td>2020-10-15 20:35:56</td>\n      <td>70</td>\n      <td>2</td>\n      <td>1</td>\n      <td>False</td>\n      <td>2021-03-21 04:46:00</td>\n      <td>...</td>\n      <td>['Pakistan', 'COVID', 'Imran', 'Khan', 'China']</td>\n      <td>Twitter Web App</td>\n      <td>0</td>\n      <td>0</td>\n      <td>False</td>\n      <td>Turkey</td>\n      <td>TR</td>\n      <td>TUR</td>\n      <td>792</td>\n      <td>ISO 3166-2:TR</td>\n    </tr>\n    <tr>\n      <th>3672</th>\n      <td>1374438996990775310</td>\n      <td>marcosecchi</td>\n      <td>Slovenia</td>\n      <td>▸Leica Photographer @GettyImages\\n▸Fine Art &amp; ...</td>\n      <td>2009-02-20 21:14:47</td>\n      <td>12880</td>\n      <td>894</td>\n      <td>76326</td>\n      <td>True</td>\n      <td>2021-03-23 19:12:47</td>\n      <td>...</td>\n      <td>['covid', 'vaccine', 'sputnik', 'sputnikv']</td>\n      <td>SocialPilot.co</td>\n      <td>0</td>\n      <td>0</td>\n      <td>False</td>\n      <td>Slovenia</td>\n      <td>SI</td>\n      <td>SVN</td>\n      <td>705</td>\n      <td>ISO 3166-2:SI</td>\n    </tr>\n    <tr>\n      <th>3673</th>\n      <td>1374011935000297473</td>\n      <td>marcosecchi</td>\n      <td>Slovenia</td>\n      <td>▸Leica Photographer @GettyImages\\n▸Fine Art &amp; ...</td>\n      <td>2009-02-20 21:14:47</td>\n      <td>12880</td>\n      <td>894</td>\n      <td>76326</td>\n      <td>True</td>\n      <td>2021-03-22 14:55:47</td>\n      <td>...</td>\n      <td>['SputnikV', 'Sputnik', 'SputnikVaccinated']</td>\n      <td>Twitter Web App</td>\n      <td>0</td>\n      <td>1</td>\n      <td>False</td>\n      <td>Slovenia</td>\n      <td>SI</td>\n      <td>SVN</td>\n      <td>705</td>\n      <td>ISO 3166-2:SI</td>\n    </tr>\n  </tbody>\n</table>\n<p>3674 rows × 21 columns</p>\n</div>"
     },
     "metadata": {},
     "execution_count": 8
    }
   ],
   "source": [
    "df['country'] = df['user_location']\n",
    "df = df.merge(country_df, on=\"country\")\n",
    "df"
   ]
  },
  {
   "cell_type": "code",
   "execution_count": null,
   "metadata": {},
   "outputs": [],
   "source": []
  },
  {
   "cell_type": "code",
   "execution_count": 14,
   "metadata": {},
   "outputs": [
    {
     "output_type": "execute_result",
     "data": {
      "text/plain": [
       "            country  tweets\n",
       "49            India    1108\n",
       "116   United States     396\n",
       "115  United Kingdom     202\n",
       "20           Canada     159\n",
       "67         Malaysia     157"
      ],
      "text/html": "<div>\n<style scoped>\n    .dataframe tbody tr th:only-of-type {\n        vertical-align: middle;\n    }\n\n    .dataframe tbody tr th {\n        vertical-align: top;\n    }\n\n    .dataframe thead th {\n        text-align: right;\n    }\n</style>\n<table border=\"1\" class=\"dataframe\">\n  <thead>\n    <tr style=\"text-align: right;\">\n      <th></th>\n      <th>country</th>\n      <th>tweets</th>\n    </tr>\n  </thead>\n  <tbody>\n    <tr>\n      <th>49</th>\n      <td>India</td>\n      <td>1108</td>\n    </tr>\n    <tr>\n      <th>116</th>\n      <td>United States</td>\n      <td>396</td>\n    </tr>\n    <tr>\n      <th>115</th>\n      <td>United Kingdom</td>\n      <td>202</td>\n    </tr>\n    <tr>\n      <th>20</th>\n      <td>Canada</td>\n      <td>159</td>\n    </tr>\n    <tr>\n      <th>67</th>\n      <td>Malaysia</td>\n      <td>157</td>\n    </tr>\n  </tbody>\n</table>\n</div>"
     },
     "metadata": {},
     "execution_count": 14
    }
   ],
   "source": [
    "tw_add_df = df.groupby([\"country\"])['text'].count().reset_index()\n",
    "tw_add_df.columns = [\"country\", \"tweets\"]\n",
    "country_tweets_df = tw_add_df.sort_values('tweets', ascending=False).head()\n",
    "country_tweets_df    "
   ]
  },
  {
   "cell_type": "code",
   "execution_count": 10,
   "metadata": {},
   "outputs": [
    {
     "output_type": "display_data",
     "data": {
      "application/vnd.plotly.v1+json": {
       "config": {
        "plotlyServerURL": "https://plot.ly"
       },
       "data": [
        {
         "alignmentgroup": "True",
         "hovertemplate": "country=%{x}<br>tweets=%{y}<extra></extra>",
         "legendgroup": "",
         "marker": {
          "color": "#636efa"
         },
         "name": "",
         "offsetgroup": "",
         "orientation": "v",
         "showlegend": false,
         "textposition": "auto",
         "type": "bar",
         "x": [
          "India",
          "United States",
          "United Kingdom",
          "Canada",
          "Malaysia",
          "Hong Kong",
          "Pakistan",
          "United Arab Emirates",
          "France",
          "Sri Lanka"
         ],
         "xaxis": "x",
         "y": [
          1108,
          396,
          202,
          159,
          157,
          138,
          120,
          101,
          95,
          89
         ],
         "yaxis": "y"
        }
       ],
       "layout": {
        "barmode": "relative",
        "legend": {
         "tracegroupgap": 0
        },
        "margin": {
         "t": 60
        },
        "template": {
         "data": {
          "bar": [
           {
            "error_x": {
             "color": "#2a3f5f"
            },
            "error_y": {
             "color": "#2a3f5f"
            },
            "marker": {
             "line": {
              "color": "#E5ECF6",
              "width": 0.5
             }
            },
            "type": "bar"
           }
          ],
          "barpolar": [
           {
            "marker": {
             "line": {
              "color": "#E5ECF6",
              "width": 0.5
             }
            },
            "type": "barpolar"
           }
          ],
          "carpet": [
           {
            "aaxis": {
             "endlinecolor": "#2a3f5f",
             "gridcolor": "white",
             "linecolor": "white",
             "minorgridcolor": "white",
             "startlinecolor": "#2a3f5f"
            },
            "baxis": {
             "endlinecolor": "#2a3f5f",
             "gridcolor": "white",
             "linecolor": "white",
             "minorgridcolor": "white",
             "startlinecolor": "#2a3f5f"
            },
            "type": "carpet"
           }
          ],
          "choropleth": [
           {
            "colorbar": {
             "outlinewidth": 0,
             "ticks": ""
            },
            "type": "choropleth"
           }
          ],
          "contour": [
           {
            "colorbar": {
             "outlinewidth": 0,
             "ticks": ""
            },
            "colorscale": [
             [
              0,
              "#0d0887"
             ],
             [
              0.1111111111111111,
              "#46039f"
             ],
             [
              0.2222222222222222,
              "#7201a8"
             ],
             [
              0.3333333333333333,
              "#9c179e"
             ],
             [
              0.4444444444444444,
              "#bd3786"
             ],
             [
              0.5555555555555556,
              "#d8576b"
             ],
             [
              0.6666666666666666,
              "#ed7953"
             ],
             [
              0.7777777777777778,
              "#fb9f3a"
             ],
             [
              0.8888888888888888,
              "#fdca26"
             ],
             [
              1,
              "#f0f921"
             ]
            ],
            "type": "contour"
           }
          ],
          "contourcarpet": [
           {
            "colorbar": {
             "outlinewidth": 0,
             "ticks": ""
            },
            "type": "contourcarpet"
           }
          ],
          "heatmap": [
           {
            "colorbar": {
             "outlinewidth": 0,
             "ticks": ""
            },
            "colorscale": [
             [
              0,
              "#0d0887"
             ],
             [
              0.1111111111111111,
              "#46039f"
             ],
             [
              0.2222222222222222,
              "#7201a8"
             ],
             [
              0.3333333333333333,
              "#9c179e"
             ],
             [
              0.4444444444444444,
              "#bd3786"
             ],
             [
              0.5555555555555556,
              "#d8576b"
             ],
             [
              0.6666666666666666,
              "#ed7953"
             ],
             [
              0.7777777777777778,
              "#fb9f3a"
             ],
             [
              0.8888888888888888,
              "#fdca26"
             ],
             [
              1,
              "#f0f921"
             ]
            ],
            "type": "heatmap"
           }
          ],
          "heatmapgl": [
           {
            "colorbar": {
             "outlinewidth": 0,
             "ticks": ""
            },
            "colorscale": [
             [
              0,
              "#0d0887"
             ],
             [
              0.1111111111111111,
              "#46039f"
             ],
             [
              0.2222222222222222,
              "#7201a8"
             ],
             [
              0.3333333333333333,
              "#9c179e"
             ],
             [
              0.4444444444444444,
              "#bd3786"
             ],
             [
              0.5555555555555556,
              "#d8576b"
             ],
             [
              0.6666666666666666,
              "#ed7953"
             ],
             [
              0.7777777777777778,
              "#fb9f3a"
             ],
             [
              0.8888888888888888,
              "#fdca26"
             ],
             [
              1,
              "#f0f921"
             ]
            ],
            "type": "heatmapgl"
           }
          ],
          "histogram": [
           {
            "marker": {
             "colorbar": {
              "outlinewidth": 0,
              "ticks": ""
             }
            },
            "type": "histogram"
           }
          ],
          "histogram2d": [
           {
            "colorbar": {
             "outlinewidth": 0,
             "ticks": ""
            },
            "colorscale": [
             [
              0,
              "#0d0887"
             ],
             [
              0.1111111111111111,
              "#46039f"
             ],
             [
              0.2222222222222222,
              "#7201a8"
             ],
             [
              0.3333333333333333,
              "#9c179e"
             ],
             [
              0.4444444444444444,
              "#bd3786"
             ],
             [
              0.5555555555555556,
              "#d8576b"
             ],
             [
              0.6666666666666666,
              "#ed7953"
             ],
             [
              0.7777777777777778,
              "#fb9f3a"
             ],
             [
              0.8888888888888888,
              "#fdca26"
             ],
             [
              1,
              "#f0f921"
             ]
            ],
            "type": "histogram2d"
           }
          ],
          "histogram2dcontour": [
           {
            "colorbar": {
             "outlinewidth": 0,
             "ticks": ""
            },
            "colorscale": [
             [
              0,
              "#0d0887"
             ],
             [
              0.1111111111111111,
              "#46039f"
             ],
             [
              0.2222222222222222,
              "#7201a8"
             ],
             [
              0.3333333333333333,
              "#9c179e"
             ],
             [
              0.4444444444444444,
              "#bd3786"
             ],
             [
              0.5555555555555556,
              "#d8576b"
             ],
             [
              0.6666666666666666,
              "#ed7953"
             ],
             [
              0.7777777777777778,
              "#fb9f3a"
             ],
             [
              0.8888888888888888,
              "#fdca26"
             ],
             [
              1,
              "#f0f921"
             ]
            ],
            "type": "histogram2dcontour"
           }
          ],
          "mesh3d": [
           {
            "colorbar": {
             "outlinewidth": 0,
             "ticks": ""
            },
            "type": "mesh3d"
           }
          ],
          "parcoords": [
           {
            "line": {
             "colorbar": {
              "outlinewidth": 0,
              "ticks": ""
             }
            },
            "type": "parcoords"
           }
          ],
          "pie": [
           {
            "automargin": true,
            "type": "pie"
           }
          ],
          "scatter": [
           {
            "marker": {
             "colorbar": {
              "outlinewidth": 0,
              "ticks": ""
             }
            },
            "type": "scatter"
           }
          ],
          "scatter3d": [
           {
            "line": {
             "colorbar": {
              "outlinewidth": 0,
              "ticks": ""
             }
            },
            "marker": {
             "colorbar": {
              "outlinewidth": 0,
              "ticks": ""
             }
            },
            "type": "scatter3d"
           }
          ],
          "scattercarpet": [
           {
            "marker": {
             "colorbar": {
              "outlinewidth": 0,
              "ticks": ""
             }
            },
            "type": "scattercarpet"
           }
          ],
          "scattergeo": [
           {
            "marker": {
             "colorbar": {
              "outlinewidth": 0,
              "ticks": ""
             }
            },
            "type": "scattergeo"
           }
          ],
          "scattergl": [
           {
            "marker": {
             "colorbar": {
              "outlinewidth": 0,
              "ticks": ""
             }
            },
            "type": "scattergl"
           }
          ],
          "scattermapbox": [
           {
            "marker": {
             "colorbar": {
              "outlinewidth": 0,
              "ticks": ""
             }
            },
            "type": "scattermapbox"
           }
          ],
          "scatterpolar": [
           {
            "marker": {
             "colorbar": {
              "outlinewidth": 0,
              "ticks": ""
             }
            },
            "type": "scatterpolar"
           }
          ],
          "scatterpolargl": [
           {
            "marker": {
             "colorbar": {
              "outlinewidth": 0,
              "ticks": ""
             }
            },
            "type": "scatterpolargl"
           }
          ],
          "scatterternary": [
           {
            "marker": {
             "colorbar": {
              "outlinewidth": 0,
              "ticks": ""
             }
            },
            "type": "scatterternary"
           }
          ],
          "surface": [
           {
            "colorbar": {
             "outlinewidth": 0,
             "ticks": ""
            },
            "colorscale": [
             [
              0,
              "#0d0887"
             ],
             [
              0.1111111111111111,
              "#46039f"
             ],
             [
              0.2222222222222222,
              "#7201a8"
             ],
             [
              0.3333333333333333,
              "#9c179e"
             ],
             [
              0.4444444444444444,
              "#bd3786"
             ],
             [
              0.5555555555555556,
              "#d8576b"
             ],
             [
              0.6666666666666666,
              "#ed7953"
             ],
             [
              0.7777777777777778,
              "#fb9f3a"
             ],
             [
              0.8888888888888888,
              "#fdca26"
             ],
             [
              1,
              "#f0f921"
             ]
            ],
            "type": "surface"
           }
          ],
          "table": [
           {
            "cells": {
             "fill": {
              "color": "#EBF0F8"
             },
             "line": {
              "color": "white"
             }
            },
            "header": {
             "fill": {
              "color": "#C8D4E3"
             },
             "line": {
              "color": "white"
             }
            },
            "type": "table"
           }
          ]
         },
         "layout": {
          "annotationdefaults": {
           "arrowcolor": "#2a3f5f",
           "arrowhead": 0,
           "arrowwidth": 1
          },
          "autotypenumbers": "strict",
          "coloraxis": {
           "colorbar": {
            "outlinewidth": 0,
            "ticks": ""
           }
          },
          "colorscale": {
           "diverging": [
            [
             0,
             "#8e0152"
            ],
            [
             0.1,
             "#c51b7d"
            ],
            [
             0.2,
             "#de77ae"
            ],
            [
             0.3,
             "#f1b6da"
            ],
            [
             0.4,
             "#fde0ef"
            ],
            [
             0.5,
             "#f7f7f7"
            ],
            [
             0.6,
             "#e6f5d0"
            ],
            [
             0.7,
             "#b8e186"
            ],
            [
             0.8,
             "#7fbc41"
            ],
            [
             0.9,
             "#4d9221"
            ],
            [
             1,
             "#276419"
            ]
           ],
           "sequential": [
            [
             0,
             "#0d0887"
            ],
            [
             0.1111111111111111,
             "#46039f"
            ],
            [
             0.2222222222222222,
             "#7201a8"
            ],
            [
             0.3333333333333333,
             "#9c179e"
            ],
            [
             0.4444444444444444,
             "#bd3786"
            ],
            [
             0.5555555555555556,
             "#d8576b"
            ],
            [
             0.6666666666666666,
             "#ed7953"
            ],
            [
             0.7777777777777778,
             "#fb9f3a"
            ],
            [
             0.8888888888888888,
             "#fdca26"
            ],
            [
             1,
             "#f0f921"
            ]
           ],
           "sequentialminus": [
            [
             0,
             "#0d0887"
            ],
            [
             0.1111111111111111,
             "#46039f"
            ],
            [
             0.2222222222222222,
             "#7201a8"
            ],
            [
             0.3333333333333333,
             "#9c179e"
            ],
            [
             0.4444444444444444,
             "#bd3786"
            ],
            [
             0.5555555555555556,
             "#d8576b"
            ],
            [
             0.6666666666666666,
             "#ed7953"
            ],
            [
             0.7777777777777778,
             "#fb9f3a"
            ],
            [
             0.8888888888888888,
             "#fdca26"
            ],
            [
             1,
             "#f0f921"
            ]
           ]
          },
          "colorway": [
           "#636efa",
           "#EF553B",
           "#00cc96",
           "#ab63fa",
           "#FFA15A",
           "#19d3f3",
           "#FF6692",
           "#B6E880",
           "#FF97FF",
           "#FECB52"
          ],
          "font": {
           "color": "#2a3f5f"
          },
          "geo": {
           "bgcolor": "white",
           "lakecolor": "white",
           "landcolor": "#E5ECF6",
           "showlakes": true,
           "showland": true,
           "subunitcolor": "white"
          },
          "hoverlabel": {
           "align": "left"
          },
          "hovermode": "closest",
          "mapbox": {
           "style": "light"
          },
          "paper_bgcolor": "white",
          "plot_bgcolor": "#E5ECF6",
          "polar": {
           "angularaxis": {
            "gridcolor": "white",
            "linecolor": "white",
            "ticks": ""
           },
           "bgcolor": "#E5ECF6",
           "radialaxis": {
            "gridcolor": "white",
            "linecolor": "white",
            "ticks": ""
           }
          },
          "scene": {
           "xaxis": {
            "backgroundcolor": "#E5ECF6",
            "gridcolor": "white",
            "gridwidth": 2,
            "linecolor": "white",
            "showbackground": true,
            "ticks": "",
            "zerolinecolor": "white"
           },
           "yaxis": {
            "backgroundcolor": "#E5ECF6",
            "gridcolor": "white",
            "gridwidth": 2,
            "linecolor": "white",
            "showbackground": true,
            "ticks": "",
            "zerolinecolor": "white"
           },
           "zaxis": {
            "backgroundcolor": "#E5ECF6",
            "gridcolor": "white",
            "gridwidth": 2,
            "linecolor": "white",
            "showbackground": true,
            "ticks": "",
            "zerolinecolor": "white"
           }
          },
          "shapedefaults": {
           "line": {
            "color": "#2a3f5f"
           }
          },
          "ternary": {
           "aaxis": {
            "gridcolor": "white",
            "linecolor": "white",
            "ticks": ""
           },
           "baxis": {
            "gridcolor": "white",
            "linecolor": "white",
            "ticks": ""
           },
           "bgcolor": "#E5ECF6",
           "caxis": {
            "gridcolor": "white",
            "linecolor": "white",
            "ticks": ""
           }
          },
          "title": {
           "x": 0.05
          },
          "xaxis": {
           "automargin": true,
           "gridcolor": "white",
           "linecolor": "white",
           "ticks": "",
           "title": {
            "standoff": 15
           },
           "zerolinecolor": "white",
           "zerolinewidth": 2
          },
          "yaxis": {
           "automargin": true,
           "gridcolor": "white",
           "linecolor": "white",
           "ticks": "",
           "title": {
            "standoff": 15
           },
           "zerolinecolor": "white",
           "zerolinewidth": 2
          }
         }
        },
        "xaxis": {
         "anchor": "y",
         "domain": [
          0,
          1
         ],
         "title": {
          "text": "country"
         }
        },
        "yaxis": {
         "anchor": "x",
         "domain": [
          0,
          1
         ],
         "title": {
          "text": "tweets"
         }
        }
       }
      }
     },
     "metadata": {}
    }
   ],
   "source": [
    "fig = px.bar(country_tweets_df, x='country', y='tweets')\n",
    "fig.show()"
   ]
  },
  {
   "cell_type": "code",
   "execution_count": 11,
   "metadata": {},
   "outputs": [],
   "source": [
    "def plot_map(dd_df, title):\n",
    "    hover_text = []\n",
    "    for index, row in dd_df.iterrows():\n",
    "        hover_text.append((f\"country: {row['country']}<br>tweets: {row['tweets']}\\\n",
    "                          <br>country code: {row['iso']}<br>country alpha3: {row['alpha3']}\"))\n",
    "    dd_df['hover_text'] = hover_text\n",
    "\n",
    "    fig = px.choropleth(dd_df, \n",
    "                        locations=\"alpha3\",\n",
    "                        hover_name='hover_text',\n",
    "                        color=\"tweets\",\n",
    "                        projection=\"natural earth\",\n",
    "                        color_continuous_scale=px.colors.sequential.Plasma,\n",
    "                        width=900, height=700)\n",
    "    fig.update_geos(   \n",
    "        showcoastlines=True, coastlinecolor=\"DarkBlue\",\n",
    "        showland=True, landcolor=\"LightGrey\",\n",
    "        showocean=True, oceancolor=\"LightBlue\",\n",
    "        showlakes=True, lakecolor=\"Blue\",\n",
    "        showrivers=True, rivercolor=\"Blue\",\n",
    "        showcountries=True, countrycolor=\"DarkBlue\"\n",
    "    )\n",
    "    fig.update_layout(title = title, geo_scope=\"world\")\n",
    "    fig.show()"
   ]
  },
  {
   "cell_type": "code",
   "execution_count": 12,
   "metadata": {},
   "outputs": [
    {
     "output_type": "stream",
     "name": "stdout",
     "text": [
      "tweets containing country information: 3674\ntweets containing country information; distinct countries: 120\n"
     ]
    }
   ],
   "source": [
    "print(f\"tweets containing country information: {tw_add_df.tweets.sum()}\")\n",
    "print(f\"tweets containing country information; distinct countries: {tw_add_df.country.shape[0]}\")"
   ]
  },
  {
   "cell_type": "code",
   "execution_count": 13,
   "metadata": {},
   "outputs": [
    {
     "output_type": "error",
     "ename": "KeyError",
     "evalue": "'iso'",
     "traceback": [
      "\u001b[1;31m---------------------------------------------------------------------------\u001b[0m",
      "\u001b[1;31mTypeError\u001b[0m                                 Traceback (most recent call last)",
      "\u001b[1;32m~\\anaconda3\\lib\\site-packages\\pandas\\core\\indexes\\base.py\u001b[0m in \u001b[0;36mget_value\u001b[1;34m(self, series, key)\u001b[0m\n\u001b[0;32m   4410\u001b[0m             \u001b[1;32mtry\u001b[0m\u001b[1;33m:\u001b[0m\u001b[1;33m\u001b[0m\u001b[1;33m\u001b[0m\u001b[0m\n\u001b[1;32m-> 4411\u001b[1;33m                 \u001b[1;32mreturn\u001b[0m \u001b[0mlibindex\u001b[0m\u001b[1;33m.\u001b[0m\u001b[0mget_value_at\u001b[0m\u001b[1;33m(\u001b[0m\u001b[0ms\u001b[0m\u001b[1;33m,\u001b[0m \u001b[0mkey\u001b[0m\u001b[1;33m)\u001b[0m\u001b[1;33m\u001b[0m\u001b[1;33m\u001b[0m\u001b[0m\n\u001b[0m\u001b[0;32m   4412\u001b[0m             \u001b[1;32mexcept\u001b[0m \u001b[0mIndexError\u001b[0m\u001b[1;33m:\u001b[0m\u001b[1;33m\u001b[0m\u001b[1;33m\u001b[0m\u001b[0m\n",
      "\u001b[1;32mpandas\\_libs\\index.pyx\u001b[0m in \u001b[0;36mpandas._libs.index.get_value_at\u001b[1;34m()\u001b[0m\n",
      "\u001b[1;32mpandas\\_libs\\index.pyx\u001b[0m in \u001b[0;36mpandas._libs.index.get_value_at\u001b[1;34m()\u001b[0m\n",
      "\u001b[1;32mpandas\\_libs\\util.pxd\u001b[0m in \u001b[0;36mpandas._libs.util.get_value_at\u001b[1;34m()\u001b[0m\n",
      "\u001b[1;32mpandas\\_libs\\util.pxd\u001b[0m in \u001b[0;36mpandas._libs.util.validate_indexer\u001b[1;34m()\u001b[0m\n",
      "\u001b[1;31mTypeError\u001b[0m: 'str' object cannot be interpreted as an integer",
      "\nDuring handling of the above exception, another exception occurred:\n",
      "\u001b[1;31mKeyError\u001b[0m                                  Traceback (most recent call last)",
      "\u001b[1;32m<ipython-input-13-d4bb31fad57c>\u001b[0m in \u001b[0;36m<module>\u001b[1;34m\u001b[0m\n\u001b[1;32m----> 1\u001b[1;33m \u001b[0mplot_map\u001b[0m\u001b[1;33m(\u001b[0m\u001b[0mtw_add_df\u001b[0m\u001b[1;33m,\u001b[0m \u001b[1;34m\"Tweets per country (where country is specified)\"\u001b[0m\u001b[1;33m)\u001b[0m\u001b[1;33m\u001b[0m\u001b[1;33m\u001b[0m\u001b[0m\n\u001b[0m",
      "\u001b[1;32m<ipython-input-11-0f0e0ac59334>\u001b[0m in \u001b[0;36mplot_map\u001b[1;34m(dd_df, title)\u001b[0m\n\u001b[0;32m      3\u001b[0m     \u001b[1;32mfor\u001b[0m \u001b[0mindex\u001b[0m\u001b[1;33m,\u001b[0m \u001b[0mrow\u001b[0m \u001b[1;32min\u001b[0m \u001b[0mdd_df\u001b[0m\u001b[1;33m.\u001b[0m\u001b[0miterrows\u001b[0m\u001b[1;33m(\u001b[0m\u001b[1;33m)\u001b[0m\u001b[1;33m:\u001b[0m\u001b[1;33m\u001b[0m\u001b[1;33m\u001b[0m\u001b[0m\n\u001b[0;32m      4\u001b[0m         hover_text.append((f\"country: {row['country']}<br>tweets: {row['tweets']}\\\n\u001b[1;32m----> 5\u001b[1;33m                           <br>country code: {row['iso']}<br>country alpha3: {row['alpha3']}\"))\n\u001b[0m\u001b[0;32m      6\u001b[0m     \u001b[0mdd_df\u001b[0m\u001b[1;33m[\u001b[0m\u001b[1;34m'hover_text'\u001b[0m\u001b[1;33m]\u001b[0m \u001b[1;33m=\u001b[0m \u001b[0mhover_text\u001b[0m\u001b[1;33m\u001b[0m\u001b[1;33m\u001b[0m\u001b[0m\n\u001b[0;32m      7\u001b[0m \u001b[1;33m\u001b[0m\u001b[0m\n",
      "\u001b[1;32m~\\anaconda3\\lib\\site-packages\\pandas\\core\\series.py\u001b[0m in \u001b[0;36m__getitem__\u001b[1;34m(self, key)\u001b[0m\n\u001b[0;32m    869\u001b[0m         \u001b[0mkey\u001b[0m \u001b[1;33m=\u001b[0m \u001b[0mcom\u001b[0m\u001b[1;33m.\u001b[0m\u001b[0mapply_if_callable\u001b[0m\u001b[1;33m(\u001b[0m\u001b[0mkey\u001b[0m\u001b[1;33m,\u001b[0m \u001b[0mself\u001b[0m\u001b[1;33m)\u001b[0m\u001b[1;33m\u001b[0m\u001b[1;33m\u001b[0m\u001b[0m\n\u001b[0;32m    870\u001b[0m         \u001b[1;32mtry\u001b[0m\u001b[1;33m:\u001b[0m\u001b[1;33m\u001b[0m\u001b[1;33m\u001b[0m\u001b[0m\n\u001b[1;32m--> 871\u001b[1;33m             \u001b[0mresult\u001b[0m \u001b[1;33m=\u001b[0m \u001b[0mself\u001b[0m\u001b[1;33m.\u001b[0m\u001b[0mindex\u001b[0m\u001b[1;33m.\u001b[0m\u001b[0mget_value\u001b[0m\u001b[1;33m(\u001b[0m\u001b[0mself\u001b[0m\u001b[1;33m,\u001b[0m \u001b[0mkey\u001b[0m\u001b[1;33m)\u001b[0m\u001b[1;33m\u001b[0m\u001b[1;33m\u001b[0m\u001b[0m\n\u001b[0m\u001b[0;32m    872\u001b[0m \u001b[1;33m\u001b[0m\u001b[0m\n\u001b[0;32m    873\u001b[0m             \u001b[1;32mif\u001b[0m \u001b[1;32mnot\u001b[0m \u001b[0mis_scalar\u001b[0m\u001b[1;33m(\u001b[0m\u001b[0mresult\u001b[0m\u001b[1;33m)\u001b[0m\u001b[1;33m:\u001b[0m\u001b[1;33m\u001b[0m\u001b[1;33m\u001b[0m\u001b[0m\n",
      "\u001b[1;32m~\\anaconda3\\lib\\site-packages\\pandas\\core\\indexes\\base.py\u001b[0m in \u001b[0;36mget_value\u001b[1;34m(self, series, key)\u001b[0m\n\u001b[0;32m   4417\u001b[0m                     \u001b[1;32mraise\u001b[0m \u001b[0mInvalidIndexError\u001b[0m\u001b[1;33m(\u001b[0m\u001b[0mkey\u001b[0m\u001b[1;33m)\u001b[0m\u001b[1;33m\u001b[0m\u001b[1;33m\u001b[0m\u001b[0m\n\u001b[0;32m   4418\u001b[0m                 \u001b[1;32melse\u001b[0m\u001b[1;33m:\u001b[0m\u001b[1;33m\u001b[0m\u001b[1;33m\u001b[0m\u001b[0m\n\u001b[1;32m-> 4419\u001b[1;33m                     \u001b[1;32mraise\u001b[0m \u001b[0me1\u001b[0m\u001b[1;33m\u001b[0m\u001b[1;33m\u001b[0m\u001b[0m\n\u001b[0m\u001b[0;32m   4420\u001b[0m             \u001b[1;32mexcept\u001b[0m \u001b[0mException\u001b[0m\u001b[1;33m:\u001b[0m\u001b[1;33m\u001b[0m\u001b[1;33m\u001b[0m\u001b[0m\n\u001b[0;32m   4421\u001b[0m                 \u001b[1;32mraise\u001b[0m \u001b[0me1\u001b[0m\u001b[1;33m\u001b[0m\u001b[1;33m\u001b[0m\u001b[0m\n",
      "\u001b[1;32m~\\anaconda3\\lib\\site-packages\\pandas\\core\\indexes\\base.py\u001b[0m in \u001b[0;36mget_value\u001b[1;34m(self, series, key)\u001b[0m\n\u001b[0;32m   4403\u001b[0m         \u001b[0mk\u001b[0m \u001b[1;33m=\u001b[0m \u001b[0mself\u001b[0m\u001b[1;33m.\u001b[0m\u001b[0m_convert_scalar_indexer\u001b[0m\u001b[1;33m(\u001b[0m\u001b[0mk\u001b[0m\u001b[1;33m,\u001b[0m \u001b[0mkind\u001b[0m\u001b[1;33m=\u001b[0m\u001b[1;34m\"getitem\"\u001b[0m\u001b[1;33m)\u001b[0m\u001b[1;33m\u001b[0m\u001b[1;33m\u001b[0m\u001b[0m\n\u001b[0;32m   4404\u001b[0m         \u001b[1;32mtry\u001b[0m\u001b[1;33m:\u001b[0m\u001b[1;33m\u001b[0m\u001b[1;33m\u001b[0m\u001b[0m\n\u001b[1;32m-> 4405\u001b[1;33m             \u001b[1;32mreturn\u001b[0m \u001b[0mself\u001b[0m\u001b[1;33m.\u001b[0m\u001b[0m_engine\u001b[0m\u001b[1;33m.\u001b[0m\u001b[0mget_value\u001b[0m\u001b[1;33m(\u001b[0m\u001b[0ms\u001b[0m\u001b[1;33m,\u001b[0m \u001b[0mk\u001b[0m\u001b[1;33m,\u001b[0m \u001b[0mtz\u001b[0m\u001b[1;33m=\u001b[0m\u001b[0mgetattr\u001b[0m\u001b[1;33m(\u001b[0m\u001b[0mseries\u001b[0m\u001b[1;33m.\u001b[0m\u001b[0mdtype\u001b[0m\u001b[1;33m,\u001b[0m \u001b[1;34m\"tz\"\u001b[0m\u001b[1;33m,\u001b[0m \u001b[1;32mNone\u001b[0m\u001b[1;33m)\u001b[0m\u001b[1;33m)\u001b[0m\u001b[1;33m\u001b[0m\u001b[1;33m\u001b[0m\u001b[0m\n\u001b[0m\u001b[0;32m   4406\u001b[0m         \u001b[1;32mexcept\u001b[0m \u001b[0mKeyError\u001b[0m \u001b[1;32mas\u001b[0m \u001b[0me1\u001b[0m\u001b[1;33m:\u001b[0m\u001b[1;33m\u001b[0m\u001b[1;33m\u001b[0m\u001b[0m\n\u001b[0;32m   4407\u001b[0m             \u001b[1;32mif\u001b[0m \u001b[0mlen\u001b[0m\u001b[1;33m(\u001b[0m\u001b[0mself\u001b[0m\u001b[1;33m)\u001b[0m \u001b[1;33m>\u001b[0m \u001b[1;36m0\u001b[0m \u001b[1;32mand\u001b[0m \u001b[1;33m(\u001b[0m\u001b[0mself\u001b[0m\u001b[1;33m.\u001b[0m\u001b[0mholds_integer\u001b[0m\u001b[1;33m(\u001b[0m\u001b[1;33m)\u001b[0m \u001b[1;32mor\u001b[0m \u001b[0mself\u001b[0m\u001b[1;33m.\u001b[0m\u001b[0mis_boolean\u001b[0m\u001b[1;33m(\u001b[0m\u001b[1;33m)\u001b[0m\u001b[1;33m)\u001b[0m\u001b[1;33m:\u001b[0m\u001b[1;33m\u001b[0m\u001b[1;33m\u001b[0m\u001b[0m\n",
      "\u001b[1;32mpandas\\_libs\\index.pyx\u001b[0m in \u001b[0;36mpandas._libs.index.IndexEngine.get_value\u001b[1;34m()\u001b[0m\n",
      "\u001b[1;32mpandas\\_libs\\index.pyx\u001b[0m in \u001b[0;36mpandas._libs.index.IndexEngine.get_value\u001b[1;34m()\u001b[0m\n",
      "\u001b[1;32mpandas\\_libs\\index.pyx\u001b[0m in \u001b[0;36mpandas._libs.index.IndexEngine.get_loc\u001b[1;34m()\u001b[0m\n",
      "\u001b[1;32mpandas\\_libs\\hashtable_class_helper.pxi\u001b[0m in \u001b[0;36mpandas._libs.hashtable.PyObjectHashTable.get_item\u001b[1;34m()\u001b[0m\n",
      "\u001b[1;32mpandas\\_libs\\hashtable_class_helper.pxi\u001b[0m in \u001b[0;36mpandas._libs.hashtable.PyObjectHashTable.get_item\u001b[1;34m()\u001b[0m\n",
      "\u001b[1;31mKeyError\u001b[0m: 'iso'"
     ]
    }
   ],
   "source": [
    "plot_map(tw_add_df, \"Tweets per country (where country is specified)\")"
   ]
  },
  {
   "cell_type": "code",
   "execution_count": null,
   "metadata": {},
   "outputs": [],
   "source": []
  }
 ],
 "metadata": {
  "kernelspec": {
   "name": "python383jvsc74a57bd06d46af94c2bbce495f1e668725902fa517c90b1782bcfe2fce0dd9868df553d3",
   "display_name": "Python 3.8.3 64-bit (conda)"
  },
  "language_info": {
   "codemirror_mode": {
    "name": "ipython",
    "version": 3
   },
   "file_extension": ".py",
   "mimetype": "text/x-python",
   "name": "python",
   "nbconvert_exporter": "python",
   "pygments_lexer": "ipython3",
   "version": "3.8.3-final"
  }
 },
 "nbformat": 4,
 "nbformat_minor": 4
}